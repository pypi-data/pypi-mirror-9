{
 "cells": [
  {
   "cell_type": "code",
   "execution_count": 1,
   "metadata": {
    "collapsed": true
   },
   "outputs": [],
   "source": [
    "import sys\n",
    "from os import path as p"
   ]
  },
  {
   "cell_type": "code",
   "execution_count": 10,
   "metadata": {
    "collapsed": false
   },
   "outputs": [],
   "source": [
    "import polyglot\n",
    "from polyglot.text import Text"
   ]
  },
  {
   "cell_type": "markdown",
   "metadata": {},
   "source": [
    "## Language Detection"
   ]
  },
  {
   "cell_type": "code",
   "execution_count": 11,
   "metadata": {
    "collapsed": false
   },
   "outputs": [
    {
     "name": "stdout",
     "output_type": "stream",
     "text": [
      "Text\n",
      "---------------------------------------- \n",
      "Bonjour, Mesdames.\n",
      "\n",
      "detector:\n",
      "---------------------------------------- \n",
      "Language 1: name: French      code: fr   confidence:  94.0 read bytes:  1204\n",
      "Language 2: name: un          code: un   confidence:   0.0 read bytes:     0\n",
      "Language 3: name: un          code: un   confidence:   0.0 read bytes:     0\n",
      "\n",
      "top language code\n",
      "---------------------------------------- \n",
      "fr\n",
      "\n",
      "top language name\n",
      "---------------------------------------- \n",
      "French\n"
     ]
    }
   ],
   "source": [
    "text = Text(\"Bonjour, Mesdames.\")\n",
    "print \"Text\\n\", \"-\"*40, \"\\n\", text\n",
    "detected = text.detected_languages\n",
    "print\n",
    "print \"detector:\\n\", \"-\"*40, \"\\n\", detected\n",
    "print \n",
    "print \"top language code\\n\", \"-\"*40, \"\\n\", text.language.code\n",
    "print\n",
    "print \"top language name\\n\", \"-\"*40, \"\\n\", text.language.name"
   ]
  },
  {
   "cell_type": "markdown",
   "metadata": {},
   "source": [
    "## Tokenization"
   ]
  },
  {
   "cell_type": "code",
   "execution_count": 13,
   "metadata": {
    "collapsed": false,
    "scrolled": true
   },
   "outputs": [
    {
     "name": "stdout",
     "output_type": "stream",
     "text": [
      "Text\n",
      "---------------------------------------- \n",
      "Beautiful is better than ugly. Explicit is better than implicit. Simple is better than complex.\n",
      "\n",
      "\n",
      "Words\n",
      "----------------------------------------\n",
      "[u'Beautiful', u'is', u'better', u'than', u'ugly', u'.', u'Explicit', u'is', u'better', u'than', u'implicit', u'.', u'Simple', u'is', u'better', u'than', u'complex', u'.']\n",
      "\n",
      "Sentences\n",
      "----------------------------------------\n",
      "[Sentence(\"Beautiful is better than ugly. \"), Sentence(\"Explicit is better than implicit. \"), Sentence(\"Simple is better than complex.\")]\n"
     ]
    }
   ],
   "source": [
    "zen = Text(\"Beautiful is better than ugly. \"\n",
    "           \"Explicit is better than implicit. \"\n",
    "           \"Simple is better than complex.\")\n",
    "print \"Text\\n\", \"-\"*40, \"\\n\", zen\n",
    "detector = zen.language\n",
    "print\n",
    "print \"\\nWords\\n\", \"-\"*40\n",
    "print zen.words\n",
    "print \"\\nSentences\\n\", \"-\"*40\n",
    "print zen.sentences"
   ]
  },
  {
   "cell_type": "markdown",
   "metadata": {},
   "source": [
    "## Polarity"
   ]
  },
  {
   "cell_type": "code",
   "execution_count": 5,
   "metadata": {
    "collapsed": false
   },
   "outputs": [
    {
     "name": "stdout",
     "output_type": "stream",
     "text": [
      "[polyglot_data] Downloading package sentiment2.en to\n",
      "[polyglot_data]     /home/rmyeid/polyglot_data...\n",
      "[polyglot_data]   Package sentiment2.en is already up-to-date!\n"
     ]
    }
   ],
   "source": [
    "%%bash\n",
    "polyglot download sentiment2.en"
   ]
  },
  {
   "cell_type": "code",
   "execution_count": 6,
   "metadata": {
    "collapsed": false
   },
   "outputs": [
    {
     "name": "stdout",
     "output_type": "stream",
     "text": [
      "Word            Polarity \n",
      "---------------------------------------- \n",
      "\n",
      "Beautiful        0\n",
      "is               0\n",
      "better           1\n",
      "than             0\n",
      "ugly            -1\n",
      ".                0\n",
      "Explicit         0\n",
      "is               0\n",
      "better           1\n",
      "than             0\n",
      "implicit         0\n",
      ".                0\n",
      "Simple           0\n",
      "is               0\n",
      "better           1\n",
      "than             0\n",
      "complex         -1\n",
      ".                0\n"
     ]
    }
   ],
   "source": [
    "print \"{:<16}{}\".format(\"Word\", \"Polarity\"),\"\\n\", \"-\"*40,\"\\n\"\n",
    "for w in zen.words:\n",
    "    print \"{:<16}{:>2}\".format(w, w.polarity)"
   ]
  },
  {
   "cell_type": "markdown",
   "metadata": {},
   "source": [
    "# Named Entity Extration"
   ]
  },
  {
   "cell_type": "code",
   "execution_count": 14,
   "metadata": {
    "collapsed": false
   },
   "outputs": [
    {
     "ename": "AttributeError",
     "evalue": "'Text' object has no attribute 'entities'",
     "output_type": "error",
     "traceback": [
      "\u001b[1;31m---------------------------------------------------------------------------\u001b[0m",
      "\u001b[1;31mAttributeError\u001b[0m                            Traceback (most recent call last)",
      "\u001b[1;32m<ipython-input-14-8f48d90c468d>\u001b[0m in \u001b[0;36m<module>\u001b[1;34m()\u001b[0m\n\u001b[1;32m----> 1\u001b[1;33m \u001b[0mzen\u001b[0m\u001b[1;33m.\u001b[0m\u001b[0mentities\u001b[0m\u001b[1;33m\u001b[0m\u001b[0m\n\u001b[0m",
      "\u001b[1;31mAttributeError\u001b[0m: 'Text' object has no attribute 'entities'"
     ]
    }
   ],
   "source": [
    "zen.ne"
   ]
  },
  {
   "cell_type": "markdown",
   "metadata": {},
   "source": [
    "## Embeddings"
   ]
  },
  {
   "cell_type": "code",
   "execution_count": 7,
   "metadata": {
    "collapsed": false
   },
   "outputs": [
    {
     "data": {
      "text/plain": [
       "array([-0.08001513, -0.35475096,  0.27702546, -0.20423636,  0.36313248,\n",
       "        0.06376412,  0.0444247 , -0.30489922,  0.014972  ,  0.13951094,\n",
       "        0.07515849, -0.2703914 ,  0.04650182,  0.58747977,  0.5101701 ,\n",
       "       -0.04114699,  0.37434807, -0.27707747, -0.06124159,  0.21493433,\n",
       "       -0.23498166,  0.07404013, -0.23953673, -0.15044802,  0.21210277,\n",
       "       -0.58776855,  0.12014424,  0.30591646,  0.07079886,  0.44168213,\n",
       "        0.2473582 , -0.43409103, -0.25516582,  0.45812422,  0.33660468,\n",
       "        0.61951864,  0.16038296, -0.12069689, -0.59378242, -0.47525382,\n",
       "       -0.03109539,  0.28781402, -0.51556301, -0.26363477, -0.0820123 ,\n",
       "        0.31425434, -0.10971891,  0.53333962,  0.3446033 , -0.62146574,\n",
       "       -0.15398794,  0.11720303,  0.50415224, -0.79616308, -0.25548786,\n",
       "        0.36809164, -0.26254281,  0.11736908, -0.30717522, -0.18103991,\n",
       "       -0.03320931, -0.15692121, -0.22654058,  0.56092978], dtype=float32)"
      ]
     },
     "execution_count": 7,
     "metadata": {},
     "output_type": "execute_result"
    }
   ],
   "source": [
    "w = zen.words[0]\n",
    "w.vector"
   ]
  }
 ],
 "metadata": {
  "kernelspec": {
   "display_name": "Python 2",
   "language": "python",
   "name": "python2"
  },
  "language_info": {
   "codemirror_mode": {
    "name": "ipython",
    "version": 2
   },
   "file_extension": ".py",
   "mimetype": "text/x-python",
   "name": "python",
   "nbconvert_exporter": "python",
   "pygments_lexer": "ipython2",
   "version": "2.7.6"
  }
 },
 "nbformat": 4,
 "nbformat_minor": 0
}
