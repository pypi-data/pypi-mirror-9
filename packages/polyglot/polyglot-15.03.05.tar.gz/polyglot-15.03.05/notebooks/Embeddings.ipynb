{
 "metadata": {
  "name": "",
  "signature": "sha256:6591ed08ae40f6a13c8fe4af1cff2d1e9e6804df489b00044258bd2ec81760a4"
 },
 "nbformat": 3,
 "nbformat_minor": 0,
 "worksheets": [
  {
   "cells": [
    {
     "cell_type": "code",
     "collapsed": false,
     "input": [
      "from io import StringIO\n",
      "import sys"
     ],
     "language": "python",
     "metadata": {},
     "outputs": [],
     "prompt_number": 1
    },
    {
     "cell_type": "code",
     "collapsed": false,
     "input": [
      "%load_ext autoreload\n",
      "%autoreload 2"
     ],
     "language": "python",
     "metadata": {},
     "outputs": [],
     "prompt_number": 2
    },
    {
     "cell_type": "code",
     "collapsed": false,
     "input": [
      "polyglot_dir = u'/data/polyglot'\n",
      "\n",
      "if polyglot_dir not in sys.path:\n",
      "  sys.path.insert(0, polyglot_dir)"
     ],
     "language": "python",
     "metadata": {},
     "outputs": [],
     "prompt_number": 3
    },
    {
     "cell_type": "code",
     "collapsed": false,
     "input": [
      "from polyglot.mapping import OrderedVocabulary\n",
      "from polyglot.load import locate_resource, load_embeddings"
     ],
     "language": "python",
     "metadata": {},
     "outputs": [],
     "prompt_number": 4
    },
    {
     "cell_type": "code",
     "collapsed": false,
     "input": [
      "v.words"
     ],
     "language": "python",
     "metadata": {},
     "outputs": [
      {
       "metadata": {},
       "output_type": "pyout",
       "prompt_number": 8,
       "text": [
        "[u'the', u'book', u'Book', u'3234', u'upper', u'lower', u'cool', u'McCain']"
       ]
      }
     ],
     "prompt_number": 8
    },
    {
     "cell_type": "code",
     "collapsed": false,
     "input": [
      "from polyglot.mapping.expansion import DigitExpander, CaseExpander"
     ],
     "language": "python",
     "metadata": {},
     "outputs": [],
     "prompt_number": 9
    },
    {
     "cell_type": "code",
     "collapsed": false,
     "input": [],
     "language": "python",
     "metadata": {},
     "outputs": [],
     "prompt_number": 11
    },
    {
     "cell_type": "code",
     "collapsed": false,
     "input": [
      "v2 = CaseExpander(v)\n",
      "print\n",
      "v3 = DigitExpander(v)\n",
      "print\n",
      "v4 = DigitExpander(v2)"
     ],
     "language": "python",
     "metadata": {},
     "outputs": [
      {
       "output_type": "stream",
       "stream": "stdout",
       "text": [
        "\n",
        "\n"
       ]
      }
     ],
     "prompt_number": 12
    },
    {
     "cell_type": "code",
     "collapsed": false,
     "input": [
      "import unittest\n",
      "\n",
      "vocab = u\"\"\"\n",
      "the\n",
      "book\n",
      "Book\n",
      "3\n",
      "upper\n",
      "lower\n",
      "5\n",
      "cool\n",
      "McCain\n",
      "\"\"\".strip()\n",
      "\n",
      "class DigitExpanderTest(unittest.TestCase):\n",
      "  def setUp(self):\n",
      "    self.v = OrderedVocabulary.from_vocabfile(StringIO(vocab))\n",
      "    \n",
      "  def test_load(self):\n",
      "    self.assertEqual(len(self.v), 9)\n",
      "    \n",
      "  def test_digit_expansion(self):\n",
      "    v = DigitExpander(vocabulary=self.v, strategy='most_frequent')\n",
      "    self.assertEqual(len(v), 10)\n",
      "    \n",
      "  def test_digit_membership(self):\n",
      "    v = DigitExpander(vocabulary=self.v, strategy='most_frequent')\n",
      "    self.assertTrue(u\"8\" in v)\n",
      "    self.assertTrue(u\"3\" in v)\n",
      "    self.assertFalse(u\"71\" in v)\n",
      "    \n",
      "  def test_digit_ids(self):\n",
      "    v = DigitExpander(vocabulary=self.v, strategy='most_frequent')\n",
      "    self.assertEqual(v[\"6\"], 3)\n",
      "    self.assertEqual(v[\"7\"], v[\"2\"])\n",
      "    self.assertNotEqual(v[\"3\"], v[\"5\"])\n",
      "    \n",
      "class CaseExpanderTest(unittest.TestCase):\n",
      "  def setUp(self):\n",
      "    self.v = OrderedVocabulary.from_vocabfile(StringIO(vocab))\n",
      "    \n",
      "  def test_load(self):\n",
      "    self.assertEqual(len(self.v), 9)\n",
      "    \n",
      "  def test_case_expansion(self):\n",
      "    v = CaseExpander(vocabulary=self.v, strategy='most_frequent')\n",
      "    self.assertEqual(len(v), 21)\n",
      "    \n",
      "  def test_digit_membership(self):\n",
      "    v = CaseExpander(vocabulary=self.v, strategy='most_frequent')\n",
      "    self.assertTrue(u\"3\" in v)\n",
      "    self.assertTrue(u\"BOOK\" in v)\n",
      "    self.assertTrue(u\"mccain\" in v)\n",
      "    \n",
      "  def test_digit_ids(self):\n",
      "    v = CaseExpander(vocabulary=self.v, strategy='most_frequent')\n",
      "    self.assertEqual(v[\"THE\"], 0)\n",
      "    self.assertEqual(v[\"UPPER\"], v[\"upper\"])\n",
      "    \n",
      "class MixedExpansionTest(unittest.TestCase):\n",
      "  def setUp(self):\n",
      "    self.v = OrderedVocabulary.from_vocabfile(StringIO(vocab))\n",
      "    self.v1 = CaseExpander(vocabulary=self.v, strategy='most_frequent')\n",
      "    self.v2 = DigitExpander(vocabulary=self.v1, strategy='most_frequent')\n",
      "    \n",
      "  def test_expansion(self):\n",
      "    self.assertEqual(len(self.v2), 22)\n",
      "    \n",
      "  def test_membership(self):\n",
      "    self.assertTrue(u\"3\" in self.v2)\n",
      "    self.assertTrue(u\"9\" in self.v2)\n",
      "    self.assertTrue(u\"#\" in self.v2)\n",
      "    self.assertTrue(u\"BOOK\" in self.v2)\n",
      "    self.assertTrue(u\"mccain\" in self.v2)\n",
      "    \n",
      "  def test_ids(self):\n",
      "    self.assertEqual(self.v2[\"THE\"], 0)\n",
      "    self.assertEqual(self.v2[\"UPPER\"], self.v2[\"upper\"])    \n",
      "    self.assertEqual(self.v2[\"3\"], self.v2[\"7\"])\n",
      "    \n"
     ],
     "language": "python",
     "metadata": {},
     "outputs": [],
     "prompt_number": 90
    },
    {
     "cell_type": "code",
     "collapsed": false,
     "input": [
      "suite = unittest.TestLoader().loadTestsFromTestCase(CaseExpanderTest)\n",
      "unittest.TextTestRunner(verbosity=2).run(suite)\n",
      "\n",
      "suite = unittest.TestLoader().loadTestsFromTestCase(DigitExpanderTest)\n",
      "unittest.TextTestRunner(verbosity=2).run(suite)\n",
      "\n",
      "suite = unittest.TestLoader().loadTestsFromTestCase(MixedExpansionTest)\n",
      "unittest.TextTestRunner(verbosity=2).run(suite)"
     ],
     "language": "python",
     "metadata": {},
     "outputs": [
      {
       "output_type": "stream",
       "stream": "stderr",
       "text": [
        "test_case_expansion (__main__.CaseExpanderTest) ... "
       ]
      },
      {
       "output_type": "stream",
       "stream": "stderr",
       "text": [
        "ok\n",
        "test_digit_ids (__main__.CaseExpanderTest) ... "
       ]
      },
      {
       "output_type": "stream",
       "stream": "stderr",
       "text": [
        "ok\n",
        "test_digit_membership (__main__.CaseExpanderTest) ... "
       ]
      },
      {
       "output_type": "stream",
       "stream": "stderr",
       "text": [
        "ok\n",
        "test_load (__main__.CaseExpanderTest) ... "
       ]
      },
      {
       "output_type": "stream",
       "stream": "stderr",
       "text": [
        "ok\n",
        "\n",
        "----------------------------------------------------------------------\n",
        "Ran 4 tests in 0.004s\n",
        "\n",
        "OK\n",
        "test_digit_expansion (__main__.DigitExpanderTest) ... "
       ]
      },
      {
       "output_type": "stream",
       "stream": "stderr",
       "text": [
        "ok\n",
        "test_digit_ids (__main__.DigitExpanderTest) ... "
       ]
      },
      {
       "output_type": "stream",
       "stream": "stderr",
       "text": [
        "ok\n",
        "test_digit_membership (__main__.DigitExpanderTest) ... "
       ]
      },
      {
       "output_type": "stream",
       "stream": "stderr",
       "text": [
        "ok\n",
        "test_load (__main__.DigitExpanderTest) ... "
       ]
      },
      {
       "output_type": "stream",
       "stream": "stderr",
       "text": [
        "ok\n",
        "\n",
        "----------------------------------------------------------------------\n",
        "Ran 4 tests in 0.004s\n",
        "\n",
        "OK\n",
        "test_expansion (__main__.MixedExpansionTest) ... "
       ]
      },
      {
       "output_type": "stream",
       "stream": "stderr",
       "text": [
        "ok\n",
        "test_ids (__main__.MixedExpansionTest) ... "
       ]
      },
      {
       "output_type": "stream",
       "stream": "stderr",
       "text": [
        "ok\n",
        "test_membership (__main__.MixedExpansionTest) ... "
       ]
      },
      {
       "output_type": "stream",
       "stream": "stderr",
       "text": [
        "ok\n",
        "\n",
        "----------------------------------------------------------------------\n",
        "Ran 3 tests in 0.004s\n",
        "\n",
        "OK\n"
       ]
      },
      {
       "metadata": {},
       "output_type": "pyout",
       "prompt_number": 91,
       "text": [
        "<unittest.runner.TextTestResult run=3 errors=0 failures=0>"
       ]
      }
     ],
     "prompt_number": 91
    }
   ],
   "metadata": {}
  }
 ]
}