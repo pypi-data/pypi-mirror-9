{
 "cells": [
  {
   "cell_type": "code",
   "execution_count": 7,
   "metadata": {
    "collapsed": true
   },
   "outputs": [],
   "source": [
    "import sys\n",
    "import os.path as p\n",
    "from io import open\n",
    "import pickle\n",
    "import os\n",
    "import glob\n",
    "import tarfile\n",
    "from tempfile import NamedTemporaryFile"
   ]
  },
  {
   "cell_type": "code",
   "execution_count": 8,
   "metadata": {
    "collapsed": false
   },
   "outputs": [],
   "source": [
    "%%bash\n",
    "cd /media/data/code/polyglot/notebooks/Transliterationtable/\n",
    "mkdir -p trasnliteration2"
   ]
  },
  {
   "cell_type": "code",
   "execution_count": 9,
   "metadata": {
    "collapsed": false
   },
   "outputs": [],
   "source": [
    "os.chdir(\"/media/data/code/polyglot/notebooks/Transliterationtable/\")"
   ]
  },
  {
   "cell_type": "code",
   "execution_count": 4,
   "metadata": {
    "collapsed": false
   },
   "outputs": [],
   "source": [
    "from transliteration import transliterate_string, transliterate_phrase"
   ]
  },
  {
   "cell_type": "code",
   "execution_count": 5,
   "metadata": {
    "collapsed": false
   },
   "outputs": [],
   "source": [
    "bz2file = tarfile.open(\"trasnliteration2/fr/transliteration.fr.tar.bz2\")\n",
    "file_ = bz2file.extractfile(bz2file.next())\n",
    "#print(file_)\n",
    "weights = pickle.load(file_)"
   ]
  },
  {
   "cell_type": "code",
   "execution_count": 6,
   "metadata": {
    "collapsed": false
   },
   "outputs": [
    {
     "data": {
      "text/plain": [
       "dict_keys(['decoder', 'encoder'])"
      ]
     },
     "execution_count": 6,
     "metadata": {},
     "output_type": "execute_result"
    }
   ],
   "source": [
    "weights.keys()"
   ]
  },
  {
   "cell_type": "code",
   "execution_count": 13,
   "metadata": {
    "collapsed": false
   },
   "outputs": [
    {
     "name": "stdout",
     "output_type": "stream",
     "text": [
      "street\n"
     ]
    }
   ],
   "source": [
    "print(transliterate_string(\"street\", weights[\"decoder\"], 2, 2))"
   ]
  },
  {
   "cell_type": "markdown",
   "metadata": {},
   "source": [
    "## Writing Script"
   ]
  },
  {
   "cell_type": "code",
   "execution_count": 12,
   "metadata": {
    "collapsed": false
   },
   "outputs": [],
   "source": [
    "for f in glob.glob(\"*_en.pkl\"):\n",
    "  lang = f.rsplit(\"_en.pkl\", 1)[0]\n",
    "  weight_decoder = pickle.load(open('./en_{}.pkl'.format(lang), 'rb'))\n",
    "  weight_encoder = pickle.load(open('./{}_en.pkl'.format(lang), 'rb'))\n",
    "  weights = {\"decoder\": weight_decoder, \"encoder\": weight_encoder}\n",
    "  dir_ = \"trasnliteration2/{}\".format(lang)\n",
    "  os.makedirs(dir_, exist_ok=True)\n",
    "  blob = pickle.dumps(weights, 2)\n",
    "  tmp_file_ = NamedTemporaryFile(delete=False)\n",
    "  tmp_file_.write(blob)\n",
    "  tmp_file_.close()\n",
    "  bz2file = tarfile.open(p.join(dir_, \"transliteration.{}.tar.bz2\".format(lang)), 'w:bz2')\n",
    "  bz2file.add(tmp_file_.name)\n",
    "  bz2file.close()\n",
    "  os.remove(tmp_file_.name)"
   ]
  }
 ],
 "metadata": {
  "kernelspec": {
   "display_name": "Python 3",
   "language": "python",
   "name": "python3"
  },
  "language_info": {
   "codemirror_mode": {
    "name": "ipython",
    "version": 3
   },
   "file_extension": ".py",
   "mimetype": "text/x-python",
   "name": "python",
   "nbconvert_exporter": "python",
   "pygments_lexer": "ipython3",
   "version": "3.4.0"
  }
 },
 "nbformat": 4,
 "nbformat_minor": 0
}
