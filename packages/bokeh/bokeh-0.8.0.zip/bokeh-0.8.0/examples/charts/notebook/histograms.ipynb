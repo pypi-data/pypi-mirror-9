{
 "metadata": {
  "name": "",
  "signature": "sha256:e1c5b04e78928200a3cab08b0be8acded2e0d6b1c96b914f951940593f365121"
 },
 "nbformat": 3,
 "nbformat_minor": 0,
 "worksheets": [
  {
   "cells": [
    {
     "cell_type": "code",
     "collapsed": false,
     "input": [
      "import bokeh\n",
      "bokeh.load_notebook()"
     ],
     "language": "python",
     "metadata": {},
     "outputs": []
    },
    {
     "cell_type": "code",
     "collapsed": false,
     "input": [
      "from collections import OrderedDict\n",
      "\n",
      "import numpy as np\n",
      "from bokeh.charts import Histogram\n",
      "\n",
      "mu, sigma = 0, 0.5\n",
      "normal = np.random.normal(mu, sigma, 1000)\n",
      "lognormal = np.random.lognormal(mu, sigma, 1000)\n",
      "\n",
      "distributions = OrderedDict(normal=normal, lognormal=lognormal)\n",
      "normal_dist = OrderedDict(normal=normal)\n",
      "\n",
      "hist = Histogram(normal_dist, bins=50, mu=mu, sigma=sigma,\n",
      "                 title=\"kwargs, dict_input\", ylabel=\"frequency\", legend=\"top_left\",\n",
      "                 width=400, height=350, notebook=True)\n",
      "hist.show()"
     ],
     "language": "python",
     "metadata": {},
     "outputs": []
    },
    {
     "cell_type": "code",
     "collapsed": false,
     "input": [
      "import pandas as pd\n",
      "\n",
      "df = pd.DataFrame(normal_dist)\n",
      "hist = Histogram(df, bins=50, mu=mu, sigma=sigma,\n",
      "                 title=\"no_tools, df_input\", ylabel=\"frequency\", legend=\"top_left\",\n",
      "                 tools=True, width=400, height=350, notebook=True)\n",
      "hist.show()"
     ],
     "language": "python",
     "metadata": {},
     "outputs": []
    },
    {
     "cell_type": "code",
     "collapsed": false,
     "input": [
      "from bokeh.plotting import output_notebook, show\n",
      "\n",
      "output_notebook()\n",
      "# Testing with 1D array of scalars\n",
      "hist = Histogram(normal, bins=50, mu=mu, sigma=sigma,\n",
      "                 title=\"kwargs, dict_input\", ylabel=\"frequency\", legend=\"top_left\",\n",
      "                 width=500, height=350, notebook=True)\n",
      "show(hist)"
     ],
     "language": "python",
     "metadata": {},
     "outputs": []
    },
    {
     "cell_type": "code",
     "collapsed": false,
     "input": [
      "\n",
      "distributions = OrderedDict(normal=normal, lognormal=lognormal)\n",
      "\n",
      "hist2 = Histogram(distributions, bins=50, title=\"kwargs, dict_input\", ylabel=\"frequency\", legend=\"top_left\",\n",
      "                 width=500, height=350, notebook=True)\n",
      "show(hist2)"
     ],
     "language": "python",
     "metadata": {},
     "outputs": []
    },
    {
     "cell_type": "code",
     "collapsed": false,
     "input": [
      "df = pd.DataFrame(distributions)\n",
      "\n",
      "hist = Histogram(df, bins=50,title=\"kwargs, dict_input\", ylabel=\"frequency\", legend=\"top_left\",\n",
      "                 width=500, height=350, notebook=True)\n",
      "show(hist)"
     ],
     "language": "python",
     "metadata": {},
     "outputs": []
    },
    {
     "cell_type": "code",
     "collapsed": false,
     "input": [],
     "language": "python",
     "metadata": {},
     "outputs": []
    }
   ],
   "metadata": {}
  }
 ]
}