{
 "metadata": {
  "name": "",
  "signature": "sha256:83f7e163e9684d7f84731f0a180663f67e678997ce38d023e88a69028caba2e6"
 },
 "nbformat": 3,
 "nbformat_minor": 0,
 "worksheets": [
  {
   "cells": [
    {
     "cell_type": "code",
     "collapsed": false,
     "input": [
      "import bokeh\n",
      "bokeh.load_notebook()"
     ],
     "language": "python",
     "metadata": {},
     "outputs": []
    },
    {
     "cell_type": "code",
     "collapsed": false,
     "input": [
      "from collections import OrderedDict\n",
      "\n",
      "import numpy as np\n",
      "\n",
      "from bokeh.charts import BoxPlot\n",
      "from bokeh.sampledata.olympics2014 import data\n",
      "\n",
      "data = {d['abbr']: d['medals'] for d in data['data'] if d['medals']['total'] > 0}\n",
      "\n",
      "countries = sorted(data.keys(), key=lambda x: data[x]['total'], reverse=True)\n",
      "\n",
      "gold = np.array([data[abbr]['gold'] for abbr in countries], dtype=np.float)\n",
      "silver = np.array([data[abbr]['silver'] for abbr in countries], dtype=np.float)\n",
      "bronze = np.array([data[abbr]['bronze'] for abbr in countries], dtype=np.float)\n",
      "\n",
      "medals = OrderedDict(bronze=bronze, silver=silver, gold=gold, fake=gold)\n",
      "\n",
      "boxplot = BoxPlot(medals, title=\"boxplot, dict_input\", xlabel=\"medal type\", ylabel=\"medal count\", \n",
      "             width=800, height=600, notebook=True, marker=\"circle\", outliers=True)\n",
      "boxplot.show()"
     ],
     "language": "python",
     "metadata": {},
     "outputs": []
    },
    {
     "cell_type": "code",
     "collapsed": false,
     "input": [
      "from bokeh.plotting import output_notebook, show\n",
      "boxplot = BoxPlot(medals, title=\"boxplot, dict_input\", xlabel=\"medal type\", ylabel=\"medal count\", \n",
      "             width=800, height=600, notebook=True, marker=\"circle\", outliers=False)\n",
      "output_notebook()\n",
      "show(boxplot)"
     ],
     "language": "python",
     "metadata": {},
     "outputs": []
    },
    {
     "cell_type": "code",
     "collapsed": false,
     "input": [],
     "language": "python",
     "metadata": {},
     "outputs": []
    }
   ],
   "metadata": {}
  }
 ]
}