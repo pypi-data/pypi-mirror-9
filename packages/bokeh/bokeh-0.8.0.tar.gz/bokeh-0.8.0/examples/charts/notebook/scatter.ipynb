{
 "metadata": {
  "name": "",
  "signature": "sha256:c0022e86254d49a8b6792932ed0f2e7b1a7fedeacbc88fc03409ff739b95ac5c"
 },
 "nbformat": 3,
 "nbformat_minor": 0,
 "worksheets": [
  {
   "cells": [
    {
     "cell_type": "code",
     "collapsed": false,
     "input": [
      "import bokeh\n",
      "bokeh.load_notebook()"
     ],
     "language": "python",
     "metadata": {},
     "outputs": []
    },
    {
     "cell_type": "code",
     "collapsed": false,
     "input": [
      "from collections import OrderedDict\n",
      "\n",
      "from bokeh.charts import Scatter\n",
      "from bokeh.sampledata.iris import flowers\n",
      "\n",
      "setosa = flowers[(flowers.species == \"setosa\")][[\"petal_length\", \"petal_width\"]]\n",
      "versicolor = flowers[(flowers.species == \"versicolor\")][[\"petal_length\", \"petal_width\"]]\n",
      "virginica = flowers[(flowers.species == \"virginica\")][[\"petal_length\", \"petal_width\"]]\n",
      "\n",
      "xyvalues = OrderedDict([(\"setosa\", setosa.values), (\"versicolor\", versicolor.values), (\"virginica\", virginica.values)])\n",
      "\n",
      "scatter = Scatter(xyvalues, title=\"iris dataset, dict_input\", xlabel=\"petal_length\",\n",
      "                  ylabel=\"petal_width\", legend='top_left', notebook=True)\n",
      "scatter.show()"
     ],
     "language": "python",
     "metadata": {},
     "outputs": []
    },
    {
     "cell_type": "code",
     "collapsed": false,
     "input": [
      "groupped_df = flowers[[\"petal_length\", \"petal_width\", \"species\"]].groupby(\"species\")\n",
      "scatter = Scatter(groupped_df, title=\"iris dataset, dict_input\", xlabel=\"petal_length\",\n",
      "                  ylabel=\"petal_width\", legend='top_left', notebook=True)\n",
      "scatter.show()"
     ],
     "language": "python",
     "metadata": {},
     "outputs": []
    },
    {
     "cell_type": "code",
     "collapsed": false,
     "input": [
      "import pandas as pd\n",
      "from bokeh.plotting import output_notebook, show\n",
      "\n",
      "output_notebook()\n",
      "pdict = OrderedDict()\n",
      "for i in groupped_df.groups.keys():\n",
      "    labels = groupped_df.get_group(i).columns\n",
      "    xname = labels[0]\n",
      "    yname = labels[1]\n",
      "    x = getattr(groupped_df.get_group(i), xname)\n",
      "    y = getattr(groupped_df.get_group(i), yname)\n",
      "    pdict[i] = list(zip(x, y))\n",
      "\n",
      "df = pd.DataFrame(pdict)\n",
      "scatter = Scatter(df, title=\"iris dataset, dict_input\", xlabel=\"petal_length\",\n",
      "                  ylabel=\"petal_width\", legend='top_left', notebook=True)\n",
      "show(scatter)"
     ],
     "language": "python",
     "metadata": {},
     "outputs": []
    },
    {
     "cell_type": "code",
     "collapsed": false,
     "input": [
      "scatter = Scatter(list(xyvalues.values()), title=\"iris dataset, dict_input\", xlabel=\"petal_length\",\n",
      "                  ylabel=\"petal_width\", legend='top_left', notebook=True)\n",
      "show(scatter)"
     ],
     "language": "python",
     "metadata": {},
     "outputs": []
    },
    {
     "cell_type": "code",
     "collapsed": false,
     "input": [],
     "language": "python",
     "metadata": {},
     "outputs": []
    }
   ],
   "metadata": {}
  }
 ]
}