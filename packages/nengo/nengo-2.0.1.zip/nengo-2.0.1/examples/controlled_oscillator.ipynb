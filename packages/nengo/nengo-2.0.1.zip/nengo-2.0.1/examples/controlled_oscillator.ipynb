{
 "metadata": {
  "name": "",
  "signature": "sha256:a15c571db4294bb656f5d28e34c8addb69ca53a2b14a6ca2e47d18670f514b4e"
 },
 "nbformat": 3,
 "nbformat_minor": 0,
 "worksheets": [
  {
   "cells": [
    {
     "cell_type": "markdown",
     "metadata": {},
     "source": [
      "# Nengo Example: Controlled Oscillator\n",
      "\n",
      "The controlled oscillator is an oscillator with an extra input that controls the frequency of the oscillation.\n",
      "\n",
      "To implement a basic oscillator, we would use a neural ensemble of two dimensions that has the following dynamics:\n",
      "\n",
      "$$\n",
      "\\dot{x} = \\begin{bmatrix} 0 && - \\omega \\\\\\ \\omega && 0 \\end{bmatrix} x\n",
      "$$\n",
      "\n",
      "where the frequency of oscillation is $1 \\over {2 \\pi}$\n",
      "\n",
      "We need the neurons to represent three variables, $x_0$, $x_1$, and $\\omega$.  According the the dynamics principle of the NEF, in order to implement some particular dynamics, we need to convert this dynamics equation into a feedback function:\n",
      "\n",
      "$$ \\begin{align*}\n",
      "\\dot{x} &= f(x) \\\\\\\n",
      "&\\implies f_{feedback}(x) = x + \\tau f(x)\n",
      "\\end{align*}\n",
      "$$\n",
      "\n",
      "where \\tau is the post-synaptic time constant of the feedback connection.\n",
      "\n",
      "In this case, the feedback function to be computed is \n",
      "\n",
      "$$\n",
      "\\begin{align*}\n",
      "f_{feedback}(x) &= x + \\tau \\begin{bmatrix} 0 && - \\omega \\\\\\ \\omega && 0 \\end{bmatrix} x \\\\\\ \n",
      "                &= \\begin{bmatrix} x_0 - \\tau \\cdot \\omega \\cdot x_1 \\\\\\ x_1 + \\tau \\cdot \\omega \\cdot x_0\\end{bmatrix}\n",
      "\\end{align*}\n",
      "$$\n",
      "\n",
      "Since the neural ensemble represents all three variables but the dynamics only affects the first two ($x_0$, $x_1$), we need the feedback function to not affect that last variable.  We do this by adding a zero to the feedback function.\n",
      "\n",
      "$$\n",
      "f_{feedback}(x) = \\begin{bmatrix} x_0 - \\tau \\cdot \\omega \\cdot x_1 \\\\\\ x_1 + \\tau \\cdot \\omega \\cdot x_0 \\\\\\ 0 \\end{bmatrix}\n",
      "$$\n",
      "\n",
      "We also generally want to keep the ranges of variables represented within an ensemble to be approximately the same.  In this case, if $x_0$ and $x_1$ are between -1 and 1, $\\omega$ will also be between -1 and 1, giving a frequency range of $-1 \\over {2 \\pi}$ to $1 \\over {2 \\pi}$.  To increase this range, we introduce a scaling factor to $\\omega$ called $\\omega_{max}$.\n",
      "\n",
      "$$\n",
      "f_{feedback}(x) = \\begin{bmatrix} x_0 - \\tau \\cdot \\omega \\cdot \\omega_{max} \\cdot x_1 \\\\\\ x_1 + \\tau \\cdot \\omega \\cdot \\omega_{max} \\cdot x_0 \\\\\\ 0 \\end{bmatrix}\n",
      "$$\n",
      "\n"
     ]
    },
    {
     "cell_type": "code",
     "collapsed": false,
     "input": [
      "import matplotlib.pyplot as plt\n",
      "%matplotlib inline\n",
      "\n",
      "import nengo"
     ],
     "language": "python",
     "outputs": []
    },
    {
     "cell_type": "markdown",
     "metadata": {},
     "source": [
      "## Step 1: Create the network"
     ]
    },
    {
     "cell_type": "code",
     "collapsed": false,
     "input": [
      "tau = 0.1   # Post-synaptic time constant for feedback\n",
      "w_max = 10  # Maximum frequency is w_max/(2*pi)\n",
      "\n",
      "model = nengo.Network(label='Controlled Oscillator')\n",
      "with model:\n",
      "    # The ensemble for the oscillator\n",
      "    oscillator = nengo.Ensemble(500, dimensions=3, radius=1.7)\n",
      "    \n",
      "    # The feedback connection\n",
      "    def feedback(x):\n",
      "        x0, x1, w = x  # These are the three variables stored in the ensemble\n",
      "        return x0 + w*w_max*tau*x1, x1 - w*w_max*tau*x0, 0\n",
      "    nengo.Connection(oscillator, oscillator, function=feedback, synapse=tau)\n",
      "    \n",
      "    # The ensemble for controlling the speed of oscillation\n",
      "    frequency = nengo.Ensemble(100, dimensions=1)\n",
      "    \n",
      "    nengo.Connection(frequency, oscillator[2])"
     ],
     "language": "python",
     "metadata": {},
     "outputs": []
    },
    {
     "cell_type": "markdown",
     "metadata": {},
     "source": [
      "## Step 2: Create the input"
     ]
    },
    {
     "cell_type": "code",
     "collapsed": false,
     "input": [
      "from nengo.utils.functions import piecewise\n",
      "with model:\n",
      "    # We need a quick input at the beginning to start the oscillator\n",
      "    initial = nengo.Node(piecewise({0: [1, 0, 0], 0.15: [0, 0, 0]}))\n",
      "    nengo.Connection(initial, oscillator)\n",
      "    \n",
      "    # Vary the speed over time\n",
      "    input_frequency = nengo.Node(piecewise({0: 1, 1: 0.5, 2: 0, 3: -0.5, 4: -1}))\n",
      "    \n",
      "    nengo.Connection(input_frequency, frequency)"
     ],
     "language": "python",
     "metadata": {},
     "outputs": []
    },
    {
     "cell_type": "markdown",
     "metadata": {},
     "source": [
      "## Step 3: Add Probes"
     ]
    },
    {
     "cell_type": "code",
     "collapsed": false,
     "input": [
      "with model:\n",
      "    # Indicate which values to record\n",
      "    oscillator_probe = nengo.Probe(oscillator, synapse=0.03)"
     ],
     "language": "python",
     "metadata": {},
     "outputs": []
    },
    {
     "cell_type": "markdown",
     "metadata": {},
     "source": [
      "## Step 4: Run the Model"
     ]
    },
    {
     "cell_type": "code",
     "collapsed": false,
     "input": [
      "sim = nengo.Simulator(model)\n",
      "sim.run(5)"
     ],
     "language": "python",
     "metadata": {},
     "outputs": []
    },
    {
     "cell_type": "markdown",
     "metadata": {},
     "source": [
      "## Step 5: Plot the Results"
     ]
    },
    {
     "cell_type": "code",
     "collapsed": false,
     "input": [
      "plt.plot(sim.trange(), sim.data[oscillator_probe])\n",
      "plt.xlabel('Time (s)')\n",
      "plt.legend(['$x_0$', '$x_1$', '$\\omega$']);"
     ],
     "language": "python",
     "metadata": {},
     "outputs": []
    }
   ],
   "metadata": {}
  }
 ]
}
