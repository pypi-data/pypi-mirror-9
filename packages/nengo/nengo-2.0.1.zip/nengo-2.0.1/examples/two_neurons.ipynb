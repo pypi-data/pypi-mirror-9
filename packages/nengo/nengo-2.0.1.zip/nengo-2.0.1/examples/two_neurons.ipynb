{
 "metadata": {
  "name": "",
  "signature": "sha256:8925aecd7ebfd578edb3131e5a20b7e7820445c9dd8c3c7d22f934cf4680c8a1"
 },
 "nbformat": 3,
 "nbformat_minor": 0,
 "worksheets": [
  {
   "cells": [
    {
     "cell_type": "markdown",
     "metadata": {},
     "source": [
      "# Nengo Example: Two Neurons\n",
      "\n",
      "This demo shows how to construct and manipulate a complementary pair of neurons.\n",
      "\n",
      "These are leaky integrate-and-fire (LIF) neurons. The neuron tuning properties have been selected so there is one \u2018on\u2019 and one \u2018off\u2019 neuron.\n",
      "\n",
      "One neuron will increase for positive input, and the other will decrease. This can be thought of as the simplest population that is able to give a reasonable representation of a scalar value."
     ]
    },
    {
     "cell_type": "code",
     "collapsed": false,
     "input": [
      "import numpy as np\n",
      "import matplotlib.pyplot as plt\n",
      "%matplotlib inline\n",
      "\n",
      "import nengo"
     ],
     "language": "python",
     "outputs": []
    },
    {
     "cell_type": "markdown",
     "metadata": {},
     "source": [
      "## Step 1: Create the neurons "
     ]
    },
    {
     "cell_type": "code",
     "collapsed": false,
     "input": [
      "from nengo.dists import Uniform\n",
      "\n",
      "model = nengo.Network(label='Two Neurons')\n",
      "with model:\n",
      "    neurons = nengo.Ensemble(2, dimensions=1,  # Representing a scalar\n",
      "                             intercepts=Uniform(-.5, -.5),  # Set the intercepts at .5\n",
      "                             max_rates=Uniform(100,100),  # Set the max firing rate at 100hz\n",
      "                             encoders=[[1],[-1]])  # One 'on' and one 'off' neuron"
     ],
     "language": "python",
     "metadata": {},
     "outputs": []
    },
    {
     "cell_type": "markdown",
     "metadata": {},
     "source": [
      "## Step 2: Create input for the model\n",
      "\n",
      "Create an input node generating a sine wave."
     ]
    },
    {
     "cell_type": "code",
     "collapsed": false,
     "input": [
      "with model:\n",
      "    sin = nengo.Node(lambda t: np.sin(8 * t))"
     ],
     "language": "python",
     "metadata": {},
     "outputs": []
    },
    {
     "cell_type": "markdown",
     "metadata": {},
     "source": [
      "## Step 3: Connect the network elements"
     ]
    },
    {
     "cell_type": "code",
     "collapsed": false,
     "input": [
      "with model:\n",
      "    nengo.Connection(sin, neurons, synapse=0.01)"
     ],
     "language": "python",
     "metadata": {},
     "outputs": []
    },
    {
     "cell_type": "markdown",
     "metadata": {},
     "source": [
      "## Step 4: Probe outputs\n",
      "\n",
      "Anything that is probed will collect the data it produces over time, allowing us to analyze and visualize it later."
     ]
    },
    {
     "cell_type": "code",
     "collapsed": false,
     "input": [
      "with model:\n",
      "    sin_probe = nengo.Probe(sin)  # The original input\n",
      "    spikes = nengo.Probe(neurons.neurons)  # Raw spikes from each neuron\n",
      "    voltage = nengo.Probe(neurons.neurons, 'voltage')  # Subthreshold soma voltages of the neurons\n",
      "    filtered = nengo.Probe(neurons, synapse=0.01)  # Spikes filtered by a 10ms post-synaptic filter"
     ],
     "language": "python",
     "metadata": {},
     "outputs": []
    },
    {
     "cell_type": "markdown",
     "metadata": {},
     "source": [
      "## Step 5: Run the model"
     ]
    },
    {
     "cell_type": "code",
     "collapsed": false,
     "input": [
      "sim = nengo.Simulator(model)  # Create a simulator\n",
      "sim.run(1)  # Run it for 5 seconds"
     ],
     "language": "python",
     "metadata": {},
     "outputs": []
    },
    {
     "cell_type": "markdown",
     "metadata": {},
     "source": [
      "## Step 6: Plot the results"
     ]
    },
    {
     "cell_type": "code",
     "collapsed": false,
     "input": [
      "# Plot the decoded output of the ensemble\n",
      "plt.plot(sim.trange(), sim.data[filtered])\n",
      "plt.plot(sim.trange(), sim.data[sin_probe])\n",
      "plt.xlim(0, 1)\n",
      "\n",
      "# Plot the spiking output of the ensemble\n",
      "from nengo.utils.matplotlib import rasterplot\n",
      "plt.figure(figsize=(10, 8))\n",
      "plt.subplot(221)\n",
      "rasterplot(sim.trange(), sim.data[spikes], colors=[(1, 0, 0), (0, 0, 0)])\n",
      "plt.xlim(0, 1)\n",
      "plt.yticks((0, 1), (\"On neuron\", \"Off neuron\"))\n",
      "\n",
      "# Plot the soma voltages of the neurons\n",
      "plt.subplot(222)\n",
      "plt.plot(sim.trange(), sim.data[voltage][:, 0] + 1, 'r')\n",
      "plt.plot(sim.trange(), sim.data[voltage][:, 1], 'k')\n",
      "plt.yticks(())\n",
      "plt.axis([0, 1, 0, 2])\n",
      "plt.subplots_adjust(wspace=0.05);"
     ],
     "language": "python",
     "metadata": {},
     "outputs": []
    },
    {
     "cell_type": "markdown",
     "metadata": {},
     "source": [
      "The top graph shows that the input signal in green and the filtered output spikes from the two neurons population in blue.  The spikes (that are filtered) from the 'on' and 'off' neurons are shown in the bottom graph on the left.  On the right are the subthreshold voltages for the neurons."
     ]
    }
   ],
   "metadata": {}
  }
 ]
}
