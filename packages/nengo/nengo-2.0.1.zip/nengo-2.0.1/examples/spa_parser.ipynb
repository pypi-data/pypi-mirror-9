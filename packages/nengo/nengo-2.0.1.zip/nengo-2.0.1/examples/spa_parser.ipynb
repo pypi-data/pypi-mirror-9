{
 "metadata": {
  "name": "",
  "signature": "sha256:8bf9845ad7346be32fe4d6bbb7b2e96320db1a6f0bbaa40f3214251749cf7bb4"
 },
 "nbformat": 3,
 "nbformat_minor": 0,
 "worksheets": [
  {
   "cells": [
    {
     "cell_type": "heading",
     "level": 1,
     "metadata": {},
     "source": [
      "Nengo example: Parsing simple commands"
     ]
    },
    {
     "cell_type": "markdown",
     "metadata": {},
     "source": [
      "This example is a simplified version\n",
      "of the language parsing model presented in\n",
      "[Stewart & Eliasmith, 2013](http://compneuro.uwaterloo.ca/publications/stewart2013.html).\n",
      "Please refer to that paper for the high-level details."
     ]
    },
    {
     "cell_type": "code",
     "collapsed": false,
     "input": [
      "# Setup for the notebook\n",
      "import matplotlib.pyplot as plt\n",
      "%matplotlib inline\n",
      "\n",
      "import nengo\n",
      "from nengo import spa"
     ],
     "language": "python",
     "metadata": {},
     "outputs": []
    },
    {
     "cell_type": "heading",
     "level": 2,
     "metadata": {},
     "source": [
      "Step 1: Create the model"
     ]
    },
    {
     "cell_type": "code",
     "collapsed": false,
     "input": [
      "# Number of dimensions for the SPs\n",
      "dimensions = 64\n",
      "\n",
      "# Make a model object with the SPA network\n",
      "model = spa.SPA(label='Parser')\n",
      "\n",
      "with model:\n",
      "    # Specify the modules to be used\n",
      "    model.vision = spa.Buffer(dimensions=dimensions, neurons_per_dimension=100)\n",
      "    model.phrase = spa.Buffer(dimensions=dimensions, neurons_per_dimension=100)\n",
      "    model.motor = spa.Buffer(dimensions=dimensions, neurons_per_dimension=100)\n",
      "    model.noun = spa.Memory(dimensions=dimensions, neurons_per_dimension=100)\n",
      "    model.verb = spa.Memory(dimensions=dimensions, neurons_per_dimension=100)\n",
      "    \n",
      "    # Specify the action mapping\n",
      "    actions = spa.Actions(\n",
      "        'dot(vision, WRITE) --> verb=vision',\n",
      "        'dot(vision, ONE+TWO+THREE) --> noun=vision',\n",
      "        '0.5*(dot(NONE-WRITE-ONE-TWO-THREE, vision) '\n",
      "        '+ dot(phrase, WRITE*VERB)) '\n",
      "        '--> motor=phrase*~NOUN',\n",
      "    )\n",
      "    cortical_actions = spa.Actions(\n",
      "            'phrase=noun*NOUN + verb*VERB',\n",
      "    )\n",
      "    model.bg = spa.BasalGanglia(actions=actions)\n",
      "    model.thal = spa.Thalamus(model.bg)\n",
      "    model.cortical = spa.Cortical(actions=cortical_actions)"
     ],
     "language": "python",
     "metadata": {},
     "outputs": []
    },
    {
     "cell_type": "heading",
     "level": 2,
     "metadata": {},
     "source": [
      "Step 2: Provide the input"
     ]
    },
    {
     "cell_type": "code",
     "collapsed": false,
     "input": [
      "def input_vision(t):\n",
      "    sequence = 'WRITE ONE NONE WRITE TWO NONE THREE WRITE NONE'.split()\n",
      "    index = int(t / 0.5) % len(sequence)\n",
      "    return sequence[index]\n",
      "\n",
      "with model:\n",
      "     model.input = spa.Input(vision=input_vision)"
     ],
     "language": "python",
     "metadata": {},
     "outputs": []
    },
    {
     "cell_type": "heading",
     "level": 2,
     "metadata": {},
     "source": [
      "Step 3: Probe the output"
     ]
    },
    {
     "cell_type": "code",
     "collapsed": false,
     "input": [
      "with model:\n",
      "    vision = nengo.Probe(model.vision.state.output, synapse=0.03)\n",
      "    phrase = nengo.Probe(model.phrase.state.output, synapse=0.03)\n",
      "    motor = nengo.Probe(model.motor.state.output, synapse=0.03)\n",
      "    noun = nengo.Probe(model.noun.state.output, synapse=0.03)\n",
      "    verb = nengo.Probe(model.verb.state.output, synapse=0.03)\n",
      "    actions = nengo.Probe(model.thal.actions.output, synapse=0.01)\n",
      "    utility = nengo.Probe(model.bg.input, synapse=0.01)"
     ],
     "language": "python",
     "metadata": {},
     "outputs": []
    },
    {
     "cell_type": "heading",
     "level": 2,
     "metadata": {},
     "source": [
      "Step 4: Run the model"
     ]
    },
    {
     "cell_type": "code",
     "collapsed": false,
     "input": [
      "# Create the simulator object\n",
      "sim = nengo.Simulator(model)\n",
      "# Simulate the model for 4.5 seconds\n",
      "sim.run(4.5)"
     ],
     "language": "python",
     "metadata": {},
     "outputs": []
    },
    {
     "cell_type": "heading",
     "level": 2,
     "metadata": {},
     "source": [
      "Step 5: Plot the results"
     ]
    },
    {
     "cell_type": "code",
     "collapsed": false,
     "input": [
      "fig = plt.figure(figsize=(16,12))\n",
      "p1 = fig.add_subplot(7,1,1)\n",
      "p1.plot(sim.trange(), model.similarity(sim.data, vision))\n",
      "p1.legend(model.get_output_vocab('vision').keys, fontsize='x-small')\n",
      "p1.set_ylabel('Vision')\n",
      "\n",
      "p2 = fig.add_subplot(7,1,2)\n",
      "p2.plot(sim.trange(), model.similarity(sim.data, phrase))\n",
      "p2.legend(model.get_output_vocab('phrase').keys, fontsize='x-small')\n",
      "p2.set_ylabel('Phrase')\n",
      "\n",
      "p3 = fig.add_subplot(7,1,3)\n",
      "p3.plot(sim.trange(), model.similarity(sim.data, motor))\n",
      "p3.legend(model.get_output_vocab('motor').keys, fontsize='x-small')\n",
      "p3.set_ylabel('Motor')\n",
      "\n",
      "p4 = fig.add_subplot(7,1,4)\n",
      "p4.plot(sim.trange(), model.similarity(sim.data, noun))\n",
      "p4.legend(model.get_output_vocab('noun').keys, fontsize='x-small')\n",
      "p4.set_ylabel('Noun')\n",
      "\n",
      "p5 = fig.add_subplot(7,1,5)\n",
      "p5.plot(sim.trange(), model.similarity(sim.data, verb))\n",
      "p5.legend(model.get_output_vocab('verb').keys, fontsize='x-small')\n",
      "p5.set_ylabel('Verb')\n",
      "\n",
      "p6 = fig.add_subplot(7,1,6)\n",
      "p6.plot(sim.trange(), sim.data[actions])\n",
      "p6.set_ylabel('Action')\n",
      "\n",
      "p7 = fig.add_subplot(7,1,7)\n",
      "p7.plot(sim.trange(), sim.data[utility])\n",
      "p7.set_ylabel('Utility')\n",
      "\n",
      "fig.subplots_adjust(hspace=0.2)"
     ],
     "language": "python",
     "metadata": {},
     "outputs": []
    }
   ],
   "metadata": {}
  }
 ]
}