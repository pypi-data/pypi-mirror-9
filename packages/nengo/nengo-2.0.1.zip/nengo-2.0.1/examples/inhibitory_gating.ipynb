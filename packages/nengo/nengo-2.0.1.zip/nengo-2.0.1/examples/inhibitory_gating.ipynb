{
 "metadata": {
  "name": "",
  "signature": "sha256:2a37277f9d1e6bb3dbafdf237eed79a60bacf8bd4f425639d852e551e7647e46"
 },
 "nbformat": 3,
 "nbformat_minor": 0,
 "worksheets": [
  {
   "cells": [
    {
     "cell_type": "markdown",
     "metadata": {},
     "source": [
      "# Nengo Example: Inhibitory Gating of Ensembles"
     ]
    },
    {
     "cell_type": "code",
     "collapsed": false,
     "input": [
      "import numpy as np\n",
      "import matplotlib.pyplot as plt\n",
      "%matplotlib inline\n",
      "\n",
      "import nengo"
     ],
     "language": "python",
     "outputs": []
    },
    {
     "cell_type": "markdown",
     "metadata": {},
     "source": [
      "## Step 1: Create the network\n",
      "\n",
      "Our model consists of two ensembles (called A and B) that receive inputs from a common sine wave signal generator. \n",
      "\n",
      "Ensemble A is gated using the output of a node, while Ensemble B is gated using the output of a third ensemble (C). This is to demonstrate that ensembles can be gated using either node outputs, or decoded outputs from ensembles."
     ]
    },
    {
     "cell_type": "code",
     "collapsed": false,
     "input": [
      "n_neurons = 30\n",
      "\n",
      "model = nengo.Network(label=\"Inhibitory Gating\")\n",
      "with model:\n",
      "    A = nengo.Ensemble(n_neurons, dimensions=1)\n",
      "    B = nengo.Ensemble(n_neurons, dimensions=1)\n",
      "    C = nengo.Ensemble(n_neurons, dimensions=1)"
     ],
     "language": "python",
     "metadata": {},
     "outputs": []
    },
    {
     "cell_type": "markdown",
     "metadata": {},
     "source": [
      "## Step 2: Provide input to the model\n",
      "As described in Step 1, this model requires two inputs. \n",
      "<ol>\n",
      "  <li>A sine wave signal that is used to drive ensembles A and B\n",
      "  <li>An inhibitory control signal used to (directly) gate ensemble A, and (indirectly through ensemble C) gate ensemble B.\n",
      "</ol>"
     ]
    },
    {
     "cell_type": "code",
     "collapsed": false,
     "input": [
      "from nengo.utils.functions import piecewise\n",
      "\n",
      "with model:\n",
      "    sin = nengo.Node(np.sin)\n",
      "    inhib = nengo.Node(piecewise({0: 0, 2.5: 1, 5: 0, 7.5: 1, 10: 0, 12.5: 1}))"
     ],
     "language": "python",
     "metadata": {},
     "outputs": []
    },
    {
     "cell_type": "markdown",
     "metadata": {},
     "source": [
      "## Step 3: Connect the different components of the model\n",
      "In this model, we need to make the following connections:\n",
      "<ol>\n",
      "  <li>From sine wave generator to Ensemble A \n",
      "  <li>From sine wave generator to Ensemble B \n",
      "  <li>From inhibitory control signal to the neurons of Ensemble A (to directly drive the currents of the neurons) \n",
      "  <li>From inhibitory control signal to Ensemble C\n",
      "  <li>From Ensemble C to the neurons of Ensemble B (this demonstrates that the decoded output of Ensemble C can be used to gate Ensemble B)\n",
      "</ol>"
     ]
    },
    {
     "cell_type": "code",
     "collapsed": false,
     "input": [
      "with model:\n",
      "    nengo.Connection(sin, A)\n",
      "    nengo.Connection(sin, B)\n",
      "    nengo.Connection(inhib, A.neurons, transform=[[-2.5]] * n_neurons)\n",
      "    nengo.Connection(inhib, C)\n",
      "    nengo.Connection(C, B.neurons, transform=[[-2.5]] * n_neurons)"
     ],
     "language": "python",
     "metadata": {},
     "outputs": []
    },
    {
     "cell_type": "markdown",
     "metadata": {},
     "source": [
      "## Step 4: Probe outputs\n",
      "Anything that is probed will collect the data it produces over time, allowing us to analyze and visualize it later. Let's collect all the data produced."
     ]
    },
    {
     "cell_type": "code",
     "collapsed": false,
     "input": [
      "with model:\n",
      "    sin_probe = nengo.Probe(sin)\n",
      "    inhib_probe = nengo.Probe(inhib)\n",
      "    A_probe = nengo.Probe(A, synapse=0.01)\n",
      "    B_probe = nengo.Probe(B, synapse=0.01)\n",
      "    C_probe = nengo.Probe(C, synapse=0.01)"
     ],
     "language": "python",
     "metadata": {},
     "outputs": []
    },
    {
     "cell_type": "markdown",
     "metadata": {},
     "source": [
      "## Step 5: Run the model\n",
      "In order to run the model, we have to create a simulator. Then, we can run that simulator over and over again without affecting the original model."
     ]
    },
    {
     "cell_type": "code",
     "collapsed": false,
     "input": [
      "# Create our simulator\n",
      "sim = nengo.Simulator(model)\n",
      "# Run it for 15 seconds\n",
      "sim.run(15)"
     ],
     "language": "python",
     "metadata": {},
     "outputs": []
    },
    {
     "cell_type": "code",
     "collapsed": false,
     "input": [
      "# Plot the decoded output of Ensemble A\n",
      "plt.plot(sim.trange(), sim.data[A_probe], label='Decoded output')\n",
      "plt.plot(sim.trange(), sim.data[sin_probe], label='Sine input')\n",
      "plt.plot(sim.trange(), sim.data[inhib_probe], label='Inhibitory signal')\n",
      "plt.legend();"
     ],
     "language": "python",
     "metadata": {},
     "outputs": []
    },
    {
     "cell_type": "code",
     "collapsed": false,
     "input": [
      "# Plot the decoded output of Ensemble B and C\n",
      "plt.plot(sim.trange(), sim.data[B_probe], label='Decoded output of B')\n",
      "plt.plot(sim.trange(), sim.data[sin_probe], label='Sine input')\n",
      "plt.plot(sim.trange(), sim.data[C_probe], label='Decoded output of C')\n",
      "plt.plot(sim.trange(), sim.data[inhib_probe], label='Inhibitory signal')\n",
      "plt.legend();"
     ],
     "language": "python",
     "metadata": {},
     "outputs": []
    }
   ],
   "metadata": {}
  }
 ]
}
