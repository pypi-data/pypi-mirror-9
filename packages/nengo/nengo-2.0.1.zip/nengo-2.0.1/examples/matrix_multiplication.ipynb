{
 "metadata": {
  "name": "",
  "signature": "sha256:9229c15e50f09b574c6f4dc7c8dbd03e866e3e1789a23267db362cb2ddd985b0"
 },
 "nbformat": 3,
 "nbformat_minor": 0,
 "worksheets": [
  {
   "cells": [
    {
     "cell_type": "markdown",
     "metadata": {},
     "source": [
      "# Nengo Example: Matrix multiplication\n",
      "\n",
      "This example demonstrates how to perform general matrix multiplication using Nengo.  The matrix can change during the computation, which makes it distinct from doing static matrix multiplication with neural connection weights (as done in all neural networks)."
     ]
    },
    {
     "cell_type": "code",
     "collapsed": false,
     "input": [
      "import numpy as np\n",
      "import matplotlib.pyplot as plt\n",
      "%matplotlib inline\n",
      "\n",
      "import nengo"
     ],
     "language": "python",
     "metadata": {},
     "outputs": []
    },
    {
     "cell_type": "code",
     "collapsed": false,
     "input": [
      "N = 100\n",
      "Amat = np.asarray([[.5, -.5]])\n",
      "Bmat = np.asarray([[0.58, -1.,], [.7, 0.1]])\n",
      "\n",
      "# Values should stay within the range (-radius,radius)\n",
      "radius = 1\n",
      "\n",
      "model = nengo.Network(label='Matrix Multiplication', seed=123)\n",
      "with model:\n",
      "    # Make 2 EnsembleArrays to store the input\n",
      "    A = nengo.networks.EnsembleArray(N, Amat.size, radius=radius)\n",
      "    B = nengo.networks.EnsembleArray(N, Bmat.size, radius=radius)\n",
      "    \n",
      "    # connect inputs to them so we can set their value\n",
      "    inputA = nengo.Node(Amat.ravel())\n",
      "    inputB = nengo.Node(Bmat.ravel())\n",
      "    nengo.Connection(inputA, A.input)\n",
      "    nengo.Connection(inputB, B.input)\n",
      "    A_probe = nengo.Probe(A.output, sample_every=0.01, synapse=0.01)\n",
      "    B_probe = nengo.Probe(B.output, sample_every=0.01, synapse=0.01)"
     ],
     "language": "python",
     "metadata": {},
     "outputs": []
    },
    {
     "cell_type": "code",
     "collapsed": false,
     "input": [
      "sim = nengo.Simulator(model)\n",
      "sim.run(1)\n",
      "plt.subplot(1, 2, 1)\n",
      "plt.title('A')\n",
      "plt.plot(sim.trange(dt=0.01), sim.data[A_probe])\n",
      "plt.subplot(1, 2, 2)\n",
      "plt.title('B')\n",
      "plt.plot(sim.trange(dt=0.01), sim.data[B_probe]);"
     ],
     "language": "python",
     "metadata": {},
     "outputs": []
    },
    {
     "cell_type": "code",
     "collapsed": false,
     "input": [
      "from nengo.dists import Choice\n",
      "with model:\n",
      "    # The C matix is composed of populations that each contain\n",
      "    # one element of A and one element of B.\n",
      "    # These elements will be multiplied together in the next step.\n",
      "    \n",
      "    # The appropriate encoders make the multiplication more accurate\n",
      "    C = nengo.networks.EnsembleArray(N,\n",
      "                                     n_ensembles=Amat.size * Bmat.shape[1],\n",
      "                                     ens_dimensions=2,\n",
      "                                     radius=1.5 * radius,\n",
      "                                     encoders=Choice([[1, 1], [-1, 1], [1, -1], [-1, -1]]))\n",
      "\n",
      "# Determine the transformation matrices to get the correct pairwise\n",
      "# products computed.  This looks a bit like black magic but if\n",
      "# you manually try multiplying two matrices together, you can see\n",
      "# the underlying pattern.  Basically, we need to build up D1*D2*D3\n",
      "# pairs of numbers in C to compute the product of.  If i,j,k are the\n",
      "# indexes into the D1*D2*D3 products, we want to compute the product\n",
      "# of element (i,j) in A with the element (j,k) in B.  The index in\n",
      "# A of (i,j) is j+i*D2 and the index in B of (j,k) is k+j*D3.\n",
      "# The index in C is j+k*D2+i*D2*D3, multiplied by 2 since there are\n",
      "# two values per ensemble.  We add 1 to the B index so it goes into\n",
      "# the second value in the ensemble.\n",
      "transformA = np.zeros((C.dimensions, Amat.size))\n",
      "transformB = np.zeros((C.dimensions, Bmat.size))\n",
      "\n",
      "for i in range(Amat.shape[0]):\n",
      "    for j in range(Amat.shape[1]):\n",
      "        for k in range(Bmat.shape[1]):\n",
      "            tmp = (j + k * Amat.shape[1] + i * Bmat.size)\n",
      "            transformA[tmp * 2][j + i * Amat.shape[1]] = 1\n",
      "            transformB[tmp * 2 + 1][k + j * Bmat.shape[1]] = 1\n",
      "\n",
      "print(\"A->C\")\n",
      "print(transformA)\n",
      "print(\"B->C\")\n",
      "print(transformB)\n",
      "\n",
      "with model:\n",
      "    nengo.Connection(A.output, C.input, transform=transformA)\n",
      "    nengo.Connection(B.output, C.input, transform=transformB)\n",
      "    C_probe = nengo.Probe(C.output, sample_every=0.01, synapse=0.01)"
     ],
     "language": "python",
     "metadata": {},
     "outputs": []
    },
    {
     "cell_type": "code",
     "collapsed": false,
     "input": [
      "# Look at C\n",
      "sim = nengo.Simulator(model)\n",
      "sim.run(1)"
     ],
     "language": "python",
     "metadata": {},
     "outputs": []
    },
    {
     "cell_type": "code",
     "collapsed": false,
     "input": [
      "plt.plot(sim.trange(dt=0.01), sim.data[C_probe])\n",
      "plt.title('C');"
     ],
     "language": "python",
     "metadata": {},
     "outputs": []
    },
    {
     "cell_type": "code",
     "collapsed": false,
     "input": [
      "with model:\n",
      "    # Now compute the products and do the appropriate summing\n",
      "    D = nengo.networks.EnsembleArray(N,\n",
      "                                     n_ensembles=Amat.shape[0] * Bmat.shape[1],\n",
      "                                     radius=radius)\n",
      "\n",
      "def product(x):\n",
      "    return x[0] * x[1]\n",
      "\n",
      "# The mapping for this transformation is much easier, since we want to\n",
      "# combine D2 pairs of elements (we sum D2 products together)\n",
      "transformC = np.zeros((D.dimensions, Bmat.size))\n",
      "for i in range(Bmat.size):\n",
      "    transformC[i // Bmat.shape[0]][i] = 1\n",
      "print(\"C->D\")\n",
      "print(transformC)\n",
      "\n",
      "with model:\n",
      "    prod = C.add_output(\"product\", product)\n",
      "\n",
      "    nengo.Connection(prod, D.input, transform=transformC)\n",
      "    D_probe = nengo.Probe(D.output, sample_every=0.01, synapse=0.01)"
     ],
     "language": "python",
     "metadata": {},
     "outputs": []
    },
    {
     "cell_type": "code",
     "collapsed": false,
     "input": [
      "sim = nengo.Simulator(model)\n",
      "sim.run(1)"
     ],
     "language": "python",
     "metadata": {},
     "outputs": []
    },
    {
     "cell_type": "code",
     "collapsed": false,
     "input": [
      "plt.plot(sim.trange(dt=0.01), sim.data[D_probe])\n",
      "for d in np.dot(Amat, Bmat).flatten():\n",
      "    plt.axhline(d, color='k')\n",
      "plt.title(\"D\");"
     ],
     "language": "python",
     "metadata": {},
     "outputs": []
    }
   ],
   "metadata": {}
  }
 ]
}
