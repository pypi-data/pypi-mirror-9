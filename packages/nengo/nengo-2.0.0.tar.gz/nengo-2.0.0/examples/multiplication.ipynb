{
 "metadata": {
  "name": "",
  "signature": "sha256:84907b48648903555b735bdbd0c7efa9a50633d3dbda5eeaf6a808993d343abb"
 },
 "nbformat": 3,
 "nbformat_minor": 0,
 "worksheets": [
  {
   "cells": [
    {
     "cell_type": "markdown",
     "metadata": {},
     "source": [
      "# Nengo Example: Multiplication"
     ]
    },
    {
     "cell_type": "markdown",
     "metadata": {},
     "source": [
      "This example will show you how to multiply two values. The model architecture can be thought of as a combination of the combining demo and the squaring demo. Essentially, we project both inputs independently into a 2D space, and then decode a nonlinear transformation of that space (the product of the first and second vector elements)."
     ]
    },
    {
     "cell_type": "code",
     "collapsed": false,
     "input": [
      "import matplotlib.pyplot as plt\n",
      "%matplotlib inline\n",
      "\n",
      "import nengo"
     ],
     "language": "python",
     "outputs": []
    },
    {
     "cell_type": "markdown",
     "metadata": {},
     "source": [
      "## Step 1: Create the model"
     ]
    },
    {
     "cell_type": "markdown",
     "metadata": {},
     "source": [
      "The model has four ensembles: two input ensembles ('A' and 'B'), a 2D combined ensemble ('Combined'), and an output ensemble ('D')."
     ]
    },
    {
     "cell_type": "code",
     "collapsed": false,
     "input": [
      "# Create the model object\n",
      "model = nengo.Network(label='Multiplication')\n",
      "with model:\n",
      "    # Create 4 ensembles of leaky integrate-and-fire neurons\n",
      "    A = nengo.Ensemble(100, dimensions=1, radius=10)\n",
      "    B = nengo.Ensemble(100, dimensions=1, radius=10)\n",
      "    combined = nengo.Ensemble(224, dimensions=2, radius=15) # This radius is ~sqrt(10^2+10^2)\n",
      "    prod = nengo.Ensemble(100, dimensions=1, radius=20)\n",
      "\n",
      "# This next two lines make all of the encoders in the Combined population point at the \n",
      "# corners of the cube. This improves the quality of the computation.\n",
      "# Note the number of neurons is assumed to be divisible by 4\n",
      "from nengo.dists import Choice\n",
      "# Comment out the line below for 'normal' encoders\n",
      "combined.encoders = Choice([[1,1],[-1,1],[1,-1],[-1,-1]])"
     ],
     "language": "python",
     "metadata": {},
     "outputs": []
    },
    {
     "cell_type": "markdown",
     "metadata": {},
     "source": [
      "##Step 2: Provide input to the model"
     ]
    },
    {
     "cell_type": "markdown",
     "metadata": {},
     "source": [
      "We will use two varying scalar values for the two input signals that drive activity in ensembles A and B."
     ]
    },
    {
     "cell_type": "code",
     "collapsed": false,
     "input": [
      "from nengo.utils.functions import piecewise\n",
      "with model:\n",
      "    # Create a piecewise step function for input\n",
      "    inputA = nengo.Node(piecewise({0: 0, 2.5: 10, 4: -10}))\n",
      "    inputB = nengo.Node(piecewise({0: 10, 1.5: 2, 3: 0, 4.5: 2}))\n",
      "    \n",
      "    correct_ans = piecewise({0: 0, 1.5: 0, 2.5: 20, 3: 0, 4: 0, 4.5: -20})"
     ],
     "language": "python",
     "metadata": {},
     "outputs": []
    },
    {
     "cell_type": "markdown",
     "metadata": {},
     "source": [
      "## Step 3: Connect the elements of the model"
     ]
    },
    {
     "cell_type": "code",
     "collapsed": false,
     "input": [
      "with model:\n",
      "    # Connect the input nodes to the appropriate ensembles\n",
      "    nengo.Connection(inputA, A)\n",
      "    nengo.Connection(inputB, B)\n",
      "    \n",
      "    # Connect input ensembles A and B to the 2D combined ensemble\n",
      "    nengo.Connection(A, combined[0])\n",
      "    nengo.Connection(B, combined[1])\n",
      "    \n",
      "    # Define a function that computes the multiplication of two inputs\n",
      "    def product(x):\n",
      "        return x[0] * x[1]\n",
      "    \n",
      "    # Connect the combined ensemble to the output ensemble D\n",
      "    nengo.Connection(combined, prod, function=product)"
     ],
     "language": "python",
     "metadata": {},
     "outputs": []
    },
    {
     "cell_type": "markdown",
     "metadata": {},
     "source": [
      "##Step 4: Probe the output"
     ]
    },
    {
     "cell_type": "markdown",
     "metadata": {},
     "source": [
      "Collect output data from each ensemble and input."
     ]
    },
    {
     "cell_type": "code",
     "collapsed": false,
     "input": [
      "with model:\n",
      "    inputA_probe = nengo.Probe(inputA)\n",
      "    inputB_probe = nengo.Probe(inputB,)\n",
      "    A_probe = nengo.Probe(A, synapse=0.01)\n",
      "    B_probe = nengo.Probe(B, synapse=0.01)\n",
      "    combined_probe = nengo.Probe(combined, synapse=0.01)\n",
      "    prod_probe = nengo.Probe(prod, synapse=0.01)"
     ],
     "language": "python",
     "metadata": {},
     "outputs": []
    },
    {
     "cell_type": "markdown",
     "metadata": {},
     "source": [
      "## Step 5: Run the model"
     ]
    },
    {
     "cell_type": "code",
     "collapsed": false,
     "input": [
      "# Create the simulator\n",
      "sim = nengo.Simulator(model)\n",
      "# Run it for 5 seconds\n",
      "sim.run(5)"
     ],
     "language": "python",
     "metadata": {},
     "outputs": []
    },
    {
     "cell_type": "markdown",
     "metadata": {},
     "source": [
      "## Step 6: Plot the results"
     ]
    },
    {
     "cell_type": "markdown",
     "metadata": {},
     "source": [
      "To check the performance of the model, we can plot the input signals and decoded ensemble values. "
     ]
    },
    {
     "cell_type": "code",
     "collapsed": false,
     "input": [
      "# Plot the input signals and decoded ensemble values\n",
      "plt.plot(sim.trange(), sim.data[A_probe], label=\"Decoded A\")\n",
      "plt.plot(sim.trange(), sim.data[B_probe], label=\"Decoded B\")\n",
      "plt.plot(sim.trange(), sim.data[prod_probe], label=\"Decoded product\")\n",
      "plt.plot(sim.trange(), [correct_ans(t) for t in sim.trange()], c='k', label=\"Actual product\")\n",
      "plt.legend(loc='best')\n",
      "plt.ylim(-25, 25);"
     ],
     "language": "python",
     "metadata": {},
     "outputs": []
    },
    {
     "cell_type": "markdown",
     "metadata": {},
     "source": [
      "The input signals we chose make it obvious when things are working, as the inputs are zero often (so the product should be). When choosing encoders randomly around the circle (the default in Nengo), you may see more unwanted interactions between the inputs. To see this, comment the above code that sets the encoders to the corners of the cube (in Step 1 where it says #Comment out the line below for 'normal' encoders)."
     ]
    }
   ],
   "metadata": {}
  }
 ]
}
