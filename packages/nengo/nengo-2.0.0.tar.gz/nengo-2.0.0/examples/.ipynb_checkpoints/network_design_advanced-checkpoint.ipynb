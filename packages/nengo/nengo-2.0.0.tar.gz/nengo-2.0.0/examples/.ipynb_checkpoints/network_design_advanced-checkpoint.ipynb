{
 "metadata": {
  "name": "",
  "signature": "sha256:127598adebe511ea603cd65eddadd6ba2b87ae82a35ff042b21a9dfe571eb89d"
 },
 "nbformat": 3,
 "nbformat_minor": 0,
 "worksheets": [
  {
   "cells": [
    {
     "cell_type": "markdown",
     "metadata": {},
     "source": [
      "# Additional tips and tricks for designing networks\n",
      "\n",
      "This tutorial assumes that you have read\n",
      "the `network_design` tutorial,\n",
      "and have designed a network or two.\n",
      "Here, we will give a few advanced tips and tricks\n",
      "for designing networks that can be reused flexibly.\n",
      "In particular, these tips will use the\n",
      "`config` system, so we will alos assume that\n",
      "you have gone over the `config` tutorial.\n",
      "\n",
      "Briefly, the general principles covered\n",
      "in this tutorial are\n",
      "\n",
      "0. Accept a network argument\n",
      "0. Accept a config argument for groups of parameters"
     ]
    }
   ],
   "metadata": {}
  }
 ]
}