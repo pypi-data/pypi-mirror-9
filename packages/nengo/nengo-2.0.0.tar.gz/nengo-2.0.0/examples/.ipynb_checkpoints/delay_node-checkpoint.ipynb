{
 "metadata": {
  "name": "",
  "signature": "sha256:ba38b1a3655103d2ca49839f4fce8ff2aaa73fafe34d20c2fa85f8ddce97c4fa"
 },
 "nbformat": 3,
 "nbformat_minor": 0,
 "worksheets": [
  {
   "cells": [
    {
     "cell_type": "markdown",
     "metadata": {},
     "source": [
      "# Delaying a connection with a node\n",
      "\n",
      "Nodes allow for all sorts of advanced behavior that is typically done by modifying of extending the code of a neural simulator. In Nengo, the `Node` object allows for custom code to run.\n",
      "\n",
      "In this example, we will implement an `n`-timestep delayed connection by using a node."
     ]
    },
    {
     "cell_type": "code",
     "collapsed": false,
     "input": [
      "import numpy as np\n",
      "import nengo\n",
      "from nengo.utils.functions import whitenoise\n",
      "\n",
      "model = nengo.Network(label=\"Delayed connection\")\n",
      "with model:\n",
      "    # We'll use white noise as input\n",
      "    inp = nengo.Node(whitenoise(1, 5, seed=60))\n",
      "    A = nengo.Ensemble(40, dimensions=1)\n",
      "    nengo.Connection(inp, A)\n",
      "\n",
      "# We'll make a simple object to implement the delayed connection\n",
      "class Delay(object):\n",
      "    def __init__(self, dimensions, timesteps=50):\n",
      "        self.history = np.zeros((timesteps, dimensions))\n",
      "    def step(self, t, x):\n",
      "        self.history = np.roll(self.history, -1)\n",
      "        self.history[-1] = x\n",
      "        return self.history[0]\n",
      "\n",
      "dt = 0.001\n",
      "delay = Delay(1, timesteps=int(0.2 / 0.001))\n",
      "\n",
      "with model:\n",
      "    delaynode = nengo.Node(delay.step, size_in=1, size_out=1)\n",
      "    nengo.Connection(A, delaynode)\n",
      "    \n",
      "    # Send the delayed output through an ensemble\n",
      "    B = nengo.Ensemble(40, dimensions=1)\n",
      "    nengo.Connection(delaynode, B)\n",
      "    \n",
      "    # Probe the input at the delayed output\n",
      "    A_probe = nengo.Probe(A, synapse=0.01)\n",
      "    B_probe = nengo.Probe(B, synapse=0.01)"
     ],
     "language": "python",
     "metadata": {},
     "outputs": []
    },
    {
     "cell_type": "code",
     "collapsed": false,
     "input": [
      "# Run for 2 seconds\n",
      "sim = nengo.Simulator(model)\n",
      "sim.run(2)\n",
      "\n",
      "# Plot the results\n",
      "%matplotlib inline\n",
      "import matplotlib.pyplot as plt\n",
      "plt.subplot(2, 1, 1)\n",
      "plt.plot(sim.trange(), sim.data[A_probe], lw=2)\n",
      "plt.title(\"Input\")\n",
      "plt.subplot(2, 1, 2)\n",
      "plt.plot(sim.trange(), sim.data[B_probe], lw=2)\n",
      "plt.axvline(0.2, c='k')\n",
      "plt.title(\"Delayed output\")\n",
      "plt.tight_layout()"
     ],
     "language": "python",
     "metadata": {},
     "outputs": []
    }
   ],
   "metadata": {}
  }
 ]
}