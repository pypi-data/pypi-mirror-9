{
 "metadata": {
  "name": "",
  "signature": "sha256:3649f6a2a499a3a91670de1e275df9b0c2fac528f659e66a0035ebc5e88bbf0d"
 },
 "nbformat": 3,
 "nbformat_minor": 0,
 "worksheets": [
  {
   "cells": [
    {
     "cell_type": "markdown",
     "metadata": {},
     "source": [
      "# Nengo Example: Unsupervised learning\n",
      "\n",
      "When we do error-modulated learning with the `nengo.PES` rule,\n",
      "we have a pretty clear idea of what we want to happen.\n",
      "Years of neuroscientific experiments have yielded\n",
      "learning rules explaining how synaptic strengths\n",
      "change given certain stimulation protocols.\n",
      "But what do these learning rules actually do\n",
      "to the information transmitted across an\n",
      "ensemble-to-ensemble connection?\n",
      "\n",
      "We can investigate this in Nengo.\n",
      "Currently, we've implemented the `nengo.BCM`\n",
      "and `nengo.Oja` rules."
     ]
    },
    {
     "cell_type": "code",
     "collapsed": false,
     "input": [
      "import nengo\n",
      "print(nengo.BCM.__doc__)"
     ],
     "language": "python",
     "metadata": {},
     "outputs": []
    },
    {
     "cell_type": "code",
     "collapsed": false,
     "input": [
      "print(nengo.Oja.__doc__)"
     ],
     "language": "python",
     "metadata": {},
     "outputs": []
    },
    {
     "cell_type": "markdown",
     "metadata": {},
     "source": [
      "## Step 1: Create a simple communication channel\n",
      "\n",
      "The only difference between this network and most\n",
      "models you've seen so far is that we're going to\n",
      "set the decoder solver in the communication channel\n",
      "to generate a full connection weight matrix\n",
      "which we can then learn using typical delta learning rules."
     ]
    },
    {
     "cell_type": "code",
     "collapsed": false,
     "input": [
      "import numpy as np\n",
      "import nengo\n",
      "\n",
      "model = nengo.Network()\n",
      "with model:\n",
      "    sin = nengo.Node(lambda t: np.sin(t*4))\n",
      "    \n",
      "    pre = nengo.Ensemble(100, dimensions=1)\n",
      "    post = nengo.Ensemble(100, dimensions=1)\n",
      "\n",
      "    nengo.Connection(sin, pre)\n",
      "    conn = nengo.Connection(pre, post, solver=nengo.solvers.LstsqL2(weights=True))\n",
      "\n",
      "    pre_p = nengo.Probe(pre, synapse=0.01)\n",
      "    post_p = nengo.Probe(post, synapse=0.01)"
     ],
     "language": "python",
     "metadata": {},
     "outputs": []
    },
    {
     "cell_type": "code",
     "collapsed": false,
     "input": [
      "# Verify that it does a communication channel\n",
      "sim = nengo.Simulator(model)\n",
      "sim.run(2.0)\n",
      "\n",
      "%matplotlib inline\n",
      "import matplotlib.pyplot as plt\n",
      "plt.plot(sim.trange(), sim.data[pre_p], label=\"Pre\")\n",
      "plt.plot(sim.trange(), sim.data[post_p], label=\"Post\")\n",
      "plt.ylabel(\"Decoded value\")\n",
      "plt.legend(loc=\"best\")"
     ],
     "language": "python",
     "metadata": {},
     "outputs": []
    },
    {
     "cell_type": "markdown",
     "metadata": {},
     "source": [
      "## What does BCM do?"
     ]
    },
    {
     "cell_type": "code",
     "collapsed": false,
     "input": [
      "conn.learning_rule_type = nengo.BCM(learning_rate=5e-10)\n",
      "with model:\n",
      "    trans_p = nengo.Probe(conn, 'transform', synapse=0.01, sample_every=0.01)"
     ],
     "language": "python",
     "metadata": {},
     "outputs": []
    },
    {
     "cell_type": "code",
     "collapsed": false,
     "input": [
      "sim = nengo.Simulator(model)\n",
      "sim.run(20.0)\n",
      "\n",
      "plt.figure(figsize=(12, 8))\n",
      "plt.subplot(2, 1, 1)\n",
      "plt.plot(sim.trange(), sim.data[pre_p], label=\"Pre\")\n",
      "plt.plot(sim.trange(), sim.data[post_p], label=\"Post\")\n",
      "plt.ylabel(\"Decoded value\")\n",
      "plt.ylim(-1.6, 1.6)\n",
      "plt.legend(loc=\"lower left\")\n",
      "plt.subplot(2, 1, 2)\n",
      "# Find weight row with max variance\n",
      "neuron = np.argmax(np.mean(np.var(sim.data[trans_p], axis=0), axis=1))\n",
      "plt.plot(sim.trange(dt=0.01), sim.data[trans_p][..., neuron])\n",
      "plt.ylabel(\"Connection weight\")"
     ],
     "language": "python",
     "metadata": {},
     "outputs": []
    },
    {
     "cell_type": "markdown",
     "metadata": {},
     "source": [
      "The BCM rule appears to cause the ensemble\n",
      "to either be on or off.\n",
      "This seems consistent with the idea that it potentiates\n",
      "active synapses, and depresses non-active synapses."
     ]
    },
    {
     "cell_type": "markdown",
     "metadata": {},
     "source": [
      "## What does Oja do?"
     ]
    },
    {
     "cell_type": "code",
     "collapsed": false,
     "input": [
      "conn.learning_rule_type = nengo.Oja(learning_rate=6e-8)"
     ],
     "language": "python",
     "metadata": {},
     "outputs": []
    },
    {
     "cell_type": "code",
     "collapsed": false,
     "input": [
      "sim = nengo.Simulator(model)\n",
      "sim.run(20.0)\n",
      "\n",
      "plt.figure(figsize=(12, 8))\n",
      "plt.subplot(2, 1, 1)\n",
      "plt.plot(sim.trange(), sim.data[pre_p], label=\"Pre\")\n",
      "plt.plot(sim.trange(), sim.data[post_p], label=\"Post\")\n",
      "plt.ylabel(\"Decoded value\")\n",
      "plt.ylim(-1.6, 1.6)\n",
      "plt.legend(loc=\"lower left\")\n",
      "plt.subplot(2, 1, 2)\n",
      "# Find weight row with max variance\n",
      "neuron = np.argmax(np.mean(np.var(sim.data[trans_p], axis=0), axis=1))\n",
      "plt.plot(sim.trange(dt=0.01), sim.data[trans_p][..., neuron])\n",
      "plt.ylabel(\"Connection weight\")"
     ],
     "language": "python",
     "metadata": {},
     "outputs": []
    },
    {
     "cell_type": "markdown",
     "metadata": {},
     "source": [
      "The Oja rule seems to attenuate the signal across the connection."
     ]
    },
    {
     "cell_type": "markdown",
     "metadata": {},
     "source": [
      "## What do BCM and Oja together do?\n",
      "\n",
      "We can apply both learning rules to the same connection\n",
      "by passing a list to `learning_rule_type`."
     ]
    },
    {
     "cell_type": "code",
     "collapsed": false,
     "input": [
      "conn.learning_rule_type = [nengo.BCM(learning_rate=5e-10), nengo.Oja(learning_rate=2e-9)]"
     ],
     "language": "python",
     "metadata": {},
     "outputs": []
    },
    {
     "cell_type": "code",
     "collapsed": false,
     "input": [
      "sim = nengo.Simulator(model)\n",
      "sim.run(20.0)\n",
      "\n",
      "plt.figure(figsize=(12, 8))\n",
      "plt.subplot(2, 1, 1)\n",
      "plt.plot(sim.trange(), sim.data[pre_p], label=\"Pre\")\n",
      "plt.plot(sim.trange(), sim.data[post_p], label=\"Post\")\n",
      "plt.ylabel(\"Decoded value\")\n",
      "plt.ylim(-1.6, 1.6)\n",
      "plt.legend(loc=\"lower left\")\n",
      "plt.subplot(2, 1, 2)\n",
      "# Find weight row with max variance\n",
      "neuron = np.argmax(np.mean(np.var(sim.data[trans_p], axis=0), axis=1))\n",
      "plt.plot(sim.trange(dt=0.01), sim.data[trans_p][..., neuron])\n",
      "plt.ylabel(\"Connection weight\")"
     ],
     "language": "python",
     "metadata": {},
     "outputs": []
    },
    {
     "cell_type": "markdown",
     "metadata": {},
     "source": [
      "The combination of the two appears to accentuate\n",
      "the on-off nature of the BCM rule.\n",
      "As the Oja rule enforces a soft upper or lower bound\n",
      "for the connection weight, the combination\n",
      "of both rules may be more stable than BCM alone.\n",
      "\n",
      "That's mostly conjecture, however;\n",
      "a thorough investigation of the BCM and Oja rules\n",
      "and how they interact has not yet been done."
     ]
    }
   ],
   "metadata": {}
  }
 ]
}