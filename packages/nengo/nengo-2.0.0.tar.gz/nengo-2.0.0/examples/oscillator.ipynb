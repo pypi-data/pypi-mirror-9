{
 "metadata": {
  "name": "",
  "signature": "sha256:b0817b1b084b9473b13c94874aa954454cd615b1c4bc9cf52cd1f2666dd33284"
 },
 "nbformat": 3,
 "nbformat_minor": 0,
 "worksheets": [
  {
   "cells": [
    {
     "cell_type": "markdown",
     "metadata": {},
     "source": [
      "# Nengo Example: A Simple Harmonic Oscillator\n",
      "This demo implements a simple harmonic oscillator in a 2D neural population. The oscillator is more visually interesting on its own than the integrator, but the principle at work is the same. Here, instead of having the recurrent input just integrate (i.e. feeding the full input value back to the population), we have two dimensions which interact. In Nengo there is a \u2018Linear System\u2019 template which can also be used to quickly construct a harmonic oscillator (or any other linear system)."
     ]
    },
    {
     "cell_type": "code",
     "collapsed": false,
     "input": [
      "import matplotlib.pyplot as plt\n",
      "%matplotlib inline\n",
      "\n",
      "import nengo"
     ],
     "language": "python",
     "outputs": []
    },
    {
     "cell_type": "markdown",
     "metadata": {},
     "source": [
      "##Step 1: Create the Model\n",
      "The model consists of a single neural ensemble that we will call `Neurons`."
     ]
    },
    {
     "cell_type": "code",
     "collapsed": false,
     "input": [
      "# Create the model object\n",
      "model = nengo.Network(label='Oscillator')\n",
      "with model:\n",
      "    # Create the ensemble for the oscillator\n",
      "    neurons = nengo.Ensemble(200, dimensions=2)"
     ],
     "language": "python",
     "metadata": {},
     "outputs": []
    },
    {
     "cell_type": "markdown",
     "metadata": {},
     "source": [
      "##Step 2: Provide Input to the Model\n",
      "A brief input signal is provided to trigger the oscillatory behavior of the neural representation."
     ]
    },
    {
     "cell_type": "code",
     "collapsed": false,
     "input": [
      "from nengo.utils.functions import piecewise\n",
      "with model:\n",
      "    # Create an input signal\n",
      "    input = nengo.Node(piecewise({0: [1, 0], 0.1: [0, 0]}))\n",
      "    \n",
      "    # Connect the input signal to the neural ensemble\n",
      "    nengo.Connection(input, neurons)\n",
      "    \n",
      "    # Create the feedback connection\n",
      "    nengo.Connection(neurons, neurons, transform=[[1, 1], [-1, 1]], synapse=0.1)"
     ],
     "language": "python",
     "metadata": {},
     "outputs": []
    },
    {
     "cell_type": "markdown",
     "metadata": {},
     "source": [
      "## Step 3: Add Probes\n",
      "These probes will collect data from the input signal and the neural ensemble."
     ]
    },
    {
     "cell_type": "code",
     "collapsed": false,
     "input": [
      "with model:\n",
      "    input_probe = nengo.Probe(input, 'output')\n",
      "    neuron_probe = nengo.Probe(neurons, 'decoded_output', synapse=0.1)"
     ],
     "language": "python",
     "metadata": {},
     "outputs": []
    },
    {
     "cell_type": "markdown",
     "metadata": {},
     "source": [
      "## Step 4: Run the Model"
     ]
    },
    {
     "cell_type": "code",
     "collapsed": false,
     "input": [
      "# Create the simulator\n",
      "sim = nengo.Simulator(model)\n",
      "# Run it for 5 seconds\n",
      "sim.run(5)"
     ],
     "language": "python",
     "metadata": {},
     "outputs": []
    },
    {
     "cell_type": "markdown",
     "metadata": {},
     "source": [
      "##Step 5: Plot the Results"
     ]
    },
    {
     "cell_type": "code",
     "collapsed": false,
     "input": [
      "plt.plot(sim.trange(), sim.data[neuron_probe])\n",
      "plt.xlabel('Time (s)', fontsize='large')\n",
      "plt.legend(['$x_0$', '$x_1$']);"
     ],
     "language": "python",
     "metadata": {},
     "outputs": []
    },
    {
     "cell_type": "code",
     "collapsed": false,
     "input": [
      "data = sim.data[neuron_probe]\n",
      "plt.plot(data[:,0], data[:,1], label='Decoded Output') \n",
      "plt.xlabel('$x_0$', fontsize=20)\n",
      "plt.ylabel('$x_1$', fontsize=20)\n",
      "plt.legend();"
     ],
     "language": "python",
     "metadata": {},
     "outputs": []
    }
   ],
   "metadata": {}
  }
 ]
}
