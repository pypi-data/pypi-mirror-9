{
 "metadata": {
  "name": "",
  "signature": "sha256:f808de7de18f166aab912b9d4d772e987777be624eecf1196eefa961fb6f41ea"
 },
 "nbformat": 3,
 "nbformat_minor": 0,
 "worksheets": [
  {
   "cells": [
    {
     "cell_type": "markdown",
     "metadata": {},
     "source": [
      "# Nengo Network: Ensemble Array\n",
      "\n",
      "An ensemble array is a group of ensembles that each represent a part of the overall signal.\n",
      "\n",
      "Ensemble arrays are similar to normal ensembles, but expose a slightly different interface. Additionally, in an ensemble array, the components of the overall signal are not related. As a result, network arrays cannot be used to compute nonlinear functions that mix the dimensions they represent."
     ]
    },
    {
     "cell_type": "code",
     "collapsed": false,
     "input": [
      "import numpy as np\n",
      "import matplotlib.pyplot as plt\n",
      "%matplotlib inline\n",
      "\n",
      "import nengo"
     ],
     "language": "python",
     "outputs": []
    },
    {
     "cell_type": "code",
     "collapsed": false,
     "input": [
      "model = nengo.Network(label='Ensemble Array')\n",
      "with model:\n",
      "    # Make an input node\n",
      "    sin = nengo.Node(output=lambda t: [np.cos(t), np.sin(t)])\n",
      "    \n",
      "    # Make ensembles to connect\n",
      "    A = nengo.networks.EnsembleArray(100, n_ensembles=2)\n",
      "    B = nengo.Ensemble(100, dimensions=2)\n",
      "    C = nengo.networks.EnsembleArray(100, n_ensembles=2)\n",
      "    \n",
      "    # Connect the model elements, just feedforward\n",
      "    nengo.Connection(sin, A.input)\n",
      "    nengo.Connection(A.output, B)\n",
      "    nengo.Connection(B, C.input)\n",
      "    \n",
      "    # Setup the probes for plotting\n",
      "    sin_probe = nengo.Probe(sin)\n",
      "    A_probe = nengo.Probe(A.output, synapse=0.02)\n",
      "    B_probe = nengo.Probe(B, synapse=0.02)\n",
      "    C_probe = nengo.Probe(C.output, synapse=0.02)"
     ],
     "language": "python",
     "metadata": {},
     "outputs": []
    },
    {
     "cell_type": "code",
     "collapsed": false,
     "input": [
      "# Set up and run the simulator\n",
      "sim = nengo.Simulator(model)\n",
      "sim.run(10)"
     ],
     "language": "python",
     "metadata": {},
     "outputs": []
    },
    {
     "cell_type": "code",
     "collapsed": false,
     "input": [
      "# Plot the results\n",
      "plt.plot(sim.trange(), sim.data[sin_probe])\n",
      "plt.plot(sim.trange(), sim.data[A_probe])\n",
      "plt.plot(sim.trange(), sim.data[B_probe])\n",
      "plt.plot(sim.trange(), sim.data[C_probe]);"
     ],
     "language": "python",
     "metadata": {},
     "outputs": []
    },
    {
     "cell_type": "markdown",
     "metadata": {},
     "source": [
      "These plots demonstrate that the network array works very similarly to a standard N-dimensional population. However, this is not true when it comes to computing functions. Network arrays cannot be used to compute nonlinear functions that mix the dimensions they represent."
     ]
    }
   ],
   "metadata": {}
  }
 ]
}
