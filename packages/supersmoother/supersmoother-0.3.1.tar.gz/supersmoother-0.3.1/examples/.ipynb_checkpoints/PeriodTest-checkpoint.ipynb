{
 "metadata": {
  "name": "",
  "signature": "sha256:cb6501ec8f93e947a3ea195252ba2881eda7831be5b4f2f335a021d1442bcbc7"
 },
 "nbformat": 3,
 "nbformat_minor": 0,
 "worksheets": [
  {
   "cells": [
    {
     "cell_type": "code",
     "collapsed": false,
     "input": [
      "%matplotlib inline\n",
      "import numpy as np\n",
      "import matplotlib.pyplot as plt\n",
      "\n",
      "# Use seaborn for plotting defaults.\n",
      "# This can be safely commented-out if seaborn is not installed\n",
      "import seaborn; seaborn.set()"
     ],
     "language": "python",
     "metadata": {},
     "outputs": [],
     "prompt_number": 1
    },
    {
     "cell_type": "code",
     "collapsed": false,
     "input": [
      "from supersmoother import LinearSmoother, MovingAverageSmoother\n",
      "\n",
      "t = np.arange(10)\n",
      "y = t\n",
      "dy = 0.5\n",
      "period = 10\n",
      "\n",
      "t2 = np.concatenate([-period + t[5:], t, period + t[:5]])\n",
      "y2 = np.concatenate([y[5:], y, y[:5]])\n",
      "    \n",
      "plt.errorbar(t2, y2, dy, fmt='.')\n",
      "\n",
      "span = 6.01 / 30.\n",
      "\n",
      "model = MovingAverageSmoother(span=span)\n",
      "tfit = np.linspace(-5, 15, 1000)\n",
      "yfit = model.fit(t2, y2, dy).predict(tfit)\n",
      "plt.plot(tfit, yfit, alpha=0.5)\n",
      "\n",
      "model = MovingAverageSmoother(span=span, period=period)\n",
      "tfit = np.linspace(-5, 15, 1000)\n",
      "yfit = model.fit(t, y, dy).predict(tfit)\n",
      "plt.plot(tfit, yfit, alpha=0.5)\n",
      "\n",
      "plt.ylim(-1, 11)\n",
      "plt.xlim(-5, 15);"
     ],
     "language": "python",
     "metadata": {},
     "outputs": [
      {
       "metadata": {},
       "output_type": "display_data",
       "png": "[encoded data removed]",
       "text": [
        "<matplotlib.figure.Figure at 0x108c0a750>"
       ]
      }
     ],
     "prompt_number": 5
    },
    {
     "cell_type": "code",
     "collapsed": false,
     "input": [],
     "language": "python",
     "metadata": {},
     "outputs": []
    }
   ],
   "metadata": {}
  }
 ]
}