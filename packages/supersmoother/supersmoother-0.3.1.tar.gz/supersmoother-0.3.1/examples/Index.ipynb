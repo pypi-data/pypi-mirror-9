{
 "metadata": {
  "name": "",
  "signature": "sha256:6489eca31a133874472b2857056ee24a08be1096847b174c574bc0feeaaf8cff"
 },
 "nbformat": 3,
 "nbformat_minor": 0,
 "worksheets": [
  {
   "cells": [
    {
     "cell_type": "markdown",
     "metadata": {},
     "source": [
      "# SuperSmoother Documentation and Examples\n",
      "\n",
      "These notebooks serve as documentation and examples for the Python [supersmoother package](http://github.com/jakevdp/supersmoother), an efficient pure-Python implementation of Friedman's SuperSmoother algorithm<sup>[1](#references)</sup>."
     ]
    },
    {
     "cell_type": "markdown",
     "metadata": {},
     "source": [
      "## Documentation\n",
      "\n",
      "- [Basic Smoothers](BasicSmoothers.ipynb): Introduction to the ``MovingAverageSmoother`` and ``LinearSmoother`` models.\n",
      "- [SuperSmoother](SuperSmoother.ipynb): Introduction to the ``SuperSmoother`` model."
     ]
    },
    {
     "cell_type": "markdown",
     "metadata": {},
     "source": [
      "## Examples\n",
      "\n",
      "- [Reproducing Friedmann's Paper](Friedmann.ipynb): a reproduction of the results and figures in Friedmann's 1984 paper.\n",
      "- [SuperSmoother for Periodic Analysis](PeriodicAnalysis.ipynb): detecting periodicity in a timeseries, following Riemann (1994)<sup>[2](#references)</sup>."
     ]
    },
    {
     "cell_type": "markdown",
     "metadata": {},
     "source": [
      "### References\n",
      "\n",
      "---\n",
      "\n",
      "<div id=\"references\"></div>\n",
      "1. Friedman, J. H. (1984) *A variable span scatterplot smoother.* Laboratory for Computational Statistics, Stanford University Technical Report No. 5. [(pdf)](http://www.slac.stanford.edu/cgi-wrap/getdoc/slac-pub-3477.pdf)\n",
      "\n",
      "2. Reimann, J. D. (1994) *Frequency Estimation Using Unequally-Spaced Astronomical Data.* Dissertation Abstracts International, Volume: 56-05, Section: B [(pdf)](http://www.stat.berkeley.edu/~rice/UBCWorkshop/thesis.pdf)"
     ]
    },
    {
     "cell_type": "markdown",
     "metadata": {},
     "source": [
      "      "
     ]
    }
   ],
   "metadata": {}
  }
 ]
}