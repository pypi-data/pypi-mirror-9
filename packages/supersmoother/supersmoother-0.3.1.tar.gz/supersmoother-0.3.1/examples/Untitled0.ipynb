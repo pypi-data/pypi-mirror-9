{
 "metadata": {
  "name": "",
  "signature": "sha256:165725459828a867f811e1028f23d4409812d16cf3e0a24199f04cae89ec26a0"
 },
 "nbformat": 3,
 "nbformat_minor": 0,
 "worksheets": [
  {
   "cells": [
    {
     "cell_type": "code",
     "collapsed": false,
     "input": [
      "from supersmoother import LinearSmoother, MovingAverageSmoother"
     ],
     "language": "python",
     "metadata": {},
     "outputs": [],
     "prompt_number": 1
    },
    {
     "cell_type": "code",
     "collapsed": false,
     "input": [],
     "language": "python",
     "metadata": {},
     "outputs": []
    }
   ],
   "metadata": {}
  }
 ]
}