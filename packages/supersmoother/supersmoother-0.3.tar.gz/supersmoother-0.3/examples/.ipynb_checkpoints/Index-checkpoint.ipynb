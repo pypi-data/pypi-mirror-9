{
 "metadata": {
  "name": "",
  "signature": "sha256:b4e7d8e69d43b8a1591001c338016c17049482482534006af6b3eefc30898910"
 },
 "nbformat": 3,
 "nbformat_minor": 0,
 "worksheets": [
  {
   "cells": [
    {
     "cell_type": "markdown",
     "metadata": {},
     "source": [
      "# SuperSmoother Examples\n",
      "\n",
      "These are examples of Friedman's SuperSmoother algorithm using the Python [supersmoother package](http://github.com/jakevdp/supersmoother).\n",
      "\n",
      "- [SuperSmoother](SuperSmoother.ipynb): straightforward example of the algorithm following Friedman's paper\n",
      "- [Periodic Example](Periodic.ipynb): example of how to use a periodic smooth"
     ]
    },
    {
     "cell_type": "markdown",
     "metadata": {},
     "source": [
      "      "
     ]
    }
   ],
   "metadata": {}
  }
 ]
}