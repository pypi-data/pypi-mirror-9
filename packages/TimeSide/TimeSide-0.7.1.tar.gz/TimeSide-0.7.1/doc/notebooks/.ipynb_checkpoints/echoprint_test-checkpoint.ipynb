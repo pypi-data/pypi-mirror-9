{
 "metadata": {
  "name": "",
  "signature": "sha256:019576f856ae8004ea5d7e66e772fa6af6c8ba09180eaec863bbc54509ad8d1f"
 },
 "nbformat": 3,
 "nbformat_minor": 0,
 "worksheets": [
  {
   "cells": [
    {
     "cell_type": "code",
     "collapsed": false,
     "input": [
      "import timeside"
     ],
     "language": "python",
     "metadata": {},
     "outputs": [],
     "prompt_number": 1
    },
    {
     "cell_type": "code",
     "collapsed": false,
     "input": [
      "from timeside.core import get_processor"
     ],
     "language": "python",
     "metadata": {},
     "outputs": [],
     "prompt_number": 2
    },
    {
     "cell_type": "code",
     "collapsed": false,
     "input": [
      "FileDecoder = get_processor('file_decoder')"
     ],
     "language": "python",
     "metadata": {},
     "outputs": [],
     "prompt_number": 3
    },
    {
     "cell_type": "code",
     "collapsed": false,
     "input": [
      "uri='/home/momo/music_local/test/disclosure.mp3'\n",
      "start = 0"
     ],
     "language": "python",
     "metadata": {},
     "outputs": [],
     "prompt_number": 4
    },
    {
     "cell_type": "code",
     "collapsed": false,
     "input": [
      "decoder = FileDecoder(uri=uri, start=start, duration=30)\n",
      "decoder.output_samplerate = 11025"
     ],
     "language": "python",
     "metadata": {},
     "outputs": [],
     "prompt_number": 5
    },
    {
     "cell_type": "code",
     "collapsed": false,
     "input": [
      "echo = get_processor('echonest_identifier')(start=start)"
     ],
     "language": "python",
     "metadata": {},
     "outputs": [],
     "prompt_number": 6
    },
    {
     "cell_type": "code",
     "collapsed": false,
     "input": [
      "pipe = (decoder | echo)"
     ],
     "language": "python",
     "metadata": {},
     "outputs": [],
     "prompt_number": 7
    },
    {
     "cell_type": "code",
     "collapsed": false,
     "input": [
      "pipe.run()"
     ],
     "language": "python",
     "metadata": {},
     "outputs": [
      {
       "output_type": "stream",
       "stream": "stdout",
       "text": [
        "{u'status': {u'code': 0, u'message': u'Success', u'version': u'4.2'}, u'songs': [{u'title': u'F For You', u'artist_name': u'Disclosure', u'artist_id': u'ARPCATO12B3B3540E2', u'score': 138, u'message': u'OK (match type 6)', u'id': u'SOBQKFY13F271BAFC5'}]}\n"
       ]
      }
     ],
     "prompt_number": 8
    }
   ],
   "metadata": {}
  }
 ]
}