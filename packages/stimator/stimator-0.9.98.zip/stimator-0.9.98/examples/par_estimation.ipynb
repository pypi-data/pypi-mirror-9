{
 "metadata": {
  "name": "",
  "signature": "sha256:172bae9544e0a988f7cd6b30224acb9ba651eed632c2b863899c66e4f3dcaf80"
 },
 "nbformat": 3,
 "nbformat_minor": 0,
 "worksheets": [
  {
   "cells": [
    {
     "cell_type": "markdown",
     "metadata": {},
     "source": [
      "S-timator : demonstration of parameter estimation.\n",
      "------------------------------------------\n",
      "\n",
      "The **estimation.py** module combines ODE solving with the DE (differential evolution) genetic optimizer.\n"
     ]
    },
    {
     "cell_type": "code",
     "collapsed": false,
     "input": [
      "%matplotlib inline\n",
      "import stimator\n",
      "import matplotlib as mpl\n",
      "\n",
      "#To make sure we have always the same matplotlib settings\n",
      "#(the ones in comments are the ipython notebook settings)\n",
      "\n",
      "mpl.rcParams['figure.figsize']=(9.0,5.0)    #(6.0,4.0)\n",
      "mpl.rcParams['font.size']=12                #10 \n",
      "mpl.rcParams['savefig.dpi']=100             #72 "
     ],
     "language": "python",
     "metadata": {},
     "outputs": []
    },
    {
     "cell_type": "heading",
     "level": 3,
     "metadata": {},
     "source": [
      "\n",
      "Parameter estimation: glyoxalase system"
     ]
    },
    {
     "cell_type": "markdown",
     "metadata": {},
     "source": [
      "An example with **two time courses**"
     ]
    },
    {
     "cell_type": "code",
     "collapsed": false,
     "input": [
      "mdl = \"\"\"\n",
      "title Glyoxalase system in L. Infantum\n",
      "\n",
      "glx1 : HTA -> SDLTSH, V1*HTA/(Km1 + HTA)\n",
      "glx2 : SDLTSH ->,     V2*SDLTSH/(Km2 + SDLTSH)\n",
      "\n",
      "find V1  in [0.00001, 0.0001]\n",
      "find Km1 in [0.01, 1]\n",
      "find V2  in [0.00001, 0.0001]\n",
      "find Km2 in [0.01, 1]\n",
      "\n",
      "init : SDLTSH = 7.69231E-05, HTA = 0.1357\n",
      "\"\"\"\n",
      "m1 = stimator.read_model(mdl)\n",
      "print mdl\n",
      "\n",
      "best = m1.estimate(['TSH2a.txt', 'TSH2b.txt'], names=['SDLTSH', 'HTA'])\n",
      "\n",
      "print best.info()\n",
      "best.plot()\n",
      "## #save predicted timecourses to files\n",
      "## redsols = solver.optimum.optimum_tcs\n",
      "## redsols.saveTimeCoursesTo(['TSH2a_pred.txt', 'TSH2b_pred.txt'], verbose=True)"
     ],
     "language": "python",
     "metadata": {},
     "outputs": []
    },
    {
     "cell_type": "markdown",
     "metadata": {},
     "source": [
      "-----------\n",
      "\n",
      "An example with an **unknown initial value**"
     ]
    },
    {
     "cell_type": "code",
     "collapsed": false,
     "input": [
      "m2 = m1.copy()\n",
      "\n",
      "# Assume init.HTA is uncertain\n",
      "m2.init.HTA.set_bounds((0.05,0.25))\n",
      "\n",
      "# do not estimate Km1 and Km2, just to help the analysis\n",
      "m2.parameters.Km1.set_bounds(None)\n",
      "m2.parameters.Km2.set_bounds(None)\n",
      "m2.parameters.Km1 = 0.252531\n",
      "m2.parameters.Km2 = 0.0980973\n",
      "\n",
      "\n",
      "# VERY IMPORTANT:\n",
      "# only one time course can be used: \n",
      "# cannot fit one initial value using several timecourses!\n",
      "\n",
      "best = m2.estimate(['TSH2a.txt'], names=['SDLTSH', 'HTA'], opt_settings=dict(pop_size=60))\n",
      "\n",
      "print best.info()\n",
      "best.plot()"
     ],
     "language": "python",
     "metadata": {},
     "outputs": []
    },
    {
     "cell_type": "code",
     "collapsed": false,
     "input": [],
     "language": "python",
     "metadata": {},
     "outputs": []
    }
   ],
   "metadata": {}
  }
 ]
}