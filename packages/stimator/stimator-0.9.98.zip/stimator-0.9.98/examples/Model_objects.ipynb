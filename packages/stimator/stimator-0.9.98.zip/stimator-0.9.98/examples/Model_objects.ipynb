{
 "metadata": {
  "name": "",
  "signature": "sha256:dbf2eee790765d9d512bfb8aaf3d3b5ea9e6504114aa61c647ca496388108d28"
 },
 "nbformat": 3,
 "nbformat_minor": 0,
 "worksheets": [
  {
   "cells": [
    {
     "cell_type": "code",
     "collapsed": false,
     "input": [
      "from stimator import Model, register_kin_func\n",
      "import math\n",
      "from stimator.model import BadTypeComponent, BadStoichError"
     ],
     "language": "python",
     "metadata": {},
     "outputs": []
    },
    {
     "cell_type": "code",
     "collapsed": false,
     "input": [
      "def force(A, t):\n",
      "    return t*A\n",
      "register_kin_func(force)\n",
      "\n",
      "m = Model('My first model')\n",
      "m.set_reaction('v1', \"A+B <=> C\", rate=3)\n",
      "m.set_reaction('v2', \"    -> 4.5 A\", rate=math.sqrt(4.0)/2)\n",
      "\n",
      "v3pars = (('V3', 0.5), ('Km', 4))\n",
      "m.set_reaction('v3', \"C   ->  \", \"V3 * C / (Km3 + C)\", pars=v3pars)\n",
      "\n",
      "m.setp('B', 2.2)\n",
      "m.setp('V3', 0.6)\n",
      "m.setp('v3.Km', 4.4)\n",
      "\n",
      "m.set_reaction('v4', \"B   ->  \", rate=\"2*4*step(t,at,top)\")\n",
      "m.set_reaction('v5', \"C ->\",  \"4.5*C*step(t,at,top)\")\n",
      "\n",
      "m.set_transformation('t1', \"A*Vt + C\", dict(Vt=4))\n",
      "m.set_transformation('t2', \"sqrt(2*A)\")\n",
      "\n",
      "m.set_variable_dXdt('D', \"-2 * D\")\n",
      "\n",
      "m.setp('myconstant', 2 * m.getp('B') / 1.1)  # should be 4.0\n",
      "m.setp('myconstant2', 2 * m.getp('v3.Km') / 1.1)  # should be 8.0\n",
      "\n",
      "m.set_bounds('V3', (0.1, 1.0))\n",
      "m.set_bounds('v3.V3', [0.6, 0.9])\n",
      "\n",
      "m.setp('Km3', 4)\n",
      "m.set_bounds('Km3', (1, 6))\n",
      "\n",
      "m.reset_bounds('v3.V3')\n",
      "m.set_bounds('v3.V3', m.get_bounds('V3'))\n",
      "\n",
      "m.set_init(A=1.0, C=1, D=2)\n",
      "m.set_init((('A', 1.0), ('C', 1), ('D', 2)))\n",
      "\n",
      "d = {'A': 1.0, 'C': 1, 'Z': 2}\n",
      "m.set_init(d)\n",
      "\n",
      "m.set_bounds('init.A', (0.8, 3))\n",
      "\n",
      "m.setp('at', 1.0)\n",
      "m.setp('top', 2.0)\n",
      "m.set_bounds('bottom', (0, 2))\n",
      "m.set_bounds('v3.Km2', (0, 2))\n",
      "m.set_bounds('init.E', (0, 2))\n",
      "\n",
      "m.set_transformation('input2', \"4*step(t,at,top)\")\n",
      "m.set_transformation('input3', \"force(top, t)\")\n",
      "\n",
      "m.metadata['where'] = 'in model'\n",
      "m.metadata['for what'] = 'testing'\n",
      "\n"
     ],
     "language": "python",
     "metadata": {},
     "outputs": []
    },
    {
     "cell_type": "code",
     "collapsed": false,
     "input": [
      "print '********** Testing model construction and printing **********'\n",
      "print '------- result of model construction:\\n'\n",
      "print m\n",
      "print \"!!!!  access to info as keys---------\"\n",
      "print \"m.metadata['for what'] =\", m.metadata['for what']\n",
      "del(m.metadata['where'])\n",
      "print \"\\nafter del(m.metadata['where'])\"\n",
      "print \"m.metadata['where'] =\", m.metadata.get('where')\n"
     ],
     "language": "python",
     "metadata": {},
     "outputs": []
    },
    {
     "cell_type": "code",
     "collapsed": false,
     "input": [
      "m2 = m.copy()\n",
      "print\n",
      "print '------- result of CLONING the model:\\n'\n",
      "print m2\n",
      "\n",
      "print\n",
      "print '********** Testing equality of models *****************'\n",
      "print \"m2 == m\"\n",
      "print m2._is_equal_to(m, verbose=True)\n",
      "print \"\\nm2 == m, again\"\n",
      "print m2 == m\n",
      "\n",
      "print\n",
      "m3 = m.copy(new_title='another model')\n",
      "print\n",
      "print '------- result of CLONING the model:\\n'\n",
      "print m3\n",
      "\n",
      "print\n",
      "print '********** Testing equality of models *****************'\n",
      "print \"m3 == m\"\n",
      "print m3._is_equal_to(m)"
     ],
     "language": "python",
     "metadata": {},
     "outputs": []
    },
    {
     "cell_type": "code",
     "collapsed": false,
     "input": [
      "print '********** Testing iteration of components *****************'\n",
      "print '!!! there are %d reactions in model' % len(m.reactions)\n",
      "print '---- iterating m.reactions'\n",
      "for v in m.reactions:\n",
      "    print v.name, ':', v(), '|', v.stoichiometry_string()\n",
      "print '\\n---- iterating m.reactions with fully qualified rates'\n",
      "for v in m.reactions:\n",
      "    print v.name, ':', v(fully_qualified=True), '|', v.stoichiometry_string()\n",
      "print\n",
      "print '!!! there are %d transformations in model' % len(m.transformations)\n",
      "print '---- iterating m.transformations'\n",
      "for v in m.transformations:\n",
      "    print v.name, ':', v()\n",
      "print '\\n---- iterating m.transformations with fully qualified rates'\n",
      "for v in m.transformations:\n",
      "    print v.name, ':', v(fully_qualified=True)\n",
      "print\n",
      "print '!!! there are %d variables in model' % len(m.varnames)\n",
      "print '---- iterating m.varnames:'\n",
      "for x in m.varnames:\n",
      "    print x\n",
      "print\n",
      "print '!!! there are %d extvariables in model' % len(m.extvariables)\n",
      "print '---- iterating m.extvariables'\n",
      "for x in m.extvariables:\n",
      "    print x\n",
      "\n",
      "print\n",
      "print '!!! there are %d initial values defined in model' % len(m.init)\n",
      "print '---- iterating m.init'\n",
      "for x in m.init:\n",
      "    print x.name, '=', x, '\\n  bounds=', x.bounds\n",
      "\n",
      "print\n",
      "print '!!! there are %d parameters in model' % len(m.parameters)\n",
      "print '---- iterating m.parameters'\n",
      "for p in m.parameters:\n",
      "    print p.name, '=',  p, '\\n  bounds=', p.bounds\n",
      "\n",
      "print\n",
      "print '!!! there are %d parameters with bounds in model' % len(m.with_bounds)\n",
      "print '---- iterating m.with_bounds'\n",
      "for p in m.with_bounds:\n",
      "    print p.name, 'in (', p.bounds.lower, ',', p.bounds.upper, ')'"
     ],
     "language": "python",
     "metadata": {},
     "outputs": []
    },
    {
     "cell_type": "code",
     "collapsed": false,
     "input": [
      "print '********** Testing component retrieval *********************'\n",
      "print 'm.getp(\"K3\") :', m.getp('Km3')\n",
      "print 'm.getp(\"K3\").name :', m.getp('Km3').name\n",
      "print 'm.getp(\"v3.Km\") :', m.getp('v3.Km')\n",
      "print 'm.getp(\"v3.Km\").name :', m.getp('v3.Km').name\n",
      "\n",
      "print 'm.get_init():', m.get_init()\n",
      "print 'm.get_init(\"A\") :', m.get_init(\"A\")\n",
      "print 'm.get_init(\"A\").name :', m.get_init(\"A\").name\n",
      "print 'm.get_init(\"A\").bounds :', m.get_init(\"A\").bounds\n",
      "print 'm.get_init(list(\"AC\")) :', m.get_init(list(\"AC\"))\n",
      "\n",
      "try:\n",
      "    print 'm.get_init(\"B\") :', m.get_init(\"B\")\n",
      "except AttributeError:\n",
      "    print 'm.init.getp(\"B\") raised AttributeError'\n",
      "\n",
      "##     print '\\n---- iterating m.v3 (iterates parameters returning (name,value) tuples)'\n",
      "##     for xname, x in m.v3:\n",
      "##         print '\\t', xname, '=', x\n",
      "##     print"
     ],
     "language": "python",
     "metadata": {},
     "outputs": []
    },
    {
     "cell_type": "code",
     "collapsed": false,
     "input": [
      "print '********** Testing faulty assignments *****************'\n",
      "print 'm.getp(\"myconstant\") :', m.getp('myconstant')\n",
      "print '\\n---- assigning \"k9\" to parameter myconstant'\n",
      "try:\n",
      "    m.setp('myconstant', 'k9')\n",
      "except BadTypeComponent:\n",
      "    print 'Failed! BadTypeComponent was caught.'\n",
      "print 'm.getp(\"myconstant\") :', m.getp('myconstant'), '(still!)'\n",
      "print len(m.parameters), 'parameters total'\n",
      "\n",
      "print\n",
      "print \"----- trying m.set_reaction('v1', 'A*B?C', 'hhhh')\"\n",
      "try:\n",
      "    m.set_reaction('v1', 'A*B?C', 'hhhh')\n",
      "except BadStoichError:\n",
      "    print 'Failed! BadStoichError was caught.'\n",
      "\n",
      "print"
     ],
     "language": "python",
     "metadata": {},
     "outputs": []
    },
    {
     "cell_type": "code",
     "collapsed": false,
     "input": [
      "print '********** Testing update() function *****************'\n",
      "print '\\niterating m.parameters'\n",
      "for p in m.parameters:\n",
      "    print p.name, '=',  p\n",
      "\n",
      "print '\\n---- after m.update([(\"V4\",1.1),(\"V3\",1.2),(\"Km3\",1.3)])'\n",
      "m.update([(\"V4\", 1.1),(\"V3\", 1.2),(\"Km3\", 1.3)])\n",
      "for p in m.parameters:\n",
      "    print p.name, '=',  p\n",
      "\n",
      "print '\\n---- after m.update(V4=1.4, V3=1.5, Km3=1.6)'\n",
      "m.update(V4=1.4, V3=1.5, Km3=1.6)\n",
      "for p in m.parameters:\n",
      "    print p.name, '=',  p\n",
      "\n",
      "print '\\n---- after m.update([(\"V4\",1.7)], V3=1.8, Km3=1.9)'\n",
      "m.update([(\"V4\", 1.7)], V3=1.8, Km3=1.9)\n",
      "for p in m.parameters:\n",
      "    print p.name, '=',  p\n",
      "\n",
      "print '\\n---- after dd={\"V4\":2.1, \"V3\":2.2, \"Km3\":2.3}; m.update(dd)'\n",
      "dd = {\"V4\": 2.1, \"V3\": 2.2, \"Km3\": 2.3}; m.update(dd)\n",
      "for p in m.parameters:\n",
      "    print p.name, '=',  p\n",
      "\n",
      "print '\\n---- after dd={\"V4\":3.14, \"v3.V3\":2.2, \"v3.new\":0.1}; m.update(dd)'\n",
      "print '---- notice \"v3.new\"'\n",
      "dd = {\"V4\": 3.14, \"v3.V3\": 2.2, \"v3.new\": 0.1}; m.update(dd)\n",
      "for p in m.parameters:\n",
      "    print p.name, '=',  p\n"
     ],
     "language": "python",
     "metadata": {},
     "outputs": []
    },
    {
     "cell_type": "code",
     "collapsed": false,
     "input": [
      "print\n",
      "print '**********************************************'\n",
      "print '********** Testing accessors *****************'\n",
      "print '**********************************************'\n",
      "print\n",
      "print '--- m.reactions.v3'\n",
      "print m.reactions.v3\n",
      "print '--- m.reactions.v3()'\n",
      "print m.reactions.v3()\n",
      "print '--- m.reactions.v3.name'\n",
      "print m.reactions.v3.name\n",
      "print '--- m.reactions.v3.stoichiometry_string()'\n",
      "print m.reactions.v3.stoichiometry_string()\n",
      "print '--- \"v3\" in m.reactions'\n",
      "print \"v3\" in m.reactions\n",
      "print '--- \"v10\" in m.reactions'\n",
      "print \"v10\" in m.reactions\n",
      "print '----------------------------------------'\n",
      "print '--- m.transformations.t1'\n",
      "print m.transformations.t1\n",
      "print '--- m.transformations.t1()'\n",
      "print m.transformations.t1()\n",
      "print '----------------------------------------'\n",
      "print '--- m.parameters.V3'\n",
      "print m.parameters.V3\n",
      "print '--- m.parameters.V3 = 2.5'\n",
      "m.parameters.V3 = 2.5\n",
      "print '--- m.getp(\"V3\")'\n",
      "print m.getp(\"V3\")\n",
      "print '--- m.parameters.V3'\n",
      "print m.parameters.V3\n",
      "print '--- m.parameters.V3.get_bounds()'\n",
      "print m.parameters.V3.get_bounds()\n",
      "print '--- \"V3\" in m.parameters'\n",
      "print \"V3\" in m.parameters\n",
      "print '--- \"k10\" in m.parameters'\n",
      "print \"k10\" in m.parameters\n",
      "print '----------------------------------------'\n",
      "print '--- m.parameters.v3.Km'\n",
      "print m.parameters.v3.Km\n",
      "print '--- m.parameters.v3.Km = 2.5'\n",
      "m.parameters.v3.Km = 2.5\n",
      "print '--- m.getp(\"v3.Km\")'\n",
      "print m.getp(\"v3.Km\")\n",
      "print '--- m.parameters.v3.Km'\n",
      "print m.parameters.v3.Km\n",
      "print '--- m.parameters.v3.V3.get_bounds()'\n",
      "print m.parameters.v3.V3.get_bounds()\n",
      "print '--- m.parameters.v3.Km.get_bounds()'\n",
      "print m.parameters.v3.Km.get_bounds()\n",
      "print '--- m.parameters.v3.Km.set_bounds((0.3,0.7))'\n",
      "m.parameters.v3.Km.set_bounds((0.3, 0.7))\n",
      "print '--- m.parameters.v3.Km.get_bounds()'\n",
      "print m.parameters.v3.Km.get_bounds()\n",
      "print '--- m.parameters.v3.Km.bounds'\n",
      "print m.parameters.v3.Km.bounds\n",
      "print '--- \"v3.Km\" in m.parameters'\n",
      "print \"v3.Km\" in m.parameters\n",
      "print '--- \"v3.kk\" in m.parameters'\n",
      "print \"v3.kk\" in m.parameters\n",
      "print '----------------------------------------'\n",
      "print '--- m.init.A'\n",
      "print m.init.A\n",
      "print '--- m.init.A = 0.9'\n",
      "m.init.A = 0.9\n",
      "print '--- m.init.A'\n",
      "print m.init.A\n",
      "print '--- m.init.X'\n",
      "try:\n",
      "    print m.init.X\n",
      "except AttributeError:\n",
      "    print 'raised AttributeError'\n",
      "print '--- \"A\" in m.init'\n",
      "print \"A\" in m.init\n",
      "print '--- \"X\" in m.init'\n",
      "print \"X\" in m.init\n",
      "print '----------------------------------------'\n",
      "print '--- \"E\" in m.varnames'\n",
      "print \"E\" in m.varnames\n",
      "print '--- \"C\" in m.varnames'\n",
      "print \"C\" in m.varnames"
     ],
     "language": "python",
     "metadata": {},
     "outputs": []
    }
   ],
   "metadata": {}
  }
 ]
}