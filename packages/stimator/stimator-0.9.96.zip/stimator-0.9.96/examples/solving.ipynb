{
 "cells": [
  {
   "cell_type": "markdown",
   "metadata": {},
   "source": [
    "S-timator : demonstration of ODE models solving (uses the dynamics.py module).\n",
    "------------------------------------------------------------------------------"
   ]
  },
  {
   "cell_type": "markdown",
   "metadata": {},
   "source": [
    "This notebook shows how to use 4 of the most common S-timator functions:\n",
    "\n",
    "- `read_model()`, reads a _string_ that conforms to a model description language, returning a `Model` object\n",
    "- `solve()`, computes a solution of the ODE system associated with a model.\n",
    "- `scan()`, calls Model.solve() several times, scanning a model parameter in a range of values.\n",
    "- `plot()`, draws a graph of the results returned from `solve()` or `scan()`.\n"
   ]
  },
  {
   "cell_type": "code",
   "execution_count": null,
   "metadata": {
    "collapsed": false
   },
   "outputs": [],
   "source": [
    "%matplotlib inline\n",
    "\n",
    "from stimator import read_model, examples\n",
    "#from stimator.versions import version_info\n",
    "#print (\"Version information\")\n",
    "#print (version_info())\n",
    "import matplotlib as mpl\n",
    "import seaborn as snb\n",
    "\n",
    "#To make sure we have always the same matplotlib settings\n",
    "#(the ones in comments are the ipython notebook settings)\n",
    "\n",
    "mpl.rcParams['figure.figsize']=(9.0,6.0)    #(6.0,4.0)\n",
    "mpl.rcParams['font.size']=10                #10 \n",
    "mpl.rcParams['savefig.dpi']=72             #72 "
   ]
  },
  {
   "cell_type": "markdown",
   "metadata": {},
   "source": [
    "###Example 1\n",
    "Glyoxalase system **model**\n"
   ]
  },
  {
   "cell_type": "code",
   "execution_count": null,
   "metadata": {
    "collapsed": false
   },
   "outputs": [],
   "source": [
    "mdl = examples.models.glyoxalases.text\n",
    "print (mdl)\n",
    "m1 = read_model(mdl)\n",
    "\n",
    "s = m1.solve(tf=4030.0)\n",
    "s.plot()\n",
    "\n",
    "print ('==== Last time point ====')\n",
    "print ('At t = %g'% s.t[-1])\n",
    "for x in s.last:\n",
    "    print (\"%-8s= %f\" % (x, s.last[x]))"
   ]
  },
  {
   "cell_type": "markdown",
   "metadata": {},
   "source": [
    "###Example 2\n",
    "Branched pathway"
   ]
  },
  {
   "cell_type": "code",
   "execution_count": null,
   "metadata": {
    "collapsed": false
   },
   "outputs": [],
   "source": [
    "from numpy import append, linspace\n",
    "mdl = examples.models.branched.text; print mdl\n",
    "m2 = read_model(mdl)\n",
    "\n",
    "times = append(linspace(0.0, 5.0, 500), linspace(5.0, 10.0, 500))\n",
    "\n",
    "m2.solve(tf=10.0, times=times).plot()"
   ]
  },
  {
   "cell_type": "markdown",
   "metadata": {},
   "source": [
    "###Example 3\n",
    "Calcium spikes: CICR model"
   ]
  },
  {
   "cell_type": "code",
   "execution_count": null,
   "metadata": {
    "collapsed": false
   },
   "outputs": [],
   "source": [
    "mdl = examples.models.ca.text; print (mdl)\n",
    "#chaining functions...\n",
    "read_model(mdl).solve(tf=8.0, npoints=2000).plot()"
   ]
  },
  {
   "cell_type": "markdown",
   "metadata": {},
   "source": [
    "###Example 4\n",
    "Rossler chaotic system"
   ]
  },
  {
   "cell_type": "code",
   "execution_count": null,
   "metadata": {
    "collapsed": false
   },
   "outputs": [],
   "source": [
    "mdl = examples.models.rossler.text; print (mdl)\n",
    "m4 = read_model(mdl)\n",
    "\n",
    "s = m4.solve(tf=100.0, npoints=2000, outputs=\"x1 x2 x3\".split())\n",
    "\n",
    "def transformation(vars, t):\n",
    "    if t > 40.0:\n",
    "        return (vars[0] - 5.0, vars[1], vars[2])\n",
    "    else:\n",
    "        return (-5.0, vars[1], vars[2])\n",
    "\n",
    "s.apply_transf(transformation)\n",
    "\n",
    "s.plot()"
   ]
  },
  {
   "cell_type": "markdown",
   "metadata": {},
   "source": [
    "###Example 5\n",
    "Lorentz chaotic system: sensitivity to initial conditions"
   ]
  },
  {
   "cell_type": "code",
   "execution_count": null,
   "metadata": {
    "collapsed": false
   },
   "outputs": [],
   "source": [
    "mdl = examples.models.lorentz.text\n",
    "print (mdl)\n",
    "m5 = read_model(mdl)\n",
    "\n",
    "ivs = {'init.x':(1.0, 1.01, 1.02)}\n",
    "titles = ['$x(0)$ = %g' % v for v in ivs['init.x']]\n",
    "s = m5.scan(ivs, tf=25.0, npoints=20000, outputs=['x'], titles=titles)\n",
    "s.plot(group='x', suptitlegend=m5.metadata['title'])"
   ]
  },
  {
   "cell_type": "markdown",
   "metadata": {},
   "source": [
    "###Example 6\n",
    "CICR model again: parameter scanning"
   ]
  },
  {
   "cell_type": "code",
   "execution_count": null,
   "metadata": {
    "collapsed": false
   },
   "outputs": [],
   "source": [
    "m = read_model(\"\"\"\n",
    "title Calcium Spikes\n",
    "v0         = -> Ca, 1\n",
    "v1         = -> Ca, k1*B*step(t, 1.0)\n",
    "k1         = 7.3\n",
    "B          = 0.4\n",
    "export     = Ca ->  , 10 ..\n",
    "leak       = CaComp -> Ca, 1 ..\n",
    "!! Ca\n",
    "v2         = Ca -> CaComp, 65 * Ca**2 / (1+Ca**2)\n",
    "v3         = CaComp -> Ca, 500*CaComp**2/(CaComp**2+4) * Ca**4/(Ca**4 + 0.6561)\n",
    "init       : (Ca = 0.1, CaComp = 0.63655)\"\"\")\n",
    "\n",
    "mpl.rcParams['figure.subplot.hspace']=0.4   #.2\n",
    "\n",
    "bvalues = (0.0, 0.1, 0.2, 0.25, 0.28, 0.29, 0.3, 0.35, 0.4, 0.45, 0.5, 0.6, 0.75, 0.8, 0.9, 1.0)\n",
    "titles = ['$\\\\beta$ = %g' % B for B in bvalues]\n",
    "\n",
    "s = m.scan({'B': bvalues}, tf=8.0, npoints=1000)\n",
    "suptitlegend=\"Dynamics of cytosolic $Ca^{2+}$ as a function of stimulus\"\n",
    "s.plot(yrange=(0,1.5), legend=False, fig_size=(13.0,13.0), titles=titles, suptitlegend=suptitlegend)"
   ]
  },
  {
   "cell_type": "code",
   "execution_count": null,
   "metadata": {
    "collapsed": false
   },
   "outputs": [],
   "source": []
  }
 ],
 "metadata": {
  "kernelspec": {
   "display_name": "Python 2",
   "language": "python",
   "name": "python2"
  },
  "language_info": {
   "codemirror_mode": {
    "name": "ipython",
    "version": 2
   },
   "file_extension": ".py",
   "mimetype": "text/x-python",
   "name": "python",
   "nbconvert_exporter": "python",
   "pygments_lexer": "ipython2",
   "version": "2.7.6"
  }
 },
 "nbformat": 4,
 "nbformat_minor": 0
}
