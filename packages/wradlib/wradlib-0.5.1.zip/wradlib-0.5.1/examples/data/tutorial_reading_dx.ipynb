{
 "metadata": {
  "name": ""
 },
 "nbformat": 3,
 "nbformat_minor": 0,
 "worksheets": [
  {
   "cells": [
    {
     "cell_type": "code",
     "collapsed": false,
     "input": [
      "%pylab"
     ],
     "language": "python",
     "metadata": {},
     "outputs": [
      {
       "output_type": "stream",
       "stream": "stdout",
       "text": [
        "Using matplotlib backend: Qt4Agg\n",
        "Populating the interactive namespace from numpy and matplotlib\n"
       ]
      }
     ],
     "prompt_number": 42
    },
    {
     "cell_type": "code",
     "collapsed": false,
     "input": [
      "import wradlib"
     ],
     "language": "python",
     "metadata": {},
     "outputs": [],
     "prompt_number": 6
    },
    {
     "cell_type": "code",
     "collapsed": false,
     "input": [
      "one_scan, metadata = wradlib.io.readDX(\"raa00-dx_10908-200608281420-fbg---bin\")"
     ],
     "language": "python",
     "metadata": {},
     "outputs": [],
     "prompt_number": 33
    },
    {
     "cell_type": "code",
     "collapsed": false,
     "input": [
      "# Create figure\n",
      "fig = plt.figure(figsize=(6,6))\n",
      "ax = plt.subplot(111, aspect=\"equal\")\n",
      "# Plot a PPI\n",
      "ax, pm = wradlib.vis.plot_ppi(one_scan)\n",
      "#    and a crosshair\n",
      "#ax = wradlib.vis.plot_ppi_crosshair((0,0), ranges=[40,80,128])\n",
      "#    and a colorbar\n",
      "cbar = plt.colorbar(pm, shrink=0.75)\n",
      "cbar.set_label(\"Reflectivity (dBZ)\")\n",
      "#    and zoom in.\n",
      "#tmp = plt.xlim((-128,128))\n",
      "#tmp = plt.ylim((-128,128))"
     ],
     "language": "python",
     "metadata": {},
     "outputs": [],
     "prompt_number": 43
    },
    {
     "cell_type": "code",
     "collapsed": false,
     "input": [
      "import numpy as np\n",
      "two_scans = np.empty((2,360,128))\n",
      "two_scans[0] = wradlib.io.readDX('raa00-dx_10908-0806021740-fbg---bin')[0]\n",
      "two_scans[1] = wradlib.io.readDX('raa00-dx_10908-0806021745-fbg---bin')[0]"
     ],
     "language": "python",
     "metadata": {},
     "outputs": [],
     "prompt_number": 13
    },
    {
     "cell_type": "code",
     "collapsed": false,
     "input": [
      "fig = plt.figure(figsize=(6,6))\n",
      "ax = plt.subplot(111, aspect=\"equal\")\n",
      "# Plot PPI,\n",
      "ax, pm = wradlib.vis.plot_ppi(two_scans[0], cmap=\"spectral\")\n",
      "# add crosshair,\n",
      "ax = wradlib.vis.plot_ppi_crosshair((0,0), ranges=[40,80,128])\n",
      "# add colorbar,\n",
      "cbar = plt.colorbar(pm, shrink=0.9)\n",
      "cbar.set_label(\"Reflectivity (dBZ)\")\n",
      "# add title,\n",
      "plt.title('Reflectivity at 2008-06-02 17:40:00\\nDWD radar Feldberg')\n",
      "# and zoom in.\n",
      "plt.xlim((-128,128))\n",
      "plt.ylim((-128,128))"
     ],
     "language": "python",
     "metadata": {},
     "outputs": [
      {
       "metadata": {},
       "output_type": "pyout",
       "prompt_number": 31,
       "text": [
        "(-128, 128)"
       ]
      }
     ],
     "prompt_number": 31
    },
    {
     "cell_type": "code",
     "collapsed": false,
     "input": [
      "fig = plt.figure(figsize=(10,6))\n",
      "\n",
      "ax = plt.subplot(121, aspect=\"equal\")\n",
      "# Plot PPI,\n",
      "ax, pm = wradlib.vis.plot_ppi(one_scan, cmap=\"spectral\", vmin=20, vmax=60)\n",
      "# add crosshair,\n",
      "ax = wradlib.vis.plot_ppi_crosshair((0,0), ranges=[40,80,128])\n",
      "# add colorbar,\n",
      "cbar = plt.colorbar(pm, shrink=0.6)\n",
      "cbar.set_label(\"Reflectivity (dBZ)\")\n",
      "# add title,\n",
      "plt.title('Reflectivity at 2006-08-28 14:20:00\\nDWD radar Feldberg')\n",
      "# and zoom in.\n",
      "plt.xlim((-128,128))\n",
      "plt.ylim((-128,128))\n",
      "\n",
      "ax = plt.subplot(122, aspect=\"equal\")\n",
      "# Plot PPI,\n",
      "ax, pm = wradlib.vis.plot_ppi(two_scans[0], cmap=\"spectral\", vmin=20, vmax=60)\n",
      "# add crosshair,\n",
      "ax = wradlib.vis.plot_ppi_crosshair((0,0), ranges=[40,80,128])\n",
      "# add colorbar,\n",
      "cbar = plt.colorbar(pm, shrink=0.6)\n",
      "cbar.set_label(\"Reflectivity (dBZ)\")\n",
      "# add title,\n",
      "plt.title('Reflectivity at 2008-06-02 17:40:00\\nDWD radar Feldberg')\n",
      "# and zoom in.\n",
      "plt.xlim((-128,128))\n",
      "plt.ylim((-128,128))\n",
      "\n"
     ],
     "language": "python",
     "metadata": {},
     "outputs": [
      {
       "metadata": {},
       "output_type": "pyout",
       "prompt_number": 37,
       "text": [
        "(-128, 128)"
       ]
      }
     ],
     "prompt_number": 37
    },
    {
     "cell_type": "code",
     "collapsed": false,
     "input": [],
     "language": "python",
     "metadata": {},
     "outputs": []
    }
   ],
   "metadata": {}
  }
 ]
}