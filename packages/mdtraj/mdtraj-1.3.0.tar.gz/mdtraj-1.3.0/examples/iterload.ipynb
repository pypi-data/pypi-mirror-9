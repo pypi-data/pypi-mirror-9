{
 "metadata": {
  "name": ""
 },
 "nbformat": 3,
 "nbformat_minor": 0,
 "worksheets": [
  {
   "cells": [
    {
     "cell_type": "code",
     "collapsed": false,
     "input": [
      "import numpy as np\n",
      "np.set_printoptions(threshold=50)\n",
      "import mdtraj as md"
     ],
     "language": "python",
     "metadata": {},
     "outputs": []
    },
    {
     "cell_type": "code",
     "collapsed": false,
     "input": [
      "# Sometimes your molecular dynamics trajectory files are too large to\n",
      "# fit into memory. This can make analysis a burden, because you have to\n",
      "# be very aware of the size of various objects. This can be a challenge\n",
      "# in python because of the language's automatic memory management.\n",
      "\n",
      "# Fortunately, python provides the iterator protocol that can help\n",
      "# us out here. We can \"stream through\" a trajectory, without loading\n",
      "# the entire thing into memory at all. Instead, we'll process it in\n",
      "# chunks.\n",
      "\n",
      "# For the purpose of this example, we'll use a short trajectory\n",
      "# that's included with MDTraj for testing purposes. When you use this\n",
      "# recipe yourself, you probably will want to point your code to your\n",
      "# own trajectory file\n",
      "\n",
      "import mdtraj.testing\n",
      "traj_filename = mdtraj.testing.get_fn('frame0.h5')"
     ],
     "language": "python",
     "metadata": {},
     "outputs": []
    },
    {
     "cell_type": "code",
     "collapsed": false,
     "input": [
      "# First, if you only want a single frame of a trajectory, there's no reason\n",
      "# to load up the whole thing. :func:`md.load_frame` can load up a single\n",
      "# frame for you. Let's get the first one.\n",
      "first_frame = md.load_frame(traj_filename, 0)\n",
      "print first_frame\n",
      "\n",
      "# Using :func:`md.iterload`, you can iterate through chunks\n",
      "# of the trajectory. If you don't retain a reference to the chunk\n",
      "# as you iterate through, then the python garbage collector can recycle\n",
      "# the memory."
     ],
     "language": "python",
     "metadata": {},
     "outputs": []
    },
    {
     "cell_type": "code",
     "collapsed": false,
     "input": [
      "rmsds = []\n",
      "for chunk in md.iterload(traj_filename, chunk=100):\n",
      "    rmsds.append(md.rmsd(chunk, first_frame))\n",
      "    print chunk\n",
      "    print chunk.time\n",
      "\n",
      "# Now, we've calculated all of the rmsds chunk by chunk, and we\n",
      "# can take a look at them.\n",
      "\n",
      "rmsds = np.concatenate(rmsds)\n",
      "print rmsds\n",
      "print np.max(rmsds), np.argmax(rmsds)"
     ],
     "language": "python",
     "metadata": {},
     "outputs": []
    },
    {
     "cell_type": "code",
     "collapsed": false,
     "input": [],
     "language": "python",
     "metadata": {},
     "outputs": []
    }
   ],
   "metadata": {}
  }
 ]
}