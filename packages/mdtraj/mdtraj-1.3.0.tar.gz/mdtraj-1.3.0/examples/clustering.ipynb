{
 "metadata": {
  "name": ""
 },
 "nbformat": 3,
 "nbformat_minor": 0,
 "worksheets": [
  {
   "cells": [
    {
     "cell_type": "heading",
     "level": 4,
     "metadata": {},
     "source": [
      "In this example, we cluster our alanine dipeptide trajectory using the [RMSD distance metric](http://en.wikipedia.org/wiki/Root-mean-square_deviation_of_atomic_positions) and [Ward's method](http://en.wikipedia.org/wiki/Ward's_method)."
     ]
    },
    {
     "cell_type": "code",
     "collapsed": false,
     "input": [
      "%pylab inline\n",
      "import mdtraj as md\n",
      "import numpy as np\n",
      "import scipy.cluster.hierarchy"
     ],
     "language": "python",
     "metadata": {},
     "outputs": []
    },
    {
     "cell_type": "markdown",
     "metadata": {},
     "source": [
      "Let's load up our trajectory. This is the trajectory that we generated in the \"Running a simulation in OpenMM and analyzing the results with mdtraj\" example. The first step is to build the rmsd cache, which precalculates some values for the RMSD computation."
     ]
    },
    {
     "cell_type": "code",
     "collapsed": false,
     "input": [
      "traj = md.load('ala2.h5')"
     ],
     "language": "python",
     "metadata": {},
     "outputs": []
    },
    {
     "cell_type": "code",
     "collapsed": false,
     "input": [
      "# Lets compute all pairwise rmsds between conformations.\n",
      "\n",
      "distances = np.empty((traj.n_frames, traj.n_frames))\n",
      "for i in range(traj.n_frames):\n",
      "    distances[i] = md.rmsd(traj, traj, i)\n",
      "print 'Max pairwise rmsd: %f nm' % np.max(distances)"
     ],
     "language": "python",
     "metadata": {},
     "outputs": []
    },
    {
     "cell_type": "code",
     "collapsed": false,
     "input": [
      "# scipy.cluster implements the ward linkage\n",
      "# algorithm (among others)\n",
      "linkage = scipy.cluster.hierarchy.ward(distances)"
     ],
     "language": "python",
     "metadata": {},
     "outputs": []
    },
    {
     "cell_type": "code",
     "collapsed": false,
     "input": [
      "# Lets plot the resulting dendrogram.\n",
      "\n",
      "figure()\n",
      "title('RMSD Ward hierarchical clustering')\n",
      "graph = scipy.cluster.hierarchy.dendrogram(linkage, no_labels=True, count_sort='descendent')"
     ],
     "language": "python",
     "metadata": {},
     "outputs": []
    }
   ],
   "metadata": {}
  }
 ]
}
