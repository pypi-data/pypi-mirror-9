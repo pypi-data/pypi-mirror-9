{
 "metadata": {
  "name": ""
 },
 "nbformat": 3,
 "nbformat_minor": 0,
 "worksheets": [
  {
   "cells": [
    {
     "cell_type": "code",
     "collapsed": false,
     "input": [
      "# In this example, we'e going to actually run a short simulation with OpenMM\n",
      "# saving the results to disk with MDTraj's HDF5 reporter\n",
      "\n",
      "# Obviously, running this example calculation on your machine requires\n",
      "# having OpenMM installed. OpenMM can be downloaded and installed from\n",
      "# https://simtk.org/home/openmm."
     ],
     "language": "python",
     "metadata": {},
     "outputs": []
    },
    {
     "cell_type": "code",
     "collapsed": false,
     "input": [
      "# Lets import some things we're going to need from mdtraj\n",
      "\n",
      "import os\n",
      "import mdtraj\n",
      "import mdtraj.reporters\n",
      "\n",
      "# And a few things froms OpenMM\n",
      "\n",
      "from simtk import unit\n",
      "import simtk.openmm as mm\n",
      "from simtk.openmm import app"
     ],
     "language": "python",
     "metadata": {},
     "outputs": []
    },
    {
     "cell_type": "code",
     "collapsed": false,
     "input": [
      "# First, lets find a PDB for alanine dipeptide, the system we'll\n",
      "# be simulating. We happen to have one inlcuded in the mdtraj\n",
      "# package for testing named \"native.pdb\". Under normal circumstances\n",
      "# circumstances, you shouldn't have much need for mdtraj.testing.get_fn\n",
      "# (unless you're contributing tests to mdtraj!)\n",
      "\n",
      "import mdtraj.testing\n",
      "pdb = mdtraj.load(mdtraj.testing.get_fn('native.pdb'))\n",
      "topology = pdb.topology.to_openmm()\n",
      "\n",
      "# Lets use the amber99sb-ildn forcefield with implicit solvent\n",
      "# and a langevin integrator. This is relatively \"standard\" OpenMM\n",
      "# code for setting up a system.\n",
      "\n",
      "forcefield = app.ForceField('amber99sbildn.xml', 'amber99_obc.xml')\n",
      "system = forcefield.createSystem(topology, nonbondedMethod=app.CutoffNonPeriodic)\n",
      "integrator = mm.LangevinIntegrator(330*unit.kelvin, 1.0/unit.picoseconds, 2.0*unit.femtoseconds)\n",
      "simulation = app.Simulation(topology, system, integrator)\n",
      "\n",
      "# Set the initial positions to the \"first frame\" of the PDB\n",
      "# file (it only has one frame). Note that pdb is an mdtraj trajectory\n",
      "# pass in its positions to OpenMM just fine though.\n",
      "\n",
      "simulation.context.setPositions(pdb.xyz[0])\n",
      "simulation.context.setVelocitiesToTemperature(330*unit.kelvin)"
     ],
     "language": "python",
     "metadata": {},
     "outputs": []
    },
    {
     "cell_type": "code",
     "collapsed": false,
     "input": [
      "# Let's use one of the OpenMM reporters that mdtraj provides. This is\n",
      "# the hdf5 reporter, which saves all kinds of information, including\n",
      "# the topology, positions, energies, etc to disk. To visualize the h5\n",
      "# trajectory with a non-hdf5 enabled app like PyMol or VMD, you can\n",
      "# use mdconvert on the command line to easily transform it to NetCDF, DCD,\n",
      "# or any other format of your preference.\n",
      "\n",
      "if not os.path.exists('ala2.h5'):\n",
      "    simulation.reporters.append(mdtraj.reporters.HDF5Reporter('ala2.h5', 1000))\n",
      "    simulation.step(100000)"
     ],
     "language": "python",
     "metadata": {},
     "outputs": []
    },
    {
     "cell_type": "code",
     "collapsed": false,
     "input": [],
     "language": "python",
     "metadata": {},
     "outputs": []
    }
   ],
   "metadata": {}
  }
 ]
}