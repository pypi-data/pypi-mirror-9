{
 "metadata": {
  "name": ""
 },
 "nbformat": 3,
 "nbformat_minor": 0,
 "worksheets": [
  {
   "cells": [
    {
     "cell_type": "heading",
     "level": 4,
     "metadata": {},
     "source": [
      "MDTraj provides convenience functions for predicting various NMR observables such as chemical shifts.  To do this, we provide wrapper functions for the SPARTA+, PPM, and ShiftX2 prediction algorithms.  "
     ]
    },
    {
     "cell_type": "code",
     "collapsed": false,
     "input": [
      "%pylab inline\n",
      "import mdtraj as md\n"
     ],
     "language": "python",
     "metadata": {},
     "outputs": []
    },
    {
     "cell_type": "heading",
     "level": 4,
     "metadata": {},
     "source": [
      "Let's load a simple trajectory containing three identical frames of the villin headpiece protein."
     ]
    },
    {
     "cell_type": "code",
     "collapsed": false,
     "input": [
      "trj = md.load(\"1vii_3frames.pdb\")"
     ],
     "language": "python",
     "metadata": {},
     "outputs": []
    },
    {
     "cell_type": "heading",
     "level": 4,
     "metadata": {},
     "source": [
      "Now, let's calculate the chemical shifts with the program SPARTA+."
     ]
    },
    {
     "cell_type": "code",
     "collapsed": false,
     "input": [
      "shifts = md.nmr.chemical_shifts_spartaplus(trj)\n",
      "shifts[0:10]"
     ],
     "language": "python",
     "metadata": {},
     "outputs": []
    },
    {
     "cell_type": "heading",
     "level": 4,
     "metadata": {},
     "source": [
      "The data is returned as a Pandas Dataframe object. The rows correspond to the residue numbers and atom names, while each column corresponds to a different frame in your trajectory.  Note that here our input had completely identical conformations in each frame, so we see identical values along each row."
     ]
    },
    {
     "cell_type": "code",
     "collapsed": false,
     "input": [],
     "language": "python",
     "metadata": {},
     "outputs": []
    }
   ],
   "metadata": {}
  }
 ]
}
