{
 "metadata": {
  "name": ""
 },
 "nbformat": 3,
 "nbformat_minor": 0,
 "worksheets": [
  {
   "cells": [
    {
     "cell_type": "code",
     "collapsed": false,
     "input": [
      "%pylab inline\n",
      "import mdtraj as md"
     ],
     "language": "python",
     "metadata": {},
     "outputs": []
    },
    {
     "cell_type": "code",
     "collapsed": false,
     "input": [
      "# Find two files that are distributed with MDTraj for testing purposes -- \n",
      "# we can us them to make our plot\n",
      "\n",
      "import mdtraj.testing\n",
      "crystal_fn = mdtraj.testing.get_fn('native.pdb')\n",
      "trajectory_fn = mdtraj.testing.get_fn('frame0.xtc')"
     ],
     "language": "python",
     "metadata": {},
     "outputs": []
    },
    {
     "cell_type": "code",
     "collapsed": false,
     "input": [
      "crystal = md.load(crystal_fn)\n",
      "trajectory = md.load(trajectory_fn, top=crystal)  # load the xtc. the crystal structure defines the topology\n",
      "print trajectory"
     ],
     "language": "python",
     "metadata": {},
     "outputs": []
    },
    {
     "cell_type": "code",
     "collapsed": false,
     "input": [
      "# RMSD with exchangeable hydrogen atoms is generally not a good idea\n",
      "# so let's take a look at just the heavy atoms\n",
      "\n",
      "rmsds_to_crystal = md.rmsd(trajectory, crystal, 0)\n",
      "heavy_atoms = [atom.index for atom in crystal.topology.atoms if atom.element.symbol != 'H']\n",
      "heavy_rmds_to_crystal = md.rmsd(trajectory, crystal, 0, atom_indices=heavy_atoms)"
     ],
     "language": "python",
     "metadata": {},
     "outputs": []
    },
    {
     "cell_type": "code",
     "collapsed": false,
     "input": [
      "figure()\n",
      "plot(trajectory.time, rmsds_to_crystal, 'r', label='all atom')\n",
      "plot(trajectory.time, heavy_rmds_to_crystal, 'b', label='heavy atom')\n",
      "legend()\n",
      "title('RMSDs to crystal')\n",
      "xlabel('simulation time (ps)')\n",
      "ylabel('RMSD (nm)')"
     ],
     "language": "python",
     "metadata": {},
     "outputs": []
    }
   ],
   "metadata": {}
  }
 ]
}