{
 "metadata": {
  "name": ""
 },
 "nbformat": 3,
 "nbformat_minor": 0,
 "worksheets": [
  {
   "cells": [
    {
     "cell_type": "markdown",
     "metadata": {},
     "source": [
      "scikits-learn is a premier machine learning library for python, with a very easy to use API and great documentation."
     ]
    },
    {
     "cell_type": "code",
     "collapsed": false,
     "input": [
      "%pylab inline\n",
      "import mdtraj as md\n",
      "from sklearn.decomposition import PCA"
     ],
     "language": "python",
     "metadata": {},
     "outputs": []
    },
    {
     "cell_type": "code",
     "collapsed": false,
     "input": [
      "# Lets load up our trajectory. This is the trajectory that we generated in\n",
      "# the \"Running a simulation in OpenMM and analyzing the results with mdtraj\"\n",
      "# example."
     ],
     "language": "python",
     "metadata": {},
     "outputs": []
    },
    {
     "cell_type": "code",
     "collapsed": false,
     "input": [
      "traj = md.load('ala2.h5')\n",
      "print traj"
     ],
     "language": "python",
     "metadata": {},
     "outputs": []
    },
    {
     "cell_type": "code",
     "collapsed": false,
     "input": [
      "# Create a two component PCA model, and project our data down into this\n",
      "# reduced dimensional space. Using just the cartesian coordinates as\n",
      "# input to PCA, it's important to start with some kind of alignment.\n",
      "\n",
      "pca1 = PCA(n_components=2)\n",
      "traj.superpose(traj, 0)"
     ],
     "language": "python",
     "metadata": {},
     "outputs": []
    },
    {
     "cell_type": "code",
     "collapsed": false,
     "input": [
      "reduced_cartesian = pca1.fit_transform(traj.xyz.reshape(traj.n_frames, traj.n_atoms * 3))\n",
      "print reduced_cartesian.shape"
     ],
     "language": "python",
     "metadata": {},
     "outputs": []
    },
    {
     "cell_type": "code",
     "collapsed": false,
     "input": [
      "# Now we can plot the data on this projection.\n",
      "\n",
      "figure()\n",
      "scatter(reduced_cartesian[:, 0], reduced_cartesian[:,1], marker='x', c=traj.time)\n",
      "xlabel('PC1')\n",
      "ylabel('PC2')\n",
      "title('Cartesian coordinate PCA: alanine dipeptide')\n",
      "cbar = colorbar()\n",
      "cbar.set_label('Time [ps]')"
     ],
     "language": "python",
     "metadata": {},
     "outputs": []
    },
    {
     "cell_type": "markdown",
     "metadata": {},
     "source": [
      "Lets try cross-checking our result by using a different feature space that isn't sensitive to alignment, and instead to \"featurize\" our trajectory by computing the pairwise distance between every atom  in each frame, and using that as our high dimensional input space for PCA."
     ]
    },
    {
     "cell_type": "code",
     "collapsed": false,
     "input": [
      "pca2 = PCA(n_components=2)\n",
      "from itertools import combinations\n",
      "# this python function gives you all unique pairs of elements from a list\n",
      "atom_pairs = list(combinations(range(traj.n_atoms), 2))\n",
      "pairwise_distances = md.geometry.compute_distances(traj, atom_pairs)\n",
      "print pairwise_distances.shape\n",
      "reduced_distances = pca2.fit_transform(pairwise_distances)"
     ],
     "language": "python",
     "metadata": {},
     "outputs": []
    },
    {
     "cell_type": "code",
     "collapsed": false,
     "input": [
      "figure()\n",
      "scatter(reduced_distances[:, 0], reduced_distances[:,1], marker='x', c=traj.time)\n",
      "xlabel('PC1')\n",
      "ylabel('PC2')\n",
      "title('Pairwise distance PCA: alanine dipeptide')\n",
      "cbar = pp.colorbar()\n",
      "cbar.set_label('Time [ps]')"
     ],
     "language": "python",
     "metadata": {},
     "outputs": []
    }
   ],
   "metadata": {}
  }
 ]
}