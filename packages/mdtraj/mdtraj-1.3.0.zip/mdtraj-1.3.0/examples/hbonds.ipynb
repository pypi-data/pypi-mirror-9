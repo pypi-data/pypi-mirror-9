{
 "metadata": {
  "name": ""
 },
 "nbformat": 3,
 "nbformat_minor": 0,
 "worksheets": [
  {
   "cells": [
    {
     "cell_type": "code",
     "collapsed": false,
     "input": [
      "from __future__ import print_function\n",
      "%pylab inline\n",
      "import itertools\n",
      "import mdtraj as md\n",
      "import mdtraj.testing"
     ],
     "language": "python",
     "metadata": {},
     "outputs": []
    },
    {
     "cell_type": "code",
     "collapsed": false,
     "input": [
      "# Load up some example data. This is a little 20 frame PDB, straight\n",
      "# from the RCSB\n",
      "path = mdtraj.testing.get_fn('2EQQ.pdb')\n",
      "t = md.load(path)\n",
      "print(t)"
     ],
     "language": "python",
     "metadata": {},
     "outputs": []
    },
    {
     "cell_type": "code",
     "collapsed": false,
     "input": [
      "# :func:`md.baker_hubbard` idenfies hydrogen bonds baced on cutoffs\n",
      "# for the Donor-H...Acceptor distance and angle. The criterion employed\n",
      "# is :math:`\\theta > 120` and :math:`r_\\text{H...Acceptor} < 2.5 A` in\n",
      "# at least 10% of the trajectory. The return value is a list of the \n",
      "# indices of the atoms (donor, h, acceptor) that satisfy this criteria.\n",
      "\n",
      "hbonds = md.baker_hubbard(t)\n",
      "label = lambda hbond : '%s -- %s' % (t.topology.atom(hbond[0]), t.topology.atom(hbond[2]))\n",
      "for hbond in hbonds:\n",
      "    print(label(hbond))"
     ],
     "language": "python",
     "metadata": {},
     "outputs": []
    },
    {
     "cell_type": "code",
     "collapsed": false,
     "input": [
      "# Let's compute the actual distances between the donors and acceptors\n",
      "\n",
      "da_distances = md.compute_distances(t, hbonds[:, [0,2]], periodic=False)"
     ],
     "language": "python",
     "metadata": {},
     "outputs": []
    },
    {
     "cell_type": "code",
     "collapsed": false,
     "input": [
      "# Plot a histogram for a few of them\n",
      "figure()\n",
      "color = itertools.cycle(['r', 'b', 'gold'])\n",
      "for i in [2, 3, 4]:\n",
      "    hist(da_distances[:, i], color=next(color), label=label(hbonds[i]), alpha=0.5)\n",
      "ylabel('Freq');\n",
      "legend()\n",
      "xlabel('Donor-acceptor distance [nm]')"
     ],
     "language": "python",
     "metadata": {},
     "outputs": []
    }
   ],
   "metadata": {}
  }
 ]
}