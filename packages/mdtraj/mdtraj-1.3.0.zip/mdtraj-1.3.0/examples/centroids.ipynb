{
 "metadata": {
  "name": "",
  "signature": "sha256:99e91ed74db467a418f3bf480acb4e98b4bb622942a1820dffba3699c37559ce"
 },
 "nbformat": 3,
 "nbformat_minor": 0,
 "worksheets": [
  {
   "cells": [
    {
     "cell_type": "markdown",
     "metadata": {},
     "source": [
      "## Finding centroids\n",
      "\n",
      "In this example, we're going to find a \"centroid\" (representitive structure) for a group of conformations. This group might potentially come from clustering, using method like Ward hierarchical clustering.\n",
      "\n",
      "Note that there are many possible ways to define the centroids. This is just one."
     ]
    },
    {
     "cell_type": "code",
     "collapsed": false,
     "input": [
      "%pylab inline\n",
      "import mdtraj as md\n",
      "import numpy as np"
     ],
     "language": "python",
     "metadata": {},
     "outputs": []
    },
    {
     "cell_type": "markdown",
     "metadata": {},
     "source": [
      "Load up a trajectory to use for the example."
     ]
    },
    {
     "cell_type": "code",
     "collapsed": false,
     "input": [
      "traj = md.load('ala2.h5')\n",
      "print traj"
     ],
     "language": "python",
     "metadata": {},
     "outputs": []
    },
    {
     "cell_type": "code",
     "collapsed": false,
     "input": [
      "# Lets compute all pairwise rmsds between conformations.\n",
      "atom_indices = [a.index for a in traj.topology.atoms if a.element.symbol != 'H']\n",
      "distances = np.empty((traj.n_frames, traj.n_frames))\n",
      "for i in range(traj.n_frames):\n",
      "    distances[i] = md.rmsd(traj, traj, i, atom_indices=atom_indices)"
     ],
     "language": "python",
     "metadata": {},
     "outputs": []
    },
    {
     "cell_type": "markdown",
     "metadata": {},
     "source": [
      "The algorithim we're going to use is relatively simple:\n",
      "- Compute all of the pairwise RMSDs between the conformations. This is O(N^2), so it's not going to\n",
      "  scale extremely well to large datasets.\n",
      "- Transform these distances into similarity scores. Our similarities will calculated as\n",
      "  $$ s_{ij} = e^{-\\beta \\cdot d_{ij} / d_\\text{scale}} $$\n",
      "  where $s_{ij}$ is the pairwise similarity, $d_{ij}$ is the pairwise distance, and $d_\\text{scale}$ is the standard deviation of\n",
      "  the values of $d$, to make the computation scale invariant.\n",
      "- Then, we define the centroid as\n",
      "  $$ \\text{argmax}_i \\sum_j s_{ij} $$\n",
      "\n",
      "Using $\\beta=1$, this is implemented with the following code:"
     ]
    },
    {
     "cell_type": "code",
     "collapsed": false,
     "input": [
      "beta = 1\n",
      "index = np.exp(-beta*distances / distances.std()).sum(axis=1).argmax()\n",
      "print index"
     ],
     "language": "python",
     "metadata": {},
     "outputs": []
    },
    {
     "cell_type": "code",
     "collapsed": false,
     "input": [
      "centroid = traj[index]\n",
      "print centroid"
     ],
     "language": "python",
     "metadata": {},
     "outputs": []
    },
    {
     "cell_type": "code",
     "collapsed": false,
     "input": [],
     "language": "python",
     "metadata": {},
     "outputs": []
    }
   ],
   "metadata": {}
  }
 ]
}