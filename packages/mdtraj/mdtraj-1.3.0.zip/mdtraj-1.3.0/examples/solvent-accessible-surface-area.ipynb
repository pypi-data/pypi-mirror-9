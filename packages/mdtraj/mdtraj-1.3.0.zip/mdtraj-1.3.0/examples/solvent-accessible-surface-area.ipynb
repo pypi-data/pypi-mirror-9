{
 "metadata": {
  "name": "",
  "signature": "sha256:2f5140bd658c222b7bc4fe0bd122f59c0837ea136214a0f6a704078221d402e9"
 },
 "nbformat": 3,
 "nbformat_minor": 0,
 "worksheets": [
  {
   "cells": [
    {
     "cell_type": "markdown",
     "metadata": {},
     "source": [
      "In this example, we'll compute the solvent accessible surface area of one of the residues in our protien\n",
      "accross each frame in a MD trajectory. We're going to use our trustly alanine dipeptide trajectory for\n",
      "this calculation, but in a real-world situtation you'll probably want to use a more interesting peptide\n",
      "or protein, especially one with a Trp residue."
     ]
    },
    {
     "cell_type": "code",
     "collapsed": false,
     "input": [
      "%pylab inline\n",
      "from __future__ import print_function\n",
      "import numpy as np\n",
      "import mdtraj as md"
     ],
     "language": "python",
     "metadata": {},
     "outputs": []
    },
    {
     "cell_type": "markdown",
     "metadata": {},
     "source": [
      "We'll use the algorithm from Shrake and Rupley for computing the SASA. Here's the function in MDTraj:"
     ]
    },
    {
     "cell_type": "code",
     "collapsed": false,
     "input": [
      "help(md.shrake_rupley)"
     ],
     "language": "python",
     "metadata": {},
     "outputs": []
    },
    {
     "cell_type": "code",
     "collapsed": false,
     "input": [
      "trajectory = md.load('ala2.h5')\n",
      "sasa = md.shrake_rupley(trajectory)\n",
      "\n",
      "print(trajectory)\n",
      "print('sasa data shape', sasa.shape)"
     ],
     "language": "python",
     "metadata": {},
     "outputs": []
    },
    {
     "cell_type": "markdown",
     "metadata": {},
     "source": [
      "The computed `sasa` array contains the solvent accessible surface area for each atom in each frame of the trajectory. Let's sum over all of the atoms to get the total SASA from all of the atoms in each frame."
     ]
    },
    {
     "cell_type": "code",
     "collapsed": false,
     "input": [
      "total_sasa = sasa.sum(axis=1)\n",
      "print(total_sasa.shape)"
     ],
     "language": "python",
     "metadata": {},
     "outputs": []
    },
    {
     "cell_type": "code",
     "collapsed": false,
     "input": [
      "plot(trajectory.time, total_sasa)\n",
      "xlabel('Time [ps]', size=16)\n",
      "ylabel('Total SASA (nm)^2', size=16)\n",
      "show()"
     ],
     "language": "python",
     "metadata": {},
     "outputs": []
    },
    {
     "cell_type": "markdown",
     "metadata": {},
     "source": [
      "We probably don't really have enough data do compute a meaningful [autocorrelation](http://en.wikipedia.org/wiki/Autocorrelation), but for more realistic datasets, this might be something that you want to do."
     ]
    },
    {
     "cell_type": "code",
     "collapsed": false,
     "input": [
      "def autocorr(x):\n",
      "    \"Compute an autocorrelation with numpy\"\n",
      "    x = x - np.mean(x)\n",
      "    result = numpy.correlate(x, x, mode='full')\n",
      "    result = result[result.size/2:]\n",
      "    return result / result[0]\n",
      "\n",
      "semilogx(trajectory.time, autocorr(total_sasa))\n",
      "xlabel('Time [ps]', size=16)\n",
      "ylabel('SASA autocorrelation', size=16)\n",
      "show()"
     ],
     "language": "python",
     "metadata": {},
     "outputs": []
    }
   ],
   "metadata": {}
  }
 ]
}