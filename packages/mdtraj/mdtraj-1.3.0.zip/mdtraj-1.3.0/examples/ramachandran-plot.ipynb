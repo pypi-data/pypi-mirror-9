{
 "metadata": {
  "name": ""
 },
 "nbformat": 3,
 "nbformat_minor": 0,
 "worksheets": [
  {
   "cells": [
    {
     "cell_type": "code",
     "collapsed": false,
     "input": [
      "%pylab inline\n",
      "import mdtraj\n",
      "\n",
      "# Lets load up the trajectory that we simulated in a previous example\n",
      "traj = mdtraj.load('ala2.h5')\n",
      "atoms, bonds = traj.topology.to_dataframe()\n",
      "print atoms"
     ],
     "language": "python",
     "metadata": {},
     "outputs": []
    },
    {
     "cell_type": "markdown",
     "metadata": {},
     "source": [
      "Because alanine dipeptide is a little nonstandard in the sense that it's basically dominated by the ACE and NME capping residues, we need to find the indicies of the atoms involved in the phi and psi angles somewhat manually. For standard cases, see `compute_phi()` and `compute_psi()` for easier solutions that don't require you to manually find the indices of each dihedral angle.\n",
      "\n",
      "In this case, we're just specifying the four atoms that together parameterize the phi and psi dihedral angles."
     ]
    },
    {
     "cell_type": "code",
     "collapsed": false,
     "input": [
      "psi_indices, phi_indices = [6, 8, 14, 16], [4, 6, 8, 14]\n",
      "angles = mdtraj.geometry.compute_dihedrals(traj, [phi_indices, psi_indices])"
     ],
     "language": "python",
     "metadata": {},
     "outputs": []
    },
    {
     "cell_type": "markdown",
     "metadata": {},
     "source": [
      "Lets plot our dihedral angles in a scatter plot using matplotlib. What conformational states of Alanine dipeptide did we sample?"
     ]
    },
    {
     "cell_type": "code",
     "collapsed": false,
     "input": [
      "from math import pi\n",
      "figure()\n",
      "title('Dihedral Map: Alanine dipeptide')\n",
      "scatter(angles[:, 0], angles[:, 1], marker='x', c=traj.time)\n",
      "cbar = colorbar()\n",
      "cbar.set_label('Time [ps]')\n",
      "xlabel(r'$\\Phi$ Angle [radians]')\n",
      "xlim(-pi, pi)\n",
      "ylabel(r'$\\Psi$ Angle [radians]')\n",
      "ylim(-pi, pi)"
     ],
     "language": "python",
     "metadata": {},
     "outputs": []
    }
   ],
   "metadata": {}
  }
 ]
}