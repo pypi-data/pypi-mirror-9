{
 "metadata": {
  "name": "",
  "signature": "sha256:ccc386b1f87356852288ceedf5f68fc630d0087ddaab83c98a84e35af6862686"
 },
 "nbformat": 3,
 "nbformat_minor": 0,
 "worksheets": [
  {
   "cells": [
    {
     "cell_type": "code",
     "collapsed": false,
     "input": [
      "from threeML import *"
     ],
     "language": "python",
     "metadata": {},
     "outputs": [],
     "prompt_number": 1
    },
    {
     "cell_type": "code",
     "collapsed": false,
     "input": [
      "powerlaw1 = PowerLaw()\n",
      "ptsrc1 = PointSource(\"Source 1\",10.0,20.0,powerlaw1)\n",
      "\n",
      "powerlaw2 = PowerLaw()\n",
      "powerlaw2['gamma'].setValue(-1.0)\n",
      "ptsrc2 = PointSource(\"Source 2\",30.0,40.0,powerlaw2)"
     ],
     "language": "python",
     "metadata": {},
     "outputs": [],
     "prompt_number": 2
    },
    {
     "cell_type": "code",
     "collapsed": false,
     "input": [
      "print powerlaw2"
     ],
     "language": "python",
     "metadata": {},
     "outputs": [
      {
       "output_type": "stream",
       "stream": "stdout",
       "text": [
        "Spectral model: Powerlaw\n",
        "Formula:\n",
        "\n"
       ]
      },
      {
       "latex": [
        "\\begin{equation}f(E) = A E^{\\gamma}\\end{equation}"
       ],
       "metadata": {},
       "output_type": "display_data",
       "text": [
        "<IPython.core.display.Latex at 0x5224c90>"
       ]
      },
      {
       "output_type": "stream",
       "stream": "stdout",
       "text": [
        "\n",
        "Current parameters:\n",
        "\n"
       ]
      },
      {
       "html": [
        "<table>\n",
        "<tr><th>Name</th><th>Value</th><th>Minimum</th><th>Maximum</th><th>Delta</th><th>Status</th><th>Unit</th><th>Prior</th></tr>\n",
        "<tr><td>gamma</td><td>-1.0</td><td>-10</td><td>10</td><td>0.1</td><td>free</td><td></td><td>UniformPrior</td></tr>\n",
        "<tr><td>A</td><td>1.0</td><td>1e-10</td><td>10000000000.0</td><td>0.02</td><td>free</td><td></td><td>LogUniformPrior</td></tr>\n",
        "<tr><td>Epiv</td><td>1.0</td><td>1e-10</td><td>10000000000.0</td><td>1</td><td>fixed</td><td></td><td>UniformPrior</td></tr>\n",
        "</table>"
       ],
       "metadata": {},
       "output_type": "display_data",
       "text": [
        "<IPython.core.display.HTML at 0x5224dd0>"
       ]
      },
      {
       "output_type": "stream",
       "stream": "stdout",
       "text": [
        "\n"
       ]
      }
     ],
     "prompt_number": 3
    },
    {
     "cell_type": "code",
     "collapsed": false,
     "input": [
      "lm = LikelihoodModel(ptsrc1,ptsrc2)"
     ],
     "language": "python",
     "metadata": {},
     "outputs": [],
     "prompt_number": 4
    },
    {
     "cell_type": "code",
     "collapsed": false,
     "input": [
      "import ModelInterface"
     ],
     "language": "python",
     "metadata": {},
     "outputs": [],
     "prompt_number": 5
    },
    {
     "cell_type": "code",
     "collapsed": false,
     "input": [
      "m = ModelInterface.ModelInterface(lm)"
     ],
     "language": "python",
     "metadata": {},
     "outputs": [],
     "prompt_number": 6
    },
    {
     "cell_type": "code",
     "collapsed": false,
     "input": [
      "m.getNumberOfPointSources()"
     ],
     "language": "python",
     "metadata": {},
     "outputs": [
      {
       "metadata": {},
       "output_type": "pyout",
       "prompt_number": 7,
       "text": [
        "2"
       ]
      }
     ],
     "prompt_number": 7
    },
    {
     "cell_type": "code",
     "collapsed": false,
     "input": [
      "fakePlugin = ModelInterface.FakePlugin(m)"
     ],
     "language": "python",
     "metadata": {},
     "outputs": [],
     "prompt_number": 8
    },
    {
     "cell_type": "code",
     "collapsed": false,
     "input": [
      "fakePlugin.createEnergies(10)"
     ],
     "language": "python",
     "metadata": {},
     "outputs": [],
     "prompt_number": 9
    },
    {
     "cell_type": "code",
     "collapsed": false,
     "input": [
      "fakePlugin.go()"
     ],
     "language": "python",
     "metadata": {},
     "outputs": [],
     "prompt_number": 10
    },
    {
     "cell_type": "code",
     "collapsed": false,
     "input": [],
     "language": "python",
     "metadata": {},
     "outputs": [],
     "prompt_number": 10
    }
   ],
   "metadata": {}
  }
 ]
}