{
 "cells": [],
 "metadata": {
  "signature": "sha256:1f843fa258f13dff93cd0018e5417acf55e00ed0e9b87eb533eac6399565cb5d"
 },
 "nbformat": 4,
 "nbformat_minor": 0
}