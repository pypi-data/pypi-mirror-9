{
 "metadata": {
  "name": "",
  "signature": "sha256:6bd618948c641adac988b696f4afa8ed11a553bcefdff0064518bbebdcbdd62c"
 },
 "nbformat": 3,
 "nbformat_minor": 0,
 "worksheets": [
  {
   "cells": [
    {
     "cell_type": "markdown",
     "metadata": {},
     "source": [
      "In this notebook we'll look at interfacing between the composability and ability to generate complex visualizations that HoloViews provides, the power of [pandas](http://pandas.pydata.org/) library dataframes for manipulating tabular data, and the great looking statistical plots and analyses provided by the [Seaborn](http://stanford.edu/~mwaskom/software/seaborn) library.\n",
      "\n",
      "We also explore how a pandas ``DFrame`` can be wrapped in a general purpose ``Element`` type, which can either be used to convert the data into other standard ``Element`` types or be visualized directly using a wide array of Seaborn-based plotting options, including:\n",
      "\n",
      "* [regression plots](#Regression)\n",
      "* [correlation plots](#Correlation)\n",
      "* [box plots](#Box)\n",
      "* autocorrelation plots\n",
      "* scatter matrices\n",
      "* [histograms](#Histogram)\n",
      "* scatter or line plots\n",
      "\n",
      "This tutorial assumes you're already familiar with some of the core concepts of HoloViews, which are explained in the [other Tutorials](index)."
     ]
    },
    {
     "cell_type": "markdown",
     "metadata": {},
     "source": [
      "This tutorial requires NumPy, Pandas, and Seaborn to be installed and imported:"
     ]
    },
    {
     "cell_type": "code",
     "collapsed": false,
     "input": [
      "import itertools\n",
      "\n",
      "import numpy as np\n",
      "import pandas as pd\n",
      "import seaborn as sb\n",
      "\n",
      "np.random.seed(9221999)\n",
      "\n",
      "import holoviews\n",
      "from holoviews import *"
     ],
     "language": "python",
     "metadata": {},
     "outputs": []
    },
    {
     "cell_type": "markdown",
     "metadata": {},
     "source": [
      "We can now select static and animation backends:"
     ]
    },
    {
     "cell_type": "code",
     "collapsed": false,
     "input": [
      "%load_ext holoviews.ipython\n",
      "%output holomap='widgets' fig='svg'"
     ],
     "language": "python",
     "metadata": {},
     "outputs": []
    },
    {
     "cell_type": "heading",
     "level": 2,
     "metadata": {},
     "source": [
      "Visualizing Distributions of Data <a id='Histogram'/>"
     ]
    },
    {
     "cell_type": "markdown",
     "metadata": {},
     "source": [
      "If ``import seaborn`` succeeds, HoloViews will provide a number of additional ``Element`` types, including ``Distribution``, ``Bivariate``, ``TimeSeries``, ``Regression``, and ``DFrame`` (a ``Seaborn``-visualizable version of the ``DFrame`` ``Element`` class provided when only pandas is available).\n",
      "\n",
      "We'll start by generating a number of ``Distribution`` ``Element``s containing normal distributions with different means and standard deviations and overlaying them. Using the ``%%opts`` magic you can specify specific plot and style options as usual; here we deactivate the default histogram and shade the kernel density estimate:"
     ]
    },
    {
     "cell_type": "code",
     "collapsed": false,
     "input": [
      "%%opts Distribution (hist=False kde_kws=dict(shade=True))\n",
      "d1 = 25 * np.random.randn(500) + 450\n",
      "d2 = 45 * np.random.randn(500) + 540\n",
      "d3 = 55 * np.random.randn(500) + 590\n",
      "Distribution(d1, label='Blue') *\\\n",
      "Distribution(d2, label='Red') *\\\n",
      "Distribution(d3, label='Yellow')"
     ],
     "language": "python",
     "metadata": {},
     "outputs": []
    },
    {
     "cell_type": "markdown",
     "metadata": {},
     "source": [
      "Thanks to Seaborn you can choose to plot your distribution as histograms, kernel density estimates, or rug plots:"
     ]
    },
    {
     "cell_type": "code",
     "collapsed": false,
     "input": [
      "%%opts Distribution (rug=True kde_kws={'color':'indianred','linestyle':'--'})\n",
      "Distribution(np.random.randn(10), key_dimensions=['Activity'])"
     ],
     "language": "python",
     "metadata": {},
     "outputs": []
    },
    {
     "cell_type": "markdown",
     "metadata": {},
     "source": [
      "We can also visualize the same data with ``Bivariate`` distributions:"
     ]
    },
    {
     "cell_type": "code",
     "collapsed": false,
     "input": [
      "%%opts Bivariate.A (shade=True cmap='Blues') Bivariate.B (shade=True cmap='Reds') Bivariate.C (shade=True cmap='Greens')\n",
      "Bivariate(np.array([d1, d2]).T, group='A') +\\\n",
      "Bivariate(np.array([d1, d3]).T, group='B') +\\\n",
      "Bivariate(np.array([d2, d3]).T, group='C')"
     ],
     "language": "python",
     "metadata": {},
     "outputs": []
    },
    {
     "cell_type": "markdown",
     "metadata": {},
     "source": [
      "This plot type also has the option of enabling a joint plot with marginal distribution along each axis, and the ``kind`` option lets you control whether to visualize the distribution as a ``scatter``, ``reg``, ``resid``, ``kde`` or ``hex`` plot:"
     ]
    },
    {
     "cell_type": "code",
     "collapsed": false,
     "input": [
      "%%opts Bivariate [joint=True] (kind='kde' cmap='Blues')\n",
      "Bivariate(np.array([d1, d2]).T, group='A')"
     ],
     "language": "python",
     "metadata": {},
     "outputs": []
    },
    {
     "cell_type": "markdown",
     "metadata": {},
     "source": [
      "Bivariate plots also support overlaying and animations, so let's generate some two dimensional normally distributed data with varying mean and standard deviation."
     ]
    },
    {
     "cell_type": "heading",
     "level": 2,
     "metadata": {},
     "source": [
      "Working with ``TimeSeries`` data"
     ]
    },
    {
     "cell_type": "markdown",
     "metadata": {},
     "source": [
      "Next let's take a look at the ``TimeSeries`` View type, which allows you to visualize statistical time-series data. ``TimeSeries`` data can take the form of a number of observations of some dependent variable at multiple timepoints. By controlling the plot and style option the data can be visualized in a number of ways, including confidence intervals, error bars, traces or scatter points."
     ]
    },
    {
     "cell_type": "markdown",
     "metadata": {},
     "source": [
      "Let's begin by defining a function to generate sine wave time courses with varying phase and noise levels."
     ]
    },
    {
     "cell_type": "code",
     "collapsed": false,
     "input": [
      "def sine_wave(n_x, obs_err_sd=1.5, tp_err_sd=.3, phase=0):\n",
      "    x = np.linspace(0+phase, (n_x - 1) / 2+phase, n_x)\n",
      "    y = np.sin(x) + np.random.normal(0, obs_err_sd) + np.random.normal(0, tp_err_sd, n_x)\n",
      "    return y"
     ],
     "language": "python",
     "metadata": {},
     "outputs": []
    },
    {
     "cell_type": "markdown",
     "metadata": {},
     "source": [
      "Now we can create HoloMaps of sine and cosine curves with varying levels of observational and independent error."
     ]
    },
    {
     "cell_type": "code",
     "collapsed": false,
     "input": [
      "sine_stack = holoviews.HoloMap(key_dimensions=['Observation error','Random error'])\n",
      "cos_stack = holoviews.HoloMap(key_dimensions=['Observation error', 'Random error'])\n",
      "for oe, te in itertools.product(np.linspace(0.5,2,4), np.linspace(0.5,2,4)):\n",
      "    sines = np.array([sine_wave(31, oe, te) for _ in range(20)])\n",
      "    sine_stack[(oe, te)] = TimeSeries(sines, label='Sine', group='Activity',\n",
      "                                      key_dimensions=['Time', 'Observation'])\n",
      "    cosines = np.array([sine_wave(31, oe, te, phase=np.pi) for _ in range(20)])\n",
      "    cos_stack[(oe, te)]  = TimeSeries(cosines, group='Activity',label='Cosine', \n",
      "                                      key_dimensions=['Time', 'Observation'])"
     ],
     "language": "python",
     "metadata": {},
     "outputs": []
    },
    {
     "cell_type": "markdown",
     "metadata": {},
     "source": [
      "First let's visualize the sine stack with a confidence interval:"
     ]
    },
    {
     "cell_type": "code",
     "collapsed": false,
     "input": [
      "%%opts TimeSeries [apply_databounds=True] (ci=95 color='indianred')\n",
      "sine_stack"
     ],
     "language": "python",
     "metadata": {},
     "outputs": []
    },
    {
     "cell_type": "markdown",
     "metadata": {},
     "source": [
      "And the cosine stack with error bars:"
     ]
    },
    {
     "cell_type": "code",
     "collapsed": false,
     "input": [
      "%%opts TimeSeries (err_style='ci_bars')\n",
      "cos_stack.last"
     ],
     "language": "python",
     "metadata": {},
     "outputs": []
    },
    {
     "cell_type": "markdown",
     "metadata": {},
     "source": [
      "Since the ``%%opts`` cell magic has applied the style to each object individually, we can now overlay the two with different visualization styles in the same plot:"
     ]
    },
    {
     "cell_type": "code",
     "collapsed": false,
     "input": [
      "cos_stack.last * sine_stack.last"
     ],
     "language": "python",
     "metadata": {},
     "outputs": []
    },
    {
     "cell_type": "markdown",
     "metadata": {},
     "source": [
      "Let's apply the databounds across the HoloMap again and visualize all the observations as unit points:"
     ]
    },
    {
     "cell_type": "code",
     "collapsed": false,
     "input": [
      "%%opts TimeSeries (err_style='unit_points')\n",
      "sine_stack * cos_stack"
     ],
     "language": "python",
     "metadata": {},
     "outputs": []
    },
    {
     "cell_type": "heading",
     "level": 2,
     "metadata": {},
     "source": [
      "Working with pandas DataFrames"
     ]
    },
    {
     "cell_type": "markdown",
     "metadata": {},
     "source": [
      "In order to make this a little more interesting, we can use some of the real-world datasets provid3ed with the Seaborn library. The holoviews ``DFrame`` object can be used to wrap the Seaborn-generated pandas dataframes like this:"
     ]
    },
    {
     "cell_type": "code",
     "collapsed": false,
     "input": [
      "iris = DFrame(sb.load_dataset(\"iris\"))\n",
      "tips = DFrame(sb.load_dataset(\"tips\"))\n",
      "titanic = DFrame(sb.load_dataset(\"titanic\"))"
     ],
     "language": "python",
     "metadata": {},
     "outputs": []
    },
    {
     "cell_type": "markdown",
     "metadata": {},
     "source": [
      "By default the ``DFrame`` simply inherits the column names of the data frames and converts them into ``Dimension``s. This works very well as a default, but if you wish to override it, you can either supply an explicit list of ``key_dimensions`` to the ``DFrame`` object or a dimensions dictionary, which maps from the column name to the appropriate ``Dimension`` object. In this case, we define a ``Month`` ``Dimension``, which defines the ordering of months:"
     ]
    },
    {
     "cell_type": "code",
     "collapsed": false,
     "input": [
      "flights_data = sb.load_dataset('flights')\n",
      "dimensions = {'month': Dimension('Month', values=list(flights_data.month[0:12])),\n",
      "              'passengers': Dimension('Passengers', type=int),\n",
      "              'year': Dimension('Year', type=int)}\n",
      "flights = DFrame(flights_data, dimensions=dimensions)"
     ],
     "language": "python",
     "metadata": {},
     "outputs": []
    },
    {
     "cell_type": "code",
     "collapsed": false,
     "input": [
      "%output fig='png' dpi=100 size=150"
     ],
     "language": "python",
     "metadata": {},
     "outputs": []
    },
    {
     "cell_type": "heading",
     "level": 3,
     "metadata": {},
     "source": [
      "Flight passenger data"
     ]
    },
    {
     "cell_type": "markdown",
     "metadata": {},
     "source": [
      "Now we can easily use the conversion methods on the ``DFrame`` object to create HoloViews ``Element``s, e.g. a Seaborn-based ``TimeSeries`` ``Element`` and a HoloViews standard ``HeatMap``:"
     ]
    },
    {
     "cell_type": "code",
     "collapsed": false,
     "input": [
      "%%opts TimeSeries (err_style='unit_traces' err_palette='husl') HeatMap [xrotation=30]\n",
      "flights.timeseries(['Year', 'Month'], 'Passengers', label='Airline', group='Passengers') +\\\n",
      "flights.heatmap(['Year', 'Month'], 'Passengers', label='Airline', group='Passengers')"
     ],
     "language": "python",
     "metadata": {},
     "outputs": []
    },
    {
     "cell_type": "heading",
     "level": 3,
     "metadata": {},
     "source": [
      "Tipping data  <a id='Regression'/>"
     ]
    },
    {
     "cell_type": "markdown",
     "metadata": {},
     "source": [
      "A simple regression can easily be visualized using the ``Regression`` ``Element`` type. However, here we'll also split out ``smoker`` and ``sex`` as ``Dimensions``, overlaying the former and laying out the latter, so that we can compare tipping between smokers and non-smokers, separately for males and females."
     ]
    },
    {
     "cell_type": "code",
     "collapsed": false,
     "input": [
      "%%opts Regression [apply_databounds=True]\n",
      "tips.regression('total_bill', 'tip', mdims=['smoker','sex'],\n",
      "                extents=(0, 0, 50, 10), reduce_fn=np.mean).overlay('smoker').layout('sex')"
     ],
     "language": "python",
     "metadata": {},
     "outputs": []
    },
    {
     "cell_type": "markdown",
     "metadata": {},
     "source": [
      "When you're dealing with higher dimensional data you can also work with pandas dataframes directly by displaying the ``DFrame`` ``Element`` directly. This allows you to perform all the standard HoloViews operations on more complex Seaborn and pandas plot types, as explained in the following sections."
     ]
    },
    {
     "cell_type": "heading",
     "level": 3,
     "metadata": {},
     "source": [
      "Iris Data  <a id='Box'/>"
     ]
    },
    {
     "cell_type": "markdown",
     "metadata": {},
     "source": [
      "Let's visualize the relationship between sepal length and width in the Iris flower dataset. Here we can make use of some of the inbuilt Seaborn plot types, a ``pairplot`` which can plot each variable in a dataset against each other variable. We can customize this plot further by passing arguments via the style options, to define what plot types the ``pairplot`` will use and define the dimension to which we will apply the hue option. "
     ]
    },
    {
     "cell_type": "code",
     "collapsed": false,
     "input": [
      "%%opts DFrame (diag_kind='kde' kind='reg' hue='species')\n",
      "iris.clone(label=\"Iris Data\", plot_type='pairplot')"
     ],
     "language": "python",
     "metadata": {},
     "outputs": []
    },
    {
     "cell_type": "markdown",
     "metadata": {},
     "source": [
      "When working with a ``DFrame`` object directly, you can select particular columns of your ``DFrame`` to visualize by supplying ``x`` and ``y`` parameters corresponding to the ``Dimension``s or columns you want visualize. Here we'll visualize the ``sepal_width`` and ``sepal_length`` by species as a box plot and violin plot, respectively."
     ]
    },
    {
     "cell_type": "code",
     "collapsed": false,
     "input": [
      "%%opts DFrame [show_grid=False]\n",
      "iris.clone(x='species', y='sepal_width', plot_type='boxplot') + iris.clone(x='species', y='sepal_length', plot_type='violinplot')"
     ],
     "language": "python",
     "metadata": {},
     "outputs": []
    },
    {
     "cell_type": "heading",
     "level": 3,
     "metadata": {},
     "source": [
      "Titanic passenger data  <a id='Correlation'/>"
     ]
    },
    {
     "cell_type": "markdown",
     "metadata": {},
     "source": [
      "The Titanic passenger data is a truly large dataset, so we can make use of some of the more advanced features of Seaborn and pandas. Above we saw the usage of a ``pairgrid``, which allows you to quickly compare each variable in your dataset. HoloViews also support Seaborn based [FacetGrids](http://stanford.edu/~mwaskom/software/seaborn/tutorial/axis_grids.html#subsetting-data-with-facetgrid). The ``FacetGrid`` specification is simply passed via the style options, where the ``map`` keyword should be supplied as a tuple of the plotting function to use and the ``Dimension``s to place on the x axis and y axis. You may also specify the ``Dimension``s to lay out along the ``row``s and ``col``umns of the plot, and the ``hue`` groups:"
     ]
    },
    {
     "cell_type": "code",
     "collapsed": false,
     "input": [
      "%%opts DFrame (map=('barplot', 'alive', 'age') col='class' row='sex' hue='pclass' aspect=1.0)\n",
      "titanic.clone(plot_type='facetgrid')"
     ],
     "language": "python",
     "metadata": {},
     "outputs": []
    },
    {
     "cell_type": "markdown",
     "metadata": {},
     "source": [
      "FacetGrids support most Seaborn and matplotlib plot types:"
     ]
    },
    {
     "cell_type": "code",
     "collapsed": false,
     "input": [
      "%%opts DFrame (map=('regplot', 'age', 'fare') col='class' hue='class')\n",
      "titanic.clone(plot_type='facetgrid')"
     ],
     "language": "python",
     "metadata": {},
     "outputs": []
    },
    {
     "cell_type": "markdown",
     "metadata": {},
     "source": [
      "Finally, we can summarize our data using a correlation plot and split out ``Dimension``s using the ``.holomap`` method, which groups by the specified dimension, giving you a frame for each value along that ``Dimension``. Here we group by the ``survived`` ``Dimension`` (with 1 if the passenger survived and 0 otherwise), which thus provides a widget to allow us to compare those two values."
     ]
    },
    {
     "cell_type": "code",
     "collapsed": false,
     "input": [
      "%%output holomap='widgets' size=200\n",
      "titanic.clone(titanic.data.dropna(), plot_type='corrplot').holomap(['survived'])"
     ],
     "language": "python",
     "metadata": {},
     "outputs": []
    },
    {
     "cell_type": "markdown",
     "metadata": {},
     "source": [
      "As you can see, the Seaborn plot types and pandas interface provide substantial additional capabilities to HoloViews, while HoloViews allows simple animation, combinations of plots, and visualization across parameter spaces.  Note that the ``DFrame`` ``Element`` is still available even if Seaborn is not installed, but it will use the standard ``HoloViews`` visualizations rather than ``Seaborn`` in that case."
     ]
    }
   ],
   "metadata": {}
  }
 ]
}