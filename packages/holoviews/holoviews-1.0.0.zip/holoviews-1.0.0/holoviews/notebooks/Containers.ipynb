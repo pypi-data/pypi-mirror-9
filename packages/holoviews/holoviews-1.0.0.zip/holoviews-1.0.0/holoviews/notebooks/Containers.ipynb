{
 "metadata": {
  "name": "",
  "signature": "sha256:bb617a2e65c4a8e2e3f824f19bfd40cf738802b13c2bc26c871c3ff28c82db5d"
 },
 "nbformat": 3,
 "nbformat_minor": 0,
 "worksheets": [
  {
   "cells": [
    {
     "cell_type": "markdown",
     "metadata": {},
     "source": [
      "This notebook serves as a reference for all the container types in HoloViews, with an extensive list of small, self-contained examples wherever possible, allowing each container type to be understood and tested independently. The container types generally need to contain [Elements](Elements) to be useful, which are described separately.  We first cover the tree-based containers, which are used in many of the examples elsewhere:\n",
      "\n",
      "<dl class=\"dl-horizontal\">\n",
      "  <dt>[``Layout``](#Layout)</dt><dd>Collect components into a tree, displaying them side by side (``+`` operator)</dd>\n",
      "  <dt>[``Overlay``](#Overlay)</dt><dd>Collect components into a tree, displaying them on top of one another (``*`` operator)</dd>\n",
      "</dl>\n",
      "\n",
      "The remaining container types are most useful for exploring \n",
      "<a id='ParameterSpaceIndex'/> [parameter spaces:](#Parameter Spaces) \n",
      "\n",
      "<dl class=\"dl-horizontal\">\n",
      "<dt>[``HoloMap``](#HoloMap)</dt><dd>Visualize N-dimensional spaces using sliders or as an animation. </dd>\n",
      "<dt>[``GridSpace``](#GridSpace)</dt><dd>Parameter space in two dimensions laid out in a grid. </dd>\n",
      "  <dt>[``NdLayout``](#NdLayout)</dt><dd>Parameter space of any dimensionality in a layout with titles.</dd>\n",
      "  <dt>[``NdOverlay``](#NdOverlay)</dt><dd>Parameter space of any dimensionality in an overlay with a legend</dd>\n",
      "</dl>\n",
      "\n",
      "There is a separate [Composing Data](Composing_Data) tutorial explaining how each of these can be combined and nested, once you are familiar with the individual containers.\n",
      "\n",
      "For convenience, in this tutorial we have specified ``%output info=True``, which will pop up a detailed list and explanation of the available options for visualizing each container type, after that notebook cell is executed.  So, to find out all the options for any of these container types, just press ``<Shift-Enter>`` on the corresponding cell in the live notebook. See the [Options tutorial](Options) tutorial for detailed information about how to set or examine these options for a given component."
     ]
    },
    {
     "cell_type": "heading",
     "level": 1,
     "metadata": {},
     "source": [
      "Trees  <a id='Trees'/>"
     ]
    },
    {
     "cell_type": "code",
     "collapsed": false,
     "input": [
      "import holoviews\n",
      "%load_ext holoviews.ipython\n",
      "%output info=True"
     ],
     "language": "python",
     "metadata": {},
     "outputs": []
    },
    {
     "cell_type": "heading",
     "level": 2,
     "metadata": {},
     "source": [
      "``Layout``  <a id='Layout'/>"
     ]
    },
    {
     "cell_type": "markdown",
     "metadata": {},
     "source": [
      "``Layout`` places nearly any possible components alongside each other, as described in more detail in the [Introductory tutorial](Introduction).  The ``.cols()`` method of ``Layout`` can be used to regroup the components into the specified number of columns for display, if desired."
     ]
    },
    {
     "cell_type": "code",
     "collapsed": false,
     "input": [
      "import numpy as np\n",
      "from holoviews import Curve, ItemTable\n",
      "points = [(0.1*i, np.sin(0.1*i)) for i in range(100)]\n",
      "pair = Curve(points) + ItemTable([('A',1),('B',2)])\n",
      "pair"
     ],
     "language": "python",
     "metadata": {},
     "outputs": []
    },
    {
     "cell_type": "heading",
     "level": 3,
     "metadata": {},
     "source": [
      "``Layout`` subfigure labels <a id='subfigure-labels'/>"
     ]
    },
    {
     "cell_type": "markdown",
     "metadata": {},
     "source": [
      "By default, a ``Layout`` will label the subfigures as in **A** and **B** above.  You can easily configure this behaviour by setting the ``labels`` option to ``None`` (no labels at all), or ``\"{numeric}\"``: 2, ``\"{roman}\"``: ii, ``\"{Roman}\"``: II, ``\"{alpha}\"``: b, or ``\"{Alpha}\"``: B, and you can also change the label size and relative position:"
     ]
    },
    {
     "cell_type": "code",
     "collapsed": false,
     "input": [
      "%%opts Layout [sublabel_format=\"({numeric}).\"] Curve [sublabel_size=10 sublabel_position=(0.85,0.87)] ItemTable.I [sublabel_size=20]\n",
      "pair"
     ],
     "language": "python",
     "metadata": {},
     "outputs": []
    },
    {
     "cell_type": "markdown",
     "metadata": {},
     "source": [
      "You can also set these options globally if you consistently prefer a different style, or to disable the subfigure labelling altogether, either using a line magic:\n",
      "\n",
      "```python\n",
      "%opts Layout [sublabel_format=None]\n",
      "```\n",
      "\n",
      "or Python code:\n",
      "\n",
      "```python\n",
      "from holoviews.core.options import Store, Options\n",
      "Store.options.Layout = Options('plot', sublabel_format=None)\n",
      "\n",
      "from holoviews.plotting import ElementPlot\n",
      "ElementPlot.set_param(sublabel_size=30,sublabel_position=(1.0,-0.1))\n",
      "```"
     ]
    },
    {
     "cell_type": "heading",
     "level": 2,
     "metadata": {},
     "source": [
      "``Overlay``  <a id='Overlay'/>"
     ]
    },
    {
     "cell_type": "markdown",
     "metadata": {},
     "source": [
      "Overlays are often built using ``*`` as in the [Introductory tutorial](Introduction), but they can also be built by hand.  Using ``vector_data`` from the [``VectorField`` ``Element``](Elements#VectorField) example, we can overlay the vector field on top of an ``Image`` component (or any other component, though not all combinations will be useful or clear due to occlusion):"
     ]
    },
    {
     "cell_type": "code",
     "collapsed": false,
     "input": [
      "%%opts VectorField (color='r') Image (cmap='gray')\n",
      "import numpy as np\n",
      "from holoviews import Image, VectorField\n",
      "x,y  = np.mgrid[-10:10,-10:10] * 0.25\n",
      "sine_rings  = np.sin(x**2+y**2)*np.pi+np.pi\n",
      "exp_falloff = 1/np.exp((x**2+y**2)/8)\n",
      "\n",
      "vector_data = np.array([x.flatten()/5.,           # X positions\n",
      "                        y.flatten()/5.,           # Y positions\n",
      "                        sine_rings.flatten(),     # Arrow angles\n",
      "                        exp_falloff.flatten()])   # Arrow sizes\n",
      "\n",
      "Image(sine_rings) * VectorField(vector_data.T)"
     ],
     "language": "python",
     "metadata": {},
     "outputs": []
    },
    {
     "cell_type": "heading",
     "level": 1,
     "metadata": {},
     "source": [
      "Parameter Spaces  <a id='Parameter Spaces'/>"
     ]
    },
    {
     "cell_type": "markdown",
     "metadata": {},
     "source": [
      "HoloViews also supplies container classes useful for visualizing parameter spaces or phase spaces, i.e. large collections of results for various combinations of parameters.\n",
      "\n",
      "In addition to the container types discussed here, the [``HeatMap``](Elements#HeatMap) ``Element`` is also useful for visualizing small two-dimensional parameter spaces that have a single value for each location in the space.  See also the separate [Lancet](http://ioam.github.io/lancet) tool, which works well with HoloViews for launching and collating results from separate computational jobs covering large parameter spaces, which HoloViews can then analyze with ease."
     ]
    },
    {
     "cell_type": "heading",
     "level": 2,
     "metadata": {},
     "source": [
      "Specifying arbitrary parameter spaces"
     ]
    },
    {
     "cell_type": "markdown",
     "metadata": {},
     "source": [
      "First let us define some numpy arrays which we will use to define the types of parameter space below."
     ]
    },
    {
     "cell_type": "code",
     "collapsed": false,
     "input": [
      "import numpy as np\n",
      "\n",
      "frequencies =  np.linspace(0.5,2.0,5)\n",
      "phases = np.linspace(0, np.pi*2, 5)\n",
      "x,y = np.mgrid[-50:51, -50:51] * 0.1"
     ],
     "language": "python",
     "metadata": {},
     "outputs": []
    },
    {
     "cell_type": "heading",
     "level": 3,
     "metadata": {},
     "source": [
      "A parameter space of ``Image`` elements"
     ]
    },
    {
     "cell_type": "code",
     "collapsed": false,
     "input": [
      "def sine_array(phase, freq):\n",
      "    return np.sin(phase + (freq*x**2+freq*y**2))\n",
      "\n",
      "matrices = {(p,f):Image(sine_array(p, f), label='Sinusoid Ring', group='Amplitude')\n",
      "          for f in [0.5, 1.0,  1.5,  2.0]    # Frequencies\n",
      "          for p in [0, np.pi/2, np.pi, 3*np.pi/2, 2*np.pi]}  # Phases"
     ],
     "language": "python",
     "metadata": {},
     "outputs": []
    },
    {
     "cell_type": "markdown",
     "metadata": {},
     "source": [
      "To illustrate that ``matrices`` is a dictionary indexed by (phase, frequency) here are two of the dictionary elements side by side:"
     ]
    },
    {
     "cell_type": "code",
     "collapsed": false,
     "input": [
      "matrices[0,0.5] + matrices[np.pi,0.5]"
     ],
     "language": "python",
     "metadata": {},
     "outputs": []
    },
    {
     "cell_type": "heading",
     "level": 3,
     "metadata": {},
     "source": [
      "A parameter space of ``Curve`` elements"
     ]
    },
    {
     "cell_type": "code",
     "collapsed": false,
     "input": [
      "def sine_curve(phase, freq, samples=102):\n",
      "    xvals = [0.1* i for i in range(samples)]\n",
      "    return [(x, np.sin(phase+freq*x)) for x in xvals]\n",
      "\n",
      "curves = {(round(p,2),f):Curve(sine_curve(p,f)) \n",
      "          for f in [1,2,3,4,5]                               # Frequencies\n",
      "          for p in [0, np.pi/2, np.pi, 3*np.pi/2, 2*np.pi]}  # Phases"
     ],
     "language": "python",
     "metadata": {},
     "outputs": []
    },
    {
     "cell_type": "markdown",
     "metadata": {},
     "source": [
      "Here we display two of our curves and then overlay them together with ``*`` (which chooses new colors for each new curve according to a predefined color cycle that can be selected as a plot option):"
     ]
    },
    {
     "cell_type": "code",
     "collapsed": false,
     "input": [
      "curves[0,1] + curves[3.14, 2] +   curves[0,1] * curves[3.14, 2]"
     ],
     "language": "python",
     "metadata": {},
     "outputs": []
    },
    {
     "cell_type": "heading",
     "level": 2,
     "metadata": {},
     "source": [
      "``HoloMap``  <a id='HoloMap'/>"
     ]
    },
    {
     "cell_type": "markdown",
     "metadata": {},
     "source": [
      "A ``HoloMap`` is a a very powerful multi-dimensional data structure that can hold a very large number of similar ``Element`` objects, e.g. those measured for different values in a parameter space, and then allows easy exploration, animation, and slicing of the parameter and value spaces.  Usage of this type is covered extensively in the [Exploring Data](Exploring_Data) tutorial.  Here we show how a ``HoloMap`` can be used to explore all of the different ``Image`` objects created for each combination of phase and frequency:"
     ]
    },
    {
     "cell_type": "code",
     "collapsed": false,
     "input": [
      "%%opts Image (cmap='gray')\n",
      "from holoviews import HoloMap\n",
      "HoloMap(matrices, key_dimensions=['phase', 'frequency'])"
     ],
     "language": "python",
     "metadata": {},
     "outputs": []
    },
    {
     "cell_type": "heading",
     "level": 2,
     "metadata": {},
     "source": [
      "``GridSpace``  <a id='GridSpace'/>"
     ]
    },
    {
     "cell_type": "markdown",
     "metadata": {},
     "source": [
      "Whenever a ``HoloMap`` has more than one item to display, it will be visualized as an animation or using slider widgets as above, displaying one item (e.g. one ``Element``) at any given time.  If you have up to a two-dimensional parameter space, you can see all your data items at once using a ``GridSpace`` to lay out your data with labelled axes:"
     ]
    },
    {
     "cell_type": "code",
     "collapsed": false,
     "input": [
      "%%output size=140\n",
      "from holoviews import GridSpace\n",
      "ring_space  = GridSpace(matrices, key_dimensions=['phase', 'frequency'])\n",
      "curve_space = GridSpace(curves,   key_dimensions=['phase', 'frequency'])\n",
      "ring_space + curve_space"
     ],
     "language": "python",
     "metadata": {},
     "outputs": []
    },
    {
     "cell_type": "markdown",
     "metadata": {},
     "source": [
      "Of course, each item in the grid can also be a combination of other plots, such as an ``Overlay`` or an ``NdOverlay`` (below)."
     ]
    },
    {
     "cell_type": "heading",
     "level": 2,
     "metadata": {},
     "source": [
      "``NdLayout``  <a id='NdLayout'/>"
     ]
    },
    {
     "cell_type": "markdown",
     "metadata": {},
     "source": [
      "``GridSpace`` is great when you have a two-dimensional parameter space, but fails to scale well beyond that. For higher-dimensional parameter spaces, you can use an ``NdLayout``, where the varying key dimensions are shown in the titles of the elements:"
     ]
    },
    {
     "cell_type": "code",
     "collapsed": false,
     "input": [
      "from holoviews import NdLayout\n",
      "NdLayout(matrices, key_dimensions=['phase', 'frequency'])[0:1.6, 0:2].cols(3)"
     ],
     "language": "python",
     "metadata": {},
     "outputs": []
    },
    {
     "cell_type": "heading",
     "level": 2,
     "metadata": {},
     "source": [
      "``NdOverlay``  <a id='NdOverlay'/>"
     ]
    },
    {
     "cell_type": "markdown",
     "metadata": {},
     "source": [
      "``NdOverlay`` is to ``Overlay`` what ``NdLayout`` is to ``Layout``, in other words it is a way of looking at a parameter space as an ``Overlay``. This generally makes ``NdOverlay`` less useful than ``NdLayout``, because some element types don't overlay nicely over each other (e.g. multiple ``Image`` elements just obscure one another). Also, though the ``NdOverlay`` is moree compact, it is easy for an ``NdOverlay`` to present too much data at once.\n",
      "\n",
      "Unlike a regular ``Overlay``, the elements of an ``NdOverlay`` must always be of the same type.\n",
      "\n",
      "To demonstrate this, we will overlay several of the curves from our phase space. To make sure the result is legible, we filter our parameter space down to four curves:"
     ]
    },
    {
     "cell_type": "code",
     "collapsed": false,
     "input": [
      "%%output size=150\n",
      "import numpy as np\n",
      "from holoviews import Curve, NdOverlay\n",
      "four_curves = {(p,f):val for ((p,f), val) in curves.items() if p <=np.pi/2 and f<=2}\n",
      "NdOverlay(four_curves , key_dimensions=['Phase', 'Frequency'])"
     ],
     "language": "python",
     "metadata": {},
     "outputs": []
    },
    {
     "cell_type": "markdown",
     "metadata": {},
     "source": [
      "Because ``NdOverlay`` ensures all the contained elements are of the same type, it can now supply a useful legend. As with everything in HoloViews, overlaying is a very general concept, and it works with any other type that can be meaningfully overlaid. Here is another example using ``Points``:"
     ]
    },
    {
     "cell_type": "code",
     "collapsed": false,
     "input": [
      "%%output size=150\n",
      "import numpy as np\n",
      "from holoviews import Points\n",
      "np.random.seed(10)\n",
      "extents = (-3, -3, 3, 3)\n",
      "NdOverlay({1:Points(np.random.normal(size=(50,2)), extents=extents),\n",
      "           2:Points(np.random.normal(size=(50,2)), extents=extents),\n",
      "           3:Points(np.random.normal(size=(50,2)), extents=extents)},\n",
      "          key_dimensions=['Cluster'])"
     ],
     "language": "python",
     "metadata": {},
     "outputs": []
    }
   ],
   "metadata": {}
  }
 ]
}