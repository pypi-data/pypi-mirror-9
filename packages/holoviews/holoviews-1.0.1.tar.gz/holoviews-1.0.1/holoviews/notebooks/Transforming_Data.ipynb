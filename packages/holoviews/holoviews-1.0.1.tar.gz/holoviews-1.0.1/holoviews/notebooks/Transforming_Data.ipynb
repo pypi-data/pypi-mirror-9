{
 "metadata": {
  "name": "",
  "signature": "sha256:f7101f2eff9d81aabd8e28199d18d534d8f23c8674e7b62f79b88e8d5bea19e7"
 },
 "nbformat": 3,
 "nbformat_minor": 0,
 "worksheets": [
  {
   "cells": [
    {
     "cell_type": "markdown",
     "metadata": {},
     "source": [
      "In the [Exploring Data](Exploring_Data) tutorial, you can see how to wrap your data into sparse multi-dimensional data structures that let you organize, select, slice, and combine your data flexibly.\n",
      "\n",
      "In this tutorial, we will see how to transform the data in these large-scale structures, combining not just the visualizations but individual data elements.  For instance, you can calculate the mean, standard deviation, and other statistical measures along any dimension, collapsing the data into another form useful for analysis.  \n",
      "\n",
      "*This tutorial is coming soon! (March 2015)*"
     ]
    }
   ],
   "metadata": {}
  }
 ]
}