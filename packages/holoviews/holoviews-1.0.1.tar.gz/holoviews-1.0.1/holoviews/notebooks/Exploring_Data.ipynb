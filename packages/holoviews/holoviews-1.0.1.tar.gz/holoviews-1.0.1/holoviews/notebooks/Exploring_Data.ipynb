{
 "metadata": {
  "name": "",
  "signature": "sha256:bb8fee763b683ea830eb79222e7d201610732d67ccdb17186bca9be5978d4632"
 },
 "nbformat": 3,
 "nbformat_minor": 0,
 "worksheets": [
  {
   "cells": [
    {
     "cell_type": "markdown",
     "metadata": {},
     "source": [
      "In the [Introductory Tutorial](Introduction) and the [Element](Elements) and [Container](Containers) overviews you can see how HoloViews allows you to wrap your data into annotated ``Element``s that can be composed easily into complex visualizations.  \n",
      "\n",
      "In this tutorial, we will see how *all* of your data can be embedded as ``Elements`` into a nested, sparsely populated multi-dimensional data structure that gives you maximum flexibility to slice, select, and combine your data for visualization and analysis.  With the HoloViews data structures, you can visualize your multi-dimensional data as animations, images, charts, and parameter spaces with ease, allowing you to quickly discover the important features interactively and then prepare corresponding plots for reports or publications. \n",
      "\n",
      "We will first start with the very powerful ``HoloMap`` container, and then show how ``HoloMap`` objects can be nested inside the other [Container](Containers) objects to make all of your data available easily."
     ]
    },
    {
     "cell_type": "code",
     "collapsed": false,
     "input": [
      "import holoviews\n",
      "%load_ext holoviews.ipython\n",
      "%output holomap='auto'\n",
      "%timer start"
     ],
     "language": "python",
     "metadata": {},
     "outputs": []
    },
    {
     "cell_type": "markdown",
     "metadata": {},
     "source": [
      "To start, here are some general imports we will be using, mainly from the Python standard library:"
     ]
    },
    {
     "cell_type": "code",
     "collapsed": false,
     "input": [
      "import json\n",
      "import datetime as dt\n",
      "try:\n",
      "    from urllib2 import urlopen, Request\n",
      "except:\n",
      "    from urllib.request import urlopen, Request\n",
      "\n",
      "import multiprocessing\n",
      "from itertools import product\n",
      "from io import BytesIO\n",
      "\n",
      "import numpy as np\n",
      "from matplotlib import pyplot as plt\n",
      "import matplotlib.dates as md\n",
      "\n",
      "from holoviews import Dimension, HoloMap, RGB, ItemTable"
     ],
     "language": "python",
     "metadata": {},
     "outputs": []
    },
    {
     "cell_type": "heading",
     "level": 2,
     "metadata": {},
     "source": [
      "``HoloMap`` Basics"
     ]
    },
    {
     "cell_type": "markdown",
     "metadata": {},
     "source": [
      "Python users will be familiar with dictionaries as a way to collect data together in a conveniently accessible manner. Unlike Numpy arrays, dictionaries are sparse and heterogeneous and do not have to be declared with a fixed size.\n",
      "\n",
      "``HoloMap``s are a core part of HoloViews and are essential for generating animated visualizations. They also provide highly useful ways to manipulate your data for display and have several useful properties:\n",
      "\n",
      "* ``HoloMap``s are ordered (internally they use ``OrderedDictionary``, or if installed, the optimized ``cyordereddict``).\n",
      "* ``HoloMap``s let you index your data with an arbitrary number of dimensions (e.g. ``date`` and `batch-number`), not just one like a Python dictionary.\n",
      "* The dimensions used may be simple strings, or objects recording the name, type and physical units of the dimension.\n",
      "* ``HoloMap``s let you select portions of your data by slicing each available dimension independently.\n",
      "* ``HoloMap``s also provide ways to transform your data by sampling, reducing and collapsing the data ``Elements``.\n",
      "* ``Dimension``s in a ``HoloMap`` may be mapped onto parameter spaces for easy visualization of a portion of your multidimensional data space."
     ]
    },
    {
     "cell_type": "heading",
     "level": 2,
     "metadata": {},
     "source": [
      "Loading data"
     ]
    },
    {
     "cell_type": "markdown",
     "metadata": {},
     "source": [
      "In this notebook we will be exploring weather data from Hurricane Sandy, which swept across the Carribbean and Eastern US seaboard in late October 2012. We will scrape our data from various online sources, exploring not only how we can quickly generate animations using HoloMaps, but also how we can deal with very high-dimensional data."
     ]
    },
    {
     "cell_type": "markdown",
     "metadata": {},
     "source": [
      "We will start by getting a few frames of the satellite-imagery-based wind speed models from NASA. Using urllib2 and multiprocessing we can quickly load and crop a number of frames. "
     ]
    },
    {
     "cell_type": "code",
     "collapsed": false,
     "input": [
      "frames = np.arange(1301,2001,50)\n",
      "\n",
      "header = {'Accept': 'text/html,application/xhtml+xml,application/xml;q=0.9,*/*;q=0.8', 'User-Agent':'Mozilla/5.0'}\n",
      "\n",
      "url=\"http://svs.gsfc.nasa.gov/vis/a030000/a030000/a030019/frames/1920x1080_16x9_30p/sandy_10m/1920_1080_FramesSandy10m{frame}.png\"\n",
      "url2=\"http://svs.gsfc.nasa.gov/vis/a030000/a030000/a030019/frames/1920x1080_16x9_30p/sandy_winds/1920_1080_Frames{frame}.png\"\n",
      "def load_image(frame):\n",
      "    req1 = Request(url.format(frame=str(frame).zfill(4)), headers=header)\n",
      "    req2 = Request(url2.format(frame=str(frame).zfill(4)), headers=header)\n",
      "    arr = plt.imread(urlopen(req1))\n",
      "    arr2 = plt.imread(urlopen(req2))\n",
      "    return arr[200:900:2, 400:1200:2], arr2[200:900:2, 400:1200:2]"
     ],
     "language": "python",
     "metadata": {},
     "outputs": []
    },
    {
     "cell_type": "markdown",
     "metadata": {},
     "source": [
      "Loading these high-resolution images and cropping them is fairly memory intensive, so we'll load some pre-cropped frames directly from the HoloViews website. If you want to select a different cropping region or sample more frames you can switch live one and change the frame numbers and array slices above."
     ]
    },
    {
     "cell_type": "code",
     "collapsed": false,
     "input": [
      "live = False\n",
      "if live:\n",
      "    timestamps=[1351123200+i*16*60*60 for i in range(14)]\n",
      "    dates=md.date2num([dt.datetime.fromtimestamp(ts) for ts in timestamps])\n",
      "    pool = multiprocessing.Pool()\n",
      "    surface_data, nearsrfc_data = zip(*pool.map(load_image, frames))\n",
      "    surface_data = np.concatenate([arr[..., np.newaxis] for arr in surface_data], axis=3)\n",
      "    nearsrfc_data = np.concatenate([arr[..., np.newaxis] for arr in nearsrfc_data], axis=3)\n",
      "    np.savez_compressed('hurricane.npz', dates=dates, surface=surface_data, near_surface=nearsrfc_data)\n",
      "else:\n",
      "    iobuffer = BytesIO(urlopen('http://ioam.github.com/holoviews/Tutorials/hurricane.npz').read())\n",
      "    data = np.load(BytesIO(iobuffer.getvalue()))\n",
      "    dates = data['dates']\n",
      "    surface_data, nearsrfc_data = data['surface'], data['near_surface']"
     ],
     "language": "python",
     "metadata": {},
     "outputs": []
    },
    {
     "cell_type": "heading",
     "level": 2,
     "metadata": {},
     "source": [
      "Constructing a HoloMap"
     ]
    },
    {
     "cell_type": "heading",
     "level": 4,
     "metadata": {},
     "source": [
      "Declaring ``Dimension``s"
     ]
    },
    {
     "cell_type": "markdown",
     "metadata": {},
     "source": [
      "Now that we have loaded the data we can store the raw image arrays as RGB Elements and create a HoloMap. We begin by declaring the key_dimensions of the HoloMap, which determine how the data will be stored and thus how you will be able to index and select it most easily.  In this case we will index our HoloMap both by the frame number and the date:"
     ]
    },
    {
     "cell_type": "code",
     "collapsed": false,
     "input": [
      "date_dim = Dimension(\"Date\", formatter=md.DateFormatter('%h %d %Y %H:%M UTC'), type=float)\n",
      "key_dimensions = ['Frame', date_dim]"
     ],
     "language": "python",
     "metadata": {},
     "outputs": []
    },
    {
     "cell_type": "markdown",
     "metadata": {},
     "source": [
      "``Dimension``s can be specified as a simple string, or as a ``Dimension`` object with additional information to give HoloViews some hints about how to format and display values along that ``Dimension``."
     ]
    },
    {
     "cell_type": "heading",
     "level": 4,
     "metadata": {},
     "source": [
      "Populating the ``HoloMap``"
     ]
    },
    {
     "cell_type": "markdown",
     "metadata": {},
     "source": [
      "Creating a ``HoloMap`` is just like creating a Python dictionary, and so you can either pass a dictionary object or a list of (key,value) pairs. The keys can each be a single value for a one-dimensional ``HoloMap``, or tuples for multiple ``Dimension``s."
     ]
    },
    {
     "cell_type": "code",
     "collapsed": false,
     "input": [
      "srfc = [((frame, date), RGB(surface_data[...,frame], bounds=(0, 0)+surface_data.shape[0:2][::-1], xdensity=1,\n",
      "                            label='Hurricane Sandy', group='Surface Wind Speed'))\n",
      "        for frame, date in zip(range(len(dates)), dates)]\n",
      "\n",
      "nsrfc = [((frame, date), RGB(nearsrfc_data[...,frame], bounds=(0, 0)+nearsrfc_data.shape[0:2][::-1], xdensity=1,\n",
      "                            label='Hurricane Sandy', group='Near Surface Wind Speed'))\n",
      "        for frame, date in zip(range(len(dates)), dates)]\n",
      "\n",
      "surface_wind = HoloMap(srfc, key_dimensions=key_dimensions)\n",
      "nearsurface_wind = HoloMap(nsrfc, key_dimensions=key_dimensions)"
     ],
     "language": "python",
     "metadata": {},
     "outputs": []
    },
    {
     "cell_type": "markdown",
     "metadata": {},
     "source": [
      "Not only is the ``HoloMap`` constructor similar to Python dictionaries, ``HoloMap``s also provide ``__getitem__``, ``__setitem__``, ``update``, ``get``, ``pop``, ``keys``, ``values`` and ``items`` just as for normal dictionaries. In addition, ``HoloMap`` provides a ``.clone`` method that will return a copy of the ``HoloMap`` containing the same data, where the data and all the parameters may now be overridden.  "
     ]
    },
    {
     "cell_type": "heading",
     "level": 2,
     "metadata": {},
     "source": [
      "Basic usage and attributes on ``HoloMap``s"
     ]
    },
    {
     "cell_type": "markdown",
     "metadata": {},
     "source": [
      "A ``HoloMap`` must be uniform in the type, ``group``, ``label``, and ``key_dimensions`` of its ``Elements``, because it defines a parameter space of ``Elements`` varying only in their n-dimensional index and data. This also allows ``HoloMaps`` to inherit the ``value`` and ``label`` of its ``Elements``, which we can see by inspecting the ``HoloMap`` ``repr()`` for ``satellite_map``:"
     ]
    },
    {
     "cell_type": "code",
     "collapsed": false,
     "input": [
      "print(surface_wind)"
     ],
     "language": "python",
     "metadata": {},
     "outputs": []
    },
    {
     "cell_type": "markdown",
     "metadata": {},
     "source": [
      "Since the ``RGB`` elements we have created are not square we can declare that ``RGB`` ``Element``s should be displayed with an aspect ratio of 1.0 using the ``%opts`` line magic, which will apply to all subsequent cells:"
     ]
    },
    {
     "cell_type": "code",
     "collapsed": false,
     "input": [
      "%opts RGB [aspect=1]"
     ],
     "language": "python",
     "metadata": {},
     "outputs": []
    },
    {
     "cell_type": "markdown",
     "metadata": {},
     "source": [
      "To get a quick glimpse at the data we have collected, you can access the ``.last`` property, which will return the last ``Element`` in the ``HoloMap``:"
     ]
    },
    {
     "cell_type": "code",
     "collapsed": false,
     "input": [
      "surface_wind.last"
     ],
     "language": "python",
     "metadata": {},
     "outputs": []
    },
    {
     "cell_type": "markdown",
     "metadata": {},
     "source": [
      "If you are unsure how large the ``HoloMap`` is or want to know a bit more about the ``Dimension`` ranges, you can use the ``.info`` property.  For a ``HoloMap``, ``.info`` will list the dimensions, their ranges for the key_dimensions on the ``HoloMap``, and even the ``deep_dimensions``, i.e. any ``Dimension``s contained within the ``Element``s of the ``HoloMap``."
     ]
    },
    {
     "cell_type": "code",
     "collapsed": false,
     "input": [
      "surface_wind.info"
     ],
     "language": "python",
     "metadata": {},
     "outputs": []
    },
    {
     "cell_type": "heading",
     "level": 2,
     "metadata": {},
     "source": [
      "Indexing and slicing ``HoloMaps``"
     ]
    },
    {
     "cell_type": "markdown",
     "metadata": {},
     "source": [
      "Having found out a bit about the ``HoloMap``, we can look at a few frames, starting with selecting just the first three:"
     ]
    },
    {
     "cell_type": "code",
     "collapsed": false,
     "input": [
      "surface_wind[0:3]"
     ],
     "language": "python",
     "metadata": {},
     "outputs": []
    },
    {
     "cell_type": "markdown",
     "metadata": {},
     "source": [
      "Because ``HoloMap``s support all the slicing semantics including steps, we can do things like select every second frame in the second half of the animation:"
     ]
    },
    {
     "cell_type": "code",
     "collapsed": false,
     "input": [
      "surface_wind[7:14:2]"
     ],
     "language": "python",
     "metadata": {},
     "outputs": []
    },
    {
     "cell_type": "markdown",
     "metadata": {},
     "source": [
      "As you may have noticed, the slices are not simply by whole-number index, as for a numpy array. A ``HoloMap``, like all other ``Dimensioned`` objects (i.e., most HoloViews components), is always sliceable by the values along its key dimensions, in whatever units they are expressed.\n",
      "\n",
      "Apart from simple slicing semantics, you can also select ``Element``s by passing the Dimension values as a set. Since our ``Element``s are guaranteed to be uniform, a ``HoloMap`` also allows deep indexing into the ``key_dimensions`` of its ``Element``s, allowing us to easily select a subregion of each satellite frame (where ``:`` alone means to select the entire range of that dimension)"
     ]
    },
    {
     "cell_type": "code",
     "collapsed": false,
     "input": [
      "surface_wind[{0, 2, 3, 5}, :, 150:350, 50:250]"
     ],
     "language": "python",
     "metadata": {},
     "outputs": []
    },
    {
     "cell_type": "markdown",
     "metadata": {},
     "source": [
      "Finally let's put together everything we've learned about indexing and go one step further. So far we've been looking at just the surface wind speed plots, but now let's combine them into a ``Layout``. Just like ``Element``s, ``HoloMap``s can be grouped into a ``Layout`` using the ``+`` operator. Since the ``Layout`` is a ``Tree``-based data structure it doesn't have any ``Dimension``s of its own and we can't use ``__getitem__``.  Instead we may use ``select``, which can be found on all HoloViews components. The ``.select`` method may be supplied with any number of dimension and value slice pairs. Slices may be supplied either as explicit ``slice`` objects or as tuples. "
     ]
    },
    {
     "cell_type": "code",
     "collapsed": false,
     "input": [
      "(surface_wind + nearsurface_wind).select(Frame=slice(0, 10, 2), x=(150,350), y=(50, 250))"
     ],
     "language": "python",
     "metadata": {},
     "outputs": []
    },
    {
     "cell_type": "heading",
     "level": 2,
     "metadata": {},
     "source": [
      "Grouping ``HoloMap``s"
     ]
    },
    {
     "cell_type": "markdown",
     "metadata": {},
     "source": [
      "``HoloMap``s provide the starting point to display your data in any number of ways. While ``HoloMap`` dimensions are displayed as frames of an animation by default, you can easily transform a ``HoloMap`` into another n-D component type, such as an ``NdLayout``, ``GridSpace``, or ``NdOverlay``, via the ``.layout``, ``.grid``, and ``.overlay`` methods. \n",
      "\n",
      "Each of these methods groups the data along the values of the dimensions you specify and return the newly grouped object. These methods are however just convenience methods around the ``.groupby`` method, which can split a ``HoloMap`` into whatever container and group types you specify.\n",
      "\n",
      "Before we can start grouping however, we hit a snag in our indexing: the Frame and Date dimensions we specified above are redundant, because for each frame there is only one corresponding date.  As a result, any ``groupby`` operation will fail. But we can easily solve this problem by reindexing the ``HoloMap``:"
     ]
    },
    {
     "cell_type": "code",
     "collapsed": false,
     "input": [
      "print(\"Dimensions before reindex: %s\" % surface_wind.dimensions('key', label=True))\n",
      "surface_reindexed = surface_wind.reindex(['Date'])\n",
      "print(\"Dimensions after reindex:  %s\" % surface_reindexed.dimensions('key', label=True))"
     ],
     "language": "python",
     "metadata": {},
     "outputs": []
    },
    {
     "cell_type": "markdown",
     "metadata": {},
     "source": [
      "Now that we have removed the redundant Dimension we can create an NdLayout indexed just by the date:"
     ]
    },
    {
     "cell_type": "code",
     "collapsed": false,
     "input": [
      "surface_reindexed[::4].layout('Date')"
     ],
     "language": "python",
     "metadata": {},
     "outputs": []
    },
    {
     "cell_type": "code",
     "collapsed": false,
     "input": [
      "%output size=250 "
     ],
     "language": "python",
     "metadata": {},
     "outputs": []
    },
    {
     "cell_type": "markdown",
     "metadata": {},
     "source": [
      "For a more compact representation, you may also create a ``GridSpace`` using the ``.grid`` method. In a ``GridSpace``, each dimension maps onto an axis, which limits it to a maximum of two ``Dimension``s, but redundant data like the shared axes and axis labels are suppressed. To avoid the tick labels overlapping we will also define a rotation of the tick marks by a few degrees."
     ]
    },
    {
     "cell_type": "code",
     "collapsed": false,
     "input": [
      "%opts GridSpace [xrotation=10]\n",
      "surface_reindexed[::2].grid('Date')"
     ],
     "language": "python",
     "metadata": {},
     "outputs": []
    },
    {
     "cell_type": "heading",
     "level": 2,
     "metadata": {},
     "source": [
      "Adding Dimensions"
     ]
    },
    {
     "cell_type": "markdown",
     "metadata": {},
     "source": [
      "Now how do we go about combining the two ``HoloMap``s into a single ``GridSpace``? First let us reindex the near-surface data as well."
     ]
    },
    {
     "cell_type": "code",
     "collapsed": false,
     "input": [
      "nearsurface_reindexed = nearsurface_wind.reindex(['Date'])"
     ],
     "language": "python",
     "metadata": {},
     "outputs": []
    },
    {
     "cell_type": "markdown",
     "metadata": {},
     "source": [
      "The two HoloMaps we have represent wind speed at different heights. Meteorologists state the height of different airmasses by their pressure. The near-surface imagery is at 850 hPa, while the surface level images are at 1000 hPa."
     ]
    },
    {
     "cell_type": "code",
     "collapsed": false,
     "input": [
      "height = Dimension('Layer Height', unit='hPa')"
     ],
     "language": "python",
     "metadata": {},
     "outputs": []
    },
    {
     "cell_type": "markdown",
     "metadata": {},
     "source": [
      "We can add this ``Dimension`` to the ``HoloMaps`` via the ``add_dimension`` method, which accepts the new dimension, the index position at which to insert that dimension and the dimension value as arguments:"
     ]
    },
    {
     "cell_type": "code",
     "collapsed": false,
     "input": [
      "surface = surface_reindexed.add_dimension(height, 1, 1000)\n",
      "near_surface = nearsurface_reindexed.add_dimension(height, 1, 850)"
     ],
     "language": "python",
     "metadata": {},
     "outputs": []
    },
    {
     "cell_type": "markdown",
     "metadata": {},
     "source": [
      "Now we can combine the two ``HoloMap``s by creating a clone and updating it with the other ``HoloMap``:"
     ]
    },
    {
     "cell_type": "code",
     "collapsed": false,
     "input": [
      "combined_hurricane = surface.clone()\n",
      "combined_hurricane.update(near_surface)"
     ],
     "language": "python",
     "metadata": {},
     "outputs": []
    },
    {
     "cell_type": "markdown",
     "metadata": {},
     "source": [
      "Using ``.info`` we can confirm the two ``HoloMap``s have been successfully merged."
     ]
    },
    {
     "cell_type": "code",
     "collapsed": false,
     "input": [
      "combined_hurricane.info"
     ],
     "language": "python",
     "metadata": {},
     "outputs": []
    },
    {
     "cell_type": "markdown",
     "metadata": {},
     "source": [
      "Merging multiple ``HoloMap``s in this step-by-step way would be cumbersome, and avoiding this complexity is why the ``Collator`` object (another instance of ``Dimensioned``) has been provided.  ``Collator`` is described in the [Transforming Data](Transforming_Data) tutorial."
     ]
    },
    {
     "cell_type": "markdown",
     "metadata": {},
     "source": [
      "Now that both the ``Date`` and ``Layer Height`` are ``Dimension``s on the ``HoloMap`` we have various options for laying out our data. We can simply map each ``Dimension`` to an axis of a ``GridSpace``:"
     ]
    },
    {
     "cell_type": "code",
     "collapsed": false,
     "input": [
      "combined_hurricane.select(Date=(None, None, 2)).grid(['Date', 'Layer Height'])"
     ],
     "language": "python",
     "metadata": {},
     "outputs": []
    },
    {
     "cell_type": "markdown",
     "metadata": {},
     "source": [
      "Or we can choose to animate one ``Dimension`` but not the other:"
     ]
    },
    {
     "cell_type": "code",
     "collapsed": false,
     "input": [
      "%output size=300\n",
      "combined_hurricane.grid(['Date'])[::2]"
     ],
     "language": "python",
     "metadata": {},
     "outputs": []
    },
    {
     "cell_type": "heading",
     "level": 2,
     "metadata": {},
     "source": [
      "Handling missing data"
     ]
    },
    {
     "cell_type": "markdown",
     "metadata": {},
     "source": [
      "Another powerful property of ``HoloMap``s is that when combined into a ``Layout`` via the ``+`` operator, their ``Dimension``s are coordinated across each frame.  This allows you to handle missing values, because HoloViews will blank out any frames without matching dimension values when combining overlapping dimensions:"
     ]
    },
    {
     "cell_type": "code",
     "collapsed": false,
     "input": [
      "%output size=100\n",
      "surface_wind[0:4] + nearsurface_wind[3:6]"
     ],
     "language": "python",
     "metadata": {},
     "outputs": []
    },
    {
     "cell_type": "markdown",
     "metadata": {},
     "source": [
      "This feature becomes particularly important when combining data from different sources, which shares common dimensions but may not be sampled in precisely the same. To demonstrate this let's load some additional data."
     ]
    },
    {
     "cell_type": "heading",
     "level": 2,
     "metadata": {},
     "source": [
      "Combining heterogenous data"
     ]
    },
    {
     "cell_type": "markdown",
     "metadata": {},
     "source": [
      "With the existing timestamps we can look up weather data about different cities via the REST API provided by openweathermap.org as shown below. For the purposes of this Tutorial, we can load the data a lot quicker if we get it directly from the HoloViews website.\n",
      "\n",
      "First we define the new dimensions we will be adding:"
     ]
    },
    {
     "cell_type": "code",
     "collapsed": false,
     "input": [
      "temp_dim = Dimension('Temperature', unit=\"$^o$C\")\n",
      "humidity = Dimension('Humidity', unit='%')\n",
      "pressure = Dimension('Pressure', unit='hpa')\n",
      "wind = Dimension('Wind Speed', unit='km/h')"
     ],
     "language": "python",
     "metadata": {},
     "outputs": []
    },
    {
     "cell_type": "markdown",
     "metadata": {},
     "source": [
      "Now we can load the data into a ``HoloMap`` of ``ItemTable``s. ``ItemTable``s simply associate a value with each of the value dimensions we defined above. We will collect data for a few cities on the East Coast at all the timestamps associated with the satellite wind imagery."
     ]
    },
    {
     "cell_type": "code",
     "collapsed": false,
     "input": [
      "value_dimensions = [temp_dim, humidity, pressure, wind]\n",
      "cities = ['New York', 'Washington DC', 'Santiago de Cuba']\n",
      "main_cols = ['temp', 'humidity', 'pressure']\n",
      "\n",
      "tables = HoloMap(key_dimensions=['City', date_dim])\n",
      "if live:\n",
      "    def remap_keys(mapping):\n",
      "        return [OrderedDict([('key', k), ('value', v)]) for k, v in mapping.iteritems()]\n",
      "    for city, (ts, date) in product(cities, zip(timestamps, dates)):\n",
      "        weather_url=\"http://api.openweathermap.org/data/2.5/history/city?q={city}&type=hour&start={start}&cnt=1\"\n",
      "        city_data = json.load(urlopen(weather_url.format(city=city.replace(' ','_'), start=ts)))\n",
      "        for data in city_data.get('list', []):\n",
      "            main_data = [data['main'].get(c, 0)-(271.15 if 'temp' in c else 0) for c in main_cols]\n",
      "            wind_data = (data['wind'].get('speed', np.NaN) * 3.6,)\n",
      "            tables[city, date] = ItemTable(zip(value_dimensions, tuple(main_data)+wind_data))\n",
      "    with open('weather.json', 'wb') as jsonf:\n",
      "        json.dump(remap_keys(tables.table().data), jsonf)\n",
      "else:\n",
      "    iobuffer = BytesIO(urlopen('http://ioam.github.com/holoviews/Tutorials/weather.json').read())\n",
      "    weather_json = json.loads(iobuffer.read().decode())\n",
      "    for entry in weather_json:\n",
      "        city, date = entry['key']\n",
      "        tables[str(city), date] = ItemTable(zip(value_dimensions, tuple(entry['value'])))"
     ],
     "language": "python",
     "metadata": {},
     "outputs": []
    },
    {
     "cell_type": "markdown",
     "metadata": {},
     "source": [
      "Since the two datasets share the same timestamps we can now combine them into a Layout."
     ]
    },
    {
     "cell_type": "code",
     "collapsed": false,
     "input": [
      "heterogenous = (surface_reindexed + tables).select(Date=(None,None,2))\n",
      "heterogenous"
     ],
     "language": "python",
     "metadata": {},
     "outputs": []
    },
    {
     "cell_type": "markdown",
     "metadata": {},
     "source": [
      "The Date dimension in the satellite data and the City and Date dimensions on the weather data combined seamlessly to give us this multi-dimensional selection widget. Since the satellite data is independent of the City it stays fixed when selecting a different city, while the Date, which is present on both, controls both components of the plot. You can play with the sliders a little bit and explore the data; once you've selected a slider you can also press ``R`` and ``P`` to play an animation back and forth respectively."
     ]
    },
    {
     "cell_type": "markdown",
     "metadata": {},
     "source": [
      "Now let's put together some of what we've learned. By making use of the slicing we can zoom in for each city on the satellite imagery and place the ``ItemTable`` containing the weather data next to it. Then we'll arrange the layout in three columns by calling the ``.cols`` method:"
     ]
    },
    {
     "cell_type": "code",
     "collapsed": false,
     "input": [
      "%%output size=120\n",
      "(surface_reindexed[:, 170:270, 200:300] +\\\n",
      "nearsurface_reindexed[:, 170:270, 200:300] +\\\n",
      "tables.select(City='New York').reindex(['Date']).relabel(label='New York') +\\\n",
      "surface_reindexed[:, 150:250, 150:250] +\\\n",
      "nearsurface_reindexed[:, 150:250, 150:250] +\\\n",
      "tables.select(City='Washington DC').reindex(['Date']).relabel(label='Washington DC') +\\\n",
      "surface_reindexed[:, 140:240, 50:150] +\\\n",
      "nearsurface_reindexed[:, 140:240, 50:150] +\\\n",
      "tables.select(City='Santiago de Cuba').reindex(['Date']).relabel(label='Santiago de Cuba')).cols(3)"
     ],
     "language": "python",
     "metadata": {},
     "outputs": []
    },
    {
     "cell_type": "markdown",
     "metadata": {},
     "source": [
      "Now that you see how to assemble your data into an organization that lets you explore and analyze it, you can study the various [Container](Containers) types that make this possible, especially the section on nested containers.  And then just try it out!"
     ]
    },
    {
     "cell_type": "code",
     "collapsed": false,
     "input": [
      "%timer"
     ],
     "language": "python",
     "metadata": {},
     "outputs": []
    }
   ],
   "metadata": {}
  }
 ]
}