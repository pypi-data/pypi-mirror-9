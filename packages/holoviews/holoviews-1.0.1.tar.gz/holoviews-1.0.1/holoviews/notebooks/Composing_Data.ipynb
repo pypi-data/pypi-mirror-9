{
 "metadata": {
  "name": "",
  "signature": "sha256:f08cb4cd0f4734d46d33eedf1ba5a091d2a422473722e7c83190e57b5adecc0e"
 },
 "nbformat": 3,
 "nbformat_minor": 0,
 "worksheets": [
  {
   "cells": [
    {
     "cell_type": "markdown",
     "metadata": {},
     "source": [
      "The [Containers](Containers) tutorial shows examples of each of the container types in HoloViews, and it is useful to work through that before focusing on this one.  \n",
      "\n",
      "This tutorial shows you how to combine the various container types, in order to build data structures that can contain all of the data that you want to visualize or analyze, in an extremely flexible way.  For instance, you may have a large set of measurements of different types of data (numerical, image, textual notations, etc.) from different experiments done on different days, with various different parameter values associated with each one.  HoloViews can store all of this data together, which will allow you to select just the right bit of data \"on the fly\" for any particular analysis or visualization, by indexing, slicing, selecting, and sampling in this data structure.\n",
      "\n",
      "To illustrate the full functionality provided, we will create an example of the maximally nested object structure currently possible with HoloViews:"
     ]
    },
    {
     "cell_type": "code",
     "collapsed": false,
     "input": [
      "import holoviews\n",
      "%load_ext holoviews.ipython"
     ],
     "language": "python",
     "metadata": {},
     "outputs": []
    },
    {
     "cell_type": "code",
     "collapsed": false,
     "input": [
      "import numpy as np\n",
      "from holoviews import Curve, NdOverlay, HoloMap, GridSpace, Points, Histogram, RGB\n",
      "np.random.seed(10)\n",
      "\n",
      "def sine_curve(phase, freq, amp, power, samples=102):\n",
      "    xvals = [0.1* i for i in range(samples)]\n",
      "    return [(x, amp*np.sin(phase+freq*x)**power) for x in xvals]\n",
      "\n",
      "phases =      [0, np.pi/2, np.pi, 3*np.pi/2]\n",
      "powers =      [1,2,3]\n",
      "amplitudes =  [0.5,0.75, 1.0]\n",
      "frequencies = [0.5, 0.75, 1.0, 1.25, 1.5, 1.75]\n",
      "\n",
      "\n",
      "gridspace = GridSpace(key_dimensions=['Amplitude', 'Power'], group='Parameters', label='Sines')\n",
      "\n",
      "for power in powers:\n",
      "    for amplitude in amplitudes:\n",
      "        holomap = HoloMap(key_dimensions=['Frequency'])\n",
      "        for frequency in frequencies:\n",
      "            sines = {phase : Curve(sine_curve(phase, frequency, amplitude, power))\n",
      "                     for phase in phases}\n",
      "            ndoverlay = NdOverlay(sines , key_dimensions=['Phase']).relabel(group='Phases',\n",
      "                                                                            label='Sines')\n",
      "            overlay = ndoverlay * Points([(i,0) for i in range(0,10)]).relabel(group='Markers',\n",
      "                                                                               label='Dots')\n",
      "            holomap[frequency] = overlay\n",
      "        gridspace[amplitude, power] = holomap\n",
      "\n",
      "penguins = RGB.load_image('../assets/penguins.png').relabel(group=\"Family\",label=\"Penguin\")\n",
      "\n",
      "layout = gridspace + penguins"
     ],
     "language": "python",
     "metadata": {},
     "outputs": []
    },
    {
     "cell_type": "markdown",
     "metadata": {},
     "source": [
      "This code produces what looks like a relatively simple animation of two side-by-side figures, but is actually a deeply nested data structure:"
     ]
    },
    {
     "cell_type": "code",
     "collapsed": false,
     "input": [
      "layout"
     ],
     "language": "python",
     "metadata": {},
     "outputs": []
    },
    {
     "cell_type": "markdown",
     "metadata": {},
     "source": [
      "The structure of this object can be seen in the ``repr()``:"
     ]
    },
    {
     "cell_type": "code",
     "collapsed": false,
     "input": [
      "print(repr(layout))"
     ],
     "language": "python",
     "metadata": {},
     "outputs": []
    },
    {
     "cell_type": "markdown",
     "metadata": {},
     "source": [
      "To help us understand this structure, here is a schematic for us to refer to as we unpack this object, level by level:"
     ]
    },
    {
     "cell_type": "markdown",
     "metadata": {},
     "source": [
      "<center><img src=\"https://ioam.github.io/holoviews/Tutorials/nesting-diagram.png\"></center>"
     ]
    },
    {
     "cell_type": "markdown",
     "metadata": {},
     "source": [
      "Everything displayed in HoloViews has this same basic structure, although any of the levels can be omitted in simpler cases, and many different Element types (not containers) can be substituted for any other.  \n",
      "\n",
      "As shown in the diagram, there are three different types of container involved:\n",
      "\n",
      "- Basic Element: elementary HoloViews object containing raw data, typically a Numpy array.\n",
      "- Homogenous container (UniformNdMapping): collections of Elements or other HoloViews components that are all the same type.  These are indexed using array-style key access with values sorted along some dimension(s), e.g. ``[0.50]`` or ``[\"a\",7.6]``.\n",
      "- Heterogenous container (AttrTree): collections of data of different types, e.g. different types of Element.  These are accessed by categories using attributes, e.g. ``.Parameters.Sines``, which does not assume any ordering of a dimension.\n",
      "\n",
      "We will now go through each of the containers of these different types, at each level."
     ]
    },
    {
     "cell_type": "heading",
     "level": 3,
     "metadata": {},
     "source": [
      "``Layout`` Level"
     ]
    },
    {
     "cell_type": "markdown",
     "metadata": {},
     "source": [
      "Above, we have already viewed the highest level of our datastructure as a layout. Here is the repr of entire layout object which reflects all the levels shown in the diagram:"
     ]
    },
    {
     "cell_type": "code",
     "collapsed": false,
     "input": [
      "print(repr(layout))"
     ],
     "language": "python",
     "metadata": {},
     "outputs": []
    },
    {
     "cell_type": "heading",
     "level": 3,
     "metadata": {},
     "source": [
      "``GridSpace`` Level"
     ]
    },
    {
     "cell_type": "markdown",
     "metadata": {},
     "source": [
      "As shown in the [Introductory tutorial](Introduction), elements of a ``Layout``, such as the ``GridSapace`` in this example, are reached via attribute access:"
     ]
    },
    {
     "cell_type": "code",
     "collapsed": false,
     "input": [
      "layout.Parameters.Sines"
     ],
     "language": "python",
     "metadata": {},
     "outputs": []
    },
    {
     "cell_type": "heading",
     "level": 3,
     "metadata": {},
     "source": [
      "``HoloMap`` Level"
     ]
    },
    {
     "cell_type": "markdown",
     "metadata": {},
     "source": [
      "This ``GridSpace`` consists of nine ``HoloMap``s arranged in a two-dimensional space.  Let's now select one of these ``HoloMap`` objects, the one at [Amplitude,Power] ``[0.5,1.0]``, i.e. the lowest amplitude and power:"
     ]
    },
    {
     "cell_type": "code",
     "collapsed": false,
     "input": [
      "layout.Parameters.Sines[0.5, 1]"
     ],
     "language": "python",
     "metadata": {},
     "outputs": []
    },
    {
     "cell_type": "markdown",
     "metadata": {},
     "source": [
      "As shown in the schematic above, a ``HoloMap`` contains many elements with associated keys. In this example, these keys are indexed with a dimension ``Frequency``, which is why the ``Frequency`` varies when you play the animation here."
     ]
    },
    {
     "cell_type": "heading",
     "level": 3,
     "metadata": {},
     "source": [
      "``Overlay`` Level"
     ]
    },
    {
     "cell_type": "markdown",
     "metadata": {},
     "source": [
      "The ``repr()`` showed us that the ``HoloMap`` is composed of ``Overlay`` objects, six in this case (giving six frames to the animation above).  Let us access one of these elements, i.e. one frame of the animation above, an ``Overlay`` associated with the key with a ``Frequency`` of *1.0*:"
     ]
    },
    {
     "cell_type": "code",
     "collapsed": false,
     "input": [
      "layout.Parameters.Sines[0.5, 1][1.0]"
     ],
     "language": "python",
     "metadata": {},
     "outputs": []
    },
    {
     "cell_type": "heading",
     "level": 3,
     "metadata": {},
     "source": [
      "NdOverlay Level"
     ]
    },
    {
     "cell_type": "markdown",
     "metadata": {},
     "source": [
      "As the ``repr()`` shows, the ``Overlay`` contains a ``Points`` object and an ``NdOverlay`` object.  We can access either one of these using the attribute access supported by ``Overlay``:"
     ]
    },
    {
     "cell_type": "code",
     "collapsed": false,
     "input": [
      "(layout.Parameters.Sines[0.5, 1][1].Phases.Sines +\n",
      " layout.Parameters.Sines[0.5, 1][1].Markers.Dots)"
     ],
     "language": "python",
     "metadata": {},
     "outputs": []
    },
    {
     "cell_type": "heading",
     "level": 3,
     "metadata": {},
     "source": [
      "``Curve`` Level"
     ]
    },
    {
     "cell_type": "markdown",
     "metadata": {},
     "source": [
      "The ``NdOverlay`` is so named because it is an overlay of items indexed by dimensions, unlike the regular attribute-access overlay types.  In this case it is indexed by ``Phase``, with four values.  If we select one of these values, we will get an individual ``Curve``, e.g. the one with zero phase:"
     ]
    },
    {
     "cell_type": "code",
     "collapsed": false,
     "input": [
      "l=layout.Parameters.Sines[0.5, 1][1].Phases.Sines[0.0]\n",
      "l"
     ],
     "language": "python",
     "metadata": {},
     "outputs": []
    },
    {
     "cell_type": "code",
     "collapsed": false,
     "input": [
      "repr(l)"
     ],
     "language": "python",
     "metadata": {},
     "outputs": []
    },
    {
     "cell_type": "heading",
     "level": 3,
     "metadata": {},
     "source": [
      "Data Level"
     ]
    },
    {
     "cell_type": "markdown",
     "metadata": {},
     "source": [
      "At this point, we have reached the end of the HoloViews objects; below this object is only the raw data as a Numpy array:"
     ]
    },
    {
     "cell_type": "code",
     "collapsed": false,
     "input": [
      "type(layout.Parameters.Sines[0.5, 1][1].Phases.Sines[0.0].data)"
     ],
     "language": "python",
     "metadata": {},
     "outputs": []
    },
    {
     "cell_type": "markdown",
     "metadata": {},
     "source": [
      "Of course, you can keep going down into the Numpy array as far as it goes, to get down to a single datapoint, in this case the value at x=5.2. Note that the supplied index has to match the x-value of the underlying data exactly to floating point precision, so only use this if you know exactly what you are doing:"
     ]
    },
    {
     "cell_type": "code",
     "collapsed": false,
     "input": [
      "layout.Parameters.Sines[0.5, 1][1].Phases.Sines[0.0][5.2]"
     ],
     "language": "python",
     "metadata": {},
     "outputs": []
    },
    {
     "cell_type": "markdown",
     "metadata": {},
     "source": [
      "Here the value returned is one (x,y) pair of the underlying data, at last!  Of course, you can also use all of the access methods provided by the numpy array itself, using ``.data``, e.g. ``.data[52]``, but note that this will use the native indexing scheme of the array, i.e. integer access, starting at zero, not the [continuous coordinate system](Continuous_Coordinates) we provide through HoloViews."
     ]
    },
    {
     "cell_type": "heading",
     "level": 3,
     "metadata": {},
     "source": [
      "Indexing using ``.select``"
     ]
    },
    {
     "cell_type": "markdown",
     "metadata": {},
     "source": [
      "The curve displayed immediately above shows the final, deepest access possible in HoloViews for this object.\n",
      "\n",
      "```python\n",
      "layout.Parameters.Sines[0.5, 1][1].Phases.Sines[0.0]\n",
      "```\n",
      "This is the curve with an amplitude of *0.5*, raised to a power of *1.0* with frequency of *1.0* and *0* phase. These are all the numbers, in order, used in the access shown above.\n",
      "\n",
      "The ``.select`` method is a more explicit way to use key access, with both of these equivalent to each other:"
     ]
    },
    {
     "cell_type": "code",
     "collapsed": false,
     "input": [
      "o1 = layout.Parameters.Sines.select(Amplitude=0.5, Power=1.0).select(Frequency=1.0)\n",
      "o2 = layout.Parameters.Sines.select(Amplitude=0.5, Power=1.0, Frequency=1.0)\n",
      "o1 + o2"
     ],
     "language": "python",
     "metadata": {},
     "outputs": []
    },
    {
     "cell_type": "markdown",
     "metadata": {},
     "source": [
      "The second form demonstrates HoloViews' **deep indexing** feature. This is as far as we can index before reaching a heterogeneous type (the ``Overlay``), where we need to use attribute access. Here is the more explicit method of indexing down to a curve:"
     ]
    },
    {
     "cell_type": "code",
     "collapsed": false,
     "input": [
      "layout.Parameters.Sines.select(Amplitude=0.5,Power=1.0, \n",
      "                               Frequency=1.0).Phases.Sines.select(Phase=0.0)"
     ],
     "language": "python",
     "metadata": {},
     "outputs": []
    },
    {
     "cell_type": "heading",
     "level": 2,
     "metadata": {},
     "source": [
      "Summary"
     ]
    },
    {
     "cell_type": "markdown",
     "metadata": {},
     "source": [
      "As you can see, HoloViews lets you compose objects of heterogenous types, and objects covering many different numerical or other dimensions, laying them out spatially or as overlays where appropriate.  The resulting data structures are complex, but they are composed of simple elements with well-defined interactions, making it feasible to express nearly any relationship that will characterize your data.  In practice, you will probably not need this many levels, but given this complete example, you should be able to construct an appropriate organization for whatever type of data that you do want to organize or visualize. \n",
      "\n",
      "As emphasized above, it is not possible to combine these objects in other orderings.  Of course, any ``Element`` can be substituted for any other, which doesn't change the structure.  But you cannot e.g. have an ``Overlay`` or ``HoloMap`` of ``Layout`` objects.  Confusingly, the objects may *act* as if you have these arrangements.  For instance, a ``Layout`` of ``HoloMap`` objects will be animated, like ``HoloMap`` objects, but only because of the extra dimension(s) provided by the enclosed ``HoloMap`` objects, not because the ``Layout`` itself has data along those dimensions.  Similarly, you cannot have a ``Layout`` of ``Layout`` objects, even though it looks like you can.  E.g. the ``+`` operator on two ``Layout`` objects will not create a ``Layout`` of ``Layout`` objects; it just creates a new ``Layout`` object containing the data from both of the other objects.  Similarly for the ``Overlay`` of ``Overlay`` objects using ``*``; only a single combined ``Overlay`` is returned.\n",
      "\n",
      "If you are confused about how all of this works in practice, you can use the examples in the tutorials to guide you, especially the [Exploring Data](Exploring_Data) tutorial.  "
     ]
    }
   ],
   "metadata": {}
  }
 ]
}