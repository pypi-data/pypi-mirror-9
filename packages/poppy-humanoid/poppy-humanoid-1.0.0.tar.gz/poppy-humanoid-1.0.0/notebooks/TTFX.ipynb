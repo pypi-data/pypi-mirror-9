{
 "metadata": {
  "name": "",
  "signature": "sha256:5a14eff7aa78bd0ec2ca91f1e4e5d07a0f2ea572b1551924aae89cc4212648f1"
 },
 "nbformat": 3,
 "nbformat_minor": 0,
 "worksheets": [
  {
   "cells": [
    {
     "cell_type": "heading",
     "level": 1,
     "metadata": {},
     "source": [
      "Controler une cr\u00e9ature Poppy"
     ]
    },
    {
     "cell_type": "markdown",
     "metadata": {},
     "source": [
      "Diff\u00e9rentes cr\u00e9atures:\n",
      "* humanoid\n",
      "* torso\n",
      "* ergo\n",
      "* ..."
     ]
    },
    {
     "cell_type": "code",
     "collapsed": false,
     "input": [
      "from poppy.creatures import PoppyHumanoid\n",
      "\n",
      "poppy = PoppyHumanoid()"
     ],
     "language": "python",
     "metadata": {},
     "outputs": []
    },
    {
     "cell_type": "markdown",
     "metadata": {},
     "source": [
      "On peut donner des positions de base:\n",
      "* debout\n",
      "* assis"
     ]
    },
    {
     "cell_type": "code",
     "collapsed": false,
     "input": [
      "poppy.stand.start()"
     ],
     "language": "python",
     "metadata": {},
     "outputs": []
    },
    {
     "cell_type": "markdown",
     "metadata": {},
     "source": [
      "Les valeurs des moteurs hardware sont automatiquement synchronis\u00e9es (\u00e0 50Hz) avec les valeurs de l'objet (R/W)."
     ]
    },
    {
     "cell_type": "markdown",
     "metadata": {},
     "source": [
      "On peut r\u00e9cup\u00e9rer la liste des moteurs, lire les diff\u00e9rents registres des servo-moteurs:"
     ]
    },
    {
     "cell_type": "code",
     "collapsed": false,
     "input": [
      "poppy.motors"
     ],
     "language": "python",
     "metadata": {},
     "outputs": []
    },
    {
     "cell_type": "code",
     "collapsed": false,
     "input": [
      "poppy.head_z.present_position"
     ],
     "language": "python",
     "metadata": {},
     "outputs": []
    },
    {
     "cell_type": "code",
     "collapsed": false,
     "input": [
      "poppy.head_z.present_load"
     ],
     "language": "python",
     "metadata": {},
     "outputs": []
    },
    {
     "cell_type": "code",
     "collapsed": false,
     "input": [
      "{m.name: m.present_position for m in poppy.motors}"
     ],
     "language": "python",
     "metadata": {},
     "outputs": []
    },
    {
     "cell_type": "markdown",
     "metadata": {},
     "source": [
      "De la m\u00eame mani\u00e8re on peut \u00e9crire dans ces registres:"
     ]
    },
    {
     "cell_type": "code",
     "collapsed": false,
     "input": [
      "poppy.head_z.goal_position = 30"
     ],
     "language": "python",
     "metadata": {},
     "outputs": []
    },
    {
     "cell_type": "code",
     "collapsed": false,
     "input": [
      "poppy.head_z.goal_position = -30"
     ],
     "language": "python",
     "metadata": {},
     "outputs": []
    },
    {
     "cell_type": "code",
     "collapsed": false,
     "input": [
      "import time\n",
      "\n",
      "from numpy import sin\n",
      "\n",
      "amp = 30\n",
      "freq = 0.5\n",
      "\n",
      "t0 = time.time()\n",
      "\n",
      "while time.time() - t0 < 10:\n",
      "    t = time.time()\n",
      "    pos = amp * sin(2 * 3.14 * f * t)\n",
      "    \n",
      "    poppy.head_z.goal_position = pos\n",
      "    \n",
      "    time.sleep(0.02)"
     ],
     "language": "python",
     "metadata": {},
     "outputs": []
    },
    {
     "cell_type": "heading",
     "level": 2,
     "metadata": {},
     "source": [
      "Primitives"
     ]
    },
    {
     "cell_type": "code",
     "collapsed": false,
     "input": [
      "from pypot.primitive.utils import Sinus\n",
      "\n",
      "s1 = Sinus(poppy, 50., [poppy.head_z, poppy.head_y], amp=20, freq=0.5)"
     ],
     "language": "python",
     "metadata": {},
     "outputs": []
    },
    {
     "cell_type": "code",
     "collapsed": false,
     "input": [
      "s1.start()"
     ],
     "language": "python",
     "metadata": {},
     "outputs": []
    },
    {
     "cell_type": "code",
     "collapsed": false,
     "input": [
      "s2 = Sinus(poppy, 50., [poppy.head_z, ], amp=5, freq=0.75)"
     ],
     "language": "python",
     "metadata": {},
     "outputs": []
    },
    {
     "cell_type": "code",
     "collapsed": false,
     "input": [
      "s2.start()"
     ],
     "language": "python",
     "metadata": {},
     "outputs": []
    },
    {
     "cell_type": "code",
     "collapsed": false,
     "input": [
      "pos = []\n",
      "\n",
      "t0 = time.time()\n",
      "while time.time() - t0 < 10:\n",
      "    pos.append(poppy.head_z.present_position)\n",
      "    time.sleep(0.1)\n",
      "    \n",
      "s1.stop()\n",
      "s2.stop()"
     ],
     "language": "python",
     "metadata": {},
     "outputs": []
    },
    {
     "cell_type": "code",
     "collapsed": false,
     "input": [
      "%pylab inline\n",
      "\n",
      "plot(l)"
     ],
     "language": "python",
     "metadata": {},
     "outputs": []
    },
    {
     "cell_type": "heading",
     "level": 2,
     "metadata": {},
     "source": [
      "Pareil en V-REP"
     ]
    },
    {
     "cell_type": "markdown",
     "metadata": {},
     "source": [
      "http://localhost:8888/notebooks/Desktop/TTFX-VREP.ipynb"
     ]
    },
    {
     "cell_type": "heading",
     "level": 2,
     "metadata": {},
     "source": [
      "Utilisation de SNAP"
     ]
    },
    {
     "cell_type": "markdown",
     "metadata": {},
     "source": [
      "Via un serveur web et acc\u00e8s \u00e0 travers une REST API."
     ]
    },
    {
     "cell_type": "code",
     "collapsed": false,
     "input": [
      "from poppy.creatures import PoppyHumanoid\n",
      "\n",
      "poppy = PoppyHumanoid(simulator='vrep')"
     ],
     "language": "python",
     "metadata": {},
     "outputs": [],
     "prompt_number": 1
    },
    {
     "cell_type": "code",
     "collapsed": false,
     "input": [
      "from pypot.server.snap import SnapRobotServer\n",
      "\n",
      "snap_server = SnapRobotServer(poppy, '0.0.0.0', 8080)\n",
      "snap_server.run()"
     ],
     "language": "python",
     "metadata": {},
     "outputs": []
    },
    {
     "cell_type": "markdown",
     "metadata": {},
     "source": [
      "http://snap.berkeley.edu/snapsource/snap.html#open:http://poppy-humanoid.local:8080/snap-blocks.xml"
     ]
    },
    {
     "cell_type": "heading",
     "level": 2,
     "metadata": {},
     "source": [
      "Apprentissage autonome: [Explauto](https://github.com/flowersteam/explauto)"
     ]
    },
    {
     "cell_type": "code",
     "collapsed": false,
     "input": [
      "from IPython.display import VimeoVideo\n",
      "\n",
      "VimeoVideo(95405850)"
     ],
     "language": "python",
     "metadata": {},
     "outputs": [
      {
       "html": [
        "\n",
        "        <iframe\n",
        "            width=\"400\"\n",
        "            height=300\"\n",
        "            src=\"https://player.vimeo.com/video/95405850\"\n",
        "            frameborder=\"0\"\n",
        "            allowfullscreen\n",
        "        ></iframe>\n",
        "        "
       ],
       "metadata": {},
       "output_type": "pyout",
       "prompt_number": 1,
       "text": [
        "<IPython.lib.display.VimeoVideo at 0x108048a10>"
       ]
      }
     ],
     "prompt_number": 1
    },
    {
     "cell_type": "code",
     "collapsed": false,
     "input": [],
     "language": "python",
     "metadata": {},
     "outputs": []
    }
   ],
   "metadata": {}
  }
 ]
}