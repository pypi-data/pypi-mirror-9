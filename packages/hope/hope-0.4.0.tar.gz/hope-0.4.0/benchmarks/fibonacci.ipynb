{
 "metadata": {
  "name": "",
  "signature": "sha256:c2e8018cf3530fa66b1f12e3044c71d39d6f7c1954acb15ff475eefbef500867"
 },
 "nbformat": 3,
 "nbformat_minor": 0,
 "worksheets": [
  {
   "cells": [
    {
     "cell_type": "code",
     "collapsed": false,
     "input": [
      "from util import perf_comp_data"
     ],
     "language": "python",
     "metadata": {},
     "outputs": [],
     "prompt_number": 1
    },
    {
     "cell_type": "code",
     "collapsed": false,
     "input": [
      "def fib(n):\n",
      "    if n < 2:\n",
      "        return n\n",
      "    return fib(n - 1) + fib(n - 2)\n",
      "\n",
      "assert fib(20) == 6765"
     ],
     "language": "python",
     "metadata": {},
     "outputs": [],
     "prompt_number": 2
    },
    {
     "cell_type": "code",
     "collapsed": false,
     "input": [
      "from hope import jit\n",
      "\n",
      "hope_fib = jit(fib)\n",
      "\n",
      "assert hope_fib(20) == 6765"
     ],
     "language": "python",
     "metadata": {},
     "outputs": [],
     "prompt_number": 3
    },
    {
     "cell_type": "code",
     "collapsed": false,
     "input": [
      "from numba import jit\n",
      "\n",
      "numba_fib = jit(fib)\n",
      "assert numba_fib(20) == 6765"
     ],
     "language": "python",
     "metadata": {},
     "outputs": [],
     "prompt_number": 4
    },
    {
     "cell_type": "code",
     "collapsed": false,
     "input": [
      "print \"python\"\n",
      "%timeit fib(20)\n",
      "print \"hope 1\"\n",
      "%timeit hope_fib(20)\n",
      "print \"numba\"\n",
      "%timeit numba_fib(20)"
     ],
     "language": "python",
     "metadata": {},
     "outputs": [
      {
       "output_type": "stream",
       "stream": "stdout",
       "text": [
        "python\n",
        "100 loops, best of 3: 2.59 ms per loop"
       ]
      },
      {
       "output_type": "stream",
       "stream": "stdout",
       "text": [
        "\n",
        "hope 1\n",
        "10000 loops, best of 3: 42 \u00b5s per loop"
       ]
      },
      {
       "output_type": "stream",
       "stream": "stdout",
       "text": [
        "\n",
        "numba\n",
        "100 loops, best of 3: 2.67 ms per loop"
       ]
      },
      {
       "output_type": "stream",
       "stream": "stdout",
       "text": [
        "\n"
       ]
      }
     ],
     "prompt_number": 5
    },
    {
     "cell_type": "code",
     "collapsed": false,
     "input": [
      "n=20\n",
      "perf_comp_data([\"fib\", \"hope_fib\", \"numba_fib\"], 3*[\"n\"])"
     ],
     "language": "python",
     "metadata": {},
     "outputs": [
      {
       "output_type": "stream",
       "stream": "stdout",
       "text": [
        "function: hope_fib                      , av. time sec:   0.00005205, relative:       1.0\n",
        "function: fib                           , av. time sec:   0.00290926, relative:      55.9\n",
        "function: numba_fib                     , av. time sec:   0.00306726, relative:      58.9\n"
       ]
      }
     ],
     "prompt_number": 6
    },
    {
     "cell_type": "code",
     "collapsed": false,
     "input": [
      "numba_fib.inspect_types()"
     ],
     "language": "python",
     "metadata": {},
     "outputs": [
      {
       "output_type": "stream",
       "stream": "stdout",
       "text": [
        "fib (int64,)\n",
        "--------------------------------------------------------------------------------\n",
        "# File: <ipython-input-2-24febe657cfb>\n",
        "# --- LINE 1 --- \n",
        "\n",
        "def fib(n):\n",
        "\n",
        "    # --- LINE 2 --- \n",
        "    # label 0\n",
        "    #   n.1 = n  :: pyobject\n",
        "    #   $const0.2 = const(<type 'int'>, 2)  :: pyobject\n",
        "    #   $0.3 = n.1 < $const0.2  :: pyobject\n",
        "    #   branch $0.3, 12, 16\n",
        "\n",
        "    if n < 2:\n",
        "\n",
        "        # --- LINE 3 --- \n",
        "        # label 12\n",
        "        #   return n.1\n",
        "\n",
        "        return n\n",
        "\n",
        "    # --- LINE 4 --- \n",
        "    # label 16\n",
        "    #   $16.1 = global(fib: <function fib at 0x10e6e9cf8>)  :: pyobject\n",
        "    #   $const16.3 = const(<type 'int'>, 1)  :: pyobject\n",
        "    #   $16.4 = n.1 - $const16.3  :: pyobject\n",
        "    #   $16.5 = call $16.1($16.4, )  :: pyobject\n",
        "    #   $16.6 = global(fib: <function fib at 0x10e6e9cf8>)  :: pyobject\n",
        "    #   $const16.8 = const(<type 'int'>, 2)  :: pyobject\n",
        "    #   $16.9 = n.1 - $const16.8  :: pyobject\n",
        "    #   $16.10 = call $16.6($16.9, )  :: pyobject\n",
        "    #   $16.11 = $16.5 + $16.10  :: pyobject\n",
        "    #   return $16.11\n",
        "\n",
        "    return fib(n - 1) + fib(n - 2)\n",
        "\n",
        "\n",
        "================================================================================\n"
       ]
      }
     ],
     "prompt_number": 7
    },
    {
     "cell_type": "code",
     "collapsed": false,
     "input": [],
     "language": "python",
     "metadata": {},
     "outputs": []
    }
   ],
   "metadata": {}
  }
 ]
}