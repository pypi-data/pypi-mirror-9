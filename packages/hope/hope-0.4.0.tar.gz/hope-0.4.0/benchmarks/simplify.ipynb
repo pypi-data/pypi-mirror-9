{
 "metadata": {
  "name": "",
  "signature": "sha256:162f3d58c482919f419e58ffcac472a163f0e58c1278956fd7cefd2e91118997"
 },
 "nbformat": 3,
 "nbformat_minor": 0,
 "worksheets": [
  {
   "cells": [
    {
     "cell_type": "code",
     "collapsed": false,
     "input": [
      "import hope\n",
      "hope.config.optimize = True\n",
      "hope.config.verbose = True\n",
      "hope.config.keeptemp = True\n",
      "import numba\n",
      "import numpy as np\n",
      "import numexpr as ne\n",
      "\n",
      "from util import perf_comp_data\n",
      "from native_util import load\n",
      "%load_ext cythonmagic\n",
      "%load_ext version_information\n",
      "%version_information numpy, Cython, numba, hope, numexpr"
     ],
     "language": "python",
     "metadata": {},
     "outputs": [
      {
       "html": [
        "<table><tr><th>Software</th><th>Version</th></tr><tr><td>Python</td><td>2.7.8 (default, Jul 13 2014, 17:11:32) [GCC 4.2.1 Compatible Apple LLVM 5.1 (clang-503.0.40)]</td></tr><tr><td>IPython</td><td>1.1.0</td></tr><tr><td>OS</td><td>posix [darwin]</td></tr><tr><td>numpy</td><td>1.8.1</td></tr><tr><td>Cython</td><td>0.20.2</td></tr><tr><td>numba</td><td>0.13.3</td></tr><tr><td>hope</td><td>0.3.0</td></tr><tr><td>numexpr</td><td>2.4</td></tr><tr><td colspan='2'>Thu Sep 04 15:17:12 2014 CEST</td></tr></table>"
       ],
       "json": [
        "{\"Software versions\": [{\"version\": \"2.7.8 (default, Jul 13 2014, 17:11:32) [GCC 4.2.1 Compatible Apple LLVM 5.1 (clang-503.0.40)]\", \"module\": \"Python\"}, {\"version\": \"1.1.0\", \"module\": \"IPython\"}, {\"version\": \"posix [darwin]\", \"module\": \"OS\"}, {\"version\": \"1.8.1\", \"module\": \"numpy\"}, {\"version\": \"0.20.2\", \"module\": \"Cython\"}, {\"version\": \"0.13.3\", \"module\": \"numba\"}, {\"version\": \"0.3.0\", \"module\": \"hope\"}, {\"version\": \"2.4\", \"module\": \"numexpr\"}]}"
       ],
       "latex": [
        "\\begin{tabular}{|l|l|}\\hline\n",
        "{\\bf Software} & {\\bf Version} \\\\ \\hline\\hline\n",
        "Python & 2.7.8 (default, Jul 13 2014, 17:11:32) [GCC 4.2.1 Compatible Apple LLVM 5.1 (clang-503.0.40)] \\\\ \\hline\n",
        "IPython & 1.1.0 \\\\ \\hline\n",
        "OS & posix [darwin] \\\\ \\hline\n",
        "numpy & 1.8.1 \\\\ \\hline\n",
        "Cython & 0.20.2 \\\\ \\hline\n",
        "numba & 0.13.3 \\\\ \\hline\n",
        "hope & 0.3.0 \\\\ \\hline\n",
        "numexpr & 2.4 \\\\ \\hline\n",
        "\\hline \\multicolumn{2}{|l|}{Thu Sep 04 15:17:12 2014 CEST} \\\\ \\hline\n",
        "\\end{tabular}\n"
       ],
       "metadata": {},
       "output_type": "pyout",
       "prompt_number": 1,
       "text": [
        "Software versions\n",
        "Python 2.7.8 (default, Jul 13 2014, 17:11:32) [GCC 4.2.1 Compatible Apple LLVM 5.1 (clang-503.0.40)]\n",
        "IPython 1.1.0\n",
        "OS posix [darwin]\n",
        "numpy 1.8.1\n",
        "Cython 0.20.2\n",
        "numba 0.13.3\n",
        "hope 0.3.0\n",
        "numexpr 2.4\n",
        "<tr><td colspan='2'>Thu Sep 04 15:17:12 2014 CEST</td></tr>"
       ]
      }
     ],
     "prompt_number": 1
    },
    {
     "cell_type": "code",
     "collapsed": false,
     "input": [
      "def poly(res, arg):\n",
      "    res[:] = np.sin(arg)**2 + (arg**3 + arg**2 - arg - 1)/(arg**2 + 2*arg + 1) + np.cos(arg)**2\n",
      "hope_poly = hope.jit(poly)\n",
      "numba_poly = numba.jit(poly, nopython=False)\n",
      "\n",
      "native_poly_mod = load(\"poly\")\n",
      "native_poly = native_poly_mod.run\n"
     ],
     "language": "python",
     "metadata": {},
     "outputs": [
      {
       "output_type": "stream",
       "stream": "stdout",
       "text": [
        "running build_ext\n",
        "building 'poly' extension\n",
        "C compiler: /usr/bin/clang -fno-strict-aliasing -fno-common -dynamic -pipe -Os -fwrapv -DNDEBUG -g -fwrapv -O3 -Wall -Wstrict-prototypes\n",
        "\n",
        "compile options: '-I/Users/jakeret/Library/Python/2.7/lib/python/site-packages/numpy/core/include -I/opt/local/Library/Frameworks/Python.framework/Versions/2.7/include/python2.7 -c'\n",
        "extra options: '-Wall -Wno-unused-variable -march=native -stdlib=libc++ -std=c++11'\n",
        "clang: ././src/poly.cpp\n",
        "/usr/bin/clang++ -bundle -undefined dynamic_lookup -L/opt/local/lib -Wl,-headerpad_max_install_names -L/opt/local/lib/db46 ./src/poly.o -o ./poly.so\n",
        "\n"
       ]
      }
     ],
     "prompt_number": 2
    },
    {
     "cell_type": "code",
     "collapsed": false,
     "input": [
      "%%cython\n",
      "\n",
      "cimport cython\n",
      "from libc.math cimport sin\n",
      "from libc.math cimport cos\n",
      "from libc.math cimport pow\n",
      "\n",
      "@cython.boundscheck(False)\n",
      "@cython.wraparound(False)\n",
      "def cython_poly(double[:] res, double[:] arg):\n",
      "    for i in range(len(arg)):\n",
      "        i_arg = arg[i]\n",
      "        res[i] = pow(sin(i_arg),2) + (pow(i_arg,3) + pow(i_arg,2) - i_arg - 1)/(pow(i_arg,2) + 2*i_arg + 1) + pow(cos(i_arg),2)\n",
      "\n"
     ],
     "language": "python",
     "metadata": {},
     "outputs": [],
     "prompt_number": 3
    },
    {
     "cell_type": "code",
     "collapsed": false,
     "input": [
      "%%cython\n",
      "cimport cython\n",
      "import numpy as np\n",
      "cimport numpy as np\n",
      "\n",
      "@cython.boundscheck(False)\n",
      "@cython.wraparound(False)\n",
      "def cython_numpy_poly(np.ndarray[np.double_t, ndim=1] res, np.ndarray[np.double_t, ndim=1] arg):\n",
      "    res[:] = np.sin(arg)**2 + (arg**3 + arg**2 - arg - 1)/(arg**2 + 2*arg + 1) + np.cos(arg)**2\n"
     ],
     "language": "python",
     "metadata": {},
     "outputs": [],
     "prompt_number": 4
    },
    {
     "cell_type": "code",
     "collapsed": false,
     "input": [
      "# NumExpr version\n",
      "\n",
      "import numexpr as ne\n",
      "\n",
      "def numexpr_poly(res, arg):\n",
      "    res[:] = ne.evaluate(\"sin(arg)**2 + (arg**3 + arg**2 - arg - 1)/(arg**2 + 2*arg + 1) + cos(arg)**2\")\n"
     ],
     "language": "python",
     "metadata": {},
     "outputs": [],
     "prompt_number": 5
    },
    {
     "cell_type": "code",
     "collapsed": false,
     "input": [
      "arg = np.random.random(50000)\n",
      "res = np.empty_like(arg)\n",
      "\n",
      "res1 = np.empty_like(arg)\n",
      "res2 = np.empty_like(arg)\n",
      "res3 = np.empty_like(arg)\n",
      "res4 = np.empty_like(arg)\n",
      "res5 = np.empty_like(arg)\n",
      "\n",
      "poly(res1, arg)\n",
      "hope_poly(res2, arg)\n",
      "numba_poly(res3, arg)\n",
      "native_poly(res4, arg)\n",
      "numexpr_poly(res5, arg)\n",
      "\n",
      "assert np.allclose(res1, res2)\n",
      "assert np.allclose(res1, res3)\n",
      "assert np.allclose(res1, res4)\n",
      "assert np.allclose(res1, res5)\n"
     ],
     "language": "python",
     "metadata": {},
     "outputs": [],
     "prompt_number": 7
    },
    {
     "cell_type": "code",
     "collapsed": false,
     "input": [
      "print \"python\"\n",
      "%timeit poly(res, arg)\n",
      "print \"hope\"\n",
      "%timeit hope_poly(res, arg)\n",
      "print \"numba\"\n",
      "%timeit numba_poly(res, arg)\n",
      "print \"cython\"\n",
      "%timeit cython_poly(res, arg)\n",
      "print \"cython numpy\"\n",
      "%timeit cython_numpy_poly(res, arg)\n",
      "print \"native\"\n",
      "%timeit native_poly(res, arg)\n",
      "print \"numexpr (1)\"\n",
      "ne.set_num_threads(1)\n",
      "%timeit numexpr_poly(res, arg)\n",
      "print \"numexpr ({0})\".format(ne.detect_number_of_cores())\n",
      "ne.set_num_threads(ne.detect_number_of_cores())\n",
      "%timeit numexpr_poly(res, arg)\n",
      "\n"
     ],
     "language": "python",
     "metadata": {},
     "outputs": [
      {
       "output_type": "stream",
       "stream": "stdout",
       "text": [
        "python\n",
        "100 loops, best of 3: 2.57 ms per loop"
       ]
      },
      {
       "output_type": "stream",
       "stream": "stdout",
       "text": [
        "\n",
        "hope\n",
        "10000 loops, best of 3: 29 \u00b5s per loop"
       ]
      },
      {
       "output_type": "stream",
       "stream": "stdout",
       "text": [
        "\n",
        "numba\n",
        "100 loops, best of 3: 2.66 ms per loop"
       ]
      },
      {
       "output_type": "stream",
       "stream": "stdout",
       "text": [
        "\n",
        "cython\n",
        "100 loops, best of 3: 9.97 ms per loop"
       ]
      },
      {
       "output_type": "stream",
       "stream": "stdout",
       "text": [
        "\n",
        "cython numpy\n",
        "100 loops, best of 3: 2.56 ms per loop"
       ]
      },
      {
       "output_type": "stream",
       "stream": "stdout",
       "text": [
        "\n",
        "native\n",
        "100 loops, best of 3: 2.06 ms per loop"
       ]
      },
      {
       "output_type": "stream",
       "stream": "stdout",
       "text": [
        "\n",
        "numexpr (1)\n",
        "1000 loops, best of 3: 1.33 ms per loop"
       ]
      },
      {
       "output_type": "stream",
       "stream": "stdout",
       "text": [
        "\n",
        "numexpr (8)\n",
        "1000 loops, best of 3: 550 \u00b5s per loop"
       ]
      },
      {
       "output_type": "stream",
       "stream": "stdout",
       "text": [
        "\n"
       ]
      }
     ],
     "prompt_number": 8
    },
    {
     "cell_type": "code",
     "collapsed": false,
     "input": [
      "ne.set_num_threads(8)\n",
      "perf_comp_data([\"poly\", \n",
      "                \"hope_poly\", \n",
      "                \"numba_poly\", \n",
      "                \"cython_poly\", \n",
      "                \"cython_numpy_poly\", \n",
      "                \"native_poly\",\n",
      "                \"numexpr_poly\"], \n",
      "               7*[\"res, arg\"], rep=100)"
     ],
     "language": "python",
     "metadata": {},
     "outputs": [
      {
       "output_type": "stream",
       "stream": "stdout",
       "text": [
        "function: hope_poly           , av. time sec:   0.00002789, min. time sec:   0.00002694, relative:       1.0\n",
        "function: numexpr_poly        , av. time sec:   0.00054300, min. time sec:   0.00048995, relative:      19.5\n",
        "function: native_poly         , av. time sec:   0.00204802, min. time sec:   0.00201893, relative:      73.4\n",
        "function: cython_numpy_poly   , av. time sec:   0.00257111, min. time sec:   0.00251794, relative:      92.2\n",
        "function: poly                , av. time sec:   0.00260139, min. time sec:   0.00251603, relative:      93.3\n",
        "function: numba_poly          , av. time sec:   0.00272107, min. time sec:   0.00263000, relative:      97.5\n",
        "function: cython_poly         , av. time sec:   0.00962663, min. time sec:   0.00949407, relative:     345.1\n"
       ]
      }
     ],
     "prompt_number": 9
    },
    {
     "cell_type": "code",
     "collapsed": false,
     "input": [],
     "language": "python",
     "metadata": {},
     "outputs": []
    }
   ],
   "metadata": {}
  }
 ]
}