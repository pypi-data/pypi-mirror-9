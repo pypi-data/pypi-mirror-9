{
 "metadata": {
  "name": "",
  "signature": "sha256:1fb785098fbe4c8872abc9c10232ddb25cc7c2e7aa992b02730c9fd63ff5b18f"
 },
 "nbformat": 3,
 "nbformat_minor": 0,
 "worksheets": [
  {
   "cells": [
    {
     "cell_type": "code",
     "collapsed": false,
     "input": [
      "import hope\n",
      "hope.config.optimize = True\n",
      "hope.config.verbose = True\n",
      "hope.config.keeptemp = True\n",
      "import numba\n",
      "import numpy as np\n",
      "from util import perf_comp_data\n",
      "from native_util import load\n",
      "%load_ext cythonmagic\n",
      "%load_ext version_information\n",
      "%version_information numpy, Cython, numba, hope"
     ],
     "language": "python",
     "metadata": {},
     "outputs": [
      {
       "html": [
        "<table><tr><th>Software</th><th>Version</th></tr><tr><td>Python</td><td>2.7.8 (default, Jul 13 2014, 17:11:32) [GCC 4.2.1 Compatible Apple LLVM 5.1 (clang-503.0.40)]</td></tr><tr><td>IPython</td><td>1.1.0</td></tr><tr><td>OS</td><td>posix [darwin]</td></tr><tr><td>numpy</td><td>1.8.1</td></tr><tr><td>Cython</td><td>0.20.2</td></tr><tr><td>numba</td><td>0.13.3</td></tr><tr><td>hope</td><td>0.3.0</td></tr><tr><td colspan='2'>Thu Sep 04 15:18:18 2014 CEST</td></tr></table>"
       ],
       "json": [
        "{\"Software versions\": [{\"version\": \"2.7.8 (default, Jul 13 2014, 17:11:32) [GCC 4.2.1 Compatible Apple LLVM 5.1 (clang-503.0.40)]\", \"module\": \"Python\"}, {\"version\": \"1.1.0\", \"module\": \"IPython\"}, {\"version\": \"posix [darwin]\", \"module\": \"OS\"}, {\"version\": \"1.8.1\", \"module\": \"numpy\"}, {\"version\": \"0.20.2\", \"module\": \"Cython\"}, {\"version\": \"0.13.3\", \"module\": \"numba\"}, {\"version\": \"0.3.0\", \"module\": \"hope\"}]}"
       ],
       "latex": [
        "\\begin{tabular}{|l|l|}\\hline\n",
        "{\\bf Software} & {\\bf Version} \\\\ \\hline\\hline\n",
        "Python & 2.7.8 (default, Jul 13 2014, 17:11:32) [GCC 4.2.1 Compatible Apple LLVM 5.1 (clang-503.0.40)] \\\\ \\hline\n",
        "IPython & 1.1.0 \\\\ \\hline\n",
        "OS & posix [darwin] \\\\ \\hline\n",
        "numpy & 1.8.1 \\\\ \\hline\n",
        "Cython & 0.20.2 \\\\ \\hline\n",
        "numba & 0.13.3 \\\\ \\hline\n",
        "hope & 0.3.0 \\\\ \\hline\n",
        "\\hline \\multicolumn{2}{|l|}{Thu Sep 04 15:18:18 2014 CEST} \\\\ \\hline\n",
        "\\end{tabular}\n"
       ],
       "metadata": {},
       "output_type": "pyout",
       "prompt_number": 1,
       "text": [
        "Software versions\n",
        "Python 2.7.8 (default, Jul 13 2014, 17:11:32) [GCC 4.2.1 Compatible Apple LLVM 5.1 (clang-503.0.40)]\n",
        "IPython 1.1.0\n",
        "OS posix [darwin]\n",
        "numpy 1.8.1\n",
        "Cython 0.20.2\n",
        "numba 0.13.3\n",
        "hope 0.3.0\n",
        "<tr><td colspan='2'>Thu Sep 04 15:18:18 2014 CEST</td></tr>"
       ]
      }
     ],
     "prompt_number": 1
    },
    {
     "cell_type": "code",
     "collapsed": false,
     "input": [
      "# Pure python version\n",
      "\n",
      "def pairwise_python(X, D):\n",
      "    M = X.shape[0]\n",
      "    N = X.shape[1]\n",
      "    for i in range(M):\n",
      "        for j in range(M):\n",
      "            d = 0.0\n",
      "            for k in range(N):\n",
      "                tmp = X[i, k] - X[j, k]\n",
      "                d += tmp * tmp\n",
      "            D[i, j] = np.sqrt(d)"
     ],
     "language": "python",
     "metadata": {},
     "outputs": [],
     "prompt_number": 2
    },
    {
     "cell_type": "code",
     "collapsed": false,
     "input": [
      "# Numpy python version\n",
      "\n",
      "def pairwise_numpy(X, D):\n",
      "    M = X.shape[0]\n",
      "    for i in range(M):\n",
      "        D[i, :] = np.sqrt(np.sum((X[i, :] - X[:]) ** 2, axis=1))"
     ],
     "language": "python",
     "metadata": {},
     "outputs": [],
     "prompt_number": 3
    },
    {
     "cell_type": "code",
     "collapsed": false,
     "input": [
      "# numba version\n",
      "@numba.jit(nopython=True)\n",
      "def pairwise_numba(X, D):\n",
      "    M = X.shape[0]\n",
      "    N = X.shape[1]\n",
      "    for i in range(M):\n",
      "        for j in range(M):\n",
      "            d = 0.0\n",
      "            for k in range(N):\n",
      "                tmp = X[i, k] - X[j, k]\n",
      "                d += tmp * tmp\n",
      "            D[i, j] = np.sqrt(d)"
     ],
     "language": "python",
     "metadata": {},
     "outputs": [],
     "prompt_number": 4
    },
    {
     "cell_type": "code",
     "collapsed": false,
     "input": [
      "%%cython\n",
      "\n",
      "cimport cython\n",
      "from libc.math cimport sqrt\n",
      "\n",
      "@cython.boundscheck(False)\n",
      "@cython.wraparound(False)\n",
      "def pairwise_cython(double[:, ::1] X, double[:, ::1] D):\n",
      "    cdef int M = X.shape[0]\n",
      "    cdef int N = X.shape[1]\n",
      "    cdef double tmp, d\n",
      "    for i in range(M):\n",
      "        for j in range(M):\n",
      "            d = 0.0\n",
      "            for k in range(N):\n",
      "                tmp = X[i, k] - X[j, k]\n",
      "                d += tmp * tmp\n",
      "            D[i, j] = sqrt(d)"
     ],
     "language": "python",
     "metadata": {},
     "outputs": [],
     "prompt_number": 5
    },
    {
     "cell_type": "code",
     "collapsed": false,
     "input": [
      "# hope version\n",
      "@hope.jit\n",
      "def pairwise_hope(X, D, M, N):\n",
      "    for i in range(M):\n",
      "        for j in range(M):\n",
      "            d = 0.0\n",
      "            for k in range(N):\n",
      "                tmp = X[i, k] - X[j, k]\n",
      "                d += tmp * tmp\n",
      "            D[i, j] = np.sqrt(d)\n"
     ],
     "language": "python",
     "metadata": {},
     "outputs": [],
     "prompt_number": 6
    },
    {
     "cell_type": "code",
     "collapsed": false,
     "input": [
      "from native_util import load\n",
      "\n",
      "native_pairwise_mod = load(\"pairwise\")\n",
      "pairwise_native = native_pairwise_mod.run"
     ],
     "language": "python",
     "metadata": {},
     "outputs": [
      {
       "output_type": "stream",
       "stream": "stdout",
       "text": [
        "running build_ext\n",
        "building 'pairwise' extension\n",
        "C compiler: /usr/bin/clang -fno-strict-aliasing -fno-common -dynamic -pipe -Os -fwrapv -DNDEBUG -g -fwrapv -O3 -Wall -Wstrict-prototypes\n",
        "\n",
        "compile options: '-I/Users/jakeret/Library/Python/2.7/lib/python/site-packages/numpy/core/include -I/opt/local/Library/Frameworks/Python.framework/Versions/2.7/include/python2.7 -c'\n",
        "extra options: '-Wall -Wno-unused-variable -march=native -stdlib=libc++ -std=c++11'\n",
        "clang: ././src/pairwise.cpp\n",
        "/usr/bin/clang++ -bundle -undefined dynamic_lookup -L/opt/local/lib -Wl,-headerpad_max_install_names -L/opt/local/lib/db46 ./src/pairwise.o -o ./pairwise.so\n",
        "\n"
       ]
      }
     ],
     "prompt_number": 7
    },
    {
     "cell_type": "code",
     "collapsed": false,
     "input": [
      "X = np.random.random((1000, 3))\n",
      "D = np.empty((1000, 1000))"
     ],
     "language": "python",
     "metadata": {},
     "outputs": [],
     "prompt_number": 8
    },
    {
     "cell_type": "code",
     "collapsed": false,
     "input": [
      "D1 = np.empty((1000, 1000))\n",
      "D2 = np.empty((1000, 1000))\n",
      "D3 = np.empty((1000, 1000))\n",
      "D4 = np.empty((1000, 1000))\n",
      "D5 = np.empty((1000, 1000))\n",
      "D6 = np.empty((1000, 1000))\n",
      "\n",
      "pairwise_python(X, D1)\n",
      "pairwise_numpy(X, D2)\n",
      "pairwise_numba(X, D3)\n",
      "pairwise_cython(X, D4)\n",
      "pairwise_hope(X, D5, X.shape[0], X.shape[1])\n",
      "pairwise_native(X, D6, X.shape[0], X.shape[1])\n",
      "\n",
      "assert np.allclose(D1, D2)\n",
      "assert np.allclose(D1, D3)\n",
      "assert np.allclose(D1, D4)\n",
      "assert np.allclose(D1, D5)\n",
      "assert np.allclose(D1, D6)\n"
     ],
     "language": "python",
     "metadata": {},
     "outputs": [],
     "prompt_number": 10
    },
    {
     "cell_type": "code",
     "collapsed": false,
     "input": [
      "print \"naive python\"\n",
      "%timeit pairwise_python(X, D)\n",
      "print \"numpy\"\n",
      "%timeit pairwise_numpy(X, D)\n",
      "print \"numba\"\n",
      "%timeit pairwise_numba(X, D)\n",
      "print \"cython\"\n",
      "%timeit pairwise_cython(X, D)\n",
      "print \"hope\"\n",
      "%timeit pairwise_hope(X, D, X.shape[0], X.shape[1])\n",
      "print \"native\"\n",
      "%timeit pairwise_native(X, D, X.shape[0], X.shape[1])"
     ],
     "language": "python",
     "metadata": {},
     "outputs": [
      {
       "output_type": "stream",
       "stream": "stdout",
       "text": [
        "naive python\n",
        "1 loops, best of 3: 5.75 s per loop"
       ]
      },
      {
       "output_type": "stream",
       "stream": "stdout",
       "text": [
        "\n",
        "numpy\n",
        "10 loops, best of 3: 36.6 ms per loop"
       ]
      },
      {
       "output_type": "stream",
       "stream": "stdout",
       "text": [
        "\n",
        "numba\n",
        "100 loops, best of 3: 6.88 ms per loop"
       ]
      },
      {
       "output_type": "stream",
       "stream": "stdout",
       "text": [
        "\n",
        "cython\n",
        "100 loops, best of 3: 4.22 ms per loop"
       ]
      },
      {
       "output_type": "stream",
       "stream": "stdout",
       "text": [
        "\n",
        "hope\n",
        "100 loops, best of 3: 6.36 ms per loop"
       ]
      },
      {
       "output_type": "stream",
       "stream": "stdout",
       "text": [
        "\n",
        "native\n",
        "100 loops, best of 3: 4.23 ms per loop"
       ]
      },
      {
       "output_type": "stream",
       "stream": "stdout",
       "text": [
        "\n"
       ]
      }
     ],
     "prompt_number": 11
    },
    {
     "cell_type": "code",
     "collapsed": false,
     "input": [
      "from util import perf_comp_data"
     ],
     "language": "python",
     "metadata": {},
     "outputs": []
    },
    {
     "cell_type": "code",
     "collapsed": false,
     "input": [
      "M, N = X.shape\n",
      "data_list = 4*[\"X, D\"]+ 2*[\"X, D, M, N\"]\n",
      "#print data_list\n",
      "perf_comp_data([\"pairwise_python\", \n",
      "                \"pairwise_numpy\", \n",
      "                \"pairwise_numba\", \n",
      "                \"pairwise_cython\", \n",
      "                \"pairwise_hope\",\n",
      "                \"pairwise_native\"],\n",
      "               data_list, rep=100)"
     ],
     "language": "python",
     "metadata": {},
     "outputs": [
      {
       "output_type": "stream",
       "stream": "stdout",
       "text": [
        "function: pairwise_native     , av. time sec:   0.00420749, min. time sec:   0.00414991, relative:       1.0\n",
        "function: pairwise_cython     , av. time sec:   0.00421405, min. time sec:   0.00415277, relative:       1.0\n",
        "function: pairwise_hope       , av. time sec:   0.00635457, min. time sec:   0.00626707, relative:       1.5\n",
        "function: pairwise_numba      , av. time sec:   0.00690150, min. time sec:   0.00681400, relative:       1.6\n",
        "function: pairwise_numpy      , av. time sec:   0.03677249, min. time sec:   0.03618908, relative:       8.7\n",
        "function: pairwise_python     , av. time sec:   5.90122139, min. time sec:   5.63599896, relative:    1402.6\n"
       ]
      }
     ],
     "prompt_number": 13
    },
    {
     "cell_type": "code",
     "collapsed": false,
     "input": [],
     "language": "python",
     "metadata": {},
     "outputs": []
    }
   ],
   "metadata": {}
  }
 ]
}