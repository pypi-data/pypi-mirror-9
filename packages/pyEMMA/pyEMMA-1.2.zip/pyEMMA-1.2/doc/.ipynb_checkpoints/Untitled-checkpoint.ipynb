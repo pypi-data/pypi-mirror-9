{
 "cells": [
  {
   "cell_type": "code",
   "execution_count": 1,
   "metadata": {
    "collapsed": true
   },
   "outputs": [],
   "source": [
    "import csv\n",
    "import numpy as np"
   ]
  },
  {
   "cell_type": "code",
   "execution_count": 7,
   "metadata": {
    "collapsed": false
   },
   "outputs": [],
   "source": [
    "x=np.arange(300).reshape(100,3)\n",
    "fn = \"/tmp/test.csv\"\n",
    "np.savetxt(fn, x)\n",
    "fh = open(fn)"
   ]
  },
  {
   "cell_type": "code",
   "execution_count": 24,
   "metadata": {
    "collapsed": false
   },
   "outputs": [
    {
     "data": {
      "text/plain": [
       "array([[   0.,    1.,    2.],\n",
       "       [   6.,    7.,    8.],\n",
       "       [  12.,   13.,   14.],\n",
       "       [  18.,   19.,   20.],\n",
       "       [  24.,   25.,   26.],\n",
       "       [  30.,   31.,   32.],\n",
       "       [  36.,   37.,   38.],\n",
       "       [  42.,   43.,   44.],\n",
       "       [  48.,   49.,   50.],\n",
       "       [  54.,   55.,   56.],\n",
       "       [  60.,   61.,   62.],\n",
       "       [  66.,   67.,   68.],\n",
       "       [  72.,   73.,   74.],\n",
       "       [  78.,   79.,   80.],\n",
       "       [  84.,   85.,   86.],\n",
       "       [  90.,   91.,   92.],\n",
       "       [  96.,   97.,   98.],\n",
       "       [ 102.,  103.,  104.],\n",
       "       [ 108.,  109.,  110.],\n",
       "       [ 114.,  115.,  116.],\n",
       "       [ 120.,  121.,  122.],\n",
       "       [ 126.,  127.,  128.],\n",
       "       [ 132.,  133.,  134.],\n",
       "       [ 138.,  139.,  140.],\n",
       "       [ 144.,  145.,  146.],\n",
       "       [ 150.,  151.,  152.],\n",
       "       [ 156.,  157.,  158.],\n",
       "       [ 162.,  163.,  164.],\n",
       "       [ 168.,  169.,  170.],\n",
       "       [ 174.,  175.,  176.],\n",
       "       [ 180.,  181.,  182.],\n",
       "       [ 186.,  187.,  188.],\n",
       "       [ 192.,  193.,  194.],\n",
       "       [ 198.,  199.,  200.],\n",
       "       [ 204.,  205.,  206.],\n",
       "       [ 210.,  211.,  212.],\n",
       "       [ 216.,  217.,  218.],\n",
       "       [ 222.,  223.,  224.],\n",
       "       [ 228.,  229.,  230.],\n",
       "       [ 234.,  235.,  236.],\n",
       "       [ 240.,  241.,  242.],\n",
       "       [ 246.,  247.,  248.],\n",
       "       [ 252.,  253.,  254.],\n",
       "       [ 258.,  259.,  260.],\n",
       "       [ 264.,  265.,  266.],\n",
       "       [ 270.,  271.,  272.],\n",
       "       [ 276.,  277.,  278.],\n",
       "       [ 282.,  283.,  284.],\n",
       "       [ 288.,  289.,  290.],\n",
       "       [ 294.,  295.,  296.]])"
      ]
     },
     "execution_count": 24,
     "metadata": {},
     "output_type": "execute_result"
    }
   ],
   "source": [
    "np.loadtxt(fn)[::2]"
   ]
  },
  {
   "cell_type": "code",
   "execution_count": 10,
   "metadata": {
    "collapsed": false
   },
   "outputs": [
    {
     "ename": "TypeError",
     "evalue": "argument of type 'NoneType' is not iterable",
     "output_type": "error",
     "traceback": [
      "\u001b[1;31m---------------------------------------------------------------------------\u001b[0m",
      "\u001b[1;31mTypeError\u001b[0m                                 Traceback (most recent call last)",
      "\u001b[1;32m<ipython-input-10-15bb6e8cc52e>\u001b[0m in \u001b[0;36m<module>\u001b[1;34m()\u001b[0m\n\u001b[1;32m----> 1\u001b[1;33m \u001b[1;36m0\u001b[0m \u001b[1;32min\u001b[0m \u001b[0mNone\u001b[0m\u001b[1;33m\u001b[0m\u001b[0m\n\u001b[0m",
      "\u001b[1;31mTypeError\u001b[0m: argument of type 'NoneType' is not iterable"
     ]
    }
   ],
   "source": [
    " 0 in None"
   ]
  },
  {
   "cell_type": "code",
   "execution_count": 23,
   "metadata": {
    "collapsed": false
   },
   "outputs": [
    {
     "name": "stdout",
     "output_type": "stream",
     "text": [
      "[ 0  1  2  3  4  5  6  7  8  9 10 11 12 13 14 15 16 17 18 19 20 21 22 23 24\n",
      " 25 26 27 28 29  0  0  0  0  0  0  0  0  0  0  0  0  0  0  0  0  0  0  0  0\n",
      "  0  0  0  0  0  0  0  0  0  0  0  0  0  0  0  0  0  0  0  0  0  0  0  0  0\n",
      "  0  0  0  0  0  0  0  0  0  0  0  0  0  0  0  0  0  0  0  0  0  0  0  0  0]\n"
     ]
    }
   ],
   "source": [
    "lag_inds_to_skip = np.arange(100)\n",
    "lag_inds_to_skip[30:] = 0\n",
    "print lag_inds_to_skip"
   ]
  },
  {
   "cell_type": "code",
   "execution_count": null,
   "metadata": {
    "collapsed": true
   },
   "outputs": [],
   "source": [
    "# cs = 42.\n",
    "# for stride in xrange(1,50):\n",
    "#     print \"stride\" ,stride\n",
    "#     assert cs > stride, \"The stride value cannot be larger than the chunksize value\"\n",
    "#\n",
    "#     next_ignore = 0\n",
    "#     chunked_strided = []\n",
    "#\n",
    "#     for ii, X in enumerate(mystreaming.grouper(X, cs)):\n",
    "#         X = X[next_ignore:]\n",
    "#         strided_chunk = X[::stride]\n",
    "#\n",
    "#         chunked_strided.append(strided_chunk)\n",
    "#\n",
    "# Bookkeeping (ugly)\n",
    "#         last_strided_access = np.floor(len(X)*1./stride)*stride\n",
    "#         next_ignore = (len(X) - last_strided_access).astype('int')\n",
    "#         if last_strided_access != len(X):\n",
    "#             next_ignore = stride - (len(X) - last_strided_access).astype('int')\n",
    "#         print \"This X has size\", len(X)\n",
    "#         print \"It can be accessed with stride=%u until frame %u\"%(stride, last_strided_access)\n",
    "# print \"strided\", strided_chunk.T\n",
    "#         print \"The next X can ignore its first %u frames\" % next_ignore\n",
    "#         print\n",
    "#\n",
    "#     chunked_strided = np.vstack(chunked_strided)\n",
    "#     assert np.isclose(chunked_strided, X[::stride]).all()"
   ]
  }
 ],
 "metadata": {
  "kernelspec": {
   "display_name": "Python 2",
   "language": "python",
   "name": "python2"
  },
  "language_info": {
   "codemirror_mode": {
    "name": "ipython",
    "version": 2
   },
   "file_extension": ".py",
   "mimetype": "text/x-python",
   "name": "python",
   "nbconvert_exporter": "python",
   "pygments_lexer": "ipython2",
   "version": "2.7.9"
  }
 },
 "nbformat": 4,
 "nbformat_minor": 0
}
