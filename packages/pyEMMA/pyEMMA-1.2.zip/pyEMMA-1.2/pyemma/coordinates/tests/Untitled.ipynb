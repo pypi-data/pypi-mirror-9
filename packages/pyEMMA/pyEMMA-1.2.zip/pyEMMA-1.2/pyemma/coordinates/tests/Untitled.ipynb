{
 "cells": [
  {
   "cell_type": "code",
   "execution_count": 2,
   "metadata": {
    "collapsed": true
   },
   "outputs": [],
   "source": [
    "import pyemma\n",
    "import pyemma.coordinates as coor"
   ]
  },
  {
   "cell_type": "code",
   "execution_count": null,
   "metadata": {
    "collapsed": true
   },
   "outputs": [],
   "source": [
    "dist_index_list = []\n",
    "for x in xrange(0,100,10):\n",
    "    dist = np.zeros(2)\n",
    "    dist[0] = 0\n",
    "    dist[1] = x\n",
    "    dist_index_list.append(dist)\n",
    "dist_index_list = np.array(dist_index_list)\n",
    "feat.add_inverse_distances(dist_index_list)\n",
    "data = coor.source(traj, feat)\n",
    "feat.describe()"
   ]
  }
 ],
 "metadata": {
  "kernelspec": {
   "display_name": "Python 2",
   "language": "python",
   "name": "python2"
  },
  "language_info": {
   "codemirror_mode": {
    "name": "ipython",
    "version": 2
   },
   "file_extension": ".py",
   "mimetype": "text/x-python",
   "name": "python",
   "nbconvert_exporter": "python",
   "pygments_lexer": "ipython2",
   "version": "2.7.9"
  }
 },
 "nbformat": 4,
 "nbformat_minor": 0
}
