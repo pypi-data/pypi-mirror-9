{
 "metadata": {
  "name": ""
 },
 "nbformat": 3,
 "nbformat_minor": 0,
 "worksheets": [
  {
   "cells": [
    {
     "cell_type": "code",
     "collapsed": false,
     "input": [
      "from pug.nlp.classifier import get_words\n",
      "from collections import Counter\n",
      "\n",
      "docs = ['Explicit is better than implicit.',\n",
      "        'Simple is better than complex.',\n",
      "        'Flat is better than nested.',\n",
      "       ]\n",
      "O_sparse = [Counter(get_words(d)) for d in docs]\n",
      "print O_sparse\n",
      "total = Counter()\n",
      "for c in O_sparse:\n",
      "    total += c\n",
      "print total\n",
      "\n",
      "words, O = list(total), []\n",
      "for counts in O_sparse:\n",
      "    O += [[0] * len(words)]\n",
      "    for word, count in counts.iteritems():\n",
      "        j = words.index(word)\n",
      "        O[-1][j] += count\n",
      "print words.join(' | ')\n",
      "print ['-'*len(w) for w in words].join(':| ')\n",
      "for row in O:\n",
      "    print row.join(' | ')\n",
      "\n"
     ],
     "language": "python",
     "metadata": {},
     "outputs": [],
     "prompt_number": "*"
    },
    {
     "cell_type": "code",
     "collapsed": false,
     "input": [],
     "language": "python",
     "metadata": {},
     "outputs": [],
     "prompt_number": "*"
    },
    {
     "cell_type": "code",
     "collapsed": false,
     "input": [],
     "language": "python",
     "metadata": {},
     "outputs": []
    }
   ],
   "metadata": {}
  }
 ]
}