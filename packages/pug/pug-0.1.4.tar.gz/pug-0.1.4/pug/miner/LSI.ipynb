{
 "metadata": {
  "name": ""
 },
 "nbformat": 3,
 "nbformat_minor": 0,
 "worksheets": [
  {
   "cells": [
    {
     "cell_type": "code",
     "collapsed": false,
     "input": [
      "from pug.nlp.classifier import get_words\n",
      "\n",
      "docs = ['Explicit is better than implicit.',\n",
      "        'Simple is better than complex.',\n",
      "        'Flat is better than nested.',\n",
      "       ]\n",
      "O_sparse = [Counter(get_words(d)) for d in docs]\n",
      "print O_sparse\n",
      "\n",
      "\n"
     ],
     "language": "python",
     "metadata": {},
     "outputs": [
      {
       "output_type": "stream",
       "stream": "stdout",
       "text": [
        "[Counter({'better': 1, 'explicit': 1, 'than': 1, 'implicit': 1}), Counter({'simple': 1, 'better': 1, 'complex': 1, 'than': 1}), Counter({'better': 1, 'flat': 1, 'than': 1, 'nested': 1})]\n"
       ]
      }
     ],
     "prompt_number": 22
    },
    {
     "cell_type": "code",
     "collapsed": false,
     "input": [
      "from collections import Counter\n",
      "\n",
      "total = Counter()\n",
      "for c in O_sparse:\n",
      "    total += c\n",
      "print total"
     ],
     "language": "python",
     "metadata": {},
     "outputs": [
      {
       "output_type": "stream",
       "stream": "stdout",
       "text": [
        "Counter({'than': 3, 'better': 3, 'flat': 1, 'simple': 1, 'explicit': 1, 'complex': 1, 'nested': 1, 'implicit': 1})\n"
       ]
      }
     ],
     "prompt_number": 23
    },
    {
     "cell_type": "code",
     "collapsed": false,
     "input": [
      "from tabulate import tabulate\n",
      "words, O = list(total), []\n",
      "for counts in O_sparse:\n",
      "    O += [[0] * len(words)]\n",
      "    for word, count in counts.iteritems():\n",
      "        j = words.index(word)\n",
      "        O[-1][j] += count\n",
      "print tabulate(O, words)\n"
     ],
     "language": "python",
     "metadata": {},
     "outputs": [
      {
       "output_type": "stream",
       "stream": "stdout",
       "text": [
        "  flat    simple    explicit    than    better    complex    nested    implicit\n",
        "------  --------  ----------  ------  --------  ---------  --------  ----------\n",
        "     0         0           1       1         1          0         0           1\n",
        "     0         1           0       1         1          1         0           0\n",
        "     1         0           0       1         1          0         1           0\n"
       ]
      }
     ],
     "prompt_number": 21
    },
    {
     "cell_type": "code",
     "collapsed": false,
     "input": [
      "from nltk import download, ConditionalFreqDist\n",
      "download('inaugural')\n",
      "from nltk.corpus import inaugural\n",
      "\n",
      "cfd = ConditionalFreqDist(\n",
      "        (target, fileid[:4])\n",
      "        for fileid in inaugural.fileids()\n",
      "        for w in inaugural.words(fileid)\n",
      "        for target in ['america', 'citizen']\n",
      "        if w.lower().startswith(target)) [1]\n",
      "cfd.plot()"
     ],
     "language": "python",
     "metadata": {},
     "outputs": [
      {
       "output_type": "stream",
       "stream": "stdout",
       "text": [
        "[nltk_data] Downloading package 'inaugural' to\n",
        "[nltk_data]     /home/Hobson/nltk_data...\n",
        "[nltk_data]   Package inaugural is already up-to-date!\n"
       ]
      }
     ],
     "prompt_number": 28
    },
    {
     "cell_type": "code",
     "collapsed": false,
     "input": [
      "from nltk.corpus import inaugural\n",
      "cfd = ConditionalFreqDist(\n",
      "        (target, fileid[:4])\n",
      "        for fileid in inaugural.fileids()\n",
      "        for w in inaugural.words(fileid)\n",
      "        for target in ['america', 'citizen']\n",
      "        if w.lower().startswith(target)) [1]\n"
     ],
     "language": "python",
     "metadata": {},
     "outputs": [],
     "prompt_number": 29
    },
    {
     "cell_type": "code",
     "collapsed": false,
     "input": [
      "import pug.nlp.inaugural as nlp\n",
      "from tabulate import tabulate\n",
      "import numpy as np\n",
      "\n",
      "data = [\n",
      "    'Romeo and Juliet.',\n",
      "    'Juliet: O happy dagger!',\n",
      "    'Romeo died by dagger.',\n",
      "    '\"Live free or die\u201d, that\u2019s the New-Hampshire\u2019s motto.',\n",
      "    'Did you know, New-Hampshire is in New-England.',\n",
      "    ]\n",
      "\n",
      "\n",
      "O, row_labels, col_labels = nlp.get_occurrence_matrix(data)\n",
      "print tabulate(O, col_labels)\n",
      "\n",
      "U, s, V = np.linalg.svd(O)\n",
      "\n",
      "print tabulate(s.as_lists, row_labels)\n"
     ],
     "language": "python",
     "metadata": {},
     "outputs": [
      {
       "ename": "AttributeError",
       "evalue": "'module' object has no attribute 'get_occurrence_matrix'",
       "output_type": "pyerr",
       "traceback": [
        "\u001b[1;31m---------------------------------------------------------------------------\u001b[0m\n\u001b[1;31mAttributeError\u001b[0m                            Traceback (most recent call last)",
        "\u001b[1;32m<ipython-input-12-6c75ba3d1692>\u001b[0m in \u001b[0;36m<module>\u001b[1;34m()\u001b[0m\n\u001b[0;32m     12\u001b[0m \u001b[1;33m\u001b[0m\u001b[0m\n\u001b[0;32m     13\u001b[0m \u001b[1;33m\u001b[0m\u001b[0m\n\u001b[1;32m---> 14\u001b[1;33m \u001b[0mO\u001b[0m\u001b[1;33m,\u001b[0m \u001b[0mrow_labels\u001b[0m\u001b[1;33m,\u001b[0m \u001b[0mcol_labels\u001b[0m \u001b[1;33m=\u001b[0m \u001b[0mnlp\u001b[0m\u001b[1;33m.\u001b[0m\u001b[0mget_occurrence_matrix\u001b[0m\u001b[1;33m(\u001b[0m\u001b[0mdata\u001b[0m\u001b[1;33m)\u001b[0m\u001b[1;33m\u001b[0m\u001b[0m\n\u001b[0m\u001b[0;32m     15\u001b[0m \u001b[1;32mprint\u001b[0m \u001b[0mtabulate\u001b[0m\u001b[1;33m(\u001b[0m\u001b[0mO\u001b[0m\u001b[1;33m,\u001b[0m \u001b[0mcol_labels\u001b[0m\u001b[1;33m)\u001b[0m\u001b[1;33m\u001b[0m\u001b[0m\n\u001b[0;32m     16\u001b[0m \u001b[1;33m\u001b[0m\u001b[0m\n",
        "\u001b[1;31mAttributeError\u001b[0m: 'module' object has no attribute 'get_occurrence_matrix'"
       ]
      }
     ],
     "prompt_number": 12
    },
    {
     "cell_type": "code",
     "collapsed": false,
     "input": [],
     "language": "python",
     "metadata": {},
     "outputs": []
    }
   ],
   "metadata": {}
  }
 ]
}