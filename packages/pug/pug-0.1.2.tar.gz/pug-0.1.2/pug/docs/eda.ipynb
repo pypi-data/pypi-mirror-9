{
 "metadata": {
  "name": ""
 },
 "nbformat": 3,
 "nbformat_minor": 0,
 "worksheets": [
  {
   "cells": [
    {
     "cell_type": "code",
     "collapsed": false,
     "input": [
      "from django.db import connections\n",
      "curs = connections['default'].cursor()\n",
      "curs."
     ],
     "language": "python",
     "metadata": {},
     "outputs": []
    }
   ],
   "metadata": {}
  }
 ]
}