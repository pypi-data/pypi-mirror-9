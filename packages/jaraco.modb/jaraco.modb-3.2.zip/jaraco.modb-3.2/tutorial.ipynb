{
 "metadata": {
  "name": "modb"
 },
 "nbformat": 3,
 "nbformat_minor": 0,
 "worksheets": [
  {
   "cells": [
    {
     "cell_type": "markdown",
     "metadata": {},
     "source": "Start out by establishing a connection to a MongoDB instance."
    },
    {
     "cell_type": "code",
     "collapsed": false,
     "input": "import pymongo\nconn = pymongo.Connection()\ndb = conn.test\ncoll = db.objects\ncoll.drop()",
     "language": "python",
     "metadata": {},
     "outputs": [],
     "prompt_number": 76
    },
    {
     "cell_type": "markdown",
     "metadata": {},
     "source": "Insert a couple of documents that represent themselves naturally in JSON."
    },
    {
     "cell_type": "code",
     "collapsed": false,
     "input": "import datetime\ncoll.insert({'a': datetime.datetime.now(), 'b': 1.0})\ncoll.insert({'items': [1, 2, 3, 'd']})",
     "language": "python",
     "metadata": {},
     "outputs": [
      {
       "metadata": {},
       "output_type": "pyout",
       "prompt_number": 77,
       "text": "ObjectId('52e523b112d4aa11ec2a43e6')"
      }
     ],
     "prompt_number": 77
    },
    {
     "cell_type": "markdown",
     "metadata": {},
     "source": "But what about more complex objects (classes and instances of those classes)?"
    },
    {
     "cell_type": "code",
     "collapsed": false,
     "input": "class MyObject:\n    def __init__(self, x, y):\n        self.x = x\n        self.y = y\n    \n    def __repr__(self):\n        return '{self.__class__.__name__}({self.x}, {self.y})'.format(**vars())\n\nob1 = MyObject(1, 2)\nob2 = MyObject(0, 5)",
     "language": "python",
     "metadata": {},
     "outputs": [],
     "prompt_number": 78
    },
    {
     "cell_type": "code",
     "collapsed": false,
     "input": "coll.insert(ob1)",
     "language": "python",
     "metadata": {},
     "outputs": [
      {
       "ename": "TypeError",
       "evalue": "'MyObject' object is not iterable",
       "output_type": "pyerr",
       "traceback": [
        "\u001b[1;31m---------------------------------------------------------------------------\u001b[0m\n\u001b[1;31mTypeError\u001b[0m                                 Traceback (most recent call last)",
        "\u001b[1;32m<ipython-input-79-99196d8cd3bb>\u001b[0m in \u001b[0;36m<module>\u001b[1;34m()\u001b[0m\n\u001b[1;32m----> 1\u001b[1;33m \u001b[0mcoll\u001b[0m\u001b[1;33m.\u001b[0m\u001b[0minsert\u001b[0m\u001b[1;33m(\u001b[0m\u001b[0mob1\u001b[0m\u001b[1;33m)\u001b[0m\u001b[1;33m\u001b[0m\u001b[0m\n\u001b[0m",
        "\u001b[1;32mC:\\Program Files\\Python34\\lib\\site-packages\\pymongo-2.6.3-py3.4-win-amd64.egg\\pymongo\\collection.py\u001b[0m in \u001b[0;36minsert\u001b[1;34m(self, doc_or_docs, manipulate, safe, check_keys, continue_on_error, **kwargs)\u001b[0m\n\u001b[0;32m    354\u001b[0m \u001b[1;33m\u001b[0m\u001b[0m\n\u001b[0;32m    355\u001b[0m         \u001b[1;32mif\u001b[0m \u001b[0mmanipulate\u001b[0m\u001b[1;33m:\u001b[0m\u001b[1;33m\u001b[0m\u001b[0m\n\u001b[1;32m--> 356\u001b[1;33m             \u001b[0mdocs\u001b[0m \u001b[1;33m=\u001b[0m \u001b[1;33m[\u001b[0m\u001b[0mself\u001b[0m\u001b[1;33m.\u001b[0m\u001b[0m__database\u001b[0m\u001b[1;33m.\u001b[0m\u001b[0m_fix_incoming\u001b[0m\u001b[1;33m(\u001b[0m\u001b[0mdoc\u001b[0m\u001b[1;33m,\u001b[0m \u001b[0mself\u001b[0m\u001b[1;33m)\u001b[0m \u001b[1;32mfor\u001b[0m \u001b[0mdoc\u001b[0m \u001b[1;32min\u001b[0m \u001b[0mdocs\u001b[0m\u001b[1;33m]\u001b[0m\u001b[1;33m\u001b[0m\u001b[0m\n\u001b[0m\u001b[0;32m    357\u001b[0m \u001b[1;33m\u001b[0m\u001b[0m\n\u001b[0;32m    358\u001b[0m         \u001b[0msafe\u001b[0m\u001b[1;33m,\u001b[0m \u001b[0moptions\u001b[0m \u001b[1;33m=\u001b[0m \u001b[0mself\u001b[0m\u001b[1;33m.\u001b[0m\u001b[0m_get_write_mode\u001b[0m\u001b[1;33m(\u001b[0m\u001b[0msafe\u001b[0m\u001b[1;33m,\u001b[0m \u001b[1;33m**\u001b[0m\u001b[0mkwargs\u001b[0m\u001b[1;33m)\u001b[0m\u001b[1;33m\u001b[0m\u001b[0m\n",
        "\u001b[1;31mTypeError\u001b[0m: 'MyObject' object is not iterable"
       ]
      }
     ],
     "prompt_number": 79
    },
    {
     "cell_type": "code",
     "collapsed": false,
     "input": "import jaraco.modb\njaraco.modb.encode(ob1)",
     "language": "python",
     "metadata": {},
     "outputs": [
      {
       "metadata": {},
       "output_type": "pyout",
       "prompt_number": 80,
       "text": "{'py/object': '__main__.MyObject', 'x': 1, 'y': 2}"
      }
     ],
     "prompt_number": 80
    },
    {
     "cell_type": "markdown",
     "metadata": {},
     "source": "Because a MyObject instance doesn't have a natural representation in JSON, it's serialized as a dictionary with a special key 'py/object', which signals to the decoder that this is a JSONPickled Python Object. As long as the system doing the decoding implements `__main__.MyObject` with a compatible interface, the object will decode nicely."
    },
    {
     "cell_type": "code",
     "collapsed": false,
     "input": "coll.insert(jaraco.modb.encode(ob1))\ncoll.insert(jaraco.modb.encode(ob2))",
     "language": "python",
     "metadata": {},
     "outputs": [
      {
       "metadata": {},
       "output_type": "pyout",
       "prompt_number": 81,
       "text": "ObjectId('52e523b112d4aa11ec2a43e8')"
      }
     ],
     "prompt_number": 81
    },
    {
     "cell_type": "markdown",
     "metadata": {},
     "source": "Now the two objects should be persisted to the database. Query them to see how they appear."
    },
    {
     "cell_type": "code",
     "collapsed": false,
     "input": "list(coll.find())",
     "language": "python",
     "metadata": {},
     "outputs": [
      {
       "metadata": {},
       "output_type": "pyout",
       "prompt_number": 82,
       "text": "[{'_id': ObjectId('52e523b112d4aa11ec2a43e5'),\n  'a': datetime.datetime(2014, 1, 26, 10, 3, 13, 522000),\n  'b': 1.0},\n {'_id': ObjectId('52e523b112d4aa11ec2a43e6'), 'items': [1, 2, 3, 'd']},\n {'_id': ObjectId('52e523b112d4aa11ec2a43e7'),\n  'py/object': '__main__.MyObject',\n  'x': 1,\n  'y': 2},\n {'_id': ObjectId('52e523b112d4aa11ec2a43e8'),\n  'py/object': '__main__.MyObject',\n  'x': 0,\n  'y': 5}]"
      }
     ],
     "prompt_number": 82
    },
    {
     "cell_type": "code",
     "collapsed": false,
     "input": "next(map(jaraco.modb.decode, coll.find({'x': 0})))",
     "language": "python",
     "metadata": {},
     "outputs": [
      {
       "metadata": {},
       "output_type": "pyout",
       "prompt_number": 83,
       "text": "MyObject(0, 5)"
      }
     ],
     "prompt_number": 83
    },
    {
     "cell_type": "markdown",
     "metadata": {},
     "source": "But what about more complex objects? Consider ob3 whose x attribute is another MyObject."
    },
    {
     "cell_type": "code",
     "collapsed": false,
     "input": "ob3 = MyObject(ob2, 2)\nob3",
     "language": "python",
     "metadata": {},
     "outputs": [
      {
       "metadata": {},
       "output_type": "pyout",
       "prompt_number": 84,
       "text": "MyObject(MyObject(0, 5), 2)"
      }
     ],
     "prompt_number": 84
    },
    {
     "cell_type": "code",
     "collapsed": false,
     "input": "coll.insert(jaraco.modb.encode(ob3))",
     "language": "python",
     "metadata": {},
     "outputs": [
      {
       "metadata": {},
       "output_type": "pyout",
       "prompt_number": 85,
       "text": "ObjectId('52e523b112d4aa11ec2a43e9')"
      }
     ],
     "prompt_number": 85
    },
    {
     "cell_type": "markdown",
     "metadata": {},
     "source": "Because MongoDB's document query engine allows reaching deep into the documents, one can even query based on child object's attributes."
    },
    {
     "cell_type": "code",
     "collapsed": false,
     "input": "# Find all objects whose x attribute has a y attribute with a value of 5\nquery = {'x.y': 5}\nnext(map(jaraco.modb.decode, coll.find(query)))",
     "language": "python",
     "metadata": {},
     "outputs": [
      {
       "metadata": {},
       "output_type": "pyout",
       "prompt_number": 86,
       "text": "MyObject(MyObject(0, 5), 2)"
      }
     ],
     "prompt_number": 86
    },
    {
     "cell_type": "markdown",
     "metadata": {},
     "source": "Where are the limitations? What about integer keys?"
    },
    {
     "cell_type": "code",
     "collapsed": false,
     "input": "coll.insert({1: 3})",
     "language": "python",
     "metadata": {},
     "outputs": [
      {
       "ename": "InvalidDocument",
       "evalue": "documents must have only string keys, key was 1",
       "output_type": "pyerr",
       "traceback": [
        "\u001b[1;31m---------------------------------------------------------------------------\u001b[0m\n\u001b[1;31mInvalidDocument\u001b[0m                           Traceback (most recent call last)",
        "\u001b[1;32m<ipython-input-87-f2f1a79993c3>\u001b[0m in \u001b[0;36m<module>\u001b[1;34m()\u001b[0m\n\u001b[1;32m----> 1\u001b[1;33m \u001b[0mcoll\u001b[0m\u001b[1;33m.\u001b[0m\u001b[0minsert\u001b[0m\u001b[1;33m(\u001b[0m\u001b[1;33m{\u001b[0m\u001b[1;36m1\u001b[0m\u001b[1;33m:\u001b[0m \u001b[1;36m3\u001b[0m\u001b[1;33m}\u001b[0m\u001b[1;33m)\u001b[0m\u001b[1;33m\u001b[0m\u001b[0m\n\u001b[0m",
        "\u001b[1;32mC:\\Program Files\\Python34\\lib\\site-packages\\pymongo-2.6.3-py3.4-win-amd64.egg\\pymongo\\collection.py\u001b[0m in \u001b[0;36minsert\u001b[1;34m(self, doc_or_docs, manipulate, safe, check_keys, continue_on_error, **kwargs)\u001b[0m\n\u001b[0;32m    360\u001b[0m                                    \u001b[0mcheck_keys\u001b[0m\u001b[1;33m,\u001b[0m \u001b[0msafe\u001b[0m\u001b[1;33m,\u001b[0m \u001b[0moptions\u001b[0m\u001b[1;33m,\u001b[0m\u001b[1;33m\u001b[0m\u001b[0m\n\u001b[0;32m    361\u001b[0m                                    \u001b[0mcontinue_on_error\u001b[0m\u001b[1;33m,\u001b[0m \u001b[0mself\u001b[0m\u001b[1;33m.\u001b[0m\u001b[0m__uuid_subtype\u001b[0m\u001b[1;33m,\u001b[0m\u001b[1;33m\u001b[0m\u001b[0m\n\u001b[1;32m--> 362\u001b[1;33m                                    self.database.connection)\n\u001b[0m\u001b[0;32m    363\u001b[0m \u001b[1;33m\u001b[0m\u001b[0m\n\u001b[0;32m    364\u001b[0m         \u001b[0mids\u001b[0m \u001b[1;33m=\u001b[0m \u001b[1;33m[\u001b[0m\u001b[0mdoc\u001b[0m\u001b[1;33m.\u001b[0m\u001b[0mget\u001b[0m\u001b[1;33m(\u001b[0m\u001b[1;34m\"_id\"\u001b[0m\u001b[1;33m,\u001b[0m \u001b[1;32mNone\u001b[0m\u001b[1;33m)\u001b[0m \u001b[1;32mfor\u001b[0m \u001b[0mdoc\u001b[0m \u001b[1;32min\u001b[0m \u001b[0mdocs\u001b[0m\u001b[1;33m]\u001b[0m\u001b[1;33m\u001b[0m\u001b[0m\n",
        "\u001b[1;31mInvalidDocument\u001b[0m: documents must have only string keys, key was 1"
       ]
      }
     ],
     "prompt_number": 87
    },
    {
     "cell_type": "code",
     "collapsed": false,
     "input": "id = coll.insert(jaraco.modb.encode({1: 3}))",
     "language": "python",
     "metadata": {},
     "outputs": [],
     "prompt_number": 93
    },
    {
     "cell_type": "code",
     "collapsed": false,
     "input": "coll.find_one({'_id': id})",
     "language": "python",
     "metadata": {},
     "outputs": [
      {
       "metadata": {},
       "output_type": "pyout",
       "prompt_number": 97,
       "text": "{'1': 3, '_id': ObjectId('52e5245e12d4aa11ec2a43ec')}"
      }
     ],
     "prompt_number": 97
    },
    {
     "cell_type": "markdown",
     "metadata": {},
     "source": "You might note that the integer 1 is now represented as a string '1'. This limitation is an unfortunate side-effect of relying on JSON as a serialization layer."
    }
   ],
   "metadata": {}
  }
 ]
}