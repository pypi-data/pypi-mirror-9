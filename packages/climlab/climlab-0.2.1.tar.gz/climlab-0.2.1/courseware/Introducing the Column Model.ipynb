{
 "metadata": {
  "name": "",
  "signature": "sha256:5694bad31d6c47a1fe81013617e1147cefd9fcac24600b948465569f6afc84e3"
 },
 "nbformat": 3,
 "nbformat_minor": 0,
 "worksheets": [
  {
   "cells": [
    {
     "cell_type": "heading",
     "level": 1,
     "metadata": {},
     "source": [
      "Introducing the Column Model"
     ]
    },
    {
     "cell_type": "heading",
     "level": 2,
     "metadata": {},
     "source": [
      "About this exercise:"
     ]
    },
    {
     "cell_type": "markdown",
     "metadata": {},
     "source": [
      "There are two goals for this (hopefully straightforward) exercise:\n",
      "\n",
      "1. To introduce you to working with files and modules in Python\n",
      "2. To introduce the column radiation model\n",
      "\n",
      "We will be working with this same model code for the next few weeks.\n",
      "\n",
      "Your job is to go through the whole exercise. There are 3 questions clearly marked below for you to answer. Hand in ONLY your answers to those questions."
     ]
    },
    {
     "cell_type": "heading",
     "level": 4,
     "metadata": {},
     "source": [
      "Please DO NOT just copy and paste the examples from here. Type them in yourself! This is MUCH better way to learn what you are doing."
     ]
    },
    {
     "cell_type": "heading",
     "level": 3,
     "metadata": {},
     "source": [
      "Answers are due on Tuesday February 25, 2014"
     ]
    },
    {
     "cell_type": "heading",
     "level": 2,
     "metadata": {},
     "source": [
      "About Python modules:"
     ]
    },
    {
     "cell_type": "markdown",
     "metadata": {},
     "source": [
      "Every time we use the import statement in Python, the interpreter loads instructions from a file, usually with the extension .py at the end of the file name.\n",
      "\n",
      "For example if we typed 'import foo' the interpreter would try to open and read a file called 'foo.py'\n",
      "\n",
      "This file would contain the same types of Python code that you have been entering manually on the command line, e.g. definitions of variables and functions.\n",
      "\n",
      "The real beauty of the import statement is that it makes the Python language very modular. With one 'import' we can have access to all kinds of useful code.\n",
      "\n",
      "To then access variables and functions in a module, we usually type the name of the module, followed by period (.), followed by the variable or function name. You've already seen a bit of this with the netCDF4 module you used in the last homework. You'll practice these skills again here."
     ]
    },
    {
     "cell_type": "code",
     "collapsed": false,
     "input": [
      "%matplotlib inline\n",
      "import numpy as np\n",
      "from climlab import constants as const\n",
      "from climlab.model import column"
     ],
     "language": "python",
     "metadata": {},
     "outputs": [],
     "prompt_number": 1
    },
    {
     "cell_type": "heading",
     "level": 2,
     "metadata": {},
     "source": [
      "Obtaining the code files for the Column Model"
     ]
    },
    {
     "cell_type": "markdown",
     "metadata": {},
     "source": [
      "### This is out of date and needs to be revised...\n",
      "###  we have changed the name to column.py, put it in the package called climlab, etc.\n",
      "\n",
      "You will need to download two .py files from the class website. 'ColumnModel.py' has the actual model code, and 'ClimateUtils.py' has a bunch of useful constants and functions that we will use repeatedly throughout the semester.  Find links to the code on the class web page:\n",
      "<http://www.atmos.albany.edu/facstaff/brose/classes/ENV480_Spring2014/styled-5/index.html>\n",
      "\n",
      "You need to choose a directory on your computer to work in (or create a new one). Save both .py files to this directory.\n",
      "\n",
      "Then, open up Canopy and try this:"
     ]
    },
    {
     "cell_type": "code",
     "collapsed": false,
     "input": [
      "import ColumnModel"
     ],
     "language": "python",
     "metadata": {},
     "outputs": [],
     "prompt_number": 2
    },
    {
     "cell_type": "markdown",
     "metadata": {},
     "source": [
      "What happened? Did you get an error message such as this:"
     ]
    },
    {
     "cell_type": "raw",
     "metadata": {},
     "source": [
      "---------------------------------------------------------------------------\n",
      "ImportError                               Traceback (most recent call last)\n",
      "<ipython-input-1-5933880538c1> in <module>()\n",
      "----> 1 import ColumnModel\n",
      "\n",
      "ImportError: No module named ColumnModel \n"
     ]
    },
    {
     "cell_type": "markdown",
     "metadata": {},
     "source": [
      "If so, the reason is that the Python interpreter is looking for a file called 'ColumnModel.py' but can't find it!\n",
      "\n",
      "This is because we haven't told Python where to look for it. The easiest thing to do is set Python's current working directory to the same directory where you saved the code files.\n",
      "\n",
      "Find the little arrow on the right-hand side of the Canopy window, just above your interpreter box. Clicking on this arrow should make a window pop up allowing you to \"Change Working Directory...\"\n",
      "\n",
      "Choose the directory where the code files are sitting, and try the import statement again. No error message = a successful import!"
     ]
    },
    {
     "cell_type": "heading",
     "level": 2,
     "metadata": {},
     "source": [
      "Creating a new instance of the Column Model"
     ]
    },
    {
     "cell_type": "markdown",
     "metadata": {},
     "source": [
      "To begin working with the model, we just need to tell Python to create a new object called a 'column' that is defined in the file ColumnModel.py\n",
      "\n",
      "Try this:"
     ]
    },
    {
     "cell_type": "code",
     "collapsed": false,
     "input": [
      "mycolumn = column.GreyRadiationModel( num_lev=2 )"
     ],
     "language": "python",
     "metadata": {},
     "outputs": [],
     "prompt_number": 3
    },
    {
     "cell_type": "markdown",
     "metadata": {},
     "source": [
      "You have just created a new column object. What is that? Let's take a look:"
     ]
    },
    {
     "cell_type": "code",
     "collapsed": false,
     "input": [
      "print mycolumn"
     ],
     "language": "python",
     "metadata": {},
     "outputs": [
      {
       "output_type": "stream",
       "stream": "stdout",
       "text": [
        "climlab Process of type <class 'climlab.model.column.GreyRadiationModel'>. \n",
        "State variables and domain shapes: \n",
        "  Tatm: (2,) \n",
        "  Ts: (1,) \n",
        "The subprocess tree: \n",
        "top: <class 'climlab.model.column.GreyRadiationModel'>\n",
        "   LW: <class 'climlab.radiation.radiation.Radiation'>\n",
        "   SW: <class 'climlab.radiation.radiation.Radiation'>\n",
        "   surface: <class 'climlab.surface.surface_radiation.SurfaceRadiation'>\n",
        "   insolation: <class 'climlab.radiation.insolation.FixedInsolation'>\n",
        "\n"
       ]
      }
     ],
     "prompt_number": 4
    },
    {
     "cell_type": "markdown",
     "metadata": {},
     "source": [
      "Try just typing mycolumn. and then hitting the tab key. You should see a list pop up. Everything on that list is the name of some object that is contained within mycolumn.\n",
      "\n",
      "\"Object\" is a very general concept. Everything in Python that has a name is an object. This includes variables (numbers, character strings, etc.), but also functions.\n",
      "\n",
      "Our object called mycolumn contains a bunch of data, and it also contains some functions that operate on those data.\n",
      "\n",
      "Try this:"
     ]
    },
    {
     "cell_type": "code",
     "collapsed": false,
     "input": [
      "print mycolumn.state"
     ],
     "language": "python",
     "metadata": {},
     "outputs": [
      {
       "output_type": "stream",
       "stream": "stdout",
       "text": [
        "{'Tatm': Field([ 278.,  200.]), 'Ts': Field([ 288.])}\n"
       ]
      }
     ],
     "prompt_number": 5
    },
    {
     "cell_type": "markdown",
     "metadata": {},
     "source": [
      "We will use the column object to model temperature in a column. What you just did above was to look at the temperatures currently stored in mycolumn, for the surface (a single number), and the atmosphere.\n",
      "\n",
      "When you created mycolumn a few lines ago, you specifically asked for a column with 2 levels in the atmosphere.\n",
      "\n",
      "We can see where those levels are in the atmosphere as follows:"
     ]
    },
    {
     "cell_type": "code",
     "collapsed": false,
     "input": [
      "#  Three ways to get this:\n",
      "print mycolumn.lev\n",
      "print mycolumn.state['Tatm'].domain.axes['lev'].points\n",
      "print mycolumn.domains['Tatm'].axes['lev'].points"
     ],
     "language": "python",
     "metadata": {},
     "outputs": [
      {
       "output_type": "stream",
       "stream": "stdout",
       "text": [
        "[ 750.  250.]\n",
        "[ 750.  250.]\n",
        "[ 750.  250.]\n"
       ]
      }
     ],
     "prompt_number": 6
    },
    {
     "cell_type": "markdown",
     "metadata": {},
     "source": [
      "which is actually the pressure (in mb or hPa) at which we are specifying the temperature -- in this case essentially the lower and upper troposphere."
     ]
    },
    {
     "cell_type": "heading",
     "level": 3,
     "metadata": {},
     "source": [
      "So what does this code actually do?"
     ]
    },
    {
     "cell_type": "markdown",
     "metadata": {},
     "source": [
      "It calculates the warming and cooling of the air and the surface based on the grey radition approximation that we have looked at in class.\n",
      "\n",
      "I encourage you to look through the code. Try typing this:"
     ]
    },
    {
     "cell_type": "raw",
     "metadata": {},
     "source": [
      "edit ColumnModel"
     ]
    },
    {
     "cell_type": "markdown",
     "metadata": {},
     "source": [
      "You should find that the code is now displayed in your editor window. Have a look, but obviously don't fret about not understanding it at this point.\n",
      "\n",
      "Notice, though, that there are lots of comments sprinkled throughout the code. Comments in Python begin with # and are just words to help us understand the code. Comments are never executed by the Python interpreter.\n",
      "\n",
      "Convince yourself of this by typing something like this:"
     ]
    },
    {
     "cell_type": "code",
     "collapsed": false,
     "input": [
      "# this is not valid Python code"
     ],
     "language": "python",
     "metadata": {},
     "outputs": [],
     "prompt_number": 7
    },
    {
     "cell_type": "markdown",
     "metadata": {},
     "source": [
      "You might want to try typing the same thing without the # in front."
     ]
    },
    {
     "cell_type": "code",
     "collapsed": false,
     "input": [
      "this is not valid Python code"
     ],
     "language": "python",
     "metadata": {},
     "outputs": [
      {
       "ename": "SyntaxError",
       "evalue": "invalid syntax (<ipython-input-8-146db698be12>, line 1)",
       "output_type": "pyerr",
       "traceback": [
        "\u001b[0;36m  File \u001b[0;32m\"<ipython-input-8-146db698be12>\"\u001b[0;36m, line \u001b[0;32m1\u001b[0m\n\u001b[0;31m    this is not valid Python code\u001b[0m\n\u001b[0m                           ^\u001b[0m\n\u001b[0;31mSyntaxError\u001b[0m\u001b[0;31m:\u001b[0m invalid syntax\n"
       ]
      }
     ],
     "prompt_number": 8
    },
    {
     "cell_type": "heading",
     "level": 3,
     "metadata": {},
     "source": [
      "OK but what does this code actually do?"
     ]
    },
    {
     "cell_type": "markdown",
     "metadata": {},
     "source": [
      "It calculates the warming and cooling of the air and the surface based on the grey radition approximation that we have looked at in class.\n",
      "\n",
      "Try this:"
     ]
    },
    {
     "cell_type": "code",
     "collapsed": false,
     "input": [
      "mycolumn.step_forward()\n",
      "mycolumn.step_forward()\n",
      "print mycolumn.diagnostics['LW_absorbed_sfc']\n",
      "print mycolumn.diagnostics['LW_absorbed_atm']"
     ],
     "language": "python",
     "metadata": {},
     "outputs": [
      {
       "output_type": "stream",
       "stream": "stdout",
       "text": [
        "[-205.77889227]\n",
        "[-302.66005476   -9.43914766]\n"
       ]
      }
     ],
     "prompt_number": 9
    },
    {
     "cell_type": "markdown",
     "metadata": {},
     "source": [
      "What you just did was to call a function Longwave_Heating() that calculates how much longwave radiation is emitted up and down from each layer, and how much is absorbed by each layer (and the surface).\n",
      "\n",
      "You then printed out some quantities that were calculated and stored by the function, which are actually the heating rates at each level in W / m$^2$\n",
      "\n",
      "Now try this:"
     ]
    },
    {
     "cell_type": "code",
     "collapsed": false,
     "input": [
      "print mycolumn.diagnostics['SW_absorbed_sfc']\n",
      "print mycolumn.diagnostics['SW_absorbed_atm']"
     ],
     "language": "python",
     "metadata": {},
     "outputs": [
      {
       "output_type": "stream",
       "stream": "stdout",
       "text": [
        "239.2513\n",
        "[-0. -0.]\n"
       ]
      }
     ],
     "prompt_number": 10
    },
    {
     "cell_type": "markdown",
     "metadata": {},
     "source": [
      "Hopefully this makes sense. Our code also calculates the energy absorbed due to shortwave (solar) radiation. The atmosphere is transparent to solar radiation in this model, so the absorption all occurs at the surface.\n",
      "\n",
      "Look in the code file to find where the function Shortwave_Heating() is defined. It's really just calculating\n",
      "$(1-\\alpha) Q$ based on some default parameter values for $alpha$ and $Q$. We'll think about changing the defaults later."
     ]
    },
    {
     "cell_type": "heading",
     "level": 3,
     "metadata": {},
     "source": [
      "Energy (im)balance in the column"
     ]
    },
    {
     "cell_type": "markdown",
     "metadata": {},
     "source": [
      "To get the total energy sources and sinks at each point, we just need to add up the shortwave and longwave terms:"
     ]
    },
    {
     "cell_type": "code",
     "collapsed": false,
     "input": [
      "print mycolumn.diagnostics['LW_absorbed_sfc'] + mycolumn.diagnostics['SW_absorbed_sfc']\n",
      "print mycolumn.diagnostics['LW_absorbed_atm'] + mycolumn.diagnostics['SW_absorbed_atm']"
     ],
     "language": "python",
     "metadata": {},
     "outputs": [
      {
       "output_type": "stream",
       "stream": "stdout",
       "text": [
        "[ 33.47240773]\n",
        "[-302.66005476   -9.43914766]\n"
       ]
      }
     ],
     "prompt_number": 11
    },
    {
     "cell_type": "markdown",
     "metadata": {},
     "source": [
      "\n",
      "Evidently this column is NOT in energy balance! The surface is gaining energy at a rate 33 W / m$^2$, the lower atmosphere is losing energy at 116 W / m$^2$, and the upper atmosphere is gaining nearly 90 W / m$^2$."
     ]
    },
    {
     "cell_type": "heading",
     "level": 3,
     "metadata": {},
     "source": [
      "OK so what?"
     ]
    },
    {
     "cell_type": "markdown",
     "metadata": {},
     "source": [
      "The code will not just calculate the energy imbalance, but also change the temperatures in response to the imbalance. It does this by time-stepping, just like we did with the zero-dimensional model in the first homework."
     ]
    },
    {
     "cell_type": "code",
     "collapsed": false,
     "input": [
      "mycolumn.step_forward()\n",
      "print mycolumn.state"
     ],
     "language": "python",
     "metadata": {},
     "outputs": [
      {
       "output_type": "stream",
       "stream": "stdout",
       "text": [
        "{'Tatm': Field([ 269.53262928,  202.38370068]), 'Ts': Field([ 282.65169979])}\n"
       ]
      }
     ],
     "prompt_number": 12
    },
    {
     "cell_type": "code",
     "collapsed": false,
     "input": [
      "mycolumn.diagnostics"
     ],
     "language": "python",
     "metadata": {},
     "outputs": [
      {
       "metadata": {},
       "output_type": "pyout",
       "prompt_number": 13,
       "text": [
        "{'ASR': Field([ 239.2513]),\n",
        " 'LW_absorbed_atm': array([-93.40848084,  82.64197828]),\n",
        " 'LW_absorbed_sfc': Field([-175.53265791]),\n",
        " 'LW_down_sfc': array([ 172.67678516]),\n",
        " 'LW_emission': Field([ 150.11521049,   43.16965737]),\n",
        " 'LW_up_sfc': Field([ 348.20944306]),\n",
        " 'OLR': array([ 228.16911201]),\n",
        " 'SW_absorbed_atm': array([-0., -0.]),\n",
        " 'SW_absorbed_sfc': 239.25130000000001,\n",
        " 'SW_absorbed_total': 239.25130000000001,\n",
        " 'SW_down_TOA': Field([ 341.3]),\n",
        " 'SW_down_sfc': array([ 341.3]),\n",
        " 'SW_emission': Field([ 0.,  0.]),\n",
        " 'SW_up_TOA': array([ 102.0487]),\n",
        " 'SW_up_sfc': Field([ 0.]),\n",
        " 'insolation': Field([ 341.3]),\n",
        " 'planetary_albedo': Field([ 0.299])}"
       ]
      }
     ],
     "prompt_number": 13
    },
    {
     "cell_type": "markdown",
     "metadata": {},
     "source": [
      "Here you just called a function `step_forward()` that computes the energy imbalance as you just did above, and then uses that imbalance to adjust the temperatures."
     ]
    },
    {
     "cell_type": "heading",
     "level": 2,
     "metadata": {},
     "source": [
      "HOMEWORK QUESTION 1"
     ]
    },
    {
     "cell_type": "markdown",
     "metadata": {},
     "source": [
      "Have the temperatures gone up or down at the surface and at each level from where they started? Why?\n",
      "\n",
      "(This is an easy question, not a trick question)"
     ]
    },
    {
     "cell_type": "heading",
     "level": 2,
     "metadata": {},
     "source": [
      "Timestepping to equilibrium"
     ]
    },
    {
     "cell_type": "markdown",
     "metadata": {},
     "source": [
      "Just like we did with the zero-dimensional model in the first homework, we will use loops to time-step the model towards equilibrium. Try this:"
     ]
    },
    {
     "cell_type": "code",
     "collapsed": false,
     "input": [
      "for n in range(10):\n",
      "    mycolumn.step_forward()\n",
      "    print mycolumn.state['Ts']\n"
     ],
     "language": "python",
     "metadata": {},
     "outputs": [
      {
       "output_type": "stream",
       "stream": "stdout",
       "text": [
        "[ 283.62756523]\n",
        "[ 284.43160244]\n",
        "[ 285.09131417]\n",
        "[ 285.62978913]\n",
        "[ 286.06669079]\n",
        "[ 286.41869255]\n",
        "[ 286.6999089]\n",
        "[ 286.92226907]\n",
        "[ 287.09584036]\n",
        "[ 287.2291065]\n"
       ]
      }
     ],
     "prompt_number": 14
    },
    {
     "cell_type": "markdown",
     "metadata": {},
     "source": [
      "This little loop just repeated the call to Step_Forward 10 times, and printed out the surface temperature after each time step.\n",
      "\n",
      "Notice that the temperature is changing each time. That means we are not at equilibrium. Try it again!"
     ]
    },
    {
     "cell_type": "code",
     "collapsed": false,
     "input": [
      "for n in range(10):\n",
      "    mycolumn.step_forward()\n",
      "    print mycolumn.state['Ts']"
     ],
     "language": "python",
     "metadata": {},
     "outputs": [
      {
       "output_type": "stream",
       "stream": "stdout",
       "text": [
        "[ 287.3292065]\n",
        "[ 287.40213905]\n",
        "[ 287.45293697]\n",
        "[ 287.48581585]\n",
        "[ 287.50430039]\n",
        "[ 287.51133179]\n",
        "[ 287.50935879]\n",
        "[ 287.50041488]\n",
        "[ 287.48618369]\n",
        "[ 287.46805437]\n"
       ]
      }
     ],
     "prompt_number": 15
    },
    {
     "cell_type": "markdown",
     "metadata": {},
     "source": [
      "Still changing, but not by as much.\n",
      "\n",
      "Here's a trick:"
     ]
    },
    {
     "cell_type": "code",
     "collapsed": false,
     "input": [
      "mycolumn.integrate_years(0.3)\n",
      "print mycolumn.state['Ts']"
     ],
     "language": "python",
     "metadata": {},
     "outputs": [
      {
       "output_type": "stream",
       "stream": "stdout",
       "text": [
        "Integrating for 109 steps, 109.57266 days, or 0.3 years.\n",
        "Total elapsed time is 0.36140402177 years."
       ]
      },
      {
       "output_type": "stream",
       "stream": "stdout",
       "text": [
        "\n",
        "[ 287.64961772]\n"
       ]
      }
     ],
     "prompt_number": 16
    },
    {
     "cell_type": "markdown",
     "metadata": {},
     "source": [
      "What you just did was to loop through the time-stepping procedure 100 times!\n",
      "\n",
      "Look at the code and find the function Step_Forward(). Do you see how the code creates a loop?\n",
      "\n",
      "In this case the function Step_Forward() takes an optional input argument which is the number of iterations through the loop. This number defaults to 1 if we don't specify it, which is what happened above!\n",
      "\n",
      "Has the model reached equilibrium yet? We can always keep on time-stepping and see if anything changes:"
     ]
    },
    {
     "cell_type": "code",
     "collapsed": false,
     "input": [
      "mycolumn.integrate_years(0.3)\n",
      "print mycolumn.state['Ts']"
     ],
     "language": "python",
     "metadata": {},
     "outputs": [
      {
       "output_type": "stream",
       "stream": "stdout",
       "text": [
        "Integrating for 109 steps, 109.57266 days, or 0.3 years.\n",
        "Total elapsed time is 0.659836130655 years."
       ]
      },
      {
       "output_type": "stream",
       "stream": "stdout",
       "text": [
        "\n",
        "[ 287.82932753]\n"
       ]
      }
     ],
     "prompt_number": 17
    },
    {
     "cell_type": "markdown",
     "metadata": {},
     "source": [
      "The changes are now minimal, and it is close to equilibrium.\n",
      "\n",
      "Let's look at the whole column temperature:"
     ]
    },
    {
     "cell_type": "code",
     "collapsed": false,
     "input": [
      "for key, item in mycolumn.state.iteritems():\n",
      "    print key, item"
     ],
     "language": "python",
     "metadata": {},
     "outputs": [
      {
       "output_type": "stream",
       "stream": "stdout",
       "text": [
        "Tatm [ 252.91801257  229.39740601]\n",
        "Ts [ 287.82932753]\n"
       ]
      }
     ],
     "prompt_number": 18
    },
    {
     "cell_type": "code",
     "collapsed": false,
     "input": [
      "print mycolumn.diagnostics"
     ],
     "language": "python",
     "metadata": {},
     "outputs": [
      {
       "output_type": "stream",
       "stream": "stdout",
       "text": [
        "{'ASR': Field([ 239.2513]), 'SW_up_TOA': array([ 102.0487]), 'SW_emission': Field([ 0.,  0.]), 'SW_absorbed_sfc': 239.25130000000001, 'LW_up_sfc': Field([ 389.15065631]), 'planetary_albedo': Field([ 0.299]), 'LW_absorbed_sfc': Field([-239.22714764]), 'SW_up_sfc': Field([ 0.]), 'LW_absorbed_atm': array([ 0.04589865,  0.05414397]), 'OLR': array([ 239.1245803]), 'insolation': Field([ 341.3]), 'SW_absorbed_atm': array([-0., -0.]), 'LW_emission': Field([ 110.75174079,   74.95185165]), 'SW_down_sfc': array([ 341.3]), 'SW_absorbed_total': 239.25130000000001, 'LW_down_sfc': array([ 149.92350867]), 'SW_down_TOA': Field([ 341.3])}\n"
       ]
      }
     ],
     "prompt_number": 19
    },
    {
     "cell_type": "heading",
     "level": 2,
     "metadata": {},
     "source": [
      "HOMEWORK QUESTION 2"
     ]
    },
    {
     "cell_type": "markdown",
     "metadata": {},
     "source": [
      "Compare the temperatures you found here (after time-stepping to equilibrium) with the radiative equilibrium temperatures we derived in class for this same model. Do they agree?"
     ]
    },
    {
     "cell_type": "heading",
     "level": 3,
     "metadata": {},
     "source": [
      "Greenhouse warming in the 2-layer model"
     ]
    },
    {
     "cell_type": "markdown",
     "metadata": {},
     "source": [
      "Now that our column is in equilibrium, let's look at the Outgoing Longwave Radiation. The model keeps track of this for us:"
     ]
    },
    {
     "cell_type": "code",
     "collapsed": false,
     "input": [
      "print mycolumn.diagnostics['OLR']"
     ],
     "language": "python",
     "metadata": {},
     "outputs": [
      {
       "output_type": "stream",
       "stream": "stdout",
       "text": [
        "[ 239.1245803]\n"
       ]
      }
     ],
     "prompt_number": 20
    },
    {
     "cell_type": "markdown",
     "metadata": {},
     "source": [
      "This should hopefully be almost exactly equal to the shortwave absorption:"
     ]
    },
    {
     "cell_type": "code",
     "collapsed": false,
     "input": [
      "print mycolumn.diagnostics['SW_absorbed_sfc']"
     ],
     "language": "python",
     "metadata": {},
     "outputs": [
      {
       "output_type": "stream",
       "stream": "stdout",
       "text": [
        "239.2513\n"
       ]
      }
     ],
     "prompt_number": 21
    },
    {
     "cell_type": "markdown",
     "metadata": {},
     "source": [
      "Now you are going to do a \"global warming\" experiment, like we started in class.\n",
      "\n",
      "The following will increase the emissivity / absorptivity of each layer by 10%, which is analagous to an increase in greenhouse gases in the atmosphere:"
     ]
    },
    {
     "cell_type": "code",
     "collapsed": false,
     "input": [
<<<<<<< HEAD
      "mycolumn.set_LW_emissivity(1.1 * mycolumn.eps)"
=======
      "from climlab.process.process import process_like\n",
      "column2 = process_like(mycolumn)\n",
      "absorptivity = column2.subprocess['LW'].absorptivity\n",
      "print absorptivity\n",
      "column2.subprocess['LW'].absorptivity *= 1.1 \n",
      "print column2.subprocess['LW'].absorptivity"
>>>>>>> oop
     ],
     "language": "python",
     "metadata": {},
     "outputs": [
      {
       "output_type": "stream",
       "stream": "stdout",
       "text": [
        "[ 0.47737425  0.47737425]\n",
        "[ 0.52511167  0.52511167]\n"
       ]
      }
     ],
     "prompt_number": 22
    },
    {
     "cell_type": "markdown",
     "metadata": {},
     "source": [
      "Let's now re-calculate the longwave radiation with this new value of eps:"
     ]
    },
    {
     "cell_type": "code",
     "collapsed": false,
     "input": [
      "column2.step_forward()\n",
      "column2.step_forward()"
     ],
     "language": "python",
     "metadata": {},
     "outputs": [],
     "prompt_number": 23
    },
    {
     "cell_type": "heading",
     "level": 2,
     "metadata": {},
     "source": [
      "HOMEWORK QUESTION 3"
     ]
    },
    {
     "cell_type": "markdown",
     "metadata": {},
     "source": [
      "Find the new value of OLR after this change. Is it larger or smaller than it was before we added greenhouse gases? What do you think should happen to the surface temperature as a result? Why?"
     ]
    },
    {
     "cell_type": "code",
     "collapsed": false,
     "input": [
<<<<<<< HEAD
      "print mycolumn.OLR"
=======
      "print column2.diagnostics['OLR']\n",
      "#  Old code gave 228.16"
>>>>>>> oop
     ],
     "language": "python",
     "metadata": {},
     "outputs": [
      {
       "output_type": "stream",
       "stream": "stdout",
       "text": [
<<<<<<< HEAD
        "228.163406834\n"
       ]
      }
     ],
     "prompt_number": 22
=======
        "[ 228.06661292]\n"
       ]
      }
     ],
     "prompt_number": 24
    },
    {
     "cell_type": "code",
     "collapsed": false,
     "input": [
      "column2.diagnostics"
     ],
     "language": "python",
     "metadata": {},
     "outputs": [
      {
       "metadata": {},
       "output_type": "pyout",
       "prompt_number": 25,
       "text": [
        "{'ASR': Field([ 239.2513]),\n",
        " 'LW_absorbed_atm': array([ 3.98438123, -3.88210204]),\n",
        " 'LW_absorbed_sfc': Field([-228.17131477]),\n",
        " 'LW_down_sfc': array([ 160.98423737]),\n",
        " 'LW_emission': Field([ 121.82986771,   82.44963576]),\n",
        " 'LW_up_sfc': Field([ 389.15555213]),\n",
        " 'OLR': array([ 228.06661292]),\n",
        " 'SW_absorbed_atm': array([-0., -0.]),\n",
        " 'SW_absorbed_sfc': 239.25130000000001,\n",
        " 'SW_absorbed_total': 239.25130000000001,\n",
        " 'SW_down_TOA': Field([ 341.3]),\n",
        " 'SW_down_sfc': array([ 341.3]),\n",
        " 'SW_emission': Field([ 0.,  0.]),\n",
        " 'SW_up_TOA': array([ 102.0487]),\n",
        " 'SW_up_sfc': Field([ 0.]),\n",
        " 'insolation': Field([ 341.3]),\n",
        " 'planetary_albedo': Field([ 0.299])}"
       ]
      }
     ],
     "prompt_number": 25
>>>>>>> oop
    },
    {
     "cell_type": "code",
     "collapsed": false,
     "input": [],
     "language": "python",
     "metadata": {},
<<<<<<< HEAD
     "outputs": []
=======
     "outputs": [],
     "prompt_number": 25
>>>>>>> oop
    }
   ],
   "metadata": {}
  }
 ]
}