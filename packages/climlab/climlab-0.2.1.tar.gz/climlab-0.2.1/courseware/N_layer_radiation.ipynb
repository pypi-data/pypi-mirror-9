{
 "metadata": {
  "name": "",
  "signature": "sha256:108ba147ce76f594b4312d7f5960ac93df93037910c7c044aa7cb52c142cc5ea"
 },
 "nbformat": 3,
 "nbformat_minor": 0,
 "worksheets": [
  {
   "cells": [
    {
     "cell_type": "heading",
     "level": 1,
     "metadata": {},
     "source": [
      "N layer radiation"
     ]
    },
    {
     "cell_type": "code",
     "collapsed": false,
     "input": [
      "%matplotlib inline\n",
      "import numpy as np\n",
      "from climlab import constants as const\n",
      "from climlab.model import column\n",
      "import sympy\n",
      "sympy.init_printing()"
     ],
     "language": "python",
     "metadata": {},
     "outputs": [],
     "prompt_number": 1
    },
    {
     "cell_type": "markdown",
     "metadata": {},
     "source": [
      "Suppose we have an atmosphere of $N$ layers. We want to model the radiative fluxes in a particular spectral band with absorptivities\n",
      "\n",
      "$${\\bf{\\epsilon}} = [\\epsilon_0, \\epsilon_1, ..., \\epsilon_{N-1}]$$\n",
      "\n",
      "Let the **upwelling flux between levels** be a vector ${\\bf{U}} = [U_0, U_1, ..., U_{N-1}, U_N]$.\n",
      "\n",
      "If there are $N$ levels then $\\bf{U}$ has $N+1$ elements. We will number the layers starting from 0 following `numpy` index conventions.\n",
      "\n",
      "- $U_0$ is the upwelling flux from surface to layer 0.\n",
      "- $U_1$ is the upwelling flux layer 0 to layer 1, etc.\n",
      "- $U_N$ is the upwelling flux from layer N-1 (the top level) to space.\n",
      "\n",
      "Same for the downwelling flux ${\\bf{D}} = [D_0, D_1, ..., D_N]$. So $D_N$ is the flux down from space and $D_0$ is the backradiation to the surface.\n"
     ]
    },
    {
     "cell_type": "code",
     "collapsed": false,
     "input": [
      "epsilon, epsilon_i, N, sigma = sympy.symbols('epsilon, epsilon_i, N, sigma', nonnegative=True )"
     ],
     "language": "python",
     "metadata": {},
     "outputs": [],
     "prompt_number": 2
    },
    {
     "cell_type": "markdown",
     "metadata": {},
     "source": [
      "For this spectral band, we need to specify:\n",
      "\n",
      "- Absorptivity of each layer\n",
      "- Emission of each layer (assumed equal up and down)\n",
      "- Flux down through the top\n",
      "- Flux up through the bottom"
     ]
    },
    {
     "cell_type": "code",
     "collapsed": false,
     "input": [
      "E, E_i, Fdowntop, Fupbottom = sympy.symbols('E, E_i, Fdowntop, Fupbottom', nonnegative=True )"
     ],
     "language": "python",
     "metadata": {},
     "outputs": [],
     "prompt_number": 3
    },
    {
     "cell_type": "code",
     "collapsed": false,
     "input": [
      "N = 3\n",
      "U = sympy.Matrix(np.zeros(N+1))\n",
      "U"
     ],
     "language": "python",
     "metadata": {},
     "outputs": [
      {
       "latex": [
        "$$\\left[\\begin{matrix}0.0\\\\0.0\\\\0.0\\\\0.0\\end{matrix}\\right]$$"
       ],
       "metadata": {},
       "output_type": "pyout",
       "png": "[encoded data removed]",
       "prompt_number": 4,
       "text": [
        "\u23a10.0\u23a4\n",
        "\u23a2   \u23a5\n",
        "\u23a20.0\u23a5\n",
        "\u23a2   \u23a5\n",
        "\u23a20.0\u23a5\n",
        "\u23a2   \u23a5\n",
        "\u23a30.0\u23a6"
       ]
      }
     ],
     "prompt_number": 4
    },
    {
     "cell_type": "code",
     "collapsed": false,
     "input": [
      "# formula to construct U for arbitrary N\n",
      "\n",
      "#  need to choose appropriate values\n",
      "epsilon = sympy.Matrix(0.3*np.ones(N))\n",
      "tau = sympy.Matrix(np.ones(N)) - epsilon\n",
      "\n",
      "T = sympy.Matrix(250. * np.ones(N))\n",
      "T\n",
      "\n",
      "E = sympy.Matrix([sigma * x**4 for x in T])\n",
      "E\n"
     ],
     "language": "python",
     "metadata": {},
     "outputs": [
      {
       "latex": [
        "$$\\left[\\begin{matrix}3906250000.0 \\sigma\\\\3906250000.0 \\sigma\\\\3906250000.0 \\sigma\\end{matrix}\\right]$$"
       ],
       "metadata": {},
       "output_type": "pyout",
       "png": "[encoded data removed]",
       "prompt_number": 5,
       "text": [
        "\u23a13906250000.0\u22c5\u03c3\u23a4\n",
        "\u23a2              \u23a5\n",
        "\u23a23906250000.0\u22c5\u03c3\u23a5\n",
        "\u23a2              \u23a5\n",
        "\u23a33906250000.0\u22c5\u03c3\u23a6"
       ]
      }
     ],
     "prompt_number": 5
    },
    {
     "cell_type": "code",
     "collapsed": false,
     "input": [
      "U = sympy.Matrix(np.zeros(N+1))\n",
      "U[0] = Fupbottom\n",
      "for n in range(N):\n",
      "    U[n+1] = tau[n]*U[n] + E[n]"
     ],
     "language": "python",
     "metadata": {},
     "outputs": [],
     "prompt_number": 6
    },
    {
     "cell_type": "code",
     "collapsed": false,
     "input": [
      "D = sympy.Matrix(np.zeros(N+1))\n",
      "D[N] = Fdowntop\n",
      "for n in "
     ],
     "language": "python",
     "metadata": {},
     "outputs": [
      {
       "ename": "SyntaxError",
       "evalue": "invalid syntax (<ipython-input-7-6ab3772c610c>, line 3)",
       "output_type": "pyerr",
       "traceback": [
        "\u001b[0;36m  File \u001b[0;32m\"<ipython-input-7-6ab3772c610c>\"\u001b[0;36m, line \u001b[0;32m3\u001b[0m\n\u001b[0;31m    for n in\u001b[0m\n\u001b[0m             ^\u001b[0m\n\u001b[0;31mSyntaxError\u001b[0m\u001b[0;31m:\u001b[0m invalid syntax\n"
       ]
      }
     ],
     "prompt_number": 7
    },
    {
     "cell_type": "code",
     "collapsed": false,
     "input": [
      "joe = np.ones(N+1)"
     ],
     "language": "python",
     "metadata": {},
     "outputs": []
    },
    {
     "cell_type": "code",
     "collapsed": false,
     "input": [
      "joe"
     ],
     "language": "python",
     "metadata": {},
     "outputs": []
    },
    {
     "cell_type": "code",
     "collapsed": false,
     "input": [
      "np.cumprod(joe)"
     ],
     "language": "python",
     "metadata": {},
     "outputs": []
    },
    {
     "cell_type": "code",
     "collapsed": false,
     "input": [],
     "language": "python",
     "metadata": {},
     "outputs": []
    }
   ],
   "metadata": {}
  }
 ]
}