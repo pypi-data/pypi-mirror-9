{
 "metadata": {
  "name": "",
  "signature": "sha256:61f6c87b42d5a2cd31977d6d33a72d0660199588e1d8ccbecabb86b641a57598"
 },
 "nbformat": 3,
 "nbformat_minor": 0,
 "worksheets": [
  {
   "cells": [
    {
     "cell_type": "code",
     "collapsed": false,
     "input": [
      "import os\n",
      "import json\n",
      "\n",
      "import poppytools\n",
      "\n",
      "configfile = os.path.join(os.path.dirname(poppytools.__file__), \n",
      "                          'configuration', 'poppy_config.json')\n",
      "\n",
      "with open(configfile) as f:\n",
      "    poppy_config = json.load(f)"
     ],
     "language": "python",
     "metadata": {},
     "outputs": [],
     "prompt_number": 1
    },
    {
     "cell_type": "code",
     "collapsed": false,
     "input": [
      "from pypot.vrep import from_vrep\n",
      "\n",
      "scene_path = 'poppy-sitting.ttt'\n",
      "\n",
      "poppy = from_vrep(poppy_config, '127.0.0.1', 19997, scene_path)\n",
      "poppy.start_sync()"
     ],
     "language": "python",
     "metadata": {},
     "outputs": [],
     "prompt_number": 2
    },
    {
     "cell_type": "code",
     "collapsed": false,
     "input": [
      "from poppytools.primitive.walking import WalkingGaitFromMat\n",
      "\n",
      "cpg_filename = os.path.join(os.path.dirname(poppytools.__file__), 'behavior', 'IROS_Normal_Gait.mat')\n",
      "walk = WalkingGaitFromMat(poppy, cpg_filename)\n",
      "walk.start()"
     ],
     "language": "python",
     "metadata": {},
     "outputs": [],
     "prompt_number": 3
    },
    {
     "cell_type": "code",
     "collapsed": false,
     "input": [
      "walk.stop()"
     ],
     "language": "python",
     "metadata": {},
     "outputs": [],
     "prompt_number": 4
    },
    {
     "cell_type": "code",
     "collapsed": false,
     "input": [
      "poppy.reset_simulation()"
     ],
     "language": "python",
     "metadata": {},
     "outputs": [],
     "prompt_number": 5
    },
    {
     "cell_type": "code",
     "collapsed": false,
     "input": [],
     "language": "python",
     "metadata": {},
     "outputs": []
    }
   ],
   "metadata": {}
  }
 ]
}