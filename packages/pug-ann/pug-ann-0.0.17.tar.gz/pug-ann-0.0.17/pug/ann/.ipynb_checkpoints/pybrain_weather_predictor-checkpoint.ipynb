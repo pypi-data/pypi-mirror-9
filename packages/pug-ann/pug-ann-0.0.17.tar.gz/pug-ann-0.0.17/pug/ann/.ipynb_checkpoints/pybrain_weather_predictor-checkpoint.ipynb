{
 "metadata": {
  "name": "",
  "signature": "sha256:d8d5f279d0bc494140ba89e2e4463a0112d4d6f5862e4e4258e594a0b509ce72"
 },
 "nbformat": 3,
 "nbformat_minor": 0,
 "worksheets": [
  {
   "cells": [
    {
     "cell_type": "code",
     "collapsed": false,
     "input": [
      "from pug.ann.data import weather\n",
      "df = weather.fresno\n",
      "from pug.ann import util\n",
      "ds = util.pybrain_dataset_from_dataframe(df)\n",
      "nn = util.build_ann(ds)\n",
      "print(nn)\n",
      "train = util.pb.supervised.RPropMinusTrainer(nn)\n",
      "print(train)\n",
      "ans = train.trainUntilConvergence(ds, maxEpochs=10, verbose=True)\n",
      "print(ans)"
     ],
     "language": "python",
     "metadata": {},
     "outputs": [
      {
       "output_type": "stream",
       "stream": "stdout",
       "text": [
        "FeedForwardNetwork-19\n",
        "   Modules:\n",
        "    [<LinearLayer 'input'>, <LinearLayer 'hidden'>, <LinearLayer 'output'>]\n",
        "   Connections:\n",
        "    [<FullConnection 'FullConnection-17': 'hidden' -> 'output'>, <FullConnection 'FullConnection-18': 'input' -> 'hidden'>]\n",
        "\n",
        "<RPropMinusTrainer 'RPropMinusTrainer-20'>\n",
        "('train-errors:', '[3119.2   , 2989.65  , 2856.48  , 2692.71  , 2477.13  , 2194.92  , 1837.67  , 1408.75  , 929.467  , 498.889  , 379.895  , 562.296  , 344.098  , 296.028  , 337.392  , 236.166  , 191.756  , 207.568  , 155.434  , 132.953  , 162.599  , 135.442  , 130.834  , 136.247  , 131.107  , 130.834  , 131.753  , 130.4    , 130.834  , 130.529  , 130.356  , 130.591  , 130.355  , 130.348  , 130.349  , 130.323  , 130.352  , 130.323  , 130.322  , 130.324  , 130.321  , 130.322  , 130.321  , 130.321  , 130.321  , 130.32   , 130.32   , 130.32   , 130.32   , 130.32   , 130.32   ]')"
       ]
      },
      {
       "output_type": "stream",
       "stream": "stdout",
       "text": [
        "\n",
        "('valid-errors:', '[3073     , 2946.52  , 2816.56  , 2656.81  , 2446.67  , 2171.84  , 1824.52  , 1408.76  , 939.695  , 520.368  , 407.416  , 577.045  , 362.589  , 313.535  , 348.204  , 244.815  , 195.946  , 207.509  , 151.655  , 126.041  , 157.597  , 129.989  , 123.448  , 131.15   , 124.747  , 123.448  , 125.628  , 123.6    , 123.448  , 123.857  , 123.311  , 123.726  , 123.504  , 123.303  , 123.513  , 123.376  , 123.442  , 123.417  , 123.361  , 123.425  , 123.391  , 123.362  , 123.398  , 123.379  , 123.387  , 123.387  , 123.39   , 123.387  , 123.382  , 123.384  , 123.386  , 123.386  ]')\n",
        "([3119.2043180688456, 2989.6535043867525, 2856.4762995614715, 2692.7105565643242, 2477.1345269163435, 2194.9234179322652, 1837.6746813748803, 1408.7514562114586, 929.46658299732826, 498.88898669438356, 379.8953844878954, 562.2962732861846, 344.0980353086955, 296.02827511924551, 337.39238529191175, 236.16604847658962, 191.75575381025754, 207.56773684774421, 155.43402572850661, 132.95261981942249, 162.59943187202634, 135.44218473959248, 130.83415610527905, 136.24696033597183, 131.1065909111573, 130.83415610527908, 131.75308477542595, 130.39967786958601, 130.83415610527905, 130.52903928817591, 130.35592362795185, 130.59068280973185], [3072.9950029700785, 2946.5239292227739, 2816.5586962119874, 2656.8125629531646, 2446.6664398023581, 2171.841958857231, 1824.5187476117537, 1408.7614329311411, 939.69512096165306, 520.36781805661496, 407.41617616518016, 577.04521586525914, 362.58914766291321, 313.5345691651475, 348.20422280180549, 244.81469563426663, 195.94551036473769, 207.50925743690479, 151.65478710625914, 126.04103981750126, 157.59699431769931, 129.98918724566533, 123.44823062502739, 131.14964159664487, 124.74702710463013, 123.44823062502742, 125.62773551059725, 123.60014603456747, 123.44823062502742, 123.85745965551784, 123.31105624109593, 123.72643747900499, 123.50408448208448])\n"
       ]
      }
     ],
     "prompt_number": 3
    },
    {
     "cell_type": "code",
     "collapsed": false,
     "input": [
      "from pug.ann import util\n",
      "ds = util.pybrain_dataset_from_dataframe(df)\n",
      "print(ds)"
     ],
     "language": "python",
     "metadata": {},
     "outputs": [
      {
       "output_type": "stream",
       "stream": "stdout",
       "text": [
        "input: dim(2046, 3)\n",
        "[[ 1.19325827 -0.20421695 -1.60169216]\n",
        " [ 1.63790947  1.19325827  0.74860706]\n",
        " [ 1.63790947  0.17691266 -1.28408415]\n",
        " ..., \n",
        " [ 0.93917186 -0.14069535 -1.28408415]\n",
        " [ 1.38382307  0.74860706  0.11339106]\n",
        " [ 1.63790947  0.30395586 -1.02999775]]\n",
        "\n",
        "target: dim(2046, 1)\n",
        "[[ 50.]\n",
        " [ 51.]\n",
        " [ 55.]\n",
        " ..., \n",
        " [ 54.]\n",
        " [ 44.]\n",
        " [ 46.]]\n",
        "\n",
        "\n"
       ]
      }
     ],
     "prompt_number": 10
    },
    {
     "cell_type": "code",
     "collapsed": false,
     "input": [
      "nn = util.build_ann()\n",
      "print(nn)\n",
      "train = util.pb.supervised.RPropMinusTrainer(nn, ds)\n",
      "print(train)"
     ],
     "language": "python",
     "metadata": {},
     "outputs": [
      {
       "output_type": "stream",
       "stream": "stdout",
       "text": [
        "FeedForwardNetwork-22\n",
        "   Modules:\n",
        "    [<LinearLayer 'input'>, <LinearLayer 'output'>]\n",
        "   Connections:\n",
        "    [<FullConnection 'FullConnection-21': 'input' -> 'output'>]\n",
        "\n",
        "<RPropMinusTrainer 'RPropMinusTrainer-23'>\n"
       ]
      }
     ],
     "prompt_number": 12
    },
    {
     "cell_type": "code",
     "collapsed": false,
     "input": [
      "train.trainUntilConvergence(maxEpochs=50)\n",
      "print(train)\n"
     ],
     "language": "python",
     "metadata": {},
     "outputs": [
      {
       "ename": "AttributeError",
       "evalue": "'NoneType' object has no attribute 'splitWithProportion'",
       "output_type": "pyerr",
       "traceback": [
        "\u001b[1;31m---------------------------------------------------------------------------\u001b[0m\n\u001b[1;31mAttributeError\u001b[0m                            Traceback (most recent call last)",
        "\u001b[1;32m<ipython-input-13-0be8324d6ce0>\u001b[0m in \u001b[0;36m<module>\u001b[1;34m()\u001b[0m\n\u001b[1;32m----> 1\u001b[1;33m \u001b[0mtrain\u001b[0m\u001b[1;33m.\u001b[0m\u001b[0mtrainUntilConvergence\u001b[0m\u001b[1;33m(\u001b[0m\u001b[0mmaxEpochs\u001b[0m\u001b[1;33m=\u001b[0m\u001b[1;36m50\u001b[0m\u001b[1;33m)\u001b[0m\u001b[1;33m\u001b[0m\u001b[0m\n\u001b[0m\u001b[0;32m      2\u001b[0m \u001b[1;32mprint\u001b[0m\u001b[1;33m(\u001b[0m\u001b[0mtrain\u001b[0m\u001b[1;33m)\u001b[0m\u001b[1;33m\u001b[0m\u001b[0m\n",
        "\u001b[1;32m/usr/src/projects/pybrain/pybrain/supervised/trainers/backprop.pyc\u001b[0m in \u001b[0;36mtrainUntilConvergence\u001b[1;34m(self, dataset, maxEpochs, verbose, continueEpochs, validationProportion, trainingData, validationData, convergence_threshold)\u001b[0m\n\u001b[0;32m    213\u001b[0m             \u001b[1;31m# validation.\u001b[0m\u001b[1;33m\u001b[0m\u001b[1;33m\u001b[0m\u001b[0m\n\u001b[0;32m    214\u001b[0m             trainingData, validationData = (\n\u001b[1;32m--> 215\u001b[1;33m                 dataset.splitWithProportion(1 - validationProportion))\n\u001b[0m\u001b[0;32m    216\u001b[0m         \u001b[1;32mif\u001b[0m \u001b[1;32mnot\u001b[0m \u001b[1;33m(\u001b[0m\u001b[0mlen\u001b[0m\u001b[1;33m(\u001b[0m\u001b[0mtrainingData\u001b[0m\u001b[1;33m)\u001b[0m \u001b[1;33m>\u001b[0m \u001b[1;36m0\u001b[0m \u001b[1;32mand\u001b[0m \u001b[0mlen\u001b[0m\u001b[1;33m(\u001b[0m\u001b[0mvalidationData\u001b[0m\u001b[1;33m)\u001b[0m\u001b[1;33m)\u001b[0m\u001b[1;33m:\u001b[0m\u001b[1;33m\u001b[0m\u001b[0m\n\u001b[0;32m    217\u001b[0m             raise ValueError(\"Provided dataset too small to be split into training \" +\n",
        "\u001b[1;31mAttributeError\u001b[0m: 'NoneType' object has no attribute 'splitWithProportion'"
       ]
      }
     ],
     "prompt_number": 13
    }
   ],
   "metadata": {}
  }
 ]
}