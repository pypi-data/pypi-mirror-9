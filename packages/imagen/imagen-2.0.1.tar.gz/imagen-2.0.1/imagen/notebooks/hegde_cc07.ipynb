{
 "metadata": {
  "name": "",
  "signature": "sha256:156b4e445e4c301c4151fcf88d6a0c91182b4f9cd7e6a7fe96876c4afb94ef9d"
 },
 "nbformat": 3,
 "nbformat_minor": 0,
 "worksheets": [
  {
   "cells": [
    {
     "cell_type": "heading",
     "level": 2,
     "metadata": {},
     "source": [
      "Visual patterns from Hegde and Van Essen (2007)"
     ]
    },
    {
     "cell_type": "markdown",
     "metadata": {},
     "source": [
      "Visual test patterns implemented by Jiri Machalek and James A. Bednar from:\n",
      "\n",
      "J. Hegde and D. Van Essen, A comparative study of shape representation in macaque visual areas V2 and V4, Cerebral Cortex (2007) 17:1100-1116. http://dx.doi.org/10.1093/cercor/bhl020\n",
      "\n",
      "\n",
      "Includes various grating and contour stimuli subclasses.  Stimuli from one subclass have common shape characteristics but vary in orientation, size and/or spatial frequency.  Patterns have not been matched bit for bit to the originals, but should be reasonably equivalent."
     ]
    },
    {
     "cell_type": "code",
     "collapsed": false,
     "input": [
      "import imagen as ig\n",
      "import holoviews as hv\n",
      "import numpy as np\n",
      "%load_ext holoviews.ipython"
     ],
     "language": "python",
     "metadata": {},
     "outputs": []
    },
    {
     "cell_type": "code",
     "collapsed": false,
     "input": [
      "%opts Layout [sublabel_format=\"\"] Image (cmap='gray') [show_xaxis=None show_yaxis=None show_frame=True]\n",
      "from imagen import *\n",
      "variants = 4 # Number of variants for each subclass"
     ],
     "language": "python",
     "metadata": {},
     "outputs": []
    },
    {
     "cell_type": "code",
     "collapsed": false,
     "input": [
      "sin1 = [SineGrating(phase=np.pi/2,frequency=2.0,orientation=i*np.pi/variants) for i in range(variants)]\n",
      "sin2 = [SineGrating(phase=np.pi/2,frequency=3.1,orientation=i*np.pi/variants) for i in range(variants)]\n",
      "sin3 = [SineGrating(phase=np.pi/2,frequency=4.2,orientation=i*np.pi/variants) for i in range(variants)]\n",
      "sinusoidal = sin1 + sin2 + sin3\n",
      "np.sum([p[:] for p in sinusoidal]).cols(8)"
     ],
     "language": "python",
     "metadata": {},
     "outputs": []
    },
    {
     "cell_type": "code",
     "collapsed": false,
     "input": [
      "hyp1 = [HyperbolicGrating(orientation=i*np.pi/(2*variants),size=0.36,thickness=0.040) for i in range(variants)]\n",
      "hyp2 = [HyperbolicGrating(orientation=i*np.pi/(2*variants),size=0.27,thickness=0.030) for i in range(variants)]\n",
      "hyp3 = [HyperbolicGrating(orientation=i*np.pi/(2*variants),size=0.18,thickness=0.015) for i in range(variants)]\n",
      "hyperbolic = hyp1 + hyp2 + hyp3\n",
      "np.sum([p[:] for p in hyperbolic]).cols(8)"
     ],
     "language": "python",
     "metadata": {},
     "outputs": []
    },
    {
     "cell_type": "code",
     "collapsed": false,
     "input": [
      "pol1 = [ConcentricRings(size=0.35/(1+j*0.5),thickness=0.05/(1+j*0.35),smoothing=0.05/(1+j*0.15)) for j in range(variants)]\n",
      "\n",
      "pol2 = [SpiralGrating(parts=(j+1)*2,turning=0.19+0.30*j,smoothing=0.110+0.015*j) for j in range(variants)]\n",
      "pol3 = [SpiralGrating(parts=(j+1)*2,turning=0.09+0.13*j,smoothing=0.050+0.006*j) for j in range(variants)]\n",
      "pol4 = [SpiralGrating(parts=(j+1)*2,turning=0.06+0.09*j,smoothing=0.035+0.006*j) for j in range(variants)]\n",
      "pol5 = [SpiralGrating(parts=(j+1)*2,turning=0.05+0.07*j,smoothing=0.030+0.003*j) for j in range(variants)]\n",
      "\n",
      "pol6 = [RadialGrating(parts=(j+1)*2) for j in range(variants)]\n",
      "\n",
      "polar = pol1 + pol2 + pol3 + pol4 + pol5 + pol6\n",
      "\n",
      "np.sum([p[:] for p in polar]).cols(8)"
     ],
     "language": "python",
     "metadata": {},
     "outputs": []
    },
    {
     "cell_type": "code",
     "collapsed": false,
     "input": [
      "bar1 = [Rectangle(orientation=j*np.pi/4,smoothing=0.015,aspect_ratio=0.1,size=0.5)\n",
      "        for j in range(variants)]\n",
      "bar2 = [Rectangle(orientation=j*np.pi/4,smoothing=0.015,aspect_ratio=0.2,size=0.25)\n",
      "        for j in range(variants)]\n",
      "bar = bar1 + bar2\n",
      "np.sum([p[:] for p in bar]).cols(8)"
     ],
     "language": "python",
     "metadata": {},
     "outputs": []
    },
    {
     "cell_type": "code",
     "collapsed": false,
     "input": [
      "star1 = [Asterisk(parts=3, size=0.50, orientation=j*np.pi/2) for j in range(variants)]\n",
      "star2 = [Asterisk(parts=3, size=0.25, orientation=j*np.pi/2) for j in range(variants)]\n",
      "tristar = star1 + star2\n",
      "np.sum([p[:] for p in tristar]).cols(8)"
     ],
     "language": "python",
     "metadata": {},
     "outputs": []
    },
    {
     "cell_type": "code",
     "collapsed": false,
     "input": [
      "star3 = [Asterisk(parts=4, size=0.50, orientation=j*np.pi/8) for j in range(variants)]\n",
      "star4 = [Asterisk(parts=4, size=0.25, orientation=j*np.pi/8) for j in range(variants)]\n",
      "cross = star3 + star4\n",
      "np.sum([p[:] for p in cross]).cols(8)"
     ],
     "language": "python",
     "metadata": {},
     "outputs": []
    },
    {
     "cell_type": "code",
     "collapsed": false,
     "input": [
      "star5 = [Asterisk(parts=5, size=0.50, orientation=j*np.pi) for j in range(2)]\n",
      "star5+= [Asterisk(parts=6, size=0.50)]\n",
      "star5+= [Ring(smoothing=0.015,thickness=0.05,size=0.5)]\n",
      "star6 = [Asterisk(parts=5, size=0.25, orientation=j*np.pi) for j in range(2)]\n",
      "star6+= [Asterisk(parts=6, size=0.25)]\n",
      "star6+= [Ring(smoothing=0.015,thickness=0.05,size=0.25)]\n",
      "star = star5 + star6\n",
      "np.sum([p[:] for p in star]).cols(8)"
     ],
     "language": "python",
     "metadata": {},
     "outputs": []
    },
    {
     "cell_type": "code",
     "collapsed": false,
     "input": [
      "ang1 = [Angle(size=0.50,angle=np.pi/8, orientation=j*2*np.pi/variants) for j in range(variants)]\n",
      "ang2 = [Angle(size=0.25,angle=np.pi/8, orientation=j*2*np.pi/variants) for j in range(variants)]\n",
      "acute = ang1 + ang2\n",
      "np.sum([p[:] for p in acute]).cols(8)"
     ],
     "language": "python",
     "metadata": {},
     "outputs": []
    },
    {
     "cell_type": "code",
     "collapsed": false,
     "input": [
      "ang3 = [Angle(size=0.50,angle=np.pi/4, orientation=j*2*np.pi/variants) for j in range(variants)]\n",
      "ang4 = [Angle(size=0.25,angle=np.pi/4, orientation=j*2*np.pi/variants) for j in range(variants)]\n",
      "right = ang3 + ang4\n",
      "np.sum([p[:] for p in right]).cols(8)"
     ],
     "language": "python",
     "metadata": {},
     "outputs": []
    },
    {
     "cell_type": "code",
     "collapsed": false,
     "input": [
      "ang5 = [Angle(size=0.50,angle=np.pi/3, orientation=j*2*np.pi/variants) for j in range(variants)]\n",
      "ang6 = [Angle(size=0.25,angle=np.pi/3, orientation=j*2*np.pi/variants) for j in range(variants)]\n",
      "obtuse = ang5 + ang6\n",
      "np.sum([p[:] for p in obtuse]).cols(8)"
     ],
     "language": "python",
     "metadata": {},
     "outputs": []
    },
    {
     "cell_type": "code",
     "collapsed": false,
     "input": [
      "arc1 = [ArcCentered(arc_length=np.pi/2,smoothing=0.015,thickness=0.05,size=0.50, orientation=i*2*np.pi/variants)\n",
      "        for i in range(variants)]\n",
      "arc2 = [ArcCentered(arc_length=np.pi/2,smoothing=0.015,thickness=0.05,size=0.25,orientation=i*2*np.pi/variants)\n",
      "        for i in range(variants)]\n",
      "quarter = arc1 + arc2\n",
      "np.sum([p[:] for p in quarter]).cols(8)"
     ],
     "language": "python",
     "metadata": {},
     "outputs": []
    },
    {
     "cell_type": "code",
     "collapsed": false,
     "input": [
      "arc3 = [ArcCentered(arc_length=np.pi,smoothing=0.015,thickness=0.05,size=0.5,orientation=i*2*np.pi/variants)\n",
      "        for i in range(variants)]\n",
      "arc4 = [ArcCentered(arc_length=np.pi,smoothing=0.015,thickness=0.05,size=0.25,orientation=i*2*np.pi/variants)\n",
      "        for i in range(variants)]\n",
      "semi = arc3 + arc4\n",
      "np.sum([p[:] for p in semi]).cols(8)"
     ],
     "language": "python",
     "metadata": {},
     "outputs": []
    },
    {
     "cell_type": "code",
     "collapsed": false,
     "input": [
      "arc5 = [ArcCentered(arc_length=3*np.pi/2,smoothing=0.015,thickness=0.05,size=0.50,orientation=i*2*np.pi/variants)\n",
      "        for i in range(variants)]\n",
      "arc6 = [ArcCentered(arc_length=3*np.pi/2,smoothing=0.015,thickness=0.05,size=0.25,orientation=i*2*np.pi/variants)\n",
      "        for i in range(variants)]\n",
      "threeqtrs = arc5 + arc6\n",
      "np.sum([p[:] for p in threeqtrs]).cols(8)"
     ],
     "language": "python",
     "metadata": {},
     "outputs": []
    },
    {
     "cell_type": "code",
     "collapsed": false,
     "input": [
      "concentric_like = pol1 + pol2[1:] + pol3[2:] + pol4[2:] + pol5[3:]\n",
      "radial_like = pol2[:1] + pol3[:2] + pol4[:2] + pol5[:3] + pol6\n",
      "\n",
      "grating_stimuli_subclasses = [sinusoidal,hyperbolic,concentric_like,radial_like]\n",
      "grating_stimuli_subclasses_labels = ['sinusoidal''hyperbolic','concentric-like','radial-like']\n",
      "\n",
      "contour_stimuli_subclasses = [bar,tristar,cross,star,acute,right,obtuse,quarter,semi,threeqtrs]\n",
      "contour_stimuli_subclasses_labels = ['bar','tri-star','cross','star/circle','acute angle',\n",
      "                                     'right angle','obtuse angle','quarter arc','semi-circle','3/4 arc']\n",
      "\n",
      "all_stimuli_subclasses = grating_stimuli_subclasses + contour_stimuli_subclasses\n",
      "all_stimuli_subclasses_labels = grating_stimuli_subclasses_labels + contour_stimuli_subclasses_labels\n",
      "\n",
      "#Can view all patterns at once\n",
      "#np.sum([p[:] for c in all_stimuli_subclasses for p in c]).cols(8)"
     ],
     "language": "python",
     "metadata": {},
     "outputs": []
    }
   ],
   "metadata": {}
  }
 ]
}