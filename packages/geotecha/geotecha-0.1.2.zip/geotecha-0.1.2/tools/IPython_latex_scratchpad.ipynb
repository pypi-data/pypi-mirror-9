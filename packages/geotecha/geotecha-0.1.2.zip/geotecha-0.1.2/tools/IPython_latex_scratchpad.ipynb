{
 "metadata": {
  "name": "IPython_latex_scratchpad"
 },
 "nbformat": 3,
 "nbformat_minor": 0,
 "worksheets": [
  {
   "cells": [
    {
     "cell_type": "code",
     "collapsed": false,
     "input": [
      "# geotecha - A software suite for geotechncial engineering\n",
      "# Copyright (C) 2013  Rohan T. Walker (rtrwalker@gmail.com)\n",
      "#\n",
      "# This program is free software: you can redistribute it and/or modify\n",
      "# it under the terms of the GNU General Public License as published by\n",
      "# the Free Software Foundation, either version 3 of the License, or\n",
      "# (at your option) any later version.\n",
      "#\n",
      "# This program is distributed in the hope that it will be useful,\n",
      "# but WITHOUT ANY WARRANTY; without even the implied warranty of\n",
      "# MERCHANTABILITY or FITNESS FOR A PARTICULAR PURPOSE.  See the\n",
      "# GNU General Public License for more details.\n",
      "#\n",
      "# You should have received a copy of the GNU General Public License\n",
      "# along with this program.  If not, see http://www.gnu.org/licenses/gpl.html.\n",
      "\"\"\"Latex scratch pad using IPython Notebook\n",
      "\n",
      "This is just a scratch pad for displaying latex expressions.  \n",
      "It might show some examples/reminders that are useful.\n",
      "\n",
      "To display the equations open IPython Notebook and then import \n",
      "the file.\n",
      "\n",
      "\"\"\"\n",
      "\n",
      "#in Ipython Notebook you will have to evaluate this cell, SHIFT + ENTER, before any other cell\n",
      "from IPython.display import display, Math, Latex\n",
      "import re\n",
      "def d(s):\n",
      "    \"\"\"display a string as latex math\"\"\"\n",
      "    display(Math(s))\n",
      "    \n",
      "def unraw(s):\n",
      "    \"\"\"Escape any back slashes in a raw string\n",
      "\n",
      "    If you print the result you can then copy the output \n",
      "    and use it as a plain string and it should produce the \n",
      "    same Latex image.  Useful for including equations in \n",
      "    docstrings when you don't want to make the whole docstring\n",
      "    raw.\n",
      "    \n",
      "    Parameters\n",
      "    ----------\n",
      "    s : ``str``\n",
      "        string to do replacements in\n",
      "\n",
      "    Returns\n",
      "    -------\n",
      "    out : ``str``\n",
      "        string with all backslashes replaced with two backslashes\n",
      "    \"\"\"\n",
      "    \n",
      "    return s.replace(\"\\\\\", \"\\\\\\\\\") "
     ],
     "language": "python",
     "metadata": {},
     "outputs": [],
     "prompt_number": 1
    },
    {
     "cell_type": "code",
     "collapsed": false,
     "input": [
      "#example\n",
      "s = r'F(k) = \\int_{-\\infty}^{\\infty} f(x) e^{2\\pi i h} dx'\n",
      "s2 = 'F(k) = \\\\int_{-\\\\infty}^{\\\\infty} f(x) e^{2\\\\pi i h} dx'\n",
      "print('s is a raw string: \\n'+ s)\n",
      "print('display s:')\n",
      "d(s)\n",
      "print('s2 is a plain string: \\n'+ s)\n",
      "print('display s2:')\n",
      "d(s)\n",
      "print('unraw s: \\n' + unraw(s))"
     ],
     "language": "python",
     "metadata": {},
     "outputs": []
    },
    {
     "cell_type": "code",
     "collapsed": false,
     "input": [
      "s = r'\\mathbf{\\Psi}_{i,j}=\\int_{0}^1{\\frac{d}{dZ}\\left({a\\left(z\\right)}\\frac{d}{dZ}\\left({sin\\left({m_j}z\\right)}\\right)\\right){sin\\left({m_i}z\\right)}\\,dZ}'\n",
      "d(s)"
     ],
     "language": "python",
     "metadata": {},
     "outputs": []
    },
    {
     "cell_type": "code",
     "collapsed": false,
     "input": [
      "s = []\n",
      "s += [r'\\mathbf{A}_{i,j}=\\int_{0}^1{{a\\left(z\\right)}\\phi_i\\phi_j\\,dz}']\n",
      "d(s[-1])\n",
      "s += [r'\\phi_i\\left(z\\right)=\\sin\\left({m_i}z\\right)']\n",
      "d(s[-1])\n",
      "s += [r'a\\left(z\\right) = a_t+\\frac{a_b-a_t}{z_b-z_t}\\left(z-z_t\\right)']\n",
      "d(s[-1])\n",
      "print('%s\\n' * len(s) % tuple(map(unraw,s)))"
     ],
     "language": "python",
     "metadata": {},
     "outputs": []
    },
    {
     "cell_type": "code",
     "collapsed": false,
     "input": [
      "s = []\n",
      "s += [r'\\mathbf{A}_{i,j}=\\int_{0}^1{{a\\left(z\\right)}{b\\left(z\\right)}\\phi_i\\phi_j\\,dz}']\n",
      "d(s[-1])\n",
      "s += [r'\\phi_i\\left(z\\right)=\\sin\\left({m_i}z\\right)']\n",
      "d(s[-1])\n",
      "s += [r'a\\left(z\\right) = a_t+\\frac{a_b-a_t}{z_b-z_t}\\left(z-z_t\\right)']\n",
      "d(s[-1])\n",
      "s += [r'b\\left(z\\right) = b_t+\\frac{b_b-b_t}{z_b-z_t}\\left(z-z_t\\right)']\n",
      "d(s[-1])\n",
      "print('%s\\n' * len(s) % tuple(map(unraw,s)))"
     ],
     "language": "python",
     "metadata": {},
     "outputs": []
    },
    {
     "cell_type": "code",
     "collapsed": false,
     "input": [
      "s = []\n",
      "s += [r'\\mathbf{A}_{i,j}=\\int_{0}^1{{a\\left(z\\right)}\\phi_i\\phi_j\\,dz}']\n",
      "d(s[-1])\n",
      "s += [r'\\phi_i\\left(z\\right)=\\sin\\left({m_i}z\\right)']\n",
      "d(s[-1])\n",
      "s += [r'a\\left(z\\right) = a_t+\\frac{a_b-a_t}{z_b-z_t}\\left(z-z_t\\right)']\n",
      "d(s[-1])\n",
      "print('%s\\n' * len(s) % tuple(map(unraw,s)))"
     ],
     "language": "python",
     "metadata": {},
     "outputs": []
    },
    {
     "cell_type": "code",
     "collapsed": false,
     "input": [
      "s = []\n",
      "s += [r'\\mathbf{A}_{i,j}=\\int_{0}^1{\\frac{d}{dz}\\left({a\\left(z\\right)}\\frac{d\\phi_j}{dz}\\right)\\phi_i\\,dz}']\n",
      "d(s[-1])\n",
      "s += [r'\\mathbf{A}_{i,j}=\\int_{0}^1{{a\\left(z\\right)}\\frac{d^2\\phi_j}{dZ^2}\\phi_i\\,dZ}+\\int_{0}^1{\\frac{d{a\\left(z\\right)}}{dZ}\\frac{d\\phi_j}{dZ}\\phi_i\\,dZ}']\n",
      "d(s[-1])\n",
      "s += [r'\\mathbf{A}_{i,j,\\text{layer}}=\\int_{z_t}^{z_b}{{a\\left(z\\right)}\\frac{d^2\\phi_j}{dz^2}\\phi_i\\,dZ}+\\int_{z_t}^{z_b}{\\frac{d{a\\left(z\\right)}}{dz}\\frac{d\\phi_j}{dz}\\phi_i\\,dz}+\\int_{0}^{1}{{a\\left(z\\right)}\\delta\\left(z-z_t\\right)\\frac{d\\phi_j}{dz}\\phi_i\\,dz}-\\int_{0}^{1}{{a\\left(z\\right)}\\delta\\left(z-z_b\\right)\\frac{d\\phi_j}{dz}\\phi_i\\,dz}']\n",
      "d(s[-1])\n",
      "s += [r'\\mathbf{A}_{i,j,\\text{layer}}=\\int_{z_t}^{z_b}{{a\\left(z\\right)}\\frac{d^2\\phi_j}{dz^2}\\phi_i\\,dZ}+\\int_{z_t}^{z_b}{\\frac{d{a\\left(z\\right)}}{dz}\\frac{d\\phi_j}{dz}\\phi_i\\,dz}+\\left.{a\\left(z\\right)}\\frac{d\\phi_j}{dz}\\phi_i\\right|_{z=z_t}-\\left.{a\\left(z\\right)}\\frac{d\\phi_j}{dz}\\phi_i\\right|_{z=z_b}']\n",
      "d(s[-1])\n",
      "s += [r'F\\left(z\\right)=\\int{{a\\left(z\\right)}\\frac{d^2\\phi_j}{dz^2}\\phi_i\\,dZ}+\\int{\\frac{d{a\\left(z\\right)}}{dz}\\frac{d\\phi_j}{dz}\\phi_i\\,dz}-\\left.{a\\left(z\\right)}\\frac{d\\phi_j}{dz}\\phi_i\\right|_{z=z}']\n",
      "d(s[-1])\n",
      "s += [r'\\mathbf{A}_{i,j,\\text{layer}}=F\\left(z_b\\right)-F\\left(z_t\\right)']\n",
      "d(s[-1])\n",
      "print('%s\\n' * len(s) % tuple(map(unraw,s)))"
     ],
     "language": "python",
     "metadata": {},
     "outputs": []
    },
    {
     "cell_type": "code",
     "collapsed": false,
     "input": [
      "s = []\n",
      "s += [r'\\mathbf{A}_{i,j}=\\int_{0}^1{\\frac{d}{dz}\\left({a\\left(z\\right)}\\frac{d}{dz}{b\\left(z\\right)}\\right)\\phi_i\\,dz}']\n",
      "d(s[-1])\n",
      "\n",
      "print('%s\\n' * len(s) % tuple(map(unraw,s)))"
     ],
     "language": "python",
     "metadata": {},
     "outputs": []
    },
    {
     "cell_type": "code",
     "collapsed": false,
     "input": [
      "d('\\mathbf{\\Psi}_')"
     ],
     "language": "python",
     "metadata": {},
     "outputs": []
    },
    {
     "cell_type": "code",
     "collapsed": false,
     "input": [
      "d('\\\\mathbf{A}_{i,j,\\\\text{layer}}=\\\\int_{z_t}^{z_b}{{a\\\\left(z\\\\right)}\\\\frac{d^2\\\\phi_j}{dz^2}\\\\phi_i\\\\,dZ}+\\\\int_{z_t}^{z_b}{\\\\frac{d{a\\\\left(z\\\\right)}}{dz}\\\\frac{d\\\\phi_j}{dz}\\\\phi_i\\\\,dz}+\\\\int_{0}^{1}{{a\\\\left(z\\\\right)}\\\\delta\\\\left(z-z_t\\\\right)\\\\frac{d\\\\phi_j}{dz}\\\\phi_i\\\\,dz}-\\\\int_{0}^{1}{{a\\\\left(z\\\\right)}\\\\delta\\\\left(z-z_b\\\\right)\\\\frac{d\\\\phi_j}{dz}\\\\phi_i\\\\,dz}')"
     ],
     "language": "python",
     "metadata": {},
     "outputs": [
      {
       "latex": [
        "$$\\mathbf{A}_{i,j,\\text{layer}}=\\int_{z_t}^{z_b}{{a\\left(z\\right)}\\frac{d^2\\phi_j}{dz^2}\\phi_i\\,dZ}+\\int_{z_t}^{z_b}{\\frac{d{a\\left(z\\right)}}{dz}\\frac{d\\phi_j}{dz}\\phi_i\\,dz}+\\int_{0}^{1}{{a\\left(z\\right)}\\delta\\left(z-z_t\\right)\\frac{d\\phi_j}{dz}\\phi_i\\,dz}-\\int_{0}^{1}{{a\\left(z\\right)}\\delta\\left(z-z_b\\right)\\frac{d\\phi_j}{dz}\\phi_i\\,dz}$$"
       ],
       "output_type": "display_data",
       "text": [
        "<IPython.core.display.Math at 0x3b09270>"
       ]
      }
     ],
     "prompt_number": 3
    },
    {
     "cell_type": "code",
     "collapsed": false,
     "input": [
      "d(\"\\\\mathbf{\\\\Gamma}\\\\mathbf{A}'=\\\\mathbf{\\\\Psi A}+loading\\\\:terms\")#\\: for space\n",
      "s += [r\"\\mathbf{\\Gamma}\\mathbf{A}'=\\mathbf{\\Psi A}+loading\\:terms\"]\n",
      "d(s[-1])\n",
      "s += ['\\\\mathbf{\\Gamma}_{i,j}=\\\\int_{0}^1{{m_v\\\\left(z\\\\right)}{\\sin\\\\left({m_j}z\\\\right)}{\\sin\\\\left({m_i}z\\\\right)}\\,dz}']\n",
      "d(s[-1])\n",
      "s += ['\\\\mathbf{\\Psi}_{i,j}=dT_h\\\\mathbf{A}_{i,j}=\\\\int_{0}^1{{k_h\\\\left(z\\\\right)}{\\eta\\\\left(z\\\\right)}\\\\phi_i\\\\phi_j\\\\,dz}-dT_v\\\\int_{0}^1{\\\\frac{d}{dz}\\\\left({k_z\\\\left(z\\\\right)}\\\\frac{d\\\\phi_j}{dz}\\\\right)\\\\phi_i\\\\,dz}']\n",
      "d(s[-1])\n",
      "s+= ['\\\\left(\\\\mathbf{\\\\Gamma}^{-1}\\\\mathbf{\\\\Psi}\\\\right)']\n",
      "d(s[-1])\n",
      "s+= [r'u\\left(Z,t\\right)=\\mathbf{\\Phi v E}\\left(\\mathbf{\\Gamma v}\\right)^{-1}\\mathbf{\\theta}']\n",
      "d(s[-1])\n",
      "s+= [r'\\mathbf{E}_{i,i}=\\int_{0}^t{{\\sigma\\left(\\tau\\right)}{\\exp\\left({(dT\\left(t-\\tau\\right)\\lambda_i}\\right)}\\,d\\tau}']\n",
      "d(s[-1])\n",
      "s+= [r'\\mathbf{E}_{i,i}=\\int_{0}^t{\\frac{d{\\sigma\\left(\\tau\\right)}}{d\\tau}{\\exp\\left({(dT\\left(t-\\tau\\right)\\lambda_i}\\right)}\\,d\\tau}']\n",
      "d(s[-1])\n",
      "s+= [r'\\sigma\\left({Z,t}\\right)=\\sigma\\left({Z}\\right)\\sigma\\left({t}\\right)']\n",
      "d(s[-1])\n",
      "\n",
      "print('%s\\n' * len(s) % tuple(map(unraw,s)))"
     ],
     "language": "python",
     "metadata": {},
     "outputs": [
      {
       "latex": [
        "$$\\mathbf{\\Gamma}\\mathbf{A}'=\\mathbf{\\Psi A}+loading\\:terms$$"
       ],
       "output_type": "display_data",
       "text": [
        "<IPython.core.display.Math at 0x3bbe130>"
       ]
      },
      {
       "latex": [
        "$$\\mathbf{E}_{i,i}=\\int_{t_s}^t_f{\\frac{d{\\sigma\\left(\\tau\\right)}}{d\\tau}{\\exp\\left({(dT\\left(t-\\tau\\right)\\lambda_i}\\right)}\\,d\\tau}$$"
       ],
       "output_type": "display_data",
       "text": [
        "<IPython.core.display.Math at 0x3bbe0d0>"
       ]
      },
      {
       "latex": [
        "$$\\mathbf{\\Gamma}\\mathbf{A}'=\\mathbf{\\Psi A}+loading\\:terms$$"
       ],
       "output_type": "display_data",
       "text": [
        "<IPython.core.display.Math at 0x3bbe0d0>"
       ]
      },
      {
       "latex": [
        "$$\\mathbf{\\Gamma}_{i,j}=\\int_{0}^1{{m_v\\left(z\\right)}{\\sin\\left({m_j}z\\right)}{\\sin\\left({m_i}z\\right)}\\,dz}$$"
       ],
       "output_type": "display_data",
       "text": [
        "<IPython.core.display.Math at 0x3bbe0d0>"
       ]
      },
      {
       "latex": [
        "$$\\mathbf{\\Psi}_{i,j}=dT_h\\mathbf{A}_{i,j}=\\int_{0}^1{{k_h\\left(z\\right)}{\\eta\\left(z\\right)}\\phi_i\\phi_j\\,dz}-dT_v\\int_{0}^1{\\frac{d}{dz}\\left({k_z\\left(z\\right)}\\frac{d\\phi_j}{dz}\\right)\\phi_i\\,dz}$$"
       ],
       "output_type": "display_data",
       "text": [
        "<IPython.core.display.Math at 0x3bbe0d0>"
       ]
      },
      {
       "latex": [
        "$$\\left(\\mathbf{\\Gamma}^{-1}\\mathbf{\\Psi}\\right)$$"
       ],
       "output_type": "display_data",
       "text": [
        "<IPython.core.display.Math at 0x3bbe0d0>"
       ]
      },
      {
       "latex": [
        "$$u\\left(Z,t\\right)=\\mathbf{\\Phi v E}\\left(\\mathbf{\\Gamma v}\\right)^{-1}\\mathbf{\\theta}$$"
       ],
       "output_type": "display_data",
       "text": [
        "<IPython.core.display.Math at 0x3bbe0d0>"
       ]
      },
      {
       "latex": [
        "$$\\mathbf{E}_{i,i}=\\int_{0}^t{{\\sigma\\left(\\tau\\right)}{\\exp\\left({(dT\\left(t-\\tau\\right)\\lambda_i}\\right)}\\,d\\tau}$$"
       ],
       "output_type": "display_data",
       "text": [
        "<IPython.core.display.Math at 0x3bbe0d0>"
       ]
      },
      {
       "latex": [
        "$$\\mathbf{E}_{i,i}=\\int_{0}^t{\\frac{d{\\sigma\\left(\\tau\\right)}}{d\\tau}{\\exp\\left({(dT\\left(t-\\tau\\right)\\lambda_i}\\right)}\\,d\\tau}$$"
       ],
       "output_type": "display_data",
       "text": [
        "<IPython.core.display.Math at 0x3bbe0d0>"
       ]
      },
      {
       "latex": [
        "$$\\sigma\\left({Z,t}\\right)=\\sigma\\left({Z}\\right)\\sigma\\left({t}\\right)$$"
       ],
       "output_type": "display_data",
       "text": [
        "<IPython.core.display.Math at 0x3bbe0d0>"
       ]
      },
      {
       "output_type": "stream",
       "stream": "stdout",
       "text": [
        "\\\\mathbf{E}_{i,i}=\\\\int_{t_s}^t_f{\\\\frac{d{\\\\sigma\\\\left(\\\\tau\\\\right)}}{d\\\\tau}{\\\\exp\\\\left({(dT\\\\left(t-\\\\tau\\\\right)\\\\lambda_i}\\\\right)}\\\\,d\\\\tau}\n",
        "\\\\mathbf{\\\\Gamma}\\\\mathbf{A}'=\\\\mathbf{\\\\Psi A}+loading\\\\:terms\n",
        "\\\\mathbf{\\\\Gamma}_{i,j}=\\\\int_{0}^1{{m_v\\\\left(z\\\\right)}{\\\\sin\\\\left({m_j}z\\\\right)}{\\\\sin\\\\left({m_i}z\\\\right)}\\\\,dz}\n",
        "\\\\mathbf{\\\\Psi}_{i,j}=dT_h\\\\mathbf{A}_{i,j}=\\\\int_{0}^1{{k_h\\\\left(z\\\\right)}{\\\\eta\\\\left(z\\\\right)}\\\\phi_i\\\\phi_j\\\\,dz}-dT_v\\\\int_{0}^1{\\\\frac{d}{dz}\\\\left({k_z\\\\left(z\\\\right)}\\\\frac{d\\\\phi_j}{dz}\\\\right)\\\\phi_i\\\\,dz}\n",
        "\\\\left(\\\\mathbf{\\\\Gamma}^{-1}\\\\mathbf{\\\\Psi}\\\\right)\n",
        "u\\\\left(Z,t\\\\right)=\\\\mathbf{\\\\Phi v E}\\\\left(\\\\mathbf{\\\\Gamma v}\\\\right)^{-1}\\\\mathbf{\\\\theta}\n",
        "\\\\mathbf{E}_{i,i}=\\\\int_{0}^t{{\\\\sigma\\\\left(\\\\tau\\\\right)}{\\\\exp\\\\left({(dT\\\\left(t-\\\\tau\\\\right)\\\\lambda_i}\\\\right)}\\\\,d\\\\tau}\n",
        "\\\\mathbf{E}_{i,i}=\\\\int_{0}^t{\\\\frac{d{\\\\sigma\\\\left(\\\\tau\\\\right)}}{d\\\\tau}{\\\\exp\\\\left({(dT\\\\left(t-\\\\tau\\\\right)\\\\lambda_i}\\\\right)}\\\\,d\\\\tau}\n",
        "\\\\sigma\\\\left({Z,t}\\\\right)=\\\\sigma\\\\left({Z}\\\\right)\\\\sigma\\\\left({t}\\\\right)\n",
        "\n"
       ]
      }
     ],
     "prompt_number": 2
    },
    {
     "cell_type": "code",
     "collapsed": false,
     "input": [
      "s = []\n",
      "s+=['\\\\mathbf{E}_{i,i}=\\\\int_{t_s}^{t_f}{\\\\frac{d{\\\\sigma\\\\left(\\\\tau\\\\right)}}{d\\\\tau}\\\\exp\\\\left({dT\\\\left(t-\\\\tau\\\\right)*\\\\lambda_i}\\\\right)\\\\,d\\\\tau}']\n",
      "d(s[-1])    \n"
     ],
     "language": "python",
     "metadata": {},
     "outputs": [
      {
       "latex": [
        "$$\\mathbf{E}_{i,i}=\\int_{t_s}^{t_f}{\\frac{d{\\sigma\\left(\\tau\\right)}}{d\\tau}\\exp\\left({dT\\left(t-\\tau\\right)*\\lambda_i}\\right)\\,d\\tau}$$"
       ],
       "output_type": "display_data",
       "text": [
        "<IPython.core.display.Math at 0x3bb9c70>"
       ]
      }
     ],
     "prompt_number": 35
    },
    {
     "cell_type": "code",
     "collapsed": false,
     "input": [
      "s = []\n",
      "s+=['\\\\mathbf{A}=\\\\left(\\\\begin{matrix}E_{0,0}(t_0)&E_{1,1}(t_0)& \\cdots & E_{neig-1,neig-1}(t_0)\\\\\\ E_{0,0}(t_1)&E_{1,1}(t_1)& \\\\cdots & E_{neig-1,neig-1}(t_1)\\\\\\ \\\\vdots&\\\\vdots&\\\\ddots&\\\\vdots \\\\\\ E_{0,0}(t_m)&E_{1,1}(t_m)& \\cdots & E_{neig-1,neig-1}(t_m)\\\\end{matrix}\\\\right)']\n",
      "d(s[-1])"
     ],
     "language": "python",
     "metadata": {},
     "outputs": [
      {
       "latex": [
        "$$\\mathbf{A}=\\left(\\begin{matrix}E_{0,0}(t_0)&E_{1,1}(t_0)& \\cdots & E_{neig-1,neig-1}(t_0)\\\\ E_{0,0}(t_1)&E_{1,1}(t_1)& \\cdots & E_{neig-1,neig-1}(t_1)\\\\ \\vdots&\\vdots&\\ddots&\\vdots \\\\ E_{0,0}(t_m)&E_{1,1}(t_m)& \\cdots & E_{neig-1,neig-1}(t_m)\\end{matrix}\\right)$$"
       ],
       "output_type": "display_data",
       "text": [
        "<IPython.core.display.Math at 0x3bbe030>"
       ]
      }
     ],
     "prompt_number": 63
    },
    {
     "cell_type": "code",
     "collapsed": false,
     "input": [
      "s = []\n",
      "s+=['t_s = \\\\min\\\\left(t,t_{increment\\\\:start}\\\\right)']\n",
      "d(s[-1])\n"
     ],
     "language": "python",
     "metadata": {},
     "outputs": [
      {
       "latex": [
        "$$t_s = \\min\\left(t,t_{increment\\:start}\\right)$$"
       ],
       "output_type": "display_data",
       "text": [
        "<IPython.core.display.Math at 0x3bbe030>"
       ]
      }
     ],
     "prompt_number": 67
    },
    {
     "cell_type": "code",
     "collapsed": false,
     "input": [
      "s = []\n",
      "s+=['\\\\mathbf{E}_{i,i}=\\\\int_{t_s}^{t_f}{{\\\\sigma\\\\left(\\\\tau\\\\right)}\\\\exp\\\\left({dT\\\\left(t-\\\\tau\\\\right)*\\\\lambda_i}\\\\right)\\\\,d\\\\tau}']\n",
      "d(s[-1])\n"
     ],
     "language": "python",
     "metadata": {},
     "outputs": [
      {
       "latex": [
        "$$\\mathbf{E}_{i,i}=\\int_{t_s}^{t_f}{{\\sigma\\left(\\tau\\right)}\\exp\\left({dT\\left(t-\\tau\\right)*\\lambda_i}\\right)\\,d\\tau}$$"
       ],
       "output_type": "display_data",
       "text": [
        "<IPython.core.display.Math at 0x3bfd350>"
       ]
      }
     ],
     "prompt_number": 5
    },
    {
     "cell_type": "code",
     "collapsed": false,
     "input": [
      "s = []\n",
      "s+=['u\\\\left({Z,t}\\\\right)=\\\\mathbf{\\\\Phi v E}\\\\left(\\\\mathbf{\\\\Gamma v}\\\\right)^{-1}\\\\mathbf{\\\\theta}+u_{top}\\\\left({t}\\\\right)\\\\left({1-Z}\\\\right)+u_{bot}\\\\left({t}\\\\right)\\\\left({Z}\\\\right)']\n",
      "d(s[-1])\n",
      "\n"
     ],
     "language": "python",
     "metadata": {},
     "outputs": [
      {
       "latex": [
        "$$u\\left(Z,t\\right)=\\mathbf{\\Phi v E}\\left(\\mathbf{\\Gamma v}\\right)^{-1}\\mathbf{\\theta}+u_{top}\\left({t}\\right)\\left({1-Z}\\right)+u_{bot}\\left({t}\\right)\\left({Z}\\right)$$"
       ],
       "output_type": "display_data",
       "text": [
        "<IPython.core.display.Math at 0x3b802b0>"
       ]
      }
     ],
     "prompt_number": 4
    },
    {
     "cell_type": "code",
     "collapsed": false,
     "input": [
      "s = []\n",
      "s+=['\\\\overline{u}\\\\left(\\\\left({Z_1,Z_2}\\\\right),t\\\\right)=\\\\int_{Z_1}^{Z_2}{\\\\mathbf{\\\\Phi v E}\\\\left(\\\\mathbf{\\\\Gamma v}\\\\right)^{-1}\\\\mathbf{\\\\theta}+u_{top}\\\\left({t}\\\\right)\\\\left({1-Z}\\\\right)+u_{bot}\\\\left({t}\\\\right)\\\\left({Z}\\\\right)\\,dZ}']\n",
      "d(s[-1])"
     ],
     "language": "python",
     "metadata": {},
     "outputs": [
      {
       "latex": [
        "$$\\overline{u}\\left(\\left({Z_1,Z_2}\\right),t\\right)=\\int_{Z_1}^{Z_2}{\\mathbf{\\Phi v E}\\left(\\mathbf{\\Gamma v}\\right)^{-1}\\mathbf{\\theta}+u_{top}\\left({t}\\right)\\left({1-Z}\\right)+u_{bot}\\left({t}\\right)\\left({Z}\\right)\\,dZ}$$"
       ],
       "output_type": "display_data",
       "text": [
        "<IPython.core.display.Math at 0x3b80390>"
       ]
      }
     ],
     "prompt_number": 10
    },
    {
     "cell_type": "code",
     "collapsed": false,
     "input": [
      "s = []\n",
      "s+=['\\\\overline{\\\\rho}\\\\left(\\\\left({Z_1,Z_2}\\\\right),t\\\\right)=\\\\int_{Z_1}^{Z_2}{m_v\\\\left({Z}\\\\right)\\\\left({\\\\sigma\\\\left({Z,t}\\\\right)-u\\\\left({Z,t}\\\\right)}\\\\right)\\\\,dZ}']\n",
      "d(s[-1])\n",
      "    s+=['\\\\overline{\\\\rho}\\\\left(\\\\left({Z_1,Z_2}\\\\right),t\\\\right)=\\\\int_{Z_1}^{Z_2}{m_v\\\\left({Z}\\\\right)\\\\sigma\\\\left({Z,t}\\\\right)\\\\,dZ}+\\\\int_{Z_1}^{Z_2}{m_v\\\\left({Z}\\\\right)\\\\left({\\\\mathbf{\\\\Phi v E}\\\\left(\\\\mathbf{\\\\Gamma v}\\\\right)^{-1}\\\\mathbf{\\\\theta}+u_{top}\\\\left({t}\\\\right)\\\\left({1-Z}\\\\right)+u_{bot}\\\\left({t}\\\\right)\\\\left({Z}\\\\right)}\\\\right)\\\\,dZ}']\n",
      "d(s[-1])\n",
      "s+=['\\\\int_{Z_1}^{Z_2}{m_v\\\\left({Z}\\\\right)\\\\left({\\\\mathbf{\\\\Phi v E}\\\\left(\\\\mathbf{\\\\Gamma v}\\\\right)^{-1}\\\\mathbf{\\\\theta}+u_{top}\\\\left({t}\\\\right)\\\\left({1-Z}\\\\right)+u_{bot}\\\\left({t}\\\\right)\\\\left({Z}\\\\right)}\\\\right)\\\\,dZ}']\n",
      "d(s[-1])"
     ],
     "language": "python",
     "metadata": {},
     "outputs": [
      {
       "latex": [
        "$$\\overline{\\rho}\\left(\\left({Z_1,Z_2}\\right),t\\right)=\\int_{Z_1}^{Z_2}{m_v\\left({Z}\\right)\\left({\\sigma\\left({Z,t}\\right)-u\\left({Z,t}\\right)}\\right)\\,dZ}$$"
       ],
       "output_type": "display_data",
       "text": [
        "<IPython.core.display.Math at 0x3b80ab0>"
       ]
      },
      {
       "latex": [
        "$$\\overline{\\rho}\\left(\\left({Z_1,Z_2}\\right),t\\right)=\\int_{Z_1}^{Z_2}{m_v\\left({Z}\\right)\\sigma\\left({Z,t}\\right)\\,dZ}+\\int_{Z_1}^{Z_2}{m_v\\left({Z}\\right)\\left({\\mathbf{\\Phi v E}\\left(\\mathbf{\\Gamma v}\\right)^{-1}\\mathbf{\\theta}+u_{top}\\left({t}\\right)\\left({1-Z}\\right)+u_{bot}\\left({t}\\right)\\left({Z}\\right)}\\right)\\,dZ}$$"
       ],
       "output_type": "display_data",
       "text": [
        "<IPython.core.display.Math at 0x3b80ab0>"
       ]
      },
      {
       "latex": [
        "$$\\int_{Z_1}^{Z_2}{m_v\\left({Z}\\right)\\left({\\mathbf{\\Phi v E}\\left(\\mathbf{\\Gamma v}\\right)^{-1}\\mathbf{\\theta}+u_{top}\\left({t}\\right)\\left({1-Z}\\right)+u_{bot}\\left({t}\\right)\\left({Z}\\right)}\\right)\\,dZ}$$"
       ],
       "output_type": "display_data",
       "text": [
        "<IPython.core.display.Math at 0x3b80ab0>"
       ]
      }
     ],
     "prompt_number": 22
    },
    {
     "cell_type": "code",
     "collapsed": false,
     "input": [
      "s = []\n",
      "s+=['\\\\frac{m_v}{\\\\overline{m_v}}'\n",
      "'\\\\frac{\\\\partial u}{\\\\partial t}='\n",
      "'-\\\\left({dT_h \\\\frac{\\\\eta}{\\\\overline{\\\\eta}}}\\\\frac{k_h}{\\\\overline{k_h}}u'\n",
      "'-dT_v \\\\frac{\\\\partial}{\\\\partial Z}\\\\left({\\\\frac{k_v}{\\\\overline{k_v}}\\\\frac{\\\\partial u}{\\\\partial Z}}\\\\right)\\\\right)' \n",
      "'+\\\\sum_{i=1}^{n_{sur}}\\\\frac{m_v}{\\\\overline{m_v}}\\\\frac{\\\\partial \\\\sigma_i}{\\\\partial t}'\n",
      "'+\\\\sum_{i=1}^{n_{vac}}dT_h \\\\frac{m_v}{\\\\overline{m_v}}\\\\frac{\\\\partial w_i}{\\\\partial t}']\n",
      "d(s[-1])\n",
      "s+=['u\\\\left({Z,t}\\\\right) = v\\\\left({Z,t}\\\\right)'\n",
      "'+\\\\left({1-Z}\\\\right)\\\\sum_{i=1}^{n_T}u_T\\\\left({t}\\\\right)'\n",
      "'+Z\\\\sum_{i=1}^{n_B}u_B\\\\left({t}\\\\right)']\n",
      "d(s[-1])\n"
     ],
     "language": "python",
     "metadata": {},
     "outputs": [
      {
       "latex": [
        "$$\\frac{m_v}{\\overline{m_v}}\\frac{\\partial u}{\\partial t}=-\\left({dT_h \\frac{\\eta}{\\overline{\\eta}}}\\frac{k_h}{\\overline{k_h}}u-dT_v \\frac{\\partial}{\\partial Z}\\left({\\frac{k_v}{\\overline{k_v}}\\frac{\\partial u}{\\partial Z}}\\right)\\right)+\\sum_{i=1}^{n_{sur}}\\frac{m_v}{\\overline{m_v}}\\frac{\\partial \\sigma_i}{\\partial t}+\\sum_{i=1}^{n_{vac}}dT_h \\frac{m_v}{\\overline{m_v}}\\frac{\\partial w_i}{\\partial t}$$"
       ],
       "output_type": "display_data",
       "text": [
        "<IPython.core.display.Math at 0x3b89490>"
       ]
      },
      {
       "latex": [
        "$$u\\left({Z,t}\\right) = v\\left({Z,t}\\right)+\\left({1-Z}\\right)\\sum_{i=1}^{n_T}u_T\\left({t}\\right)+Z\\sum_{i=1}^{n_B}u_B\\left({t}\\right)$$"
       ],
       "output_type": "display_data",
       "text": [
        "<IPython.core.display.Math at 0x3b89490>"
       ]
      }
     ],
     "prompt_number": 11
    },
    {
     "cell_type": "code",
     "collapsed": false,
     "input": [
      "s = []\n",
      "s+=['u\\\\left({Z,t}\\\\right)=v\\\\left({Z,t}\\\\right) + u_{top}\\\\left({t}\\\\right)\\\\left({1-Z}\\\\right)+u_{bot}\\\\left({t}\\\\right)Z']\n",
      "d(s[-1])\n",
      "#s+=['\\\\frac{\\\\partial}{\\\\partial Z}\\\\left({\\\\frac{k_v}{\\\\overline{k_v}}\\\\frac{\\\\partial u}{\\\\partial Z}}\\\\right)\\\\right)']\n",
      "s+=['\\\\frac{\\\\partial}{\\\\partial Z}\\\\left({a\\\\left({Z}\\\\right)\\\\frac{\\\\partial u\\\\left({Z,t}\\\\right)}{\\\\partial Z}}\\\\right)']\n",
      "d(s[-1])\n"
     ],
     "language": "python",
     "metadata": {},
     "outputs": [
      {
       "latex": [
        "$$u\\left({Z,t}\\right)=v\\left({Z,t}\\right) + u_{top}\\left({t}\\right)\\left({1-Z}\\right)+u_{bot}\\left({t}\\right)Z$$"
       ],
       "output_type": "display_data",
       "text": [
        "<IPython.core.display.Math at 0x3b895f0>"
       ]
      },
      {
       "latex": [
        "$$\\frac{\\partial}{\\partial Z}\\left({a\\left({Z}\\right)\\frac{\\partial u\\left({Z,t}\\right)}{\\partial Z}}\\right)$$"
       ],
       "output_type": "display_data",
       "text": [
        "<IPython.core.display.Math at 0x3b895f0>"
       ]
      }
     ],
     "prompt_number": 29
    },
    {
     "cell_type": "code",
     "collapsed": false,
     "input": [
      "s = []\n",
      "s+=['\\\\sigma\\\\left({Z,t}\\\\right)=\\\\sigma\\\\left({Z}\\\\right)\\\\sigma\\\\left({t}\\\\right)\\\\cos\\\\left(\\\\omega t + \\\\phi\\\\right)']\n",
      "d(s[-1])\n",
      "s+=['\\\\mathbf{E}_{i,i}=\\\\int_{0}^t{\\\\frac{d{\\\\sigma\\\\left(\\\\tau\\\\right)}}{d\\\\tau}{\\exp\\\\left({(dT\\\\left(t-\\\\tau\\\\right)\\\\lambda_i}\\\\right)}\\\\,d\\\\tau}']\n",
      "d(s[-1])\n",
      "s+=['\\\\mathbf{E}_{i,i}=\\\\int_{t_s}^{t_f}{\\\\frac{d{\\\\sigma\\\\left(\\\\tau\\\\right)}}{d\\\\tau}\\\\exp\\\\left({dT\\\\left(t-\\\\tau\\\\right)*\\\\lambda_i}\\\\right)\\\\,d\\\\tau}']\n",
      "d(s[-1])\n",
      "\n"
     ],
     "language": "python",
     "metadata": {},
     "outputs": [
      {
       "latex": [
        "$$\\sigma\\left({Z,t}\\right)=\\sigma\\left({Z}\\right)\\sigma\\left({t}\\right)\\cos\\left(\\omega t + \\phi\\right)$$"
       ],
       "output_type": "display_data",
       "text": [
        "<IPython.core.display.Math at 0x3abb750>"
       ]
      },
      {
       "latex": [
        "$$\\mathbf{E}_{i,i}=\\int_{0}^t{\\frac{d{\\sigma\\left(\\tau\\right)}}{d\\tau}{\\exp\\left({(dT\\left(t-\\tau\\right)\\lambda_i}\\right)}\\,d\\tau}$$"
       ],
       "output_type": "display_data",
       "text": [
        "<IPython.core.display.Math at 0x3abb750>"
       ]
      },
      {
       "latex": [
        "$$\\mathbf{E}_{i,i}=\\int_{t_s}^{t_f}{\\frac{d{\\sigma\\left(\\tau\\right)}}{d\\tau}\\exp\\left({dT\\left(t-\\tau\\right)*\\lambda_i}\\right)\\,d\\tau}$$"
       ],
       "output_type": "display_data",
       "text": [
        "<IPython.core.display.Math at 0x3abb750>"
       ]
      }
     ],
     "prompt_number": 6
    },
    {
     "cell_type": "code",
     "collapsed": false,
     "input": [],
     "language": "python",
     "metadata": {},
     "outputs": []
    }
   ],
   "metadata": {}
  }
 ]
}