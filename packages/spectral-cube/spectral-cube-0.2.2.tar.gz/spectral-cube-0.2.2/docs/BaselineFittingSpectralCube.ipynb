{
 "metadata": {
  "name": "",
  "signature": "sha256:f642e5e4b281b4e69a2c26169a06e44217a872fcde4969d0e79994a781f040b6"
 },
 "nbformat": 3,
 "nbformat_minor": 0,
 "worksheets": [
  {
   "cells": [
    {
     "cell_type": "markdown",
     "metadata": {},
     "source": [
      "Fitting along axes\n",
      "\n",
      "See https://github.com/radio-astro-tools/spectral-cube/issues/181\n",
      "\n",
      "Goal: implement a straightforward (and parallelizable) apply-a-function-along-an-axis tool, with the first implementation being for baseline fitting & removal"
     ]
    },
    {
     "cell_type": "code",
     "collapsed": false,
     "input": [
      "import numpy as np\n",
      "from spectral_cube import SpectralCube\n",
      "from astropy.wcs import WCS\n",
      "from astropy import units as u"
     ],
     "language": "python",
     "metadata": {},
     "outputs": [],
     "prompt_number": 40
    },
    {
     "cell_type": "markdown",
     "metadata": {},
     "source": [
      "First, we will generate a cube programmatically.  This cube can be used for testing, or larger such cubes can be made in the same fashion."
     ]
    },
    {
     "cell_type": "code",
     "collapsed": false,
     "input": [
      "cube_array = np.zeros([3,4,5])\n",
      "print(cube_array.shape, cube_array.size)"
     ],
     "language": "python",
     "metadata": {},
     "outputs": [
      {
       "output_type": "stream",
       "stream": "stdout",
       "text": [
        "((3, 4, 5), 60)\n"
       ]
      }
     ],
     "prompt_number": 41
    },
    {
     "cell_type": "code",
     "collapsed": false,
     "input": [
      "cube_wcs = WCS(naxis=3)\n",
      "cube_wcs.wcs.ctype=['RA','DEC','VELO']\n",
      "cube_wcs,cube_wcs.to_header()"
     ],
     "language": "python",
     "metadata": {},
     "outputs": [
      {
       "metadata": {},
       "output_type": "pyout",
       "prompt_number": 42,
       "text": [
        "(<astropy.wcs.wcs.WCS at 0x10e983e18>,\n",
        " WCSAXES =                    3 / Number of coordinate axes                      \n",
        " CRPIX1  =                  0.0 / Pixel coordinate of reference point            \n",
        " CRPIX2  =                  0.0 / Pixel coordinate of reference point            \n",
        " CRPIX3  =                  0.0 / Pixel coordinate of reference point            \n",
        " CDELT1  =                  1.0 / [deg] Coordinate increment at reference point  \n",
        " CDELT2  =                  1.0 / [deg] Coordinate increment at reference point  \n",
        " CDELT3  =                  1.0 / [m/s] Coordinate increment at reference point  \n",
        " CUNIT1  = 'deg'                / Units of coordinate increment and value        \n",
        " CUNIT2  = 'deg'                / Units of coordinate increment and value        \n",
        " CUNIT3  = 'm/s'                / Units of coordinate increment and value        \n",
        " CTYPE1  = 'RA'                 / Coordinate type codeundefined projection       \n",
        " CTYPE2  = 'DEC'                / Coordinate type codeundefined projection       \n",
        " CTYPE3  = 'VELO'               / Relativistic velocity (linear)                 \n",
        " CRVAL1  =                  0.0 / [deg] Coordinate value at reference point      \n",
        " CRVAL2  =                  0.0 / [deg] Coordinate value at reference point      \n",
        " CRVAL3  =                  0.0 / [m/s] Coordinate value at reference point      \n",
        " LATPOLE =                 90.0 / [deg] Native latitude of celestial pole        \n",
        " RADESYS = 'ICRS'               / Equatorial coordinate system                   )"
       ]
      }
     ],
     "prompt_number": 42
    },
    {
     "cell_type": "code",
     "collapsed": false,
     "input": [
      "cube = SpectralCube(data=cube_array*u.K, wcs=cube_wcs)\n",
      "cube"
     ],
     "language": "python",
     "metadata": {},
     "outputs": [
      {
       "metadata": {},
       "output_type": "pyout",
       "prompt_number": 43,
       "text": [
        "SpectralCube with shape=(3, 4, 5) and unit=K:\n",
        " n_x: 5  type_x: RA        unit_x: deg\n",
        " n_y: 4  type_y: DEC       unit_y: deg\n",
        " n_s: 3  type_s: VELO      unit_s: m / s"
       ]
      }
     ],
     "prompt_number": 43
    },
    {
     "cell_type": "markdown",
     "metadata": {},
     "source": [
      "Some basic analysis of the cube will show its properties"
     ]
    },
    {
     "cell_type": "code",
     "collapsed": false,
     "input": [
      "cube.moment0(axis=0)"
     ],
     "language": "python",
     "metadata": {},
     "outputs": [
      {
       "latex": [
        "$[[0,~0,~0,~0,~0],~\n",
        " [0,~0,~0,~0,~0],~\n",
        " [0,~0,~0,~0,~0],~\n",
        " [0,~0,~0,~0,~0]] \\; \\mathrm{\\frac{K\\,m}{s}}$"
       ],
       "metadata": {},
       "output_type": "pyout",
       "prompt_number": 44,
       "text": [
        "<Projection [[ 0., 0., 0., 0., 0.],\n",
        "             [ 0., 0., 0., 0., 0.],\n",
        "             [ 0., 0., 0., 0., 0.],\n",
        "             [ 0., 0., 0., 0., 0.]] K m / s>"
       ]
      }
     ],
     "prompt_number": 44
    },
    {
     "cell_type": "code",
     "collapsed": false,
     "input": [
      "cube.moment0(axis=1)"
     ],
     "language": "python",
     "metadata": {},
     "outputs": [
      {
       "latex": [
        "$[[0,~0,~0,~0,~0],~\n",
        " [0,~0,~0,~0,~0],~\n",
        " [0,~0,~0,~0,~0]] \\; \\mathrm{K\\,{}^{\\circ}}$"
       ],
       "metadata": {},
       "output_type": "pyout",
       "prompt_number": 45,
       "text": [
        "<Projection [[ 0., 0., 0., 0., 0.],\n",
        "             [ 0., 0., 0., 0., 0.],\n",
        "             [ 0., 0., 0., 0., 0.]] deg K>"
       ]
      }
     ],
     "prompt_number": 45
    },
    {
     "cell_type": "code",
     "collapsed": false,
     "input": [
      "cube[:,2,2]"
     ],
     "language": "python",
     "metadata": {},
     "outputs": [
      {
       "latex": [
        "$[0,~0,~0] \\; \\mathrm{K}$"
       ],
       "metadata": {},
       "output_type": "pyout",
       "prompt_number": 46,
       "text": [
        "<OneDSpectrum [ 0., 0., 0.] K>"
       ]
      }
     ],
     "prompt_number": 46
    },
    {
     "cell_type": "markdown",
     "metadata": {},
     "source": [
      "Then, we want to be able to run some of those pyspeckit functions along the various axes"
     ]
    },
    {
     "cell_type": "code",
     "collapsed": false,
     "input": [
      "from pyspeckit.cubes.cubes import baseline_cube"
     ],
     "language": "python",
     "metadata": {},
     "outputs": [],
     "prompt_number": 47
    },
    {
     "cell_type": "markdown",
     "metadata": {},
     "source": [
      "This doesn't work, but we want it to:"
     ]
    },
    {
     "cell_type": "markdown",
     "metadata": {},
     "source": [
      "baseline_cube(cube)"
     ]
    },
    {
     "cell_type": "markdown",
     "metadata": {},
     "source": [
      "Right now, we can do:"
     ]
    },
    {
     "cell_type": "code",
     "collapsed": false,
     "input": [
      "baseline_cube(cube.filled_data[:], polyorder=1)"
     ],
     "language": "python",
     "metadata": {},
     "outputs": [
      {
       "metadata": {},
       "output_type": "pyout",
       "prompt_number": 52,
       "text": [
        "array([[[ 0.,  0.,  0.,  0.,  0.],\n",
        "        [ 0.,  0.,  0.,  0.,  0.],\n",
        "        [ 0.,  0.,  0.,  0.,  0.],\n",
        "        [ 0.,  0.,  0.,  0.,  0.]],\n",
        "\n",
        "       [[ 0.,  0.,  0.,  0.,  0.],\n",
        "        [ 0.,  0.,  0.,  0.,  0.],\n",
        "        [ 0.,  0.,  0.,  0.,  0.],\n",
        "        [ 0.,  0.,  0.,  0.,  0.]],\n",
        "\n",
        "       [[ 0.,  0.,  0.,  0.,  0.],\n",
        "        [ 0.,  0.,  0.,  0.,  0.],\n",
        "        [ 0.,  0.,  0.,  0.,  0.],\n",
        "        [ 0.,  0.,  0.,  0.,  0.]]])"
       ]
      }
     ],
     "prompt_number": 52
    },
    {
     "cell_type": "markdown",
     "metadata": {},
     "source": [
      "That's not very interesting, of course.  We want to operate on a more useful cube.  So we'll make one with wiggles in it."
     ]
    },
    {
     "cell_type": "code",
     "collapsed": false,
     "input": [
      "import pylab as pl"
     ],
     "language": "python",
     "metadata": {},
     "outputs": [],
     "prompt_number": 55
    },
    {
     "cell_type": "code",
     "collapsed": false,
     "input": [
      "x = np.linspace(0,1)\n",
      "wiggles = np.polyval([-1, 2,-1,1],x)\n",
      "pl.plot(x,wiggles)"
     ],
     "language": "python",
     "metadata": {},
     "outputs": [
      {
       "metadata": {},
       "output_type": "pyout",
       "prompt_number": 60,
       "text": [
        "[<matplotlib.lines.Line2D at 0x113218dd0>]"
       ]
      },
      {
       "metadata": {},
       "output_type": "display_data",
       "png": "[encoded data removed]",
       "text": [
        "<matplotlib.figure.Figure at 0x1126141d0>"
       ]
      }
     ],
     "prompt_number": 60
    },
    {
     "cell_type": "markdown",
     "metadata": {},
     "source": [
      "Use a numpy trick to take this 1D array and replicated it into a 5x3x(npix) array:"
     ]
    },
    {
     "cell_type": "code",
     "collapsed": false,
     "input": [
      "wiggle_cube = SpectralCube(data=np.tile(wiggles,[5,3,1]).T*u.K, wcs=cube_wcs)\n",
      "wiggle_cube"
     ],
     "language": "python",
     "metadata": {},
     "outputs": [
      {
       "metadata": {},
       "output_type": "pyout",
       "prompt_number": 70,
       "text": [
        "SpectralCube with shape=(50, 3, 5) and unit=K:\n",
        " n_x: 5  type_x: RA        unit_x: deg\n",
        " n_y: 3  type_y: DEC       unit_y: deg\n",
        " n_s: 50  type_s: VELO      unit_s: m / s"
       ]
      }
     ],
     "prompt_number": 70
    },
    {
     "cell_type": "markdown",
     "metadata": {},
     "source": [
      "Confirm that it is indeed wiggly:"
     ]
    },
    {
     "cell_type": "code",
     "collapsed": true,
     "input": [
      "wiggle_cube[:,0,0].quicklook()"
     ],
     "language": "python",
     "metadata": {},
     "outputs": [
      {
       "metadata": {},
       "output_type": "display_data",
       "png": "[encoded data removed]",
       "text": [
        "<matplotlib.figure.Figure at 0x1131566d0>"
       ]
      }
     ],
     "prompt_number": 76
    },
    {
     "cell_type": "markdown",
     "metadata": {},
     "source": [
      "In principle, the polynomial fitting should be able to remove this structure..."
     ]
    },
    {
     "cell_type": "code",
     "collapsed": false,
     "input": [
      "result_order1 = baseline_cube(wiggle_cube.filled_data[:], polyorder=1)\n",
      "result_order2 = baseline_cube(wiggle_cube.filled_data[:], polyorder=2)\n",
      "result_order3 = baseline_cube(wiggle_cube.filled_data[:], polyorder=3)\n",
      "\n",
      "pl.plot(result_order1[:,0,0], 'b')\n",
      "pl.plot(result_order2[:,0,0], 'r')\n",
      "pl.plot(result_order3[:,0,0], 'k')"
     ],
     "language": "python",
     "metadata": {},
     "outputs": [
      {
       "metadata": {},
       "output_type": "pyout",
       "prompt_number": 83,
       "text": [
        "[<matplotlib.lines.Line2D at 0x1151fc410>]"
       ]
      },
      {
       "metadata": {},
       "output_type": "display_data",
       "png": "[encoded data removed]",
       "text": [
        "<matplotlib.figure.Figure at 0x1126db410>"
       ]
      }
     ],
     "prompt_number": 83
    },
    {
     "cell_type": "markdown",
     "metadata": {},
     "source": [
      "And it does!  The `baseline_cube` function has fit a 3rd order polynomial to the input data (which was a 3rd order polynomial) successfully, and removed it.  `result_order3` should be all zeros:"
     ]
    },
    {
     "cell_type": "code",
     "collapsed": false,
     "input": [
      "result_order3"
     ],
     "language": "python",
     "metadata": {},
     "outputs": [
      {
       "metadata": {},
       "output_type": "pyout",
       "prompt_number": 84,
       "text": [
        "array([[[ -4.44089210e-16,  -4.44089210e-16,  -4.44089210e-16,\n",
        "          -4.44089210e-16,  -4.44089210e-16],\n",
        "        [ -4.44089210e-16,  -4.44089210e-16,  -4.44089210e-16,\n",
        "          -4.44089210e-16,  -4.44089210e-16],\n",
        "        [ -4.44089210e-16,  -4.44089210e-16,  -4.44089210e-16,\n",
        "          -4.44089210e-16,  -4.44089210e-16]],\n",
        "\n",
        "       [[ -3.33066907e-16,  -3.33066907e-16,  -3.33066907e-16,\n",
        "          -3.33066907e-16,  -3.33066907e-16],\n",
        "        [ -3.33066907e-16,  -3.33066907e-16,  -3.33066907e-16,\n",
        "          -3.33066907e-16,  -3.33066907e-16],\n",
        "        [ -3.33066907e-16,  -3.33066907e-16,  -3.33066907e-16,\n",
        "          -3.33066907e-16,  -3.33066907e-16]],\n",
        "\n",
        "       [[ -2.22044605e-16,  -2.22044605e-16,  -2.22044605e-16,\n",
        "          -2.22044605e-16,  -2.22044605e-16],\n",
        "        [ -2.22044605e-16,  -2.22044605e-16,  -2.22044605e-16,\n",
        "          -2.22044605e-16,  -2.22044605e-16],\n",
        "        [ -2.22044605e-16,  -2.22044605e-16,  -2.22044605e-16,\n",
        "          -2.22044605e-16,  -2.22044605e-16]],\n",
        "\n",
        "       [[ -2.22044605e-16,  -2.22044605e-16,  -2.22044605e-16,\n",
        "          -2.22044605e-16,  -2.22044605e-16],\n",
        "        [ -2.22044605e-16,  -2.22044605e-16,  -2.22044605e-16,\n",
        "          -2.22044605e-16,  -2.22044605e-16],\n",
        "        [ -2.22044605e-16,  -2.22044605e-16,  -2.22044605e-16,\n",
        "          -2.22044605e-16,  -2.22044605e-16]],\n",
        "\n",
        "       [[ -1.11022302e-16,  -1.11022302e-16,  -1.11022302e-16,\n",
        "          -1.11022302e-16,  -1.11022302e-16],\n",
        "        [ -1.11022302e-16,  -1.11022302e-16,  -1.11022302e-16,\n",
        "          -1.11022302e-16,  -1.11022302e-16],\n",
        "        [ -1.11022302e-16,  -1.11022302e-16,  -1.11022302e-16,\n",
        "          -1.11022302e-16,  -1.11022302e-16]],\n",
        "\n",
        "       [[  0.00000000e+00,   0.00000000e+00,   0.00000000e+00,\n",
        "           0.00000000e+00,   0.00000000e+00],\n",
        "        [  0.00000000e+00,   0.00000000e+00,   0.00000000e+00,\n",
        "           0.00000000e+00,   0.00000000e+00],\n",
        "        [  0.00000000e+00,   0.00000000e+00,   0.00000000e+00,\n",
        "           0.00000000e+00,   0.00000000e+00]],\n",
        "\n",
        "       [[  1.11022302e-16,   1.11022302e-16,   1.11022302e-16,\n",
        "           1.11022302e-16,   1.11022302e-16],\n",
        "        [  1.11022302e-16,   1.11022302e-16,   1.11022302e-16,\n",
        "           1.11022302e-16,   1.11022302e-16],\n",
        "        [  1.11022302e-16,   1.11022302e-16,   1.11022302e-16,\n",
        "           1.11022302e-16,   1.11022302e-16]],\n",
        "\n",
        "       [[  1.11022302e-16,   1.11022302e-16,   1.11022302e-16,\n",
        "           1.11022302e-16,   1.11022302e-16],\n",
        "        [  1.11022302e-16,   1.11022302e-16,   1.11022302e-16,\n",
        "           1.11022302e-16,   1.11022302e-16],\n",
        "        [  1.11022302e-16,   1.11022302e-16,   1.11022302e-16,\n",
        "           1.11022302e-16,   1.11022302e-16]],\n",
        "\n",
        "       [[  2.22044605e-16,   2.22044605e-16,   2.22044605e-16,\n",
        "           2.22044605e-16,   2.22044605e-16],\n",
        "        [  2.22044605e-16,   2.22044605e-16,   2.22044605e-16,\n",
        "           2.22044605e-16,   2.22044605e-16],\n",
        "        [  2.22044605e-16,   2.22044605e-16,   2.22044605e-16,\n",
        "           2.22044605e-16,   2.22044605e-16]],\n",
        "\n",
        "       [[  2.22044605e-16,   2.22044605e-16,   2.22044605e-16,\n",
        "           2.22044605e-16,   2.22044605e-16],\n",
        "        [  2.22044605e-16,   2.22044605e-16,   2.22044605e-16,\n",
        "           2.22044605e-16,   2.22044605e-16],\n",
        "        [  2.22044605e-16,   2.22044605e-16,   2.22044605e-16,\n",
        "           2.22044605e-16,   2.22044605e-16]],\n",
        "\n",
        "       [[  2.22044605e-16,   2.22044605e-16,   2.22044605e-16,\n",
        "           2.22044605e-16,   2.22044605e-16],\n",
        "        [  2.22044605e-16,   2.22044605e-16,   2.22044605e-16,\n",
        "           2.22044605e-16,   2.22044605e-16],\n",
        "        [  2.22044605e-16,   2.22044605e-16,   2.22044605e-16,\n",
        "           2.22044605e-16,   2.22044605e-16]],\n",
        "\n",
        "       [[  3.33066907e-16,   3.33066907e-16,   3.33066907e-16,\n",
        "           3.33066907e-16,   3.33066907e-16],\n",
        "        [  3.33066907e-16,   3.33066907e-16,   3.33066907e-16,\n",
        "           3.33066907e-16,   3.33066907e-16],\n",
        "        [  3.33066907e-16,   3.33066907e-16,   3.33066907e-16,\n",
        "           3.33066907e-16,   3.33066907e-16]],\n",
        "\n",
        "       [[  2.22044605e-16,   2.22044605e-16,   2.22044605e-16,\n",
        "           2.22044605e-16,   2.22044605e-16],\n",
        "        [  2.22044605e-16,   2.22044605e-16,   2.22044605e-16,\n",
        "           2.22044605e-16,   2.22044605e-16],\n",
        "        [  2.22044605e-16,   2.22044605e-16,   2.22044605e-16,\n",
        "           2.22044605e-16,   2.22044605e-16]],\n",
        "\n",
        "       [[  3.33066907e-16,   3.33066907e-16,   3.33066907e-16,\n",
        "           3.33066907e-16,   3.33066907e-16],\n",
        "        [  3.33066907e-16,   3.33066907e-16,   3.33066907e-16,\n",
        "           3.33066907e-16,   3.33066907e-16],\n",
        "        [  3.33066907e-16,   3.33066907e-16,   3.33066907e-16,\n",
        "           3.33066907e-16,   3.33066907e-16]],\n",
        "\n",
        "       [[  3.33066907e-16,   3.33066907e-16,   3.33066907e-16,\n",
        "           3.33066907e-16,   3.33066907e-16],\n",
        "        [  3.33066907e-16,   3.33066907e-16,   3.33066907e-16,\n",
        "           3.33066907e-16,   3.33066907e-16],\n",
        "        [  3.33066907e-16,   3.33066907e-16,   3.33066907e-16,\n",
        "           3.33066907e-16,   3.33066907e-16]],\n",
        "\n",
        "       [[  4.44089210e-16,   4.44089210e-16,   4.44089210e-16,\n",
        "           4.44089210e-16,   4.44089210e-16],\n",
        "        [  4.44089210e-16,   4.44089210e-16,   4.44089210e-16,\n",
        "           4.44089210e-16,   4.44089210e-16],\n",
        "        [  4.44089210e-16,   4.44089210e-16,   4.44089210e-16,\n",
        "           4.44089210e-16,   4.44089210e-16]],\n",
        "\n",
        "       [[  4.44089210e-16,   4.44089210e-16,   4.44089210e-16,\n",
        "           4.44089210e-16,   4.44089210e-16],\n",
        "        [  4.44089210e-16,   4.44089210e-16,   4.44089210e-16,\n",
        "           4.44089210e-16,   4.44089210e-16],\n",
        "        [  4.44089210e-16,   4.44089210e-16,   4.44089210e-16,\n",
        "           4.44089210e-16,   4.44089210e-16]],\n",
        "\n",
        "       [[  4.44089210e-16,   4.44089210e-16,   4.44089210e-16,\n",
        "           4.44089210e-16,   4.44089210e-16],\n",
        "        [  4.44089210e-16,   4.44089210e-16,   4.44089210e-16,\n",
        "           4.44089210e-16,   4.44089210e-16],\n",
        "        [  4.44089210e-16,   4.44089210e-16,   4.44089210e-16,\n",
        "           4.44089210e-16,   4.44089210e-16]],\n",
        "\n",
        "       [[  4.44089210e-16,   4.44089210e-16,   4.44089210e-16,\n",
        "           4.44089210e-16,   4.44089210e-16],\n",
        "        [  4.44089210e-16,   4.44089210e-16,   4.44089210e-16,\n",
        "           4.44089210e-16,   4.44089210e-16],\n",
        "        [  4.44089210e-16,   4.44089210e-16,   4.44089210e-16,\n",
        "           4.44089210e-16,   4.44089210e-16]],\n",
        "\n",
        "       [[  5.55111512e-16,   5.55111512e-16,   5.55111512e-16,\n",
        "           5.55111512e-16,   5.55111512e-16],\n",
        "        [  5.55111512e-16,   5.55111512e-16,   5.55111512e-16,\n",
        "           5.55111512e-16,   5.55111512e-16],\n",
        "        [  5.55111512e-16,   5.55111512e-16,   5.55111512e-16,\n",
        "           5.55111512e-16,   5.55111512e-16]],\n",
        "\n",
        "       [[  6.66133815e-16,   6.66133815e-16,   6.66133815e-16,\n",
        "           6.66133815e-16,   6.66133815e-16],\n",
        "        [  6.66133815e-16,   6.66133815e-16,   6.66133815e-16,\n",
        "           6.66133815e-16,   6.66133815e-16],\n",
        "        [  6.66133815e-16,   6.66133815e-16,   6.66133815e-16,\n",
        "           6.66133815e-16,   6.66133815e-16]],\n",
        "\n",
        "       [[  5.55111512e-16,   5.55111512e-16,   5.55111512e-16,\n",
        "           5.55111512e-16,   5.55111512e-16],\n",
        "        [  5.55111512e-16,   5.55111512e-16,   5.55111512e-16,\n",
        "           5.55111512e-16,   5.55111512e-16],\n",
        "        [  5.55111512e-16,   5.55111512e-16,   5.55111512e-16,\n",
        "           5.55111512e-16,   5.55111512e-16]],\n",
        "\n",
        "       [[  4.44089210e-16,   4.44089210e-16,   4.44089210e-16,\n",
        "           4.44089210e-16,   4.44089210e-16],\n",
        "        [  4.44089210e-16,   4.44089210e-16,   4.44089210e-16,\n",
        "           4.44089210e-16,   4.44089210e-16],\n",
        "        [  4.44089210e-16,   4.44089210e-16,   4.44089210e-16,\n",
        "           4.44089210e-16,   4.44089210e-16]],\n",
        "\n",
        "       [[  6.66133815e-16,   6.66133815e-16,   6.66133815e-16,\n",
        "           6.66133815e-16,   6.66133815e-16],\n",
        "        [  6.66133815e-16,   6.66133815e-16,   6.66133815e-16,\n",
        "           6.66133815e-16,   6.66133815e-16],\n",
        "        [  6.66133815e-16,   6.66133815e-16,   6.66133815e-16,\n",
        "           6.66133815e-16,   6.66133815e-16]],\n",
        "\n",
        "       [[  6.66133815e-16,   6.66133815e-16,   6.66133815e-16,\n",
        "           6.66133815e-16,   6.66133815e-16],\n",
        "        [  6.66133815e-16,   6.66133815e-16,   6.66133815e-16,\n",
        "           6.66133815e-16,   6.66133815e-16],\n",
        "        [  6.66133815e-16,   6.66133815e-16,   6.66133815e-16,\n",
        "           6.66133815e-16,   6.66133815e-16]],\n",
        "\n",
        "       [[  7.77156117e-16,   7.77156117e-16,   7.77156117e-16,\n",
        "           7.77156117e-16,   7.77156117e-16],\n",
        "        [  7.77156117e-16,   7.77156117e-16,   7.77156117e-16,\n",
        "           7.77156117e-16,   7.77156117e-16],\n",
        "        [  7.77156117e-16,   7.77156117e-16,   7.77156117e-16,\n",
        "           7.77156117e-16,   7.77156117e-16]],\n",
        "\n",
        "       [[  6.66133815e-16,   6.66133815e-16,   6.66133815e-16,\n",
        "           6.66133815e-16,   6.66133815e-16],\n",
        "        [  6.66133815e-16,   6.66133815e-16,   6.66133815e-16,\n",
        "           6.66133815e-16,   6.66133815e-16],\n",
        "        [  6.66133815e-16,   6.66133815e-16,   6.66133815e-16,\n",
        "           6.66133815e-16,   6.66133815e-16]],\n",
        "\n",
        "       [[  6.66133815e-16,   6.66133815e-16,   6.66133815e-16,\n",
        "           6.66133815e-16,   6.66133815e-16],\n",
        "        [  6.66133815e-16,   6.66133815e-16,   6.66133815e-16,\n",
        "           6.66133815e-16,   6.66133815e-16],\n",
        "        [  6.66133815e-16,   6.66133815e-16,   6.66133815e-16,\n",
        "           6.66133815e-16,   6.66133815e-16]],\n",
        "\n",
        "       [[  7.77156117e-16,   7.77156117e-16,   7.77156117e-16,\n",
        "           7.77156117e-16,   7.77156117e-16],\n",
        "        [  7.77156117e-16,   7.77156117e-16,   7.77156117e-16,\n",
        "           7.77156117e-16,   7.77156117e-16],\n",
        "        [  7.77156117e-16,   7.77156117e-16,   7.77156117e-16,\n",
        "           7.77156117e-16,   7.77156117e-16]],\n",
        "\n",
        "       [[  8.88178420e-16,   8.88178420e-16,   8.88178420e-16,\n",
        "           8.88178420e-16,   8.88178420e-16],\n",
        "        [  8.88178420e-16,   8.88178420e-16,   8.88178420e-16,\n",
        "           8.88178420e-16,   8.88178420e-16],\n",
        "        [  8.88178420e-16,   8.88178420e-16,   8.88178420e-16,\n",
        "           8.88178420e-16,   8.88178420e-16]],\n",
        "\n",
        "       [[  9.99200722e-16,   9.99200722e-16,   9.99200722e-16,\n",
        "           9.99200722e-16,   9.99200722e-16],\n",
        "        [  9.99200722e-16,   9.99200722e-16,   9.99200722e-16,\n",
        "           9.99200722e-16,   9.99200722e-16],\n",
        "        [  9.99200722e-16,   9.99200722e-16,   9.99200722e-16,\n",
        "           9.99200722e-16,   9.99200722e-16]],\n",
        "\n",
        "       [[  9.99200722e-16,   9.99200722e-16,   9.99200722e-16,\n",
        "           9.99200722e-16,   9.99200722e-16],\n",
        "        [  9.99200722e-16,   9.99200722e-16,   9.99200722e-16,\n",
        "           9.99200722e-16,   9.99200722e-16],\n",
        "        [  9.99200722e-16,   9.99200722e-16,   9.99200722e-16,\n",
        "           9.99200722e-16,   9.99200722e-16]],\n",
        "\n",
        "       [[  1.11022302e-15,   1.11022302e-15,   1.11022302e-15,\n",
        "           1.11022302e-15,   1.11022302e-15],\n",
        "        [  1.11022302e-15,   1.11022302e-15,   1.11022302e-15,\n",
        "           1.11022302e-15,   1.11022302e-15],\n",
        "        [  1.11022302e-15,   1.11022302e-15,   1.11022302e-15,\n",
        "           1.11022302e-15,   1.11022302e-15]],\n",
        "\n",
        "       [[  1.22124533e-15,   1.22124533e-15,   1.22124533e-15,\n",
        "           1.22124533e-15,   1.22124533e-15],\n",
        "        [  1.22124533e-15,   1.22124533e-15,   1.22124533e-15,\n",
        "           1.22124533e-15,   1.22124533e-15],\n",
        "        [  1.22124533e-15,   1.22124533e-15,   1.22124533e-15,\n",
        "           1.22124533e-15,   1.22124533e-15]],\n",
        "\n",
        "       [[  1.22124533e-15,   1.22124533e-15,   1.22124533e-15,\n",
        "           1.22124533e-15,   1.22124533e-15],\n",
        "        [  1.22124533e-15,   1.22124533e-15,   1.22124533e-15,\n",
        "           1.22124533e-15,   1.22124533e-15],\n",
        "        [  1.22124533e-15,   1.22124533e-15,   1.22124533e-15,\n",
        "           1.22124533e-15,   1.22124533e-15]],\n",
        "\n",
        "       [[  1.22124533e-15,   1.22124533e-15,   1.22124533e-15,\n",
        "           1.22124533e-15,   1.22124533e-15],\n",
        "        [  1.22124533e-15,   1.22124533e-15,   1.22124533e-15,\n",
        "           1.22124533e-15,   1.22124533e-15],\n",
        "        [  1.22124533e-15,   1.22124533e-15,   1.22124533e-15,\n",
        "           1.22124533e-15,   1.22124533e-15]],\n",
        "\n",
        "       [[  1.44328993e-15,   1.44328993e-15,   1.44328993e-15,\n",
        "           1.44328993e-15,   1.44328993e-15],\n",
        "        [  1.44328993e-15,   1.44328993e-15,   1.44328993e-15,\n",
        "           1.44328993e-15,   1.44328993e-15],\n",
        "        [  1.44328993e-15,   1.44328993e-15,   1.44328993e-15,\n",
        "           1.44328993e-15,   1.44328993e-15]],\n",
        "\n",
        "       [[  1.33226763e-15,   1.33226763e-15,   1.33226763e-15,\n",
        "           1.33226763e-15,   1.33226763e-15],\n",
        "        [  1.33226763e-15,   1.33226763e-15,   1.33226763e-15,\n",
        "           1.33226763e-15,   1.33226763e-15],\n",
        "        [  1.33226763e-15,   1.33226763e-15,   1.33226763e-15,\n",
        "           1.33226763e-15,   1.33226763e-15]],\n",
        "\n",
        "       [[  1.44328993e-15,   1.44328993e-15,   1.44328993e-15,\n",
        "           1.44328993e-15,   1.44328993e-15],\n",
        "        [  1.44328993e-15,   1.44328993e-15,   1.44328993e-15,\n",
        "           1.44328993e-15,   1.44328993e-15],\n",
        "        [  1.44328993e-15,   1.44328993e-15,   1.44328993e-15,\n",
        "           1.44328993e-15,   1.44328993e-15]],\n",
        "\n",
        "       [[  1.66533454e-15,   1.66533454e-15,   1.66533454e-15,\n",
        "           1.66533454e-15,   1.66533454e-15],\n",
        "        [  1.66533454e-15,   1.66533454e-15,   1.66533454e-15,\n",
        "           1.66533454e-15,   1.66533454e-15],\n",
        "        [  1.66533454e-15,   1.66533454e-15,   1.66533454e-15,\n",
        "           1.66533454e-15,   1.66533454e-15]],\n",
        "\n",
        "       [[  1.66533454e-15,   1.66533454e-15,   1.66533454e-15,\n",
        "           1.66533454e-15,   1.66533454e-15],\n",
        "        [  1.66533454e-15,   1.66533454e-15,   1.66533454e-15,\n",
        "           1.66533454e-15,   1.66533454e-15],\n",
        "        [  1.66533454e-15,   1.66533454e-15,   1.66533454e-15,\n",
        "           1.66533454e-15,   1.66533454e-15]],\n",
        "\n",
        "       [[  1.99840144e-15,   1.99840144e-15,   1.99840144e-15,\n",
        "           1.99840144e-15,   1.99840144e-15],\n",
        "        [  1.99840144e-15,   1.99840144e-15,   1.99840144e-15,\n",
        "           1.99840144e-15,   1.99840144e-15],\n",
        "        [  1.99840144e-15,   1.99840144e-15,   1.99840144e-15,\n",
        "           1.99840144e-15,   1.99840144e-15]],\n",
        "\n",
        "       [[  1.99840144e-15,   1.99840144e-15,   1.99840144e-15,\n",
        "           1.99840144e-15,   1.99840144e-15],\n",
        "        [  1.99840144e-15,   1.99840144e-15,   1.99840144e-15,\n",
        "           1.99840144e-15,   1.99840144e-15],\n",
        "        [  1.99840144e-15,   1.99840144e-15,   1.99840144e-15,\n",
        "           1.99840144e-15,   1.99840144e-15]],\n",
        "\n",
        "       [[  2.22044605e-15,   2.22044605e-15,   2.22044605e-15,\n",
        "           2.22044605e-15,   2.22044605e-15],\n",
        "        [  2.22044605e-15,   2.22044605e-15,   2.22044605e-15,\n",
        "           2.22044605e-15,   2.22044605e-15],\n",
        "        [  2.22044605e-15,   2.22044605e-15,   2.22044605e-15,\n",
        "           2.22044605e-15,   2.22044605e-15]],\n",
        "\n",
        "       [[  2.44249065e-15,   2.44249065e-15,   2.44249065e-15,\n",
        "           2.44249065e-15,   2.44249065e-15],\n",
        "        [  2.44249065e-15,   2.44249065e-15,   2.44249065e-15,\n",
        "           2.44249065e-15,   2.44249065e-15],\n",
        "        [  2.44249065e-15,   2.44249065e-15,   2.44249065e-15,\n",
        "           2.44249065e-15,   2.44249065e-15]],\n",
        "\n",
        "       [[  2.66453526e-15,   2.66453526e-15,   2.66453526e-15,\n",
        "           2.66453526e-15,   2.66453526e-15],\n",
        "        [  2.66453526e-15,   2.66453526e-15,   2.66453526e-15,\n",
        "           2.66453526e-15,   2.66453526e-15],\n",
        "        [  2.66453526e-15,   2.66453526e-15,   2.66453526e-15,\n",
        "           2.66453526e-15,   2.66453526e-15]],\n",
        "\n",
        "       [[  2.77555756e-15,   2.77555756e-15,   2.77555756e-15,\n",
        "           2.77555756e-15,   2.77555756e-15],\n",
        "        [  2.77555756e-15,   2.77555756e-15,   2.77555756e-15,\n",
        "           2.77555756e-15,   2.77555756e-15],\n",
        "        [  2.77555756e-15,   2.77555756e-15,   2.77555756e-15,\n",
        "           2.77555756e-15,   2.77555756e-15]],\n",
        "\n",
        "       [[  2.99760217e-15,   2.99760217e-15,   2.99760217e-15,\n",
        "           2.99760217e-15,   2.99760217e-15],\n",
        "        [  2.99760217e-15,   2.99760217e-15,   2.99760217e-15,\n",
        "           2.99760217e-15,   2.99760217e-15],\n",
        "        [  2.99760217e-15,   2.99760217e-15,   2.99760217e-15,\n",
        "           2.99760217e-15,   2.99760217e-15]],\n",
        "\n",
        "       [[  3.10862447e-15,   3.10862447e-15,   3.10862447e-15,\n",
        "           3.10862447e-15,   3.10862447e-15],\n",
        "        [  3.10862447e-15,   3.10862447e-15,   3.10862447e-15,\n",
        "           3.10862447e-15,   3.10862447e-15],\n",
        "        [  3.10862447e-15,   3.10862447e-15,   3.10862447e-15,\n",
        "           3.10862447e-15,   3.10862447e-15]],\n",
        "\n",
        "       [[  3.44169138e-15,   3.44169138e-15,   3.44169138e-15,\n",
        "           3.44169138e-15,   3.44169138e-15],\n",
        "        [  3.44169138e-15,   3.44169138e-15,   3.44169138e-15,\n",
        "           3.44169138e-15,   3.44169138e-15],\n",
        "        [  3.44169138e-15,   3.44169138e-15,   3.44169138e-15,\n",
        "           3.44169138e-15,   3.44169138e-15]]])"
       ]
      }
     ],
     "prompt_number": 84
    },
    {
     "cell_type": "markdown",
     "metadata": {},
     "source": [
      "Not exactly zero, but close enough:"
     ]
    },
    {
     "cell_type": "code",
     "collapsed": false,
     "input": [
      "np.abs(result_order3).max()"
     ],
     "language": "python",
     "metadata": {},
     "outputs": [
      {
       "metadata": {},
       "output_type": "pyout",
       "prompt_number": 90,
       "text": [
        "3.4416913763379853e-15"
       ]
      }
     ],
     "prompt_number": 90
    },
    {
     "cell_type": "markdown",
     "metadata": {},
     "source": [
      "Since this worked, why not just use `baseline_cube` directly on `filled_data`, as in the example?  There are a few reasons:\n",
      "\n",
      "1. `filled_data` can be slow for large files.  We would rather use one of the clever slicing strategies to send chunks of the data piece-by-piece to the fitter.\n",
      "2. We get out an array, not a cube - we want cube in, cube out\n",
      "\n",
      "That might be all, though... for starters, we can just pass in the \"raw\" `filled_data` pieces to the baseline function.\n",
      "\n",
      "Where should the new baseline function live?  In `spectral_cube/utils/baseline.py`, which doesn't yet exist.\n",
      "\n",
      "What more is needed?  TESTS especially.  Everything in `spectral_cube` requires unit tests.\n",
      "\n",
      "What else can we add to this?  We can make `blfunc_generator` (https://github.com/pyspeckit/pyspeckit/blob/master/pyspeckit/cubes/cubes.py#L41) much more general - in fact, we can and should replace it with an astropy model task, if possible.  However, that might not strictly be possible, since spline \"fitting\" is not the same as modeling (it's data-driven, not functional - a polynomial takes a few parameters and then an x-axis of any length, while a spline takes the actual data)\n",
      "\n"
     ]
    },
    {
     "cell_type": "code",
     "collapsed": false,
     "input": [],
     "language": "python",
     "metadata": {},
     "outputs": []
    }
   ],
   "metadata": {}
  }
 ]
}