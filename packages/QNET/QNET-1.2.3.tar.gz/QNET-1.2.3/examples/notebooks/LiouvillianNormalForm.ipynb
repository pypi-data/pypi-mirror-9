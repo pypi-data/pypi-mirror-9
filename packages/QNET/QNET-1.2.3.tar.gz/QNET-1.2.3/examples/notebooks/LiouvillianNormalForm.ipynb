{
 "metadata": {
  "name": ""
 },
 "nbformat": 3,
 "nbformat_minor": 0,
 "worksheets": [
  {
   "cells": [
    {
     "cell_type": "heading",
     "level": 1,
     "metadata": {},
     "source": [
      "Liouvillian Normal Form"
     ]
    },
    {
     "cell_type": "markdown",
     "metadata": {},
     "source": [
      "Given a circuit model $Q = (S, L, H)$ that is built from individual SLH-components with $n$ linearly independent coupling operators (which implies that ${\\rm cdim} Q \\ge n$, there must exist an open system model $Q' = (\\mathbf{1}_n, L', H')$ that leads to the identical master equation.\n",
      "Or, in other words, when there is redundancy in the input/output couplings it is possible to find an equivalent system (in terms of ensemble dynamics) with fewer collapse operators. \n",
      "\n",
      "Mathematically, if we define a Liouvillian super operator via its parametrization in terms of $H$ and $L$:\n",
      "$$\n",
      "\\mathcal{L}_{H, L} := -i{\\rm spre}[H] + i {\\rm spost}[H]  + \\sum_{j=1}^m \\left( {\\rm spre}[L_j]{\\rm spost}[L_j^\\dagger] \n",
      "- \\frac{1}{2}\\left\\\\{{\\rm spre}[L\\_j^\\dagger L\\_j]  + {\\rm spost}[L\\_j^\\dagger L\\_j]\\right\\\\} \\right)\n",
      "$$\n",
      "\n",
      "Then the above problem reduces to finding a different pair $H', L'$ where $L'$ has fewer non-zero components, that produces the same Liouvillian: $\\mathcal{L}_{H, L} = \\mathcal{L}\\_{H', L'}$.\n",
      "We call this parametrization the Liouvillian Normal Form, although it is not necessarily uniquely defined."
     ]
    },
    {
     "cell_type": "heading",
     "level": 2,
     "metadata": {},
     "source": [
      "PseudoNAND gate"
     ]
    },
    {
     "cell_type": "code",
     "collapsed": false,
     "input": [
      "from qnet.circuit_components import pseudo_nand_cc as nand"
     ],
     "language": "python",
     "metadata": {},
     "outputs": [],
     "prompt_number": 1
    },
    {
     "cell_type": "markdown",
     "metadata": {},
     "source": [
      "The PseudoNAND has only one internal degree of freedom, namely a Kerr-nonlinear cavity. Since the associated coupling operators of this cavity are all multiples of its annhilation operator $a$, any circuit featuring no additional internal degrees of freedom must have an ensemble-equivalent model with just a single collapse operator."
     ]
    },
    {
     "cell_type": "code",
     "collapsed": false,
     "input": [
      "N = nand.PseudoNAND(\"N\")"
     ],
     "language": "python",
     "metadata": {},
     "outputs": [],
     "prompt_number": 2
    },
    {
     "cell_type": "code",
     "collapsed": false,
     "input": [
      "nslh = N.toSLH()"
     ],
     "language": "python",
     "metadata": {},
     "outputs": [],
     "prompt_number": 3
    },
    {
     "cell_type": "code",
     "collapsed": false,
     "input": [
      "nslh"
     ],
     "language": "python",
     "metadata": {},
     "outputs": [
      {
       "latex": [
        "$\\left( \\begin{pmatrix} \\frac{\\sqrt{2}}{2} & - \\frac{\\sqrt{2}}{2} & 0 & 0 \\\\ \\frac{\\sqrt{2}}{2} & \\frac{\\sqrt{2}}{2} & 0 & 0 \\\\ 0 & 0 & e^{i \\phi} \\cos{\\left (\\theta \\right )} & - e^{i \\phi} \\sin{\\left (\\theta \\right )} \\\\ 0 & 0 & \\sin{\\left (\\theta \\right )} & \\cos{\\left (\\theta \\right )}\\end{pmatrix}, \\begin{pmatrix} 0 \\\\  \\sqrt{\\kappa} {a_{{{\\rm N.K}}}} \\\\  \\beta e^{i \\phi} \\cos{\\left (\\theta \\right )} -  \\sqrt{\\kappa} e^{i \\phi} \\sin{\\left (\\theta \\right )} {a_{{{\\rm N.K}}}} \\\\  \\beta \\sin{\\left (\\theta \\right )} +  \\sqrt{\\kappa} \\cos{\\left (\\theta \\right )} {a_{{{\\rm N.K}}}}\\end{pmatrix},  \\chi {a_{{{\\rm N.K}}}^\\dagger} {a_{{{\\rm N.K}}}^\\dagger} {a_{{{\\rm N.K}}}} {a_{{{\\rm N.K}}}} +  \\Delta {a_{{{\\rm N.K}}}^\\dagger} {a_{{{\\rm N.K}}}} \\right)$"
       ],
       "metadata": {},
       "output_type": "pyout",
       "prompt_number": 4,
       "text": [
        "SLH(Matrix([[sqrt(2)/2, -sqrt(2)/2, 0, 0], [sqrt(2)/2, sqrt(2)/2, 0, 0], [0, 0, exp(I*phi)*cos(theta), -exp(I*phi)*sin(theta)], [0, 0, sin(theta), cos(theta)]]), Matrix([[0], [ScalarTimesOperator(sqrt(kappa), Destroy(LocalSpace('N.K', '')))], [OperatorPlus(ScalarTimesOperator(beta*exp(I*phi)*cos(theta), IdentityOperator), ScalarTimesOperator(-sqrt(kappa)*exp(I*phi)*sin(theta), Destroy(LocalSpace('N.K', ''))))], [OperatorPlus(ScalarTimesOperator(beta*sin(theta), IdentityOperator), ScalarTimesOperator(sqrt(kappa)*cos(theta), Destroy(LocalSpace('N.K', ''))))]]), OperatorPlus(ScalarTimesOperator(chi, OperatorTimes(Create(LocalSpace('N.K', '')), Create(LocalSpace('N.K', '')), Destroy(LocalSpace('N.K', '')), Destroy(LocalSpace('N.K', '')))), ScalarTimesOperator(Delta, OperatorTimes(Create(LocalSpace('N.K', '')), Destroy(LocalSpace('N.K', ''))))))"
       ]
      }
     ],
     "prompt_number": 4
    },
    {
     "cell_type": "code",
     "collapsed": false,
     "input": [
      "nslh.symbolic_liouvillian()"
     ],
     "language": "python",
     "metadata": {},
     "outputs": [
      {
       "latex": [
        "$- \\frac{1}{2} \\left({\\rm spost}\\left[ \\sin{\\left (\\theta \\right )} \\overline{\\beta} +  \\cos{\\left (\\theta \\right )} \\overline{\\sqrt{\\kappa}} {a_{{{\\rm N.K}}}^\\dagger} \\left( \\beta \\sin{\\left (\\theta \\right )} +  \\sqrt{\\kappa} \\cos{\\left (\\theta \\right )} {a_{{{\\rm N.K}}}}\\right) \\right] + {\\rm spre}\\left[ \\sin{\\left (\\theta \\right )} \\overline{\\beta} +  \\cos{\\left (\\theta \\right )} \\overline{\\sqrt{\\kappa}} {a_{{{\\rm N.K}}}^\\dagger} \\left( \\beta \\sin{\\left (\\theta \\right )} +  \\sqrt{\\kappa} \\cos{\\left (\\theta \\right )} {a_{{{\\rm N.K}}}}\\right) \\right]\\right) - \\frac{1}{2} \\left({\\rm spost}\\left[ e^{- i \\phi} \\cos{\\left (\\theta \\right )} \\overline{\\beta} -  e^{- i \\phi} \\sin{\\left (\\theta \\right )} \\overline{\\sqrt{\\kappa}} {a_{{{\\rm N.K}}}^\\dagger} \\left( \\beta e^{i \\phi} \\cos{\\left (\\theta \\right )} -  \\sqrt{\\kappa} e^{i \\phi} \\sin{\\left (\\theta \\right )} {a_{{{\\rm N.K}}}}\\right) \\right] + {\\rm spre}\\left[ e^{- i \\phi} \\cos{\\left (\\theta \\right )} \\overline{\\beta} -  e^{- i \\phi} \\sin{\\left (\\theta \\right )} \\overline{\\sqrt{\\kappa}} {a_{{{\\rm N.K}}}^\\dagger} \\left( \\beta e^{i \\phi} \\cos{\\left (\\theta \\right )} -  \\sqrt{\\kappa} e^{i \\phi} \\sin{\\left (\\theta \\right )} {a_{{{\\rm N.K}}}}\\right) \\right]\\right) - \\frac{1}{2} \\left({\\rm spost}\\left[ \\sqrt{\\kappa} \\overline{\\sqrt{\\kappa}} {a_{{{\\rm N.K}}}^\\dagger} {a_{{{\\rm N.K}}}}\\right] + {\\rm spre}\\left[ \\sqrt{\\kappa} \\overline{\\sqrt{\\kappa}} {a_{{{\\rm N.K}}}^\\dagger} {a_{{{\\rm N.K}}}}\\right]\\right) - i \\left((-1) {\\rm spost}\\left[ \\chi {a_{{{\\rm N.K}}}^\\dagger} {a_{{{\\rm N.K}}}^\\dagger} {a_{{{\\rm N.K}}}} {a_{{{\\rm N.K}}}} +  \\Delta {a_{{{\\rm N.K}}}^\\dagger} {a_{{{\\rm N.K}}}}\\right] + {\\rm spre}\\left[ \\chi {a_{{{\\rm N.K}}}^\\dagger} {a_{{{\\rm N.K}}}^\\dagger} {a_{{{\\rm N.K}}}} {a_{{{\\rm N.K}}}} +  \\Delta {a_{{{\\rm N.K}}}^\\dagger} {a_{{{\\rm N.K}}}}\\right]\\right) + {\\rm spre}\\left[ \\beta e^{i \\phi} \\cos{\\left (\\theta \\right )} -  \\sqrt{\\kappa} e^{i \\phi} \\sin{\\left (\\theta \\right )} {a_{{{\\rm N.K}}}}\\right] {\\rm spost}\\left[ e^{- i \\phi} \\cos{\\left (\\theta \\right )} \\overline{\\beta} -  e^{- i \\phi} \\sin{\\left (\\theta \\right )} \\overline{\\sqrt{\\kappa}} {a_{{{\\rm N.K}}}^\\dagger}\\right] + {\\rm spre}\\left[ \\beta \\sin{\\left (\\theta \\right )} +  \\sqrt{\\kappa} \\cos{\\left (\\theta \\right )} {a_{{{\\rm N.K}}}}\\right] {\\rm spost}\\left[ \\sin{\\left (\\theta \\right )} \\overline{\\beta} +  \\cos{\\left (\\theta \\right )} \\overline{\\sqrt{\\kappa}} {a_{{{\\rm N.K}}}^\\dagger}\\right] + {\\rm spre}\\left[ \\sqrt{\\kappa} {a_{{{\\rm N.K}}}}\\right] {\\rm spost}\\left[ \\overline{\\sqrt{\\kappa}} {a_{{{\\rm N.K}}}^\\dagger}\\right]$"
       ],
       "metadata": {},
       "output_type": "pyout",
       "prompt_number": 5,
       "text": [
        "SuperOperatorPlus(ScalarTimesSuperOperator(-1/2, SuperOperatorPlus(SPost(OperatorTimes(OperatorPlus(ScalarTimesOperator(sin(theta)*conjugate(beta), IdentityOperator), ScalarTimesOperator(cos(theta)*conjugate(sqrt(kappa)), Create(LocalSpace('N.K', '')))), OperatorPlus(ScalarTimesOperator(beta*sin(theta), IdentityOperator), ScalarTimesOperator(sqrt(kappa)*cos(theta), Destroy(LocalSpace('N.K', '')))))), SPre(OperatorTimes(OperatorPlus(ScalarTimesOperator(sin(theta)*conjugate(beta), IdentityOperator), ScalarTimesOperator(cos(theta)*conjugate(sqrt(kappa)), Create(LocalSpace('N.K', '')))), OperatorPlus(ScalarTimesOperator(beta*sin(theta), IdentityOperator), ScalarTimesOperator(sqrt(kappa)*cos(theta), Destroy(LocalSpace('N.K', '')))))))), ScalarTimesSuperOperator(-1/2, SuperOperatorPlus(SPost(OperatorTimes(OperatorPlus(ScalarTimesOperator(exp(-I*phi)*cos(theta)*conjugate(beta), IdentityOperator), ScalarTimesOperator(-exp(-I*phi)*sin(theta)*conjugate(sqrt(kappa)), Create(LocalSpace('N.K', '')))), OperatorPlus(ScalarTimesOperator(beta*exp(I*phi)*cos(theta), IdentityOperator), ScalarTimesOperator(-sqrt(kappa)*exp(I*phi)*sin(theta), Destroy(LocalSpace('N.K', '')))))), SPre(OperatorTimes(OperatorPlus(ScalarTimesOperator(exp(-I*phi)*cos(theta)*conjugate(beta), IdentityOperator), ScalarTimesOperator(-exp(-I*phi)*sin(theta)*conjugate(sqrt(kappa)), Create(LocalSpace('N.K', '')))), OperatorPlus(ScalarTimesOperator(beta*exp(I*phi)*cos(theta), IdentityOperator), ScalarTimesOperator(-sqrt(kappa)*exp(I*phi)*sin(theta), Destroy(LocalSpace('N.K', '')))))))), ScalarTimesSuperOperator(-1/2, SuperOperatorPlus(SPost(ScalarTimesOperator(sqrt(kappa)*conjugate(sqrt(kappa)), OperatorTimes(Create(LocalSpace('N.K', '')), Destroy(LocalSpace('N.K', ''))))), SPre(ScalarTimesOperator(sqrt(kappa)*conjugate(sqrt(kappa)), OperatorTimes(Create(LocalSpace('N.K', '')), Destroy(LocalSpace('N.K', ''))))))), ScalarTimesSuperOperator(-I, SuperOperatorPlus(ScalarTimesSuperOperator(-1, SPost(OperatorPlus(ScalarTimesOperator(chi, OperatorTimes(Create(LocalSpace('N.K', '')), Create(LocalSpace('N.K', '')), Destroy(LocalSpace('N.K', '')), Destroy(LocalSpace('N.K', '')))), ScalarTimesOperator(Delta, OperatorTimes(Create(LocalSpace('N.K', '')), Destroy(LocalSpace('N.K', ''))))))), SPre(OperatorPlus(ScalarTimesOperator(chi, OperatorTimes(Create(LocalSpace('N.K', '')), Create(LocalSpace('N.K', '')), Destroy(LocalSpace('N.K', '')), Destroy(LocalSpace('N.K', '')))), ScalarTimesOperator(Delta, OperatorTimes(Create(LocalSpace('N.K', '')), Destroy(LocalSpace('N.K', '')))))))), SuperOperatorTimes(SPre(OperatorPlus(ScalarTimesOperator(beta*exp(I*phi)*cos(theta), IdentityOperator), ScalarTimesOperator(-sqrt(kappa)*exp(I*phi)*sin(theta), Destroy(LocalSpace('N.K', ''))))), SPost(OperatorPlus(ScalarTimesOperator(exp(-I*phi)*cos(theta)*conjugate(beta), IdentityOperator), ScalarTimesOperator(-exp(-I*phi)*sin(theta)*conjugate(sqrt(kappa)), Create(LocalSpace('N.K', '')))))), SuperOperatorTimes(SPre(OperatorPlus(ScalarTimesOperator(beta*sin(theta), IdentityOperator), ScalarTimesOperator(sqrt(kappa)*cos(theta), Destroy(LocalSpace('N.K', ''))))), SPost(OperatorPlus(ScalarTimesOperator(sin(theta)*conjugate(beta), IdentityOperator), ScalarTimesOperator(cos(theta)*conjugate(sqrt(kappa)), Create(LocalSpace('N.K', '')))))), SuperOperatorTimes(SPre(ScalarTimesOperator(sqrt(kappa), Destroy(LocalSpace('N.K', '')))), SPost(ScalarTimesOperator(conjugate(sqrt(kappa)), Create(LocalSpace('N.K', ''))))))"
       ]
      }
     ],
     "prompt_number": 5
    },
    {
     "cell_type": "code",
     "collapsed": false,
     "input": [
      "nslh.symbolic_liouvillian().expand()"
     ],
     "language": "python",
     "metadata": {},
     "outputs": [
      {
       "latex": [
        "$i \\chi {\\rm spost}\\left[{a_{{{\\rm N.K}}}^\\dagger} {a_{{{\\rm N.K}}}^\\dagger} {a_{{{\\rm N.K}}}} {a_{{{\\rm N.K}}}}\\right] + \\left(i \\Delta - \\frac{\\sqrt{\\kappa} \\overline{\\sqrt{\\kappa}}}{2} \\sin^{2}{\\left (\\theta \\right )} - \\frac{\\sqrt{\\kappa} \\overline{\\sqrt{\\kappa}}}{2} \\cos^{2}{\\left (\\theta \\right )} - \\frac{\\sqrt{\\kappa} \\overline{\\sqrt{\\kappa}}}{2}\\right) {\\rm spost}\\left[{a_{{{\\rm N.K}}}^\\dagger} {a_{{{\\rm N.K}}}}\\right] - i \\chi {\\rm spre}\\left[{a_{{{\\rm N.K}}}^\\dagger} {a_{{{\\rm N.K}}}^\\dagger} {a_{{{\\rm N.K}}}} {a_{{{\\rm N.K}}}}\\right] - \\left(i \\Delta + \\frac{\\sqrt{\\kappa} \\overline{\\sqrt{\\kappa}}}{2} \\sin^{2}{\\left (\\theta \\right )} + \\frac{\\sqrt{\\kappa} \\overline{\\sqrt{\\kappa}}}{2} \\cos^{2}{\\left (\\theta \\right )} + \\frac{\\sqrt{\\kappa} \\overline{\\sqrt{\\kappa}}}{2}\\right) {\\rm spre}\\left[{a_{{{\\rm N.K}}}^\\dagger} {a_{{{\\rm N.K}}}}\\right] + \\left(\\sqrt{\\kappa} \\sin^{2}{\\left (\\theta \\right )} \\overline{\\sqrt{\\kappa}} + \\sqrt{\\kappa} \\cos^{2}{\\left (\\theta \\right )} \\overline{\\sqrt{\\kappa}} + \\sqrt{\\kappa} \\overline{\\sqrt{\\kappa}}\\right) {\\rm spre}\\left[{a_{{{\\rm N.K}}}}\\right] {\\rm spost}\\left[{a_{{{\\rm N.K}}}^\\dagger}\\right]$"
       ],
       "metadata": {},
       "output_type": "pyout",
       "prompt_number": 6,
       "text": [
        "SuperOperatorPlus(ScalarTimesSuperOperator(I*chi, SPost(OperatorTimes(Create(LocalSpace('N.K', '')), Create(LocalSpace('N.K', '')), Destroy(LocalSpace('N.K', '')), Destroy(LocalSpace('N.K', ''))))), ScalarTimesSuperOperator(I*Delta - sqrt(kappa)*sin(theta)**2*conjugate(sqrt(kappa))/2 - sqrt(kappa)*cos(theta)**2*conjugate(sqrt(kappa))/2 - sqrt(kappa)*conjugate(sqrt(kappa))/2, SPost(OperatorTimes(Create(LocalSpace('N.K', '')), Destroy(LocalSpace('N.K', ''))))), ScalarTimesSuperOperator(-I*chi, SPre(OperatorTimes(Create(LocalSpace('N.K', '')), Create(LocalSpace('N.K', '')), Destroy(LocalSpace('N.K', '')), Destroy(LocalSpace('N.K', ''))))), ScalarTimesSuperOperator(-I*Delta - sqrt(kappa)*sin(theta)**2*conjugate(sqrt(kappa))/2 - sqrt(kappa)*cos(theta)**2*conjugate(sqrt(kappa))/2 - sqrt(kappa)*conjugate(sqrt(kappa))/2, SPre(OperatorTimes(Create(LocalSpace('N.K', '')), Destroy(LocalSpace('N.K', ''))))), ScalarTimesSuperOperator(sqrt(kappa)*sin(theta)**2*conjugate(sqrt(kappa)) + sqrt(kappa)*cos(theta)**2*conjugate(sqrt(kappa)) + sqrt(kappa)*conjugate(sqrt(kappa)), SuperOperatorTimes(SPre(Destroy(LocalSpace('N.K', ''))), SPost(Create(LocalSpace('N.K', ''))))))"
       ]
      }
     ],
     "prompt_number": 6
    },
    {
     "cell_type": "code",
     "collapsed": false,
     "input": [
      "import qnet.algebra.super_operator_algebra\n",
      "reload(qnet.algebra.super_operator_algebra)\n",
      "from qnet.algebra.super_operator_algebra import liouvillian_normal_form\n",
      "(nslh.symbolic_liouvillian())"
     ],
     "language": "python",
     "metadata": {},
     "outputs": [
      {
       "latex": [
        "$- \\frac{1}{2} \\left({\\rm spost}\\left[ \\sin{\\left (\\theta \\right )} \\overline{\\beta} +  \\cos{\\left (\\theta \\right )} \\overline{\\sqrt{\\kappa}} {a_{{{\\rm N.K}}}^\\dagger} \\left( \\beta \\sin{\\left (\\theta \\right )} +  \\sqrt{\\kappa} \\cos{\\left (\\theta \\right )} {a_{{{\\rm N.K}}}}\\right) \\right] + {\\rm spre}\\left[ \\sin{\\left (\\theta \\right )} \\overline{\\beta} +  \\cos{\\left (\\theta \\right )} \\overline{\\sqrt{\\kappa}} {a_{{{\\rm N.K}}}^\\dagger} \\left( \\beta \\sin{\\left (\\theta \\right )} +  \\sqrt{\\kappa} \\cos{\\left (\\theta \\right )} {a_{{{\\rm N.K}}}}\\right) \\right]\\right) - \\frac{1}{2} \\left({\\rm spost}\\left[ e^{- i \\phi} \\cos{\\left (\\theta \\right )} \\overline{\\beta} -  e^{- i \\phi} \\sin{\\left (\\theta \\right )} \\overline{\\sqrt{\\kappa}} {a_{{{\\rm N.K}}}^\\dagger} \\left( \\beta e^{i \\phi} \\cos{\\left (\\theta \\right )} -  \\sqrt{\\kappa} e^{i \\phi} \\sin{\\left (\\theta \\right )} {a_{{{\\rm N.K}}}}\\right) \\right] + {\\rm spre}\\left[ e^{- i \\phi} \\cos{\\left (\\theta \\right )} \\overline{\\beta} -  e^{- i \\phi} \\sin{\\left (\\theta \\right )} \\overline{\\sqrt{\\kappa}} {a_{{{\\rm N.K}}}^\\dagger} \\left( \\beta e^{i \\phi} \\cos{\\left (\\theta \\right )} -  \\sqrt{\\kappa} e^{i \\phi} \\sin{\\left (\\theta \\right )} {a_{{{\\rm N.K}}}}\\right) \\right]\\right) - \\frac{1}{2} \\left({\\rm spost}\\left[ \\sqrt{\\kappa} \\overline{\\sqrt{\\kappa}} {a_{{{\\rm N.K}}}^\\dagger} {a_{{{\\rm N.K}}}}\\right] + {\\rm spre}\\left[ \\sqrt{\\kappa} \\overline{\\sqrt{\\kappa}} {a_{{{\\rm N.K}}}^\\dagger} {a_{{{\\rm N.K}}}}\\right]\\right) - i \\left((-1) {\\rm spost}\\left[ \\chi {a_{{{\\rm N.K}}}^\\dagger} {a_{{{\\rm N.K}}}^\\dagger} {a_{{{\\rm N.K}}}} {a_{{{\\rm N.K}}}} +  \\Delta {a_{{{\\rm N.K}}}^\\dagger} {a_{{{\\rm N.K}}}}\\right] + {\\rm spre}\\left[ \\chi {a_{{{\\rm N.K}}}^\\dagger} {a_{{{\\rm N.K}}}^\\dagger} {a_{{{\\rm N.K}}}} {a_{{{\\rm N.K}}}} +  \\Delta {a_{{{\\rm N.K}}}^\\dagger} {a_{{{\\rm N.K}}}}\\right]\\right) + {\\rm spre}\\left[ \\beta e^{i \\phi} \\cos{\\left (\\theta \\right )} -  \\sqrt{\\kappa} e^{i \\phi} \\sin{\\left (\\theta \\right )} {a_{{{\\rm N.K}}}}\\right] {\\rm spost}\\left[ e^{- i \\phi} \\cos{\\left (\\theta \\right )} \\overline{\\beta} -  e^{- i \\phi} \\sin{\\left (\\theta \\right )} \\overline{\\sqrt{\\kappa}} {a_{{{\\rm N.K}}}^\\dagger}\\right] + {\\rm spre}\\left[ \\beta \\sin{\\left (\\theta \\right )} +  \\sqrt{\\kappa} \\cos{\\left (\\theta \\right )} {a_{{{\\rm N.K}}}}\\right] {\\rm spost}\\left[ \\sin{\\left (\\theta \\right )} \\overline{\\beta} +  \\cos{\\left (\\theta \\right )} \\overline{\\sqrt{\\kappa}} {a_{{{\\rm N.K}}}^\\dagger}\\right] + {\\rm spre}\\left[ \\sqrt{\\kappa} {a_{{{\\rm N.K}}}}\\right] {\\rm spost}\\left[ \\overline{\\sqrt{\\kappa}} {a_{{{\\rm N.K}}}^\\dagger}\\right]$"
       ],
       "metadata": {},
       "output_type": "pyout",
       "prompt_number": 10,
       "text": [
        "SuperOperatorPlus(ScalarTimesSuperOperator(-1/2, SuperOperatorPlus(SPost(OperatorTimes(OperatorPlus(ScalarTimesOperator(sin(theta)*conjugate(beta), IdentityOperator), ScalarTimesOperator(cos(theta)*conjugate(sqrt(kappa)), Create(LocalSpace('N.K', '')))), OperatorPlus(ScalarTimesOperator(beta*sin(theta), IdentityOperator), ScalarTimesOperator(sqrt(kappa)*cos(theta), Destroy(LocalSpace('N.K', '')))))), SPre(OperatorTimes(OperatorPlus(ScalarTimesOperator(sin(theta)*conjugate(beta), IdentityOperator), ScalarTimesOperator(cos(theta)*conjugate(sqrt(kappa)), Create(LocalSpace('N.K', '')))), OperatorPlus(ScalarTimesOperator(beta*sin(theta), IdentityOperator), ScalarTimesOperator(sqrt(kappa)*cos(theta), Destroy(LocalSpace('N.K', '')))))))), ScalarTimesSuperOperator(-1/2, SuperOperatorPlus(SPost(OperatorTimes(OperatorPlus(ScalarTimesOperator(exp(-I*phi)*cos(theta)*conjugate(beta), IdentityOperator), ScalarTimesOperator(-exp(-I*phi)*sin(theta)*conjugate(sqrt(kappa)), Create(LocalSpace('N.K', '')))), OperatorPlus(ScalarTimesOperator(beta*exp(I*phi)*cos(theta), IdentityOperator), ScalarTimesOperator(-sqrt(kappa)*exp(I*phi)*sin(theta), Destroy(LocalSpace('N.K', '')))))), SPre(OperatorTimes(OperatorPlus(ScalarTimesOperator(exp(-I*phi)*cos(theta)*conjugate(beta), IdentityOperator), ScalarTimesOperator(-exp(-I*phi)*sin(theta)*conjugate(sqrt(kappa)), Create(LocalSpace('N.K', '')))), OperatorPlus(ScalarTimesOperator(beta*exp(I*phi)*cos(theta), IdentityOperator), ScalarTimesOperator(-sqrt(kappa)*exp(I*phi)*sin(theta), Destroy(LocalSpace('N.K', '')))))))), ScalarTimesSuperOperator(-1/2, SuperOperatorPlus(SPost(ScalarTimesOperator(sqrt(kappa)*conjugate(sqrt(kappa)), OperatorTimes(Create(LocalSpace('N.K', '')), Destroy(LocalSpace('N.K', ''))))), SPre(ScalarTimesOperator(sqrt(kappa)*conjugate(sqrt(kappa)), OperatorTimes(Create(LocalSpace('N.K', '')), Destroy(LocalSpace('N.K', ''))))))), ScalarTimesSuperOperator(-I, SuperOperatorPlus(ScalarTimesSuperOperator(-1, SPost(OperatorPlus(ScalarTimesOperator(chi, OperatorTimes(Create(LocalSpace('N.K', '')), Create(LocalSpace('N.K', '')), Destroy(LocalSpace('N.K', '')), Destroy(LocalSpace('N.K', '')))), ScalarTimesOperator(Delta, OperatorTimes(Create(LocalSpace('N.K', '')), Destroy(LocalSpace('N.K', ''))))))), SPre(OperatorPlus(ScalarTimesOperator(chi, OperatorTimes(Create(LocalSpace('N.K', '')), Create(LocalSpace('N.K', '')), Destroy(LocalSpace('N.K', '')), Destroy(LocalSpace('N.K', '')))), ScalarTimesOperator(Delta, OperatorTimes(Create(LocalSpace('N.K', '')), Destroy(LocalSpace('N.K', '')))))))), SuperOperatorTimes(SPre(OperatorPlus(ScalarTimesOperator(beta*exp(I*phi)*cos(theta), IdentityOperator), ScalarTimesOperator(-sqrt(kappa)*exp(I*phi)*sin(theta), Destroy(LocalSpace('N.K', ''))))), SPost(OperatorPlus(ScalarTimesOperator(exp(-I*phi)*cos(theta)*conjugate(beta), IdentityOperator), ScalarTimesOperator(-exp(-I*phi)*sin(theta)*conjugate(sqrt(kappa)), Create(LocalSpace('N.K', '')))))), SuperOperatorTimes(SPre(OperatorPlus(ScalarTimesOperator(beta*sin(theta), IdentityOperator), ScalarTimesOperator(sqrt(kappa)*cos(theta), Destroy(LocalSpace('N.K', ''))))), SPost(OperatorPlus(ScalarTimesOperator(sin(theta)*conjugate(beta), IdentityOperator), ScalarTimesOperator(cos(theta)*conjugate(sqrt(kappa)), Create(LocalSpace('N.K', '')))))), SuperOperatorTimes(SPre(ScalarTimesOperator(sqrt(kappa), Destroy(LocalSpace('N.K', '')))), SPost(ScalarTimesOperator(conjugate(sqrt(kappa)), Create(LocalSpace('N.K', ''))))))"
       ]
      }
     ],
     "prompt_number": 10
    },
    {
     "cell_type": "heading",
     "level": 4,
     "metadata": {},
     "source": [
      "The result for the PseudoNAND gate"
     ]
    },
    {
     "cell_type": "code",
     "collapsed": false,
     "input": [
      "H"
     ],
     "language": "python",
     "metadata": {},
     "outputs": [
      {
       "ename": "NameError",
       "evalue": "name 'H' is not defined",
       "output_type": "pyerr",
       "traceback": [
        "\u001b[0;31m---------------------------------------------------------------------------\u001b[0m\n\u001b[0;31mNameError\u001b[0m                                 Traceback (most recent call last)",
        "\u001b[0;32m<ipython-input-8-c8a8a19969fc>\u001b[0m in \u001b[0;36m<module>\u001b[0;34m()\u001b[0m\n\u001b[0;32m----> 1\u001b[0;31m \u001b[0mH\u001b[0m\u001b[0;34m\u001b[0m\u001b[0m\n\u001b[0m",
        "\u001b[0;31mNameError\u001b[0m: name 'H' is not defined"
       ]
      }
     ],
     "prompt_number": 8
    },
    {
     "cell_type": "code",
     "collapsed": false,
     "input": [
      "Ls[0]"
     ],
     "language": "python",
     "metadata": {},
     "outputs": [
      {
       "latex": [
        "$ \\sqrt{2} \\sqrt{\\kappa} {a_{{{\\rm N.K}}}}$"
       ],
       "metadata": {},
       "output_type": "pyout",
       "prompt_number": 10,
       "text": [
        "ScalarTimesOperator(2**(1/2)*kappa**(1/2), Destroy(LocalSpace('N.K', '')))"
       ]
      }
     ],
     "prompt_number": 10
    },
    {
     "cell_type": "heading",
     "level": 2,
     "metadata": {},
     "source": [
      "PseudoNAND latch"
     ]
    },
    {
     "cell_type": "markdown",
     "metadata": {},
     "source": [
      "The latch consists of two PseudoNAND gates, we can thus expect the minimal model to have 2 collapse/coupling operators."
     ]
    },
    {
     "cell_type": "code",
     "collapsed": false,
     "input": [
      "from qnet.circuit_components import pseudo_nand_latch_cc as latch\n",
      "L = latch.PseudoNANDLatch(\"L\")"
     ],
     "language": "python",
     "metadata": {},
     "outputs": [],
     "prompt_number": 32
    },
    {
     "cell_type": "code",
     "collapsed": false,
     "input": [
      "lslh = L.toSLH()"
     ],
     "language": "python",
     "metadata": {},
     "outputs": [],
     "prompt_number": 33
    },
    {
     "cell_type": "code",
     "collapsed": false,
     "input": [
      "LL = lslh.symbolic_liouvillian()"
     ],
     "language": "python",
     "metadata": {},
     "outputs": [],
     "prompt_number": 34
    },
    {
     "cell_type": "markdown",
     "metadata": {},
     "source": [
      "The symbolic liouvillian is very long! So we print it in 2 parts"
     ]
    },
    {
     "cell_type": "code",
     "collapsed": false,
     "input": [
      "sum(LL.expand().operands[:12])"
     ],
     "language": "python",
     "metadata": {},
     "outputs": [
      {
       "latex": [
        "$\\frac{1}{2} \\sqrt{2} \\beta \\sqrt{\\kappa} e^{\\mathbf{\\imath} \\phi} \\operatorname{cos}\\left(\\theta\\right) {\\rm spost}\\left[{a_{{{\\rm L.NAND1.K}}}^\\dagger}\\right] + \\frac{1}{2} \\sqrt{2} \\beta \\sqrt{\\kappa} e^{\\mathbf{\\imath} \\phi} \\operatorname{cos}\\left(\\theta\\right) {\\rm spost}\\left[{a_{{{\\rm L.NAND2.K}}}^\\dagger}\\right] - \\frac{\\sqrt{2} \\sqrt{\\kappa} \\operatorname{cos}\\left(\\theta\\right) \\overline{\\beta}}{2 e^{\\mathbf{\\imath} \\phi}} {\\rm spost}\\left[{a_{{{\\rm L.NAND1.K}}}}\\right] - \\frac{\\sqrt{2} \\sqrt{\\kappa} \\operatorname{cos}\\left(\\theta\\right) \\overline{\\beta}}{2 e^{\\mathbf{\\imath} \\phi}} {\\rm spost}\\left[{a_{{{\\rm L.NAND2.K}}}}\\right] + \\mathbf{\\imath} \\chi {\\rm spost}\\left[{a_{{{\\rm L.NAND1.K}}}^\\dagger} {a_{{{\\rm L.NAND1.K}}}^\\dagger} {a_{{{\\rm L.NAND1.K}}}} {a_{{{\\rm L.NAND1.K}}}}\\right] + \\left(\\mathbf{\\imath} \\Delta - \\frac{1}{2} \\kappa \\operatorname{sin}^{2}\\left(\\theta\\right) - \\frac{1}{2} \\kappa \\operatorname{cos}^{2}\\left(\\theta\\right) - \\frac{1}{2} \\kappa\\right) {\\rm spost}\\left[{a_{{{\\rm L.NAND1.K}}}^\\dagger} {a_{{{\\rm L.NAND1.K}}}}\\right] + \\left(\\frac{1}{4} \\sqrt{2} \\kappa e^{\\mathbf{\\imath} \\phi} \\operatorname{sin}\\left(\\theta\\right) + \\frac{\\sqrt{2} \\kappa \\operatorname{sin}\\left(\\theta\\right)}{4 e^{\\mathbf{\\imath} \\phi}} - \\mathbf{\\imath} \\left(- \\frac{1}{4} \\sqrt{2} \\mathbf{\\imath} \\kappa e^{\\mathbf{\\imath} \\phi} \\operatorname{sin}\\left(\\theta\\right) + \\frac{\\sqrt{2} \\mathbf{\\imath} \\kappa \\operatorname{sin}\\left(\\theta\\right)}{4 e^{\\mathbf{\\imath} \\phi}}\\right)\\right) {\\rm spost}\\left[{a_{{{\\rm L.NAND1.K}}}^\\dagger} {a_{{{\\rm L.NAND2.K}}}}\\right] + \\mathbf{\\imath} \\chi {\\rm spost}\\left[{a_{{{\\rm L.NAND2.K}}}^\\dagger} {a_{{{\\rm L.NAND2.K}}}^\\dagger} {a_{{{\\rm L.NAND2.K}}}} {a_{{{\\rm L.NAND2.K}}}}\\right] + \\left(\\mathbf{\\imath} \\Delta - \\frac{1}{2} \\kappa \\operatorname{sin}^{2}\\left(\\theta\\right) - \\frac{1}{2} \\kappa \\operatorname{cos}^{2}\\left(\\theta\\right) - \\frac{1}{2} \\kappa\\right) {\\rm spost}\\left[{a_{{{\\rm L.NAND2.K}}}^\\dagger} {a_{{{\\rm L.NAND2.K}}}}\\right] + \\left(\\frac{1}{4} \\sqrt{2} \\kappa e^{\\mathbf{\\imath} \\phi} \\operatorname{sin}\\left(\\theta\\right) + \\frac{\\sqrt{2} \\kappa \\operatorname{sin}\\left(\\theta\\right)}{4 e^{\\mathbf{\\imath} \\phi}} - \\mathbf{\\imath} \\left(- \\frac{1}{4} \\sqrt{2} \\mathbf{\\imath} \\kappa e^{\\mathbf{\\imath} \\phi} \\operatorname{sin}\\left(\\theta\\right) + \\frac{\\sqrt{2} \\mathbf{\\imath} \\kappa \\operatorname{sin}\\left(\\theta\\right)}{4 e^{\\mathbf{\\imath} \\phi}}\\right)\\right) {\\rm spost}\\left[{a_{{{\\rm L.NAND1.K}}}} {a_{{{\\rm L.NAND2.K}}}^\\dagger}\\right] - \\frac{1}{2} \\sqrt{2} \\beta \\sqrt{\\kappa} e^{\\mathbf{\\imath} \\phi} \\operatorname{cos}\\left(\\theta\\right) {\\rm spre}\\left[{a_{{{\\rm L.NAND1.K}}}^\\dagger}\\right] - \\frac{1}{2} \\sqrt{2} \\beta \\sqrt{\\kappa} e^{\\mathbf{\\imath} \\phi} \\operatorname{cos}\\left(\\theta\\right) {\\rm spre}\\left[{a_{{{\\rm L.NAND2.K}}}^\\dagger}\\right]$"
       ],
       "metadata": {},
       "output_type": "pyout",
       "prompt_number": 35,
       "text": [
        "SuperOperatorPlus(ScalarTimesSuperOperator(2**(1/2)*beta*kappa**(1/2)*exp(I*phi)*cos(theta)/2, SPost(Create(LocalSpace('L.NAND1.K', '')))), ScalarTimesSuperOperator(2**(1/2)*beta*kappa**(1/2)*exp(I*phi)*cos(theta)/2, SPost(Create(LocalSpace('L.NAND2.K', '')))), ScalarTimesSuperOperator(-2**(1/2)*kappa**(1/2)*exp(-I*phi)*cos(theta)*conjugate(beta)/2, SPost(Destroy(LocalSpace('L.NAND1.K', '')))), ScalarTimesSuperOperator(-2**(1/2)*kappa**(1/2)*exp(-I*phi)*cos(theta)*conjugate(beta)/2, SPost(Destroy(LocalSpace('L.NAND2.K', '')))), ScalarTimesSuperOperator(I*chi, SPost(OperatorTimes(Create(LocalSpace('L.NAND1.K', '')), Create(LocalSpace('L.NAND1.K', '')), Destroy(LocalSpace('L.NAND1.K', '')), Destroy(LocalSpace('L.NAND1.K', ''))))), ScalarTimesSuperOperator(I*Delta - kappa*sin(theta)**2/2 - kappa*cos(theta)**2/2 - kappa/2, SPost(OperatorTimes(Create(LocalSpace('L.NAND1.K', '')), Destroy(LocalSpace('L.NAND1.K', ''))))), ScalarTimesSuperOperator(2**(1/2)*kappa*exp(I*phi)*sin(theta)/4 + 2**(1/2)*kappa*exp(-I*phi)*sin(theta)/4 - I*(-2**(1/2)*I*kappa*exp(I*phi)*sin(theta)/4 + 2**(1/2)*I*kappa*exp(-I*phi)*sin(theta)/4), SPost(OperatorTimes(Create(LocalSpace('L.NAND1.K', '')), Destroy(LocalSpace('L.NAND2.K', ''))))), ScalarTimesSuperOperator(I*chi, SPost(OperatorTimes(Create(LocalSpace('L.NAND2.K', '')), Create(LocalSpace('L.NAND2.K', '')), Destroy(LocalSpace('L.NAND2.K', '')), Destroy(LocalSpace('L.NAND2.K', ''))))), ScalarTimesSuperOperator(I*Delta - kappa*sin(theta)**2/2 - kappa*cos(theta)**2/2 - kappa/2, SPost(OperatorTimes(Create(LocalSpace('L.NAND2.K', '')), Destroy(LocalSpace('L.NAND2.K', ''))))), ScalarTimesSuperOperator(2**(1/2)*kappa*exp(I*phi)*sin(theta)/4 + 2**(1/2)*kappa*exp(-I*phi)*sin(theta)/4 - I*(-2**(1/2)*I*kappa*exp(I*phi)*sin(theta)/4 + 2**(1/2)*I*kappa*exp(-I*phi)*sin(theta)/4), SPost(OperatorTimes(Destroy(LocalSpace('L.NAND1.K', '')), Create(LocalSpace('L.NAND2.K', ''))))), ScalarTimesSuperOperator(-2**(1/2)*beta*kappa**(1/2)*exp(I*phi)*cos(theta)/2, SPre(Create(LocalSpace('L.NAND1.K', '')))), ScalarTimesSuperOperator(-2**(1/2)*beta*kappa**(1/2)*exp(I*phi)*cos(theta)/2, SPre(Create(LocalSpace('L.NAND2.K', '')))))"
       ]
      }
     ],
     "prompt_number": 35
    },
    {
     "cell_type": "code",
     "collapsed": false,
     "input": [
      "sum(LL.expand().operands[12:])"
     ],
     "language": "python",
     "metadata": {},
     "outputs": [
      {
       "latex": [
        "$\\frac{\\sqrt{2} \\sqrt{\\kappa} \\operatorname{cos}\\left(\\theta\\right) \\overline{\\beta}}{2 e^{\\mathbf{\\imath} \\phi}} {\\rm spre}\\left[{a_{{{\\rm L.NAND1.K}}}}\\right] + \\frac{\\sqrt{2} \\sqrt{\\kappa} \\operatorname{cos}\\left(\\theta\\right) \\overline{\\beta}}{2 e^{\\mathbf{\\imath} \\phi}} {\\rm spre}\\left[{a_{{{\\rm L.NAND2.K}}}}\\right] - \\mathbf{\\imath} \\chi {\\rm spre}\\left[{a_{{{\\rm L.NAND1.K}}}^\\dagger} {a_{{{\\rm L.NAND1.K}}}^\\dagger} {a_{{{\\rm L.NAND1.K}}}} {a_{{{\\rm L.NAND1.K}}}}\\right] - \\left(\\mathbf{\\imath} \\Delta + \\frac{1}{2} \\kappa \\operatorname{sin}^{2}\\left(\\theta\\right) + \\frac{1}{2} \\kappa \\operatorname{cos}^{2}\\left(\\theta\\right) + \\frac{1}{2} \\kappa\\right) {\\rm spre}\\left[{a_{{{\\rm L.NAND1.K}}}^\\dagger} {a_{{{\\rm L.NAND1.K}}}}\\right] + \\left(\\frac{1}{4} \\sqrt{2} \\kappa e^{\\mathbf{\\imath} \\phi} \\operatorname{sin}\\left(\\theta\\right) + \\frac{\\sqrt{2} \\kappa \\operatorname{sin}\\left(\\theta\\right)}{4 e^{\\mathbf{\\imath} \\phi}} - \\mathbf{\\imath} \\left(\\frac{1}{4} \\sqrt{2} \\mathbf{\\imath} \\kappa e^{\\mathbf{\\imath} \\phi} \\operatorname{sin}\\left(\\theta\\right) - \\frac{\\sqrt{2} \\mathbf{\\imath} \\kappa \\operatorname{sin}\\left(\\theta\\right)}{4 e^{\\mathbf{\\imath} \\phi}}\\right)\\right) {\\rm spre}\\left[{a_{{{\\rm L.NAND1.K}}}^\\dagger} {a_{{{\\rm L.NAND2.K}}}}\\right] - \\mathbf{\\imath} \\chi {\\rm spre}\\left[{a_{{{\\rm L.NAND2.K}}}^\\dagger} {a_{{{\\rm L.NAND2.K}}}^\\dagger} {a_{{{\\rm L.NAND2.K}}}} {a_{{{\\rm L.NAND2.K}}}}\\right] - \\left(\\mathbf{\\imath} \\Delta + \\frac{1}{2} \\kappa \\operatorname{sin}^{2}\\left(\\theta\\right) + \\frac{1}{2} \\kappa \\operatorname{cos}^{2}\\left(\\theta\\right) + \\frac{1}{2} \\kappa\\right) {\\rm spre}\\left[{a_{{{\\rm L.NAND2.K}}}^\\dagger} {a_{{{\\rm L.NAND2.K}}}}\\right] + \\left(\\frac{1}{4} \\sqrt{2} \\kappa e^{\\mathbf{\\imath} \\phi} \\operatorname{sin}\\left(\\theta\\right) + \\frac{\\sqrt{2} \\kappa \\operatorname{sin}\\left(\\theta\\right)}{4 e^{\\mathbf{\\imath} \\phi}} - \\mathbf{\\imath} \\left(\\frac{1}{4} \\sqrt{2} \\mathbf{\\imath} \\kappa e^{\\mathbf{\\imath} \\phi} \\operatorname{sin}\\left(\\theta\\right) - \\frac{\\sqrt{2} \\mathbf{\\imath} \\kappa \\operatorname{sin}\\left(\\theta\\right)}{4 e^{\\mathbf{\\imath} \\phi}}\\right)\\right) {\\rm spre}\\left[{a_{{{\\rm L.NAND1.K}}}} {a_{{{\\rm L.NAND2.K}}}^\\dagger}\\right] + \\left(\\kappa \\operatorname{sin}^{2}\\left(\\theta\\right) + \\kappa \\operatorname{cos}^{2}\\left(\\theta\\right) + \\kappa\\right) {\\rm spre}\\left[{a_{{{\\rm L.NAND1.K}}}}\\right] {\\rm spost}\\left[{a_{{{\\rm L.NAND1.K}}}^\\dagger}\\right] - \\left(\\frac{1}{2} \\sqrt{2} \\kappa e^{\\mathbf{\\imath} \\phi} \\operatorname{sin}\\left(\\theta\\right) + \\frac{\\sqrt{2} \\kappa \\operatorname{sin}\\left(\\theta\\right)}{2 e^{\\mathbf{\\imath} \\phi}}\\right) {\\rm spre}\\left[{a_{{{\\rm L.NAND1.K}}}}\\right] {\\rm spost}\\left[{a_{{{\\rm L.NAND2.K}}}^\\dagger}\\right] - \\left(\\frac{1}{2} \\sqrt{2} \\kappa e^{\\mathbf{\\imath} \\phi} \\operatorname{sin}\\left(\\theta\\right) + \\frac{\\sqrt{2} \\kappa \\operatorname{sin}\\left(\\theta\\right)}{2 e^{\\mathbf{\\imath} \\phi}}\\right) {\\rm spre}\\left[{a_{{{\\rm L.NAND2.K}}}}\\right] {\\rm spost}\\left[{a_{{{\\rm L.NAND1.K}}}^\\dagger}\\right] + \\left(\\kappa \\operatorname{sin}^{2}\\left(\\theta\\right) + \\kappa \\operatorname{cos}^{2}\\left(\\theta\\right) + \\kappa\\right) {\\rm spre}\\left[{a_{{{\\rm L.NAND2.K}}}}\\right] {\\rm spost}\\left[{a_{{{\\rm L.NAND2.K}}}^\\dagger}\\right]$"
       ],
       "metadata": {},
       "output_type": "pyout",
       "prompt_number": 17,
       "text": [
        "SuperOperatorPlus(ScalarTimesSuperOperator(2**(1/2)*kappa**(1/2)*exp(-I*phi)*cos(theta)*conjugate(beta)/2, SPre(Destroy(LocalSpace('L.NAND1.K', '')))), ScalarTimesSuperOperator(2**(1/2)*kappa**(1/2)*exp(-I*phi)*cos(theta)*conjugate(beta)/2, SPre(Destroy(LocalSpace('L.NAND2.K', '')))), ScalarTimesSuperOperator(-I*chi, SPre(OperatorTimes(Create(LocalSpace('L.NAND1.K', '')), Create(LocalSpace('L.NAND1.K', '')), Destroy(LocalSpace('L.NAND1.K', '')), Destroy(LocalSpace('L.NAND1.K', ''))))), ScalarTimesSuperOperator(-I*Delta - kappa*sin(theta)**2/2 - kappa*cos(theta)**2/2 - kappa/2, SPre(OperatorTimes(Create(LocalSpace('L.NAND1.K', '')), Destroy(LocalSpace('L.NAND1.K', ''))))), ScalarTimesSuperOperator(2**(1/2)*kappa*exp(I*phi)*sin(theta)/4 + 2**(1/2)*kappa*exp(-I*phi)*sin(theta)/4 - I*(2**(1/2)*I*kappa*exp(I*phi)*sin(theta)/4 - 2**(1/2)*I*kappa*exp(-I*phi)*sin(theta)/4), SPre(OperatorTimes(Create(LocalSpace('L.NAND1.K', '')), Destroy(LocalSpace('L.NAND2.K', ''))))), ScalarTimesSuperOperator(-I*chi, SPre(OperatorTimes(Create(LocalSpace('L.NAND2.K', '')), Create(LocalSpace('L.NAND2.K', '')), Destroy(LocalSpace('L.NAND2.K', '')), Destroy(LocalSpace('L.NAND2.K', ''))))), ScalarTimesSuperOperator(-I*Delta - kappa*sin(theta)**2/2 - kappa*cos(theta)**2/2 - kappa/2, SPre(OperatorTimes(Create(LocalSpace('L.NAND2.K', '')), Destroy(LocalSpace('L.NAND2.K', ''))))), ScalarTimesSuperOperator(2**(1/2)*kappa*exp(I*phi)*sin(theta)/4 + 2**(1/2)*kappa*exp(-I*phi)*sin(theta)/4 - I*(2**(1/2)*I*kappa*exp(I*phi)*sin(theta)/4 - 2**(1/2)*I*kappa*exp(-I*phi)*sin(theta)/4), SPre(OperatorTimes(Destroy(LocalSpace('L.NAND1.K', '')), Create(LocalSpace('L.NAND2.K', ''))))), ScalarTimesSuperOperator(kappa*sin(theta)**2 + kappa*cos(theta)**2 + kappa, SuperOperatorTimes(SPre(Destroy(LocalSpace('L.NAND1.K', ''))), SPost(Create(LocalSpace('L.NAND1.K', ''))))), ScalarTimesSuperOperator(-2**(1/2)*kappa*exp(I*phi)*sin(theta)/2 - 2**(1/2)*kappa*exp(-I*phi)*sin(theta)/2, SuperOperatorTimes(SPre(Destroy(LocalSpace('L.NAND1.K', ''))), SPost(Create(LocalSpace('L.NAND2.K', ''))))), ScalarTimesSuperOperator(-2**(1/2)*kappa*exp(I*phi)*sin(theta)/2 - 2**(1/2)*kappa*exp(-I*phi)*sin(theta)/2, SuperOperatorTimes(SPre(Destroy(LocalSpace('L.NAND2.K', ''))), SPost(Create(LocalSpace('L.NAND1.K', ''))))), ScalarTimesSuperOperator(kappa*sin(theta)**2 + kappa*cos(theta)**2 + kappa, SuperOperatorTimes(SPre(Destroy(LocalSpace('L.NAND2.K', ''))), SPost(Create(LocalSpace('L.NAND2.K', ''))))))"
       ]
      }
     ],
     "prompt_number": 17
    },
    {
     "cell_type": "heading",
     "level": 3,
     "metadata": {},
     "source": [
      "Compute normal form"
     ]
    },
    {
     "cell_type": "code",
     "collapsed": false,
     "input": [
      "Hl, Lsl = liouvillian_normal_form(LL)"
     ],
     "language": "python",
     "metadata": {},
     "outputs": [
      {
       "output_type": "stream",
       "stream": "stdout",
       "text": [
        "Warning, potentially malformed Liouvillian 2**(1/2)*beta*kappa**(1/2)*exp(I*phi)*cos(theta)/2 spost((a_L.NAND1.K)^*) + 2**(1/2)*beta*kappa**(1/2)*exp(I*phi)*cos(theta)/2 spost((a_L.NAND2.K)^*) - 2**(1/2)*kappa**(1/2)*exp(-I*phi)*cos(theta)*conjugate(beta)/2 spost(a_L.NAND1.K) - 2**(1/2)*kappa**(1/2)*exp(-I*phi)*cos(theta)*conjugate(beta)/2 spost(a_L.NAND2.K) + I*chi spost((a_L.NAND1.K)^* (a_L.NAND1.K)^* a_L.NAND1.K a_L.NAND1.K) + (I*Delta - kappa*sin(theta)**2/2 - kappa*cos(theta)**2/2 - kappa/2) spost((a_L.NAND1.K)^* a_L.NAND1.K) + (2**(1/2)*kappa*exp(I*phi)*sin(theta)/4 + 2**(1/2)*kappa*exp(-I*phi)*sin(theta)/4 - I*(-2**(1/2)*I*kappa*exp(I*phi)*sin(theta)/4 + 2**(1/2)*I*kappa*exp(-I*phi)*sin(theta)/4)) spost((a_L.NAND1.K)^* a_L.NAND2.K) + I*chi spost((a_L.NAND2.K)^* (a_L.NAND2.K)^* a_L.NAND2.K a_L.NAND2.K) + (I*Delta - kappa*sin(theta)**2/2 - kappa*cos(theta)**2/2 - kappa/2) spost((a_L.NAND2.K)^* a_L.NAND2.K) + (2**(1/2)*kappa*exp(I*phi)*sin(theta)/4 + 2**(1/2)*kappa*exp(-I*phi)*sin(theta)/4 - I*(-2**(1/2)*I*kappa*exp(I*phi)*sin(theta)/4 + 2**(1/2)*I*kappa*exp(-I*phi)*sin(theta)/4)) spost(a_L.NAND1.K (a_L.NAND2.K)^*) - 2**(1/2)*beta*kappa**(1/2)*exp(I*phi)*cos(theta)/2 spre((a_L.NAND1.K)^*) - 2**(1/2)*beta*kappa**(1/2)*exp(I*phi)*cos(theta)/2 spre((a_L.NAND2.K)^*) + 2**(1/2)*kappa**(1/2)*exp(-I*phi)*cos(theta)*conjugate(beta)/2 spre(a_L.NAND1.K) + 2**(1/2)*kappa**(1/2)*exp(-I*phi)*cos(theta)*conjugate(beta)/2 spre(a_L.NAND2.K) - I*chi spre((a_L.NAND1.K)^* (a_L.NAND1.K)^* a_L.NAND1.K a_L.NAND1.K) - (I*Delta + kappa*sin(theta)**2/2 + kappa*cos(theta)**2/2 + kappa/2) spre((a_L.NAND1.K)^* a_L.NAND1.K) + (2**(1/2)*kappa*exp(I*phi)*sin(theta)/4 + 2**(1/2)*kappa*exp(-I*phi)*sin(theta)/4 - I*(2**(1/2)*I*kappa*exp(I*phi)*sin(theta)/4 - 2**(1/2)*I*kappa*exp(-I*phi)*sin(theta)/4)) spre((a_L.NAND1.K)^* a_L.NAND2.K) - I*chi spre((a_L.NAND2.K)^* (a_L.NAND2.K)^* a_L.NAND2.K a_L.NAND2.K) - (I*Delta + kappa*sin(theta)**2/2 + kappa*cos(theta)**2/2 + kappa/2) spre((a_L.NAND2.K)^* a_L.NAND2.K) + (2**(1/2)*kappa*exp(I*phi)*sin(theta)/4 + 2**(1/2)*kappa*exp(-I*phi)*sin(theta)/4 - I*(2**(1/2)*I*kappa*exp(I*phi)*sin(theta)/4 - 2**(1/2)*I*kappa*exp(-I*phi)*sin(theta)/4)) spre(a_L.NAND1.K (a_L.NAND2.K)^*) + (kappa*sin(theta)**2 + kappa*cos(theta)**2 + kappa) spre(a_L.NAND1.K) spost((a_L.NAND1.K)^*) - (2**(1/2)*kappa*exp(I*phi)*sin(theta)/2 + 2**(1/2)*kappa*exp(-I*phi)*sin(theta)/2) spre(a_L.NAND1.K) spost((a_L.NAND2.K)^*) - (2**(1/2)*kappa*exp(I*phi)*sin(theta)/2 + 2**(1/2)*kappa*exp(-I*phi)*sin(theta)/2) spre(a_L.NAND2.K) spost((a_L.NAND1.K)^*) + (kappa*sin(theta)**2 + kappa*cos(theta)**2 + kappa) spre(a_L.NAND2.K) spost((a_L.NAND2.K)^*)\n"
       ]
      }
     ],
     "prompt_number": 18
    },
    {
     "cell_type": "code",
     "collapsed": false,
     "input": [
      "[display(o) for o in Hl.expand().operands]"
     ],
     "language": "python",
     "metadata": {},
     "outputs": [
      {
       "latex": [
        "$ - \\frac{1}{2} \\sqrt{2} \\mathbf{\\imath} \\beta \\sqrt{\\kappa} e^{\\mathbf{\\imath} \\phi} \\operatorname{cos}\\left(\\theta\\right) {a_{{{\\rm L.NAND1.K}}}^\\dagger}$"
       ],
       "metadata": {},
       "output_type": "display_data",
       "text": [
        "ScalarTimesOperator(-2**(1/2)*I*beta*kappa**(1/2)*exp(I*phi)*cos(theta)/2, Create(LocalSpace('L.NAND1.K', '')))"
       ]
      },
      {
       "latex": [
        "$ - \\frac{1}{2} \\sqrt{2} \\mathbf{\\imath} \\beta \\sqrt{\\kappa} e^{\\mathbf{\\imath} \\phi} \\operatorname{cos}\\left(\\theta\\right) {a_{{{\\rm L.NAND2.K}}}^\\dagger}$"
       ],
       "metadata": {},
       "output_type": "display_data",
       "text": [
        "ScalarTimesOperator(-2**(1/2)*I*beta*kappa**(1/2)*exp(I*phi)*cos(theta)/2, Create(LocalSpace('L.NAND2.K', '')))"
       ]
      },
      {
       "latex": [
        "$ \\frac{\\sqrt{2} \\mathbf{\\imath} \\sqrt{\\kappa} \\operatorname{cos}\\left(\\theta\\right) \\overline{\\beta}}{2 e^{\\mathbf{\\imath} \\phi}} {a_{{{\\rm L.NAND1.K}}}}$"
       ],
       "metadata": {},
       "output_type": "display_data",
       "text": [
        "ScalarTimesOperator(2**(1/2)*I*kappa**(1/2)*exp(-I*phi)*cos(theta)*conjugate(beta)/2, Destroy(LocalSpace('L.NAND1.K', '')))"
       ]
      },
      {
       "latex": [
        "$ \\frac{\\sqrt{2} \\mathbf{\\imath} \\sqrt{\\kappa} \\operatorname{cos}\\left(\\theta\\right) \\overline{\\beta}}{2 e^{\\mathbf{\\imath} \\phi}} {a_{{{\\rm L.NAND2.K}}}}$"
       ],
       "metadata": {},
       "output_type": "display_data",
       "text": [
        "ScalarTimesOperator(2**(1/2)*I*kappa**(1/2)*exp(-I*phi)*cos(theta)*conjugate(beta)/2, Destroy(LocalSpace('L.NAND2.K', '')))"
       ]
      },
      {
       "latex": [
        "$ \\chi {a_{{{\\rm L.NAND1.K}}}^\\dagger} {a_{{{\\rm L.NAND1.K}}}^\\dagger} {a_{{{\\rm L.NAND1.K}}}} {a_{{{\\rm L.NAND1.K}}}}$"
       ],
       "metadata": {},
       "output_type": "display_data",
       "text": [
        "ScalarTimesOperator(chi, OperatorTimes(Create(LocalSpace('L.NAND1.K', '')), Create(LocalSpace('L.NAND1.K', '')), Destroy(LocalSpace('L.NAND1.K', '')), Destroy(LocalSpace('L.NAND1.K', ''))))"
       ]
      },
      {
       "latex": [
        "$ \\mathbf{\\imath} \\left(- \\mathbf{\\imath} \\Delta - \\frac{1}{2} \\kappa \\operatorname{sin}^{2}\\left(\\theta\\right) - \\frac{1}{2} \\kappa \\operatorname{cos}^{2}\\left(\\theta\\right) - \\frac{1}{2} \\kappa + \\frac{1}{2} \\sqrt{2 \\kappa - \\frac{1}{2} \\sqrt{2} \\sqrt{\\left(1 + e^{- 2 \\mathbf{\\imath} \\phi}\\right)^{2}} e^{\\mathbf{\\imath} \\phi} \\lvert{\\kappa}\\rvert \\lvert{\\operatorname{sin}\\left(\\theta\\right)}\\rvert} \\sqrt{2 \\kappa - \\frac{\\sqrt{2} \\sqrt{\\left(e^{2 \\mathbf{\\imath} \\phi} + 1\\right)^{2}} \\lvert{\\kappa}\\rvert \\lvert{\\operatorname{sin}\\left(\\theta\\right)}\\rvert}{2 e^{\\mathbf{\\imath} \\phi}}} + \\frac{1}{2} \\sqrt{2 \\kappa + \\frac{1}{2} \\sqrt{2} \\sqrt{\\left(1 + e^{- 2 \\mathbf{\\imath} \\phi}\\right)^{2}} e^{\\mathbf{\\imath} \\phi} \\lvert{\\kappa}\\rvert \\lvert{\\operatorname{sin}\\left(\\theta\\right)}\\rvert} \\sqrt{2 \\kappa + \\frac{\\sqrt{2} \\sqrt{\\left(e^{2 \\mathbf{\\imath} \\phi} + 1\\right)^{2}} \\lvert{\\kappa}\\rvert \\lvert{\\operatorname{sin}\\left(\\theta\\right)}\\rvert}{2 e^{\\mathbf{\\imath} \\phi}}}\\right) {a_{{{\\rm L.NAND1.K}}}^\\dagger} {a_{{{\\rm L.NAND1.K}}}}$"
       ],
       "metadata": {},
       "output_type": "display_data",
       "text": [
        "ScalarTimesOperator(I*(-I*Delta - kappa*sin(theta)**2/2 - kappa*cos(theta)**2/2 - kappa/2 + (2*kappa - 2**(1/2)*((1 + exp(-2*I*phi))**2)**(1/2)*exp(I*phi)*Abs(kappa)*Abs(sin(theta))/2)**(1/2)*(2*kappa - 2**(1/2)*((exp(2*I*phi) + 1)**2)**(1/2)*exp(-I*phi)*Abs(kappa)*Abs(sin(theta))/2)**(1/2)/2 + (2*kappa + 2**(1/2)*((1 + exp(-2*I*phi))**2)**(1/2)*exp(I*phi)*Abs(kappa)*Abs(sin(theta))/2)**(1/2)*(2*kappa + 2**(1/2)*((exp(2*I*phi) + 1)**2)**(1/2)*exp(-I*phi)*Abs(kappa)*Abs(sin(theta))/2)**(1/2)/2), OperatorTimes(Create(LocalSpace('L.NAND1.K', '')), Destroy(LocalSpace('L.NAND1.K', ''))))"
       ]
      },
      {
       "latex": [
        "$ \\mathbf{\\imath} \\left(- \\frac{\\kappa \\sqrt{2 \\kappa - \\frac{1}{2} \\sqrt{2} \\sqrt{\\left(1 + e^{- 2 \\mathbf{\\imath} \\phi}\\right)^{2}} e^{\\mathbf{\\imath} \\phi} \\lvert{\\kappa}\\rvert \\lvert{\\operatorname{sin}\\left(\\theta\\right)}\\rvert} \\sqrt{2 \\kappa - \\frac{\\sqrt{2} \\sqrt{\\left(e^{2 \\mathbf{\\imath} \\phi} + 1\\right)^{2}} \\lvert{\\kappa}\\rvert \\lvert{\\operatorname{sin}\\left(\\theta\\right)}\\rvert}{2 e^{\\mathbf{\\imath} \\phi}}} \\left(- e^{2 \\mathbf{\\imath} \\phi} -1\\right) \\operatorname{sin}\\left(\\theta\\right)}{2 \\sqrt{e^{4 \\mathbf{\\imath} \\phi} + 2 e^{2 \\mathbf{\\imath} \\phi} + 1} \\lvert{\\kappa}\\rvert \\lvert{\\operatorname{sin}\\left(\\theta\\right)}\\rvert} + \\frac{\\kappa \\sqrt{2 \\kappa + \\frac{1}{2} \\sqrt{2} \\sqrt{\\left(1 + e^{- 2 \\mathbf{\\imath} \\phi}\\right)^{2}} e^{\\mathbf{\\imath} \\phi} \\lvert{\\kappa}\\rvert \\lvert{\\operatorname{sin}\\left(\\theta\\right)}\\rvert} \\sqrt{2 \\kappa + \\frac{\\sqrt{2} \\sqrt{\\left(e^{2 \\mathbf{\\imath} \\phi} + 1\\right)^{2}} \\lvert{\\kappa}\\rvert \\lvert{\\operatorname{sin}\\left(\\theta\\right)}\\rvert}{2 e^{\\mathbf{\\imath} \\phi}}} \\left(- e^{2 \\mathbf{\\imath} \\phi} -1\\right) \\operatorname{sin}\\left(\\theta\\right)}{2 \\sqrt{e^{4 \\mathbf{\\imath} \\phi} + 2 e^{2 \\mathbf{\\imath} \\phi} + 1} \\lvert{\\kappa}\\rvert \\lvert{\\operatorname{sin}\\left(\\theta\\right)}\\rvert} + \\frac{1}{4} \\sqrt{2} \\kappa e^{\\mathbf{\\imath} \\phi} \\operatorname{sin}\\left(\\theta\\right) + \\frac{\\sqrt{2} \\kappa \\operatorname{sin}\\left(\\theta\\right)}{4 e^{\\mathbf{\\imath} \\phi}} - \\mathbf{\\imath} \\left(\\frac{1}{4} \\sqrt{2} \\mathbf{\\imath} \\kappa e^{\\mathbf{\\imath} \\phi} \\operatorname{sin}\\left(\\theta\\right) - \\frac{\\sqrt{2} \\mathbf{\\imath} \\kappa \\operatorname{sin}\\left(\\theta\\right)}{4 e^{\\mathbf{\\imath} \\phi}}\\right)\\right) {a_{{{\\rm L.NAND1.K}}}^\\dagger} {a_{{{\\rm L.NAND2.K}}}}$"
       ],
       "metadata": {},
       "output_type": "display_data",
       "text": [
        "ScalarTimesOperator(I*(-kappa*(2*kappa - 2**(1/2)*((1 + exp(-2*I*phi))**2)**(1/2)*exp(I*phi)*Abs(kappa)*Abs(sin(theta))/2)**(1/2)*(2*kappa - 2**(1/2)*((exp(2*I*phi) + 1)**2)**(1/2)*exp(-I*phi)*Abs(kappa)*Abs(sin(theta))/2)**(1/2)*(-exp(2*I*phi) - 1)*sin(theta)/(2*(exp(4*I*phi) + 2*exp(2*I*phi) + 1)**(1/2)*Abs(kappa)*Abs(sin(theta))) + kappa*(2*kappa + 2**(1/2)*((1 + exp(-2*I*phi))**2)**(1/2)*exp(I*phi)*Abs(kappa)*Abs(sin(theta))/2)**(1/2)*(2*kappa + 2**(1/2)*((exp(2*I*phi) + 1)**2)**(1/2)*exp(-I*phi)*Abs(kappa)*Abs(sin(theta))/2)**(1/2)*(-exp(2*I*phi) - 1)*sin(theta)/(2*(exp(4*I*phi) + 2*exp(2*I*phi) + 1)**(1/2)*Abs(kappa)*Abs(sin(theta))) + 2**(1/2)*kappa*exp(I*phi)*sin(theta)/4 + 2**(1/2)*kappa*exp(-I*phi)*sin(theta)/4 - I*(2**(1/2)*I*kappa*exp(I*phi)*sin(theta)/4 - 2**(1/2)*I*kappa*exp(-I*phi)*sin(theta)/4)), OperatorTimes(Create(LocalSpace('L.NAND1.K', '')), Destroy(LocalSpace('L.NAND2.K', ''))))"
       ]
      },
      {
       "latex": [
        "$ \\chi {a_{{{\\rm L.NAND2.K}}}^\\dagger} {a_{{{\\rm L.NAND2.K}}}^\\dagger} {a_{{{\\rm L.NAND2.K}}}} {a_{{{\\rm L.NAND2.K}}}}$"
       ],
       "metadata": {},
       "output_type": "display_data",
       "text": [
        "ScalarTimesOperator(chi, OperatorTimes(Create(LocalSpace('L.NAND2.K', '')), Create(LocalSpace('L.NAND2.K', '')), Destroy(LocalSpace('L.NAND2.K', '')), Destroy(LocalSpace('L.NAND2.K', ''))))"
       ]
      },
      {
       "latex": [
        "$ \\mathbf{\\imath} \\left(- \\mathbf{\\imath} \\Delta - \\frac{1}{2} \\kappa \\operatorname{sin}^{2}\\left(\\theta\\right) - \\frac{1}{2} \\kappa \\operatorname{cos}^{2}\\left(\\theta\\right) - \\frac{1}{2} \\kappa + \\frac{\\left(-1 - \\frac{1}{e^{2 \\mathbf{\\imath} \\phi}}\\right) \\sqrt{2 \\kappa - \\frac{1}{2} \\sqrt{2} \\sqrt{\\left(1 + e^{- 2 \\mathbf{\\imath} \\phi}\\right)^{2}} e^{\\mathbf{\\imath} \\phi} \\lvert{\\kappa}\\rvert \\lvert{\\operatorname{sin}\\left(\\theta\\right)}\\rvert} \\sqrt{2 \\kappa - \\frac{\\sqrt{2} \\sqrt{\\left(e^{2 \\mathbf{\\imath} \\phi} + 1\\right)^{2}} \\lvert{\\kappa}\\rvert \\lvert{\\operatorname{sin}\\left(\\theta\\right)}\\rvert}{2 e^{\\mathbf{\\imath} \\phi}}} \\left(- e^{2 \\mathbf{\\imath} \\phi} -1\\right)}{2 \\sqrt{1 + \\frac{2}{e^{2 \\mathbf{\\imath} \\phi}} + e^{- 4 \\mathbf{\\imath} \\phi}} \\sqrt{e^{4 \\mathbf{\\imath} \\phi} + 2 e^{2 \\mathbf{\\imath} \\phi} + 1}} + \\frac{\\left(-1 - \\frac{1}{e^{2 \\mathbf{\\imath} \\phi}}\\right) \\sqrt{2 \\kappa + \\frac{1}{2} \\sqrt{2} \\sqrt{\\left(1 + e^{- 2 \\mathbf{\\imath} \\phi}\\right)^{2}} e^{\\mathbf{\\imath} \\phi} \\lvert{\\kappa}\\rvert \\lvert{\\operatorname{sin}\\left(\\theta\\right)}\\rvert} \\sqrt{2 \\kappa + \\frac{\\sqrt{2} \\sqrt{\\left(e^{2 \\mathbf{\\imath} \\phi} + 1\\right)^{2}} \\lvert{\\kappa}\\rvert \\lvert{\\operatorname{sin}\\left(\\theta\\right)}\\rvert}{2 e^{\\mathbf{\\imath} \\phi}}} \\left(- e^{2 \\mathbf{\\imath} \\phi} -1\\right)}{2 \\sqrt{1 + \\frac{2}{e^{2 \\mathbf{\\imath} \\phi}} + e^{- 4 \\mathbf{\\imath} \\phi}} \\sqrt{e^{4 \\mathbf{\\imath} \\phi} + 2 e^{2 \\mathbf{\\imath} \\phi} + 1}}\\right) {a_{{{\\rm L.NAND2.K}}}^\\dagger} {a_{{{\\rm L.NAND2.K}}}}$"
       ],
       "metadata": {},
       "output_type": "display_data",
       "text": [
        "ScalarTimesOperator(I*(-I*Delta - kappa*sin(theta)**2/2 - kappa*cos(theta)**2/2 - kappa/2 + (-1 - exp(-2*I*phi))*(2*kappa - 2**(1/2)*((1 + exp(-2*I*phi))**2)**(1/2)*exp(I*phi)*Abs(kappa)*Abs(sin(theta))/2)**(1/2)*(2*kappa - 2**(1/2)*((exp(2*I*phi) + 1)**2)**(1/2)*exp(-I*phi)*Abs(kappa)*Abs(sin(theta))/2)**(1/2)*(-exp(2*I*phi) - 1)/(2*(1 + 2*exp(-2*I*phi) + exp(-4*I*phi))**(1/2)*(exp(4*I*phi) + 2*exp(2*I*phi) + 1)**(1/2)) + (-1 - exp(-2*I*phi))*(2*kappa + 2**(1/2)*((1 + exp(-2*I*phi))**2)**(1/2)*exp(I*phi)*Abs(kappa)*Abs(sin(theta))/2)**(1/2)*(2*kappa + 2**(1/2)*((exp(2*I*phi) + 1)**2)**(1/2)*exp(-I*phi)*Abs(kappa)*Abs(sin(theta))/2)**(1/2)*(-exp(2*I*phi) - 1)/(2*(1 + 2*exp(-2*I*phi) + exp(-4*I*phi))**(1/2)*(exp(4*I*phi) + 2*exp(2*I*phi) + 1)**(1/2))), OperatorTimes(Create(LocalSpace('L.NAND2.K', '')), Destroy(LocalSpace('L.NAND2.K', ''))))"
       ]
      },
      {
       "latex": [
        "$ \\mathbf{\\imath} \\left(- \\frac{\\kappa \\left(-1 - \\frac{1}{e^{2 \\mathbf{\\imath} \\phi}}\\right) \\sqrt{2 \\kappa - \\frac{1}{2} \\sqrt{2} \\sqrt{\\left(1 + e^{- 2 \\mathbf{\\imath} \\phi}\\right)^{2}} e^{\\mathbf{\\imath} \\phi} \\lvert{\\kappa}\\rvert \\lvert{\\operatorname{sin}\\left(\\theta\\right)}\\rvert} \\sqrt{2 \\kappa - \\frac{\\sqrt{2} \\sqrt{\\left(e^{2 \\mathbf{\\imath} \\phi} + 1\\right)^{2}} \\lvert{\\kappa}\\rvert \\lvert{\\operatorname{sin}\\left(\\theta\\right)}\\rvert}{2 e^{\\mathbf{\\imath} \\phi}}} \\operatorname{sin}\\left(\\theta\\right)}{2 \\sqrt{1 + \\frac{2}{e^{2 \\mathbf{\\imath} \\phi}} + e^{- 4 \\mathbf{\\imath} \\phi}} \\lvert{\\kappa}\\rvert \\lvert{\\operatorname{sin}\\left(\\theta\\right)}\\rvert} + \\frac{\\kappa \\left(-1 - \\frac{1}{e^{2 \\mathbf{\\imath} \\phi}}\\right) \\sqrt{2 \\kappa + \\frac{1}{2} \\sqrt{2} \\sqrt{\\left(1 + e^{- 2 \\mathbf{\\imath} \\phi}\\right)^{2}} e^{\\mathbf{\\imath} \\phi} \\lvert{\\kappa}\\rvert \\lvert{\\operatorname{sin}\\left(\\theta\\right)}\\rvert} \\sqrt{2 \\kappa + \\frac{\\sqrt{2} \\sqrt{\\left(e^{2 \\mathbf{\\imath} \\phi} + 1\\right)^{2}} \\lvert{\\kappa}\\rvert \\lvert{\\operatorname{sin}\\left(\\theta\\right)}\\rvert}{2 e^{\\mathbf{\\imath} \\phi}}} \\operatorname{sin}\\left(\\theta\\right)}{2 \\sqrt{1 + \\frac{2}{e^{2 \\mathbf{\\imath} \\phi}} + e^{- 4 \\mathbf{\\imath} \\phi}} \\lvert{\\kappa}\\rvert \\lvert{\\operatorname{sin}\\left(\\theta\\right)}\\rvert} + \\frac{1}{4} \\sqrt{2} \\kappa e^{\\mathbf{\\imath} \\phi} \\operatorname{sin}\\left(\\theta\\right) + \\frac{\\sqrt{2} \\kappa \\operatorname{sin}\\left(\\theta\\right)}{4 e^{\\mathbf{\\imath} \\phi}} - \\mathbf{\\imath} \\left(\\frac{1}{4} \\sqrt{2} \\mathbf{\\imath} \\kappa e^{\\mathbf{\\imath} \\phi} \\operatorname{sin}\\left(\\theta\\right) - \\frac{\\sqrt{2} \\mathbf{\\imath} \\kappa \\operatorname{sin}\\left(\\theta\\right)}{4 e^{\\mathbf{\\imath} \\phi}}\\right)\\right) {a_{{{\\rm L.NAND1.K}}}} {a_{{{\\rm L.NAND2.K}}}^\\dagger}$"
       ],
       "metadata": {},
       "output_type": "display_data",
       "text": [
        "ScalarTimesOperator(I*(-kappa*(-1 - exp(-2*I*phi))*(2*kappa - 2**(1/2)*((1 + exp(-2*I*phi))**2)**(1/2)*exp(I*phi)*Abs(kappa)*Abs(sin(theta))/2)**(1/2)*(2*kappa - 2**(1/2)*((exp(2*I*phi) + 1)**2)**(1/2)*exp(-I*phi)*Abs(kappa)*Abs(sin(theta))/2)**(1/2)*sin(theta)/(2*(1 + 2*exp(-2*I*phi) + exp(-4*I*phi))**(1/2)*Abs(kappa)*Abs(sin(theta))) + kappa*(-1 - exp(-2*I*phi))*(2*kappa + 2**(1/2)*((1 + exp(-2*I*phi))**2)**(1/2)*exp(I*phi)*Abs(kappa)*Abs(sin(theta))/2)**(1/2)*(2*kappa + 2**(1/2)*((exp(2*I*phi) + 1)**2)**(1/2)*exp(-I*phi)*Abs(kappa)*Abs(sin(theta))/2)**(1/2)*sin(theta)/(2*(1 + 2*exp(-2*I*phi) + exp(-4*I*phi))**(1/2)*Abs(kappa)*Abs(sin(theta))) + 2**(1/2)*kappa*exp(I*phi)*sin(theta)/4 + 2**(1/2)*kappa*exp(-I*phi)*sin(theta)/4 - I*(2**(1/2)*I*kappa*exp(I*phi)*sin(theta)/4 - 2**(1/2)*I*kappa*exp(-I*phi)*sin(theta)/4)), OperatorTimes(Destroy(LocalSpace('L.NAND1.K', '')), Create(LocalSpace('L.NAND2.K', ''))))"
       ]
      },
      {
       "metadata": {},
       "output_type": "pyout",
       "prompt_number": 19,
       "text": [
        "[None, None, None, None, None, None, None, None, None, None]"
       ]
      }
     ],
     "prompt_number": 19
    },
    {
     "cell_type": "code",
     "collapsed": false,
     "input": [
      "len(Lsl)"
     ],
     "language": "python",
     "metadata": {},
     "outputs": [
      {
       "metadata": {},
       "output_type": "pyout",
       "prompt_number": 20,
       "text": [
        "2"
       ]
      }
     ],
     "prompt_number": 20
    },
    {
     "cell_type": "code",
     "collapsed": false,
     "input": [
      "Lsl[0]"
     ],
     "language": "python",
     "metadata": {},
     "outputs": [
      {
       "latex": [
        "$ \\sqrt{2 \\kappa + \\frac{\\sqrt{2} \\sqrt{\\left(e^{2 \\mathbf{\\imath} \\phi} + 1\\right)^{2}} \\lvert{\\kappa}\\rvert \\lvert{\\operatorname{sin}\\left(\\theta\\right)}\\rvert}{2 e^{\\mathbf{\\imath} \\phi}}} {a_{{{\\rm L.NAND1.K}}}} +  \\frac{\\kappa \\sqrt{2 \\kappa + \\frac{\\sqrt{2} \\sqrt{\\left(e^{2 \\mathbf{\\imath} \\phi} + 1\\right)^{2}} \\lvert{\\kappa}\\rvert \\lvert{\\operatorname{sin}\\left(\\theta\\right)}\\rvert}{2 e^{\\mathbf{\\imath} \\phi}}} \\left(- e^{2 \\mathbf{\\imath} \\phi} -1\\right) \\operatorname{sin}\\left(\\theta\\right)}{\\sqrt{e^{4 \\mathbf{\\imath} \\phi} + 2 e^{2 \\mathbf{\\imath} \\phi} + 1} \\lvert{\\kappa}\\rvert \\lvert{\\operatorname{sin}\\left(\\theta\\right)}\\rvert} {a_{{{\\rm L.NAND2.K}}}}$"
       ],
       "metadata": {},
       "output_type": "pyout",
       "prompt_number": 21,
       "text": [
        "OperatorPlus(ScalarTimesOperator((2*kappa + 2**(1/2)*((exp(2*I*phi) + 1)**2)**(1/2)*exp(-I*phi)*Abs(kappa)*Abs(sin(theta))/2)**(1/2), Destroy(LocalSpace('L.NAND1.K', ''))), ScalarTimesOperator(kappa*(2*kappa + 2**(1/2)*((exp(2*I*phi) + 1)**2)**(1/2)*exp(-I*phi)*Abs(kappa)*Abs(sin(theta))/2)**(1/2)*(-exp(2*I*phi) - 1)*sin(theta)/((exp(4*I*phi) + 2*exp(2*I*phi) + 1)**(1/2)*Abs(kappa)*Abs(sin(theta))), Destroy(LocalSpace('L.NAND2.K', ''))))"
       ]
      }
     ],
     "prompt_number": 21
    },
    {
     "cell_type": "code",
     "collapsed": false,
     "input": [
      "Lsl[1]"
     ],
     "language": "python",
     "metadata": {},
     "outputs": [
      {
       "latex": [
        "$ \\sqrt{2 \\kappa - \\frac{\\sqrt{2} \\sqrt{\\left(e^{2 \\mathbf{\\imath} \\phi} + 1\\right)^{2}} \\lvert{\\kappa}\\rvert \\lvert{\\operatorname{sin}\\left(\\theta\\right)}\\rvert}{2 e^{\\mathbf{\\imath} \\phi}}} {a_{{{\\rm L.NAND1.K}}}} -  \\frac{\\kappa \\sqrt{2 \\kappa - \\frac{\\sqrt{2} \\sqrt{\\left(e^{2 \\mathbf{\\imath} \\phi} + 1\\right)^{2}} \\lvert{\\kappa}\\rvert \\lvert{\\operatorname{sin}\\left(\\theta\\right)}\\rvert}{2 e^{\\mathbf{\\imath} \\phi}}} \\left(- e^{2 \\mathbf{\\imath} \\phi} -1\\right) \\operatorname{sin}\\left(\\theta\\right)}{\\sqrt{e^{4 \\mathbf{\\imath} \\phi} + 2 e^{2 \\mathbf{\\imath} \\phi} + 1} \\lvert{\\kappa}\\rvert \\lvert{\\operatorname{sin}\\left(\\theta\\right)}\\rvert} {a_{{{\\rm L.NAND2.K}}}}$"
       ],
       "metadata": {},
       "output_type": "pyout",
       "prompt_number": 22,
       "text": [
        "OperatorPlus(ScalarTimesOperator((2*kappa - 2**(1/2)*((exp(2*I*phi) + 1)**2)**(1/2)*exp(-I*phi)*Abs(kappa)*Abs(sin(theta))/2)**(1/2), Destroy(LocalSpace('L.NAND1.K', ''))), ScalarTimesOperator(-kappa*(2*kappa - 2**(1/2)*((exp(2*I*phi) + 1)**2)**(1/2)*exp(-I*phi)*Abs(kappa)*Abs(sin(theta))/2)**(1/2)*(-exp(2*I*phi) - 1)*sin(theta)/((exp(4*I*phi) + 2*exp(2*I*phi) + 1)**(1/2)*Abs(kappa)*Abs(sin(theta))), Destroy(LocalSpace('L.NAND2.K', ''))))"
       ]
      }
     ],
     "prompt_number": 22
    },
    {
     "cell_type": "code",
     "collapsed": false,
     "input": [],
     "language": "python",
     "metadata": {},
     "outputs": []
    }
   ],
   "metadata": {}
  }
 ]
}