{
 "metadata": {
  "name": "",
  "signature": "sha256:eaf87d3dee58798457f6383f8d4002d09246fac93dec9431a0a9fc44a997b75c"
 },
 "nbformat": 3,
 "nbformat_minor": 0,
 "worksheets": [
  {
   "cells": [
    {
     "cell_type": "code",
     "collapsed": false,
     "input": [
      "%pylab inline"
     ],
     "language": "python",
     "metadata": {},
     "outputs": [
      {
       "output_type": "stream",
       "stream": "stdout",
       "text": [
        "Populating the interactive namespace from numpy and matplotlib\n"
       ]
      },
      {
       "output_type": "stream",
       "stream": "stderr",
       "text": [
        "WARNING: pylab import has clobbered these variables: ['prod', 'sinh', 'tan', 'sin', 'connect', 'rc', 'cosh', 'beta', 'cos', 'sqrt', 'log', 'inf', 'pi', 'exp']\n",
        "`%matplotlib` prevents importing * from pylab and numpy\n"
       ]
      }
     ],
     "prompt_number": 18
    },
    {
     "cell_type": "heading",
     "level": 1,
     "metadata": {},
     "source": [
      "Symbolic Analysis of the Pseudo NAND gate and the Pseudo NAND SR-Latch"
     ]
    },
    {
     "cell_type": "heading",
     "level": 2,
     "metadata": {},
     "source": [
      "Pseudo NAND gate"
     ]
    },
    {
     "cell_type": "code",
     "collapsed": false,
     "input": [
      "from qnet.algebra.circuit_algebra import *"
     ],
     "language": "python",
     "metadata": {},
     "outputs": [],
     "prompt_number": 19
    },
    {
     "cell_type": "code",
     "collapsed": false,
     "input": [
      "from qnet.circuit_components import pseudo_nand_cc as nand\n",
      "\n",
      "# real parameters\n",
      "kappa = symbols('kappa', positive = True)\n",
      "Delta, chi, phi, theta = symbols('Delta, chi, phi, theta', real = True)\n",
      "\n",
      "# complex parameters\n",
      "A, B, beta = symbols('A, B, beta')\n",
      "\n",
      "N = nand.PseudoNAND('N', kappa=kappa, Delta=Delta, chi=chi, phi=phi, theta=theta, beta=beta)\n",
      "N"
     ],
     "language": "python",
     "metadata": {},
     "outputs": [
      {
       "latex": [
        "${\\rm N}$"
       ],
       "metadata": {},
       "output_type": "pyout",
       "prompt_number": 20,
       "text": [
        "PseudoNAND('N','', phi=phi, kappa=kappa, chi=chi, beta=beta, Delta=Delta, theta=theta)"
       ]
      }
     ],
     "prompt_number": 20
    },
    {
     "cell_type": "heading",
     "level": 3,
     "metadata": {},
     "source": [
      "Circuit Analysis of Pseudo NAND gate"
     ]
    },
    {
     "cell_type": "code",
     "collapsed": false,
     "input": [
      "N.creduce()"
     ],
     "language": "python",
     "metadata": {},
     "outputs": [
      {
       "latex": [
        "$\\left(\\mathbf{1}_{1} \\boxplus (\\left(\\mathbf{1}_{1} \\boxplus (\\left({\\rm N.P} \\boxplus \\mathbf{1}_{1}\\right) \\lhd {{\\rm N.BS2}} \\lhd \\left({W(\\beta)} \\boxplus \\mathbf{1}_{1}\\right))\\right) \\lhd {\\mathbf{P}_\\sigma \\begin{pmatrix} 0 & 1 & 2 \\\\ 0 & 2 & 1 \\end{pmatrix}} \\lhd \\left({\\rm N.K} \\boxplus \\mathbf{1}_{1}\\right))\\right) \\lhd \\left({\\rm N.BS1} \\boxplus \\mathbf{1}_{2}\\right) \\lhd {\\mathbf{P}_\\sigma \\begin{pmatrix} 0 & 1 & 2 & 3 \\\\ 0 & 1 & 3 & 2 \\end{pmatrix}}$"
       ],
       "metadata": {},
       "output_type": "pyout",
       "prompt_number": 21,
       "text": [
        "SeriesProduct(Concatenation(CIdentity, SeriesProduct(Concatenation(CIdentity, SeriesProduct(Concatenation(Phase('N.P','', phi=phi), CIdentity), Beamsplitter('N.BS2','', theta=theta), Concatenation(Displace('N.W_beta','', alpha=beta), CIdentity))), CPermutation((0, 2, 1)), Concatenation(KerrCavity('N.K','', kappa_2=kappa, kappa_1=kappa, Delta=Delta, chi=chi), CIdentity))), Concatenation(Beamsplitter('N.BS1',''), CIdentity, CIdentity), CPermutation((0, 1, 3, 2)))"
       ]
      }
     ],
     "prompt_number": 21
    },
    {
     "cell_type": "code",
     "collapsed": false,
     "input": [
      "# yields a single block\n",
      "N.show()\n",
      "\n",
      "# decompose into sub components\n",
      "N.creduce().show() "
     ],
     "language": "python",
     "metadata": {},
     "outputs": [
      {
       "metadata": {},
       "output_type": "display_data",
       "png": "[encoded data removed]",
       "text": [
        "<IPython.core.display.Image at 0x10a8c8090>"
       ]
      },
      {
       "metadata": {},
       "output_type": "display_data",
       "png": "[encoded data removed]",
       "text": [
        "<IPython.core.display.Image at 0x10a50eb90>"
       ]
      }
     ],
     "prompt_number": 22
    },
    {
     "cell_type": "heading",
     "level": 3,
     "metadata": {},
     "source": [
      "SLH model"
     ]
    },
    {
     "cell_type": "code",
     "collapsed": false,
     "input": [
      "NSLH = N.coherent_input(A, B, 0, 0).toSLH()\n",
      "NSLH"
     ],
     "language": "python",
     "metadata": {},
     "outputs": [
      {
       "latex": [
        "$\\left( \\begin{pmatrix} \\frac{\\sqrt{2}}{2} & - \\frac{\\sqrt{2}}{2} & 0 & 0 \\\\ \\frac{\\sqrt{2}}{2} & \\frac{\\sqrt{2}}{2} & 0 & 0 \\\\ 0 & 0 & e^{i \\phi} \\cos{\\left (\\theta \\right )} & - e^{i \\phi} \\sin{\\left (\\theta \\right )} \\\\ 0 & 0 & \\sin{\\left (\\theta \\right )} & \\cos{\\left (\\theta \\right )}\\end{pmatrix}, \\begin{pmatrix} \\frac{\\sqrt{2} A}{2} - \\frac{\\sqrt{2} B}{2} \\\\  \\left(\\frac{\\sqrt{2} A}{2} + \\frac{\\sqrt{2} B}{2}\\right) +  \\sqrt{\\kappa} {a_{{{\\rm N.K}}}} \\\\  \\beta e^{i \\phi} \\cos{\\left (\\theta \\right )} -  \\sqrt{\\kappa} e^{i \\phi} \\sin{\\left (\\theta \\right )} {a_{{{\\rm N.K}}}} \\\\  \\beta \\sin{\\left (\\theta \\right )} +  \\sqrt{\\kappa} \\cos{\\left (\\theta \\right )} {a_{{{\\rm N.K}}}}\\end{pmatrix},  \\frac{i}{2} \\left( - \\left(\\frac{\\sqrt{2} A}{2} \\sqrt{\\kappa} + \\frac{\\sqrt{2} B}{2} \\sqrt{\\kappa}\\right) {a_{{{\\rm N.K}}}^\\dagger} +  \\left(\\frac{\\sqrt{2} \\sqrt{\\kappa}}{2} \\overline{A} + \\frac{\\sqrt{2} \\sqrt{\\kappa}}{2} \\overline{B}\\right) {a_{{{\\rm N.K}}}}\\right) +  \\chi  {a_{{{\\rm N.K}}}^\\dagger} {a_{{{\\rm N.K}}}^\\dagger} {a_{{{\\rm N.K}}}} {a_{{{\\rm N.K}}}} +  \\Delta  {a_{{{\\rm N.K}}}^\\dagger} {a_{{{\\rm N.K}}}} \\right)$"
       ],
       "metadata": {},
       "output_type": "pyout",
       "prompt_number": 23,
       "text": [
        "SLH(Matrix([[sqrt(2)/2, -sqrt(2)/2, 0, 0], [sqrt(2)/2, sqrt(2)/2, 0, 0], [0, 0, exp(I*phi)*cos(theta), -exp(I*phi)*sin(theta)], [0, 0, sin(theta), cos(theta)]]), Matrix([[sqrt(2)*A/2 - sqrt(2)*B/2], [OperatorPlus(ScalarTimesOperator(sqrt(2)*A/2 + sqrt(2)*B/2, IdentityOperator), ScalarTimesOperator(sqrt(kappa), Destroy(LocalSpace('N.K', ''))))], [OperatorPlus(ScalarTimesOperator(beta*exp(I*phi)*cos(theta), IdentityOperator), ScalarTimesOperator(-sqrt(kappa)*exp(I*phi)*sin(theta), Destroy(LocalSpace('N.K', ''))))], [OperatorPlus(ScalarTimesOperator(beta*sin(theta), IdentityOperator), ScalarTimesOperator(sqrt(kappa)*cos(theta), Destroy(LocalSpace('N.K', ''))))]]), OperatorPlus(ScalarTimesOperator(I/2, OperatorPlus(ScalarTimesOperator(-sqrt(2)*A*sqrt(kappa)/2 - sqrt(2)*B*sqrt(kappa)/2, Create(LocalSpace('N.K', ''))), ScalarTimesOperator(sqrt(2)*sqrt(kappa)*conjugate(A)/2 + sqrt(2)*sqrt(kappa)*conjugate(B)/2, Destroy(LocalSpace('N.K', ''))))), ScalarTimesOperator(chi, OperatorTimes(Create(LocalSpace('N.K', '')), Create(LocalSpace('N.K', '')), Destroy(LocalSpace('N.K', '')), Destroy(LocalSpace('N.K', '')))), ScalarTimesOperator(Delta, OperatorTimes(Create(LocalSpace('N.K', '')), Destroy(LocalSpace('N.K', ''))))))"
       ]
      }
     ],
     "prompt_number": 23
    },
    {
     "cell_type": "heading",
     "level": 3,
     "metadata": {},
     "source": [
      "Heisenberg equation of motion of the mode operator $a$"
     ]
    },
    {
     "cell_type": "code",
     "collapsed": true,
     "input": [
      "s = N.space\n",
      "a = Destroy(s)\n",
      "a"
     ],
     "language": "python",
     "metadata": {},
     "outputs": [
      {
       "latex": [
        "${a_{{{\\rm N.K}}}}$"
       ],
       "metadata": {},
       "output_type": "pyout",
       "prompt_number": 24,
       "text": [
        "Destroy(LocalSpace('N.K', ''))"
       ]
      }
     ],
     "prompt_number": 24
    },
    {
     "cell_type": "code",
     "collapsed": false,
     "input": [
      "NSLH.symbolic_heisenberg_eom(a).expand().simplify_scalar()"
     ],
     "language": "python",
     "metadata": {},
     "outputs": [
      {
       "latex": [
        "$ - \\frac{\\sqrt{2} \\sqrt{\\kappa}}{2} \\left(A + B\\right) -  \\left(i \\Delta + \\kappa\\right) {a_{{{\\rm N.K}}}} -  2 i \\chi  {a_{{{\\rm N.K}}}^\\dagger} {a_{{{\\rm N.K}}}} {a_{{{\\rm N.K}}}}$"
       ],
       "metadata": {},
       "output_type": "pyout",
       "prompt_number": 25,
       "text": [
        "OperatorPlus(ScalarTimesOperator(-sqrt(2)*sqrt(kappa)*(A + B)/2, IdentityOperator), ScalarTimesOperator(-I*Delta - kappa, Destroy(LocalSpace('N.K', ''))), ScalarTimesOperator(-2*I*chi, OperatorTimes(Create(LocalSpace('N.K', '')), Destroy(LocalSpace('N.K', '')), Destroy(LocalSpace('N.K', '')))))"
       ]
      }
     ],
     "prompt_number": 25
    },
    {
     "cell_type": "heading",
     "level": 3,
     "metadata": {},
     "source": [
      "Super operator algebra: The system's liouvillian and a re-derivation of the eom for $a$ via the super-operator adjoint of the liouvillian."
     ]
    },
    {
     "cell_type": "code",
     "collapsed": false,
     "input": [
      "LLN = NSLH.symbolic_liouvillian().expand().simplify_scalar()\n",
      "LLN"
     ],
     "language": "python",
     "metadata": {},
     "outputs": []
    },
    {
     "cell_type": "code",
     "collapsed": false,
     "input": [
      "(LLN.superadjoint() * a).expand().simplify_scalar()"
     ],
     "language": "python",
     "metadata": {},
     "outputs": []
    },
    {
     "cell_type": "heading",
     "level": 2,
     "metadata": {},
     "source": [
      "A full Pseudo-NAND SR-Latch"
     ]
    },
    {
     "cell_type": "code",
     "collapsed": false,
     "input": [
      "N1 = nand.PseudoNAND('N_1', kappa=kappa, Delta=Delta, chi=chi, phi=phi, theta=theta, beta=beta)\n",
      "N2 = nand.PseudoNAND('N_2', kappa=kappa, Delta=Delta, chi=chi, phi=phi, theta=theta, beta=beta)\n",
      "\n",
      "# NAND gates in mutual feedback configuration\n",
      "NL = (N1 + N2).feedback(2, 4).feedback(5, 0).coherent_input(A, 0, 0, B, 0, 0)\n",
      "NL"
     ],
     "language": "python",
     "metadata": {},
     "outputs": []
    },
    {
     "cell_type": "markdown",
     "metadata": {},
     "source": [
      "The circuit algebra simplification rules have already eliminated one of the two feedback operations in favor or a series product."
     ]
    },
    {
     "cell_type": "code",
     "collapsed": false,
     "input": [
      "NL.show()\n",
      "NL.creduce().show()\n",
      "NL.creduce().creduce().show()"
     ],
     "language": "python",
     "metadata": {},
     "outputs": []
    },
    {
     "cell_type": "heading",
     "level": 3,
     "metadata": {},
     "source": [
      "SLH model"
     ]
    },
    {
     "cell_type": "code",
     "collapsed": false,
     "input": [
      "NLSLH = NL.toSLH().expand().simplify_scalar()\n",
      "NLSLH"
     ],
     "language": "python",
     "metadata": {},
     "outputs": []
    },
    {
     "cell_type": "heading",
     "level": 3,
     "metadata": {},
     "source": [
      "Heisenberg equations of motion for the mode operators"
     ]
    },
    {
     "cell_type": "code",
     "collapsed": false,
     "input": [
      "NL.space"
     ],
     "language": "python",
     "metadata": {},
     "outputs": []
    },
    {
     "cell_type": "code",
     "collapsed": false,
     "input": [
      "s1, s2 = NL.space.operands\n",
      "a1 = Destroy(s1)\n",
      "a2 = Destroy(s2)"
     ],
     "language": "python",
     "metadata": {},
     "outputs": []
    },
    {
     "cell_type": "code",
     "collapsed": false,
     "input": [
      "da1dt = NLSLH.symbolic_heisenberg_eom(a1).expand().simplify_scalar()\n",
      "da1dt"
     ],
     "language": "python",
     "metadata": {},
     "outputs": []
    },
    {
     "cell_type": "code",
     "collapsed": false,
     "input": [
      "da2dt = NLSLH.symbolic_heisenberg_eom(a2).expand().simplify_scalar()\n",
      "da2dt"
     ],
     "language": "python",
     "metadata": {},
     "outputs": []
    },
    {
     "cell_type": "heading",
     "level": 3,
     "metadata": {},
     "source": [
      "Show Exchange-Symmetry of the Pseudo NAND latch Liouvillian super operator"
     ]
    },
    {
     "cell_type": "markdown",
     "metadata": {},
     "source": [
      "Simultaneously exchanging the degrees of freedom and the coherent input amplitudes leaves the liouvillian unchanged."
     ]
    },
    {
     "cell_type": "code",
     "collapsed": false,
     "input": [
      "C = symbols('C')\n",
      "LLNL = NLSLH.symbolic_liouvillian().expand().simplify_scalar()\n",
      "LLNL"
     ],
     "language": "python",
     "metadata": {},
     "outputs": []
    },
    {
     "cell_type": "code",
     "collapsed": false,
     "input": [
      "C = symbols('C')\n",
      "(LLNL.substitute({A:C}).substitute({B:A}).substitute({C:B}) - LLNL.substitute({s1:s2,s2:s1}).expand().simplify_scalar()).expand().simplify_scalar()\n"
     ],
     "language": "python",
     "metadata": {},
     "outputs": []
    },
    {
     "cell_type": "heading",
     "level": 1,
     "metadata": {},
     "source": [
      "Numerical Analysis of both the "
     ]
    },
    {
     "cell_type": "heading",
     "level": 2,
     "metadata": {},
     "source": [
      "Input-Output Logic of the Pseudo-NAND Gate"
     ]
    },
    {
     "cell_type": "code",
     "collapsed": false,
     "input": [
      "NSLH.space"
     ],
     "language": "python",
     "metadata": {},
     "outputs": []
    },
    {
     "cell_type": "code",
     "collapsed": false,
     "input": [
      "NSLH.space.dimension = 75"
     ],
     "language": "python",
     "metadata": {},
     "outputs": []
    },
    {
     "cell_type": "markdown",
     "metadata": {},
     "source": [
      "Numerical parameters taken from\n",
      "\n",
      "**Mabuchi, H. (2011). Nonlinear interferometry approach to photonic sequential logic. Appl. Phys. Lett. 99, 153103 (2011)**"
     ]
    },
    {
     "cell_type": "code",
     "collapsed": false,
     "input": [
      "# numerical values for simulation\n",
      "\n",
      "alpha = 22.6274                              # logical 'one' amplitude\n",
      "\n",
      "numerical_vals = {\n",
      "                  beta: -34.289-11.909j,     # bias input for pseudo-nands\n",
      "                  kappa: 25.,                # Kerr-Cavity mirror couplings\n",
      "                  Delta: 50.,                # Kerr-Cavity Detuning\n",
      "                  chi : -50./60.,            # Kerr-Non-Linear coupling coefficient\n",
      "                  theta: 0.891,              # pseudo-nand beamsplitter mixing angle\n",
      "                  phi: 2.546,                # pseudo-nand corrective phase\n",
      "    }"
     ],
     "language": "python",
     "metadata": {},
     "outputs": []
    },
    {
     "cell_type": "code",
     "collapsed": false,
     "input": [
      "NSLHN = NSLH.substitute(numerical_vals)\n",
      "NSLHN"
     ],
     "language": "python",
     "metadata": {},
     "outputs": []
    },
    {
     "cell_type": "code",
     "collapsed": false,
     "input": [
      "input_configs = [\n",
      "            (0,0),\n",
      "            (1, 0),\n",
      "            (0, 1),\n",
      "            (1, 1)\n",
      "          ]"
     ],
     "language": "python",
     "metadata": {},
     "outputs": []
    },
    {
     "cell_type": "code",
     "collapsed": false,
     "input": [
      "Lout = NSLHN.L[2,0]\n",
      "Loutqt = Lout.to_qutip()\n",
      "times = arange(0, 1., 0.01)\n",
      "psi0 = qutip.basis(N.space.dimension, 0)\n",
      "datasets = {}\n",
      "for ic in input_configs:\n",
      "    H, Ls = NSLHN.substitute({A: ic[0]*alpha, B: ic[1]*alpha}).HL_to_qutip()\n",
      "    data = qutip.mcsolve(H, psi0, times, Ls, [Loutqt], ntraj = 1)\n",
      "    datasets[ic] = data.expect[0]\n"
     ],
     "language": "python",
     "metadata": {},
     "outputs": []
    },
    {
     "cell_type": "code",
     "collapsed": false,
     "input": [
      "figure(figsize=(10, 8))\n",
      "for ic in input_configs:\n",
      "    plot(times, real(datasets[ic])/alpha, '-', label = str(ic) + \", real\")\n",
      "    plot(times, imag(datasets[ic])/alpha, '--', label = str(ic) + \", imag\")\n",
      "legend()\n",
      "xlabel('Time $t$', size = 20)\n",
      "ylabel(r'$\\langle L_out \\rangle$ in logic level units', size = 20)\n",
      "title('Pseudo NAND logic, stochastically simulated time \\n dependent output amplitudes for different inputs.', size = 20)"
     ],
     "language": "python",
     "metadata": {},
     "outputs": []
    },
    {
     "cell_type": "heading",
     "level": 2,
     "metadata": {},
     "source": [
      "Pseudo NAND latch memory effect"
     ]
    },
    {
     "cell_type": "code",
     "collapsed": false,
     "input": [
      "NLSLH.space"
     ],
     "language": "python",
     "metadata": {},
     "outputs": []
    },
    {
     "cell_type": "code",
     "collapsed": false,
     "input": [
      "s1, s2 = NLSLH.space.operands\n",
      "s1.dimension = 75\n",
      "s2.dimension = 75\n",
      "NLSLH.space.dimension"
     ],
     "language": "python",
     "metadata": {},
     "outputs": []
    },
    {
     "cell_type": "code",
     "collapsed": false,
     "input": [
      "NLSLHN = NLSLH.substitute(numerical_vals)\n",
      "NLSLHN"
     ],
     "language": "python",
     "metadata": {},
     "outputs": []
    },
    {
     "cell_type": "code",
     "collapsed": false,
     "input": [
      "input_configs = {\n",
      "            \"SET\": (1, 0), \n",
      "            \"RESET\": (0, 1),\n",
      "            \"HOLD\": (1, 1)\n",
      "          }\n",
      "\n",
      "models = {k: NLSLHN.substitute({A:v[0]*alpha, B:v[1]*alpha}).HL_to_qutip() for k, v in input_configs.items()}"
     ],
     "language": "python",
     "metadata": {},
     "outputs": []
    },
    {
     "cell_type": "code",
     "collapsed": false,
     "input": [
      "a1, a2 = Destroy(s1), Destroy(s2)\n",
      "observables = [a1.dag()*a1, a2.dag()*a2]\n",
      "observables_qt = [o.to_qutip(full_space = NLSLH.space) for o in observables]"
     ],
     "language": "python",
     "metadata": {},
     "outputs": []
    },
    {
     "cell_type": "code",
     "collapsed": false,
     "input": [
      "def model_sequence_single_trajectory(models, durations, initial_state, dt):\n",
      "    \"\"\"\n",
      "    Solve a sequence of constant QuTiP open system models (H_i, [L_1_i, L_2_i, ...])\n",
      "    via Quantum Monte-Carlo. Each model is valid for a duration deltaT_i and the initial state for\n",
      "    is given by the previous model's final state.\n",
      "    The function returns an array with the times and an array with the states at each time.\n",
      "\n",
      "    :param models: Sequence of models given as tuples: (H_j, [L1j,L2j,...])\n",
      "    :type models: Sequence of tuples\n",
      "    :param durations: Sequence of times\n",
      "    :type durations: Sequence of float\n",
      "    :param initial_state: Overall initial state\n",
      "    :type initial_state: qutip.Qobj\n",
      "    :param dt: Sampling interval\n",
      "    :type dt: float\n",
      "    :return: times, states\n",
      "    :rtype: tuple((numpy.ndarray, numpy.ndarray)\n",
      "    \"\"\"\n",
      "    totalT = 0\n",
      "    totalTimes = array([])\n",
      "    totalStates = array([])\n",
      "    current_state = initial_state\n",
      "    \n",
      "    for j, (model, deltaT) in enumerate(zip(models, durations)):\n",
      "        print \"Solving step {}/{} of model sequence\".format(j + 1, len(models))\n",
      "        HQobj, LQObjs = model\n",
      "        times = arange(0, deltaT, dt)\n",
      "        data = qutip.mcsolve(HQobj, current_state, times, LQObjs, [], ntraj = 1, options = qutip.Odeoptions(gui = False))\n",
      "\n",
      "        # concatenate states\n",
      "        totalStates = np.hstack((totalStates,data.states.flatten()))\n",
      "        current_state = data.states.flatten()[-1]\n",
      "        # concatenate times\n",
      "        totalTimes = np.hstack((totalTimes, times + totalT))\n",
      "        totalT += times[-1]\n",
      "    \n",
      "    return totalTimes, totalStates"
     ],
     "language": "python",
     "metadata": {},
     "outputs": []
    },
    {
     "cell_type": "code",
     "collapsed": false,
     "input": [
      "durations = [.5, 1., .5, 1.]\n",
      "model_sequence = [models[v] for v in ['SET', 'HOLD', 'RESET', 'HOLD']]\n",
      "initial_state = qutip.tensor(qutip.basis(s1.dimension, 0), qutip.basis(s2.dimension, 0))"
     ],
     "language": "python",
     "metadata": {},
     "outputs": []
    },
    {
     "cell_type": "code",
     "collapsed": false,
     "input": [
      "times, data = model_sequence_single_trajectory(model_sequence, durations, initial_state, 5e-3)"
     ],
     "language": "python",
     "metadata": {},
     "outputs": []
    },
    {
     "cell_type": "code",
     "collapsed": false,
     "input": [
      "datan1 = qutip.expect(observables_qt[0], data)\n",
      "datan2 = qutip.expect(observables_qt[1], data)"
     ],
     "language": "python",
     "metadata": {},
     "outputs": []
    },
    {
     "cell_type": "code",
     "collapsed": false,
     "input": [
      "figsize(10,6)\n",
      "plot(times, datan1)\n",
      "plot(times, datan2)\n",
      "for t in cumsum(durations):\n",
      "    axvline(t, color = \"r\")\n",
      "xlabel(\"Time $t$\", size = 20)\n",
      "ylabel(\"Intra-cavity Photon Numbers\", size = 20)\n",
      "legend((r\"$\\langle n_1 \\rangle $\", r\"$\\langle n_2 \\rangle $\"), loc = 'lower right')\n",
      "title(\"SET - HOLD - RESET - HOLD sequence for $\\overline{SR}$-latch\", size = 20) "
     ],
     "language": "python",
     "metadata": {},
     "outputs": []
    }
   ],
   "metadata": {}
  }
 ]
}