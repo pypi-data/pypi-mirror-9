{
 "metadata": {
  "name": "",
  "signature": "sha256:d152cadcf80fcffc636c9f11903b3d4698a595e3c16eab91480f78e98029802f"
 },
 "nbformat": 3,
 "nbformat_minor": 0,
 "worksheets": [
  {
   "cells": [
    {
     "cell_type": "markdown",
     "metadata": {},
     "source": [
      "This example compares two methods for dimensionality reduction:\n",
      "tICA and PCA. "
     ]
    },
    {
     "cell_type": "code",
     "collapsed": false,
     "input": [
      "from __future__ import print_function\n",
      "import numpy as np\n",
      "import matplotlib.pyplot as plt\n",
      "import simtk.openmm as mm\n",
      "from msmbuilder.decomposition import tICA, PCA"
     ],
     "language": "python",
     "metadata": {},
     "outputs": []
    },
    {
     "cell_type": "markdown",
     "metadata": {},
     "source": [
      "First, let's use OpenMM to run some dynamics on the 3D potential energy function \n",
      "\n",
      "$$E(x,y,z) = 5 \\cdot (x-1)^2 \\cdot (x+1)^2 + y^2 + z^2$$\n",
      "\n",
      "From looking at this equation, we can see that along the $x$ dimension,\n",
      "the potential is a double-well, whereas along the $y$ and $z$ dimensions,\n",
      "we've just got a harmonic potential. So, we should expect that $x$ is the slow\n",
      "degree of freedom, whereas the system should equilibrate rapidly along $y$ and $z$."
     ]
    },
    {
     "cell_type": "code",
     "collapsed": false,
     "input": [
      "def propagate(n_steps=10000):\n",
      "    \"Simulate some dynamics\"\n",
      "    system = mm.System()\n",
      "    system.addParticle(1)\n",
      "    force = mm.CustomExternalForce('5*(x-1)^2*(x+1)^2 + y^2 + z^2')\n",
      "    force.addParticle(0, [])\n",
      "    system.addForce(force)\n",
      "    integrator = mm.LangevinIntegrator(500, 1, 0.02)\n",
      "    context = mm.Context(system, integrator)\n",
      "    context.setPositions([[0, 0, 0]])\n",
      "    context.setVelocitiesToTemperature(500)\n",
      "    x = np.zeros((n_steps, 3))\n",
      "    for i in range(n_steps):\n",
      "        x[i] = context.getState(getPositions=True).getPositions(asNumpy=True)._value\n",
      "        integrator.step(1)\n",
      "    return x"
     ],
     "language": "python",
     "metadata": {},
     "outputs": []
    },
    {
     "cell_type": "markdown",
     "metadata": {},
     "source": [
      "Okay, let's run the dynamics. The first plot below shows the $x$, $y$ and $z$ coordinate vs. time for the trajectory, and\n",
      "the second plot shows each of the 1D and 2D marginal distributions."
     ]
    },
    {
     "cell_type": "code",
     "collapsed": false,
     "input": [
      "trajectory = propagate(10000)\n",
      "\n",
      "ylabels = ['x', 'y', 'z']\n",
      "for i in range(3):\n",
      "    plt.subplot(3, 1, i+1)\n",
      "    plt.plot(trajectory[:, i])\n",
      "    plt.ylabel(ylabels[i])\n",
      "plt.xlabel('Simulation time')\n",
      "plt.show()"
     ],
     "language": "python",
     "metadata": {},
     "outputs": []
    },
    {
     "cell_type": "markdown",
     "metadata": {},
     "source": [
      "Note that the variance of $x$ is much lower than the variance in $y$ or $z$, despite it's bi-modal distribution."
     ]
    },
    {
     "cell_type": "code",
     "collapsed": false,
     "input": [
      "# fit the two models\n",
      "tica = tICA(n_components=1, lag_time=100)\n",
      "pca = PCA(n_components=1)\n",
      "tica.fit([trajectory])\n",
      "pca.fit([trajectory])"
     ],
     "language": "python",
     "metadata": {},
     "outputs": []
    },
    {
     "cell_type": "code",
     "collapsed": false,
     "input": [
      "plt.subplot(1,2,1)\n",
      "plt.title('1st tIC')\n",
      "plt.bar([1,2,3], tica.components_[0], color='b')\n",
      "plt.xticks([1.5,2.5,3.5], ['x', 'y', 'z'])\n",
      "plt.subplot(1,2,2)\n",
      "plt.title('1st PC')\n",
      "plt.bar([1,2,3], pca.components_[0], color='r')\n",
      "plt.xticks([1.5,2.5,3.5], ['x', 'y', 'z'])\n",
      "plt.show()\n",
      "\n",
      "print('1st tIC', tica.components_ / np.linalg.norm(tica.components_))\n",
      "print('1st PC ', pca.components_ / np.linalg.norm(pca.components_))"
     ],
     "language": "python",
     "metadata": {},
     "outputs": []
    },
    {
     "cell_type": "markdown",
     "metadata": {},
     "source": [
      "Note that the first tIC \"finds\" a projection that just resolves the $x$ coordinate, whereas PCA doesn't."
     ]
    }
   ],
   "metadata": {}
  }
 ]
}