{
 "metadata": {
  "name": "",
  "signature": "sha256:3f4e5aeba5ef0a6075f6ed78597b231692adcf843ac830014e4ebb36446f43b6"
 },
 "nbformat": 3,
 "nbformat_minor": 0,
 "worksheets": [
  {
   "cells": [
    {
     "cell_type": "markdown",
     "metadata": {},
     "source": [
      "In this example, we plot a 2D projection of a protein dynamics dataset computed\n",
      "with `tICA`. The example also demonstrates the use of a `Pipeline` object to\n",
      "combine a featurizer (`AtomPairsFeaturizer`) and an estimator (`tICA`)."
     ]
    },
    {
     "cell_type": "code",
     "collapsed": false,
     "input": [
      "from __future__ import print_function\n",
      "import numpy as np\n",
      "from matplotlib import pyplot as plt\n",
      "from matplotlib.colors import LogNorm\n",
      "\n",
      "from msmbuilder.decomposition import tICA\n",
      "from msmbuilder.example_datasets import fetch_met_enkephalin\n",
      "from msmbuilder.featurizer import AtomPairsFeaturizer\n",
      "from sklearn.pipeline import Pipeline"
     ],
     "language": "python",
     "metadata": {},
     "outputs": []
    },
    {
     "cell_type": "code",
     "collapsed": false,
     "input": [
      "dataset = fetch_met_enkephalin()\n",
      "print(dataset.DESCR)"
     ],
     "language": "python",
     "metadata": {},
     "outputs": []
    },
    {
     "cell_type": "code",
     "collapsed": false,
     "input": [
      "def fit_and_plot(pipeline, trajectories):\n",
      "    transformed = pipeline.fit_transform(trajectories)\n",
      "    transformed = np.concatenate(transformed)\n",
      "\n",
      "    print('Eiegenvaue sum', pipeline.named_steps['tica'].eigenvalues_.sum())\n",
      "\n",
      "    x = transformed[:, 0]\n",
      "    y = transformed[:, 1]\n",
      "\n",
      "    plt.axes(axisbg='w')\n",
      "    plt.grid(False)\n",
      "    plt.hist2d(x, y, bins=100, cmap='hot_r', norm=LogNorm())\n",
      "    plt.xlabel('1st tIC')\n",
      "    plt.ylabel('2nd tIC')\n",
      "    plt.title('tICA Heatmap (log color scale)')\n",
      "    plt.colorbar()"
     ],
     "language": "python",
     "metadata": {},
     "outputs": []
    },
    {
     "cell_type": "code",
     "collapsed": false,
     "input": [
      "# Get all pairs of non-hydrogen atoms\n",
      "from itertools import combinations\n",
      "heavy_atoms = dataset.trajectories[0].topology.select_atom_indices('heavy')\n",
      "heavy_pairs = list(combinations(heavy_atoms, 2))\n",
      "\n",
      " \n",
      "pipeline1 = Pipeline([\n",
      "    ('feat', AtomPairsFeaturizer(heavy_pairs)),\n",
      "    ('tica', tICA(gamma=0, n_components=2)),\n",
      "])\n",
      "\n",
      "fit_and_plot(pipeline1, dataset.trajectories)"
     ],
     "language": "python",
     "metadata": {},
     "outputs": []
    }
   ],
   "metadata": {}
  }
 ]
}