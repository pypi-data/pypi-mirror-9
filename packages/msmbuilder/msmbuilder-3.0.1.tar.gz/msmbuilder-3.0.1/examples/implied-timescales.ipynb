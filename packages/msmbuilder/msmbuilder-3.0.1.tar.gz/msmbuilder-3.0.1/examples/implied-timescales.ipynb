{
 "metadata": {
  "name": "",
  "signature": "sha256:811589e5296ef63ce414f942103b70bab05b384163feb4916cd8cefe1999384a"
 },
 "nbformat": 3,
 "nbformat_minor": 0,
 "worksheets": [
  {
   "cells": [
    {
     "cell_type": "code",
     "collapsed": false,
     "input": [
      "import numpy as np\n",
      "import matplotlib.pyplot as pp\n",
      "from msmbuilder.example_datasets import fetch_alanine_dipeptide\n",
      "from msmbuilder.cluster import KCenters\n",
      "from msmbuilder.msm import ContinuousTimeMSM, MarkovStateModel\n",
      "from msmbuilder.msm import implied_timescales"
     ],
     "language": "python",
     "metadata": {},
     "outputs": []
    },
    {
     "cell_type": "code",
     "collapsed": false,
     "input": [
      "trajectories = fetch_alanine_dipeptide()['trajectories']\n",
      "heavy_inds = trajectories[0].topology.select_atom_indices('heavy')\n",
      "trajectories = [t.atom_slice(heavy_inds) for t in trajectories]"
     ],
     "language": "python",
     "metadata": {},
     "outputs": []
    },
    {
     "cell_type": "code",
     "collapsed": false,
     "input": [
      "cluster = KCenters(metric='rmsd', n_clusters=25)\n",
      "sequences = cluster.fit_transform(trajectories)\n",
      "print(cluster.summarize())"
     ],
     "language": "python",
     "metadata": {},
     "outputs": []
    },
    {
     "cell_type": "code",
     "collapsed": false,
     "input": [
      "lag_times = [1, 4, 8, 12]\n",
      "n_timescales = 10"
     ],
     "language": "python",
     "metadata": {},
     "outputs": []
    },
    {
     "cell_type": "code",
     "collapsed": false,
     "input": [
      "msm_timescales = implied_timescales(sequences, lag_times, n_timescales=n_timescales, msm=MarkovStateModel(verbose=False))\n",
      "for i in range(n_timescales):\n",
      "   pp.plot(lag_times, msm_timescales[:, i], 'o-')\n",
      "\n",
      "pp.title('Discrete-time MSM Relaxation Timescales')\n",
      "pp.semilogy()\n",
      "pp.show()"
     ],
     "language": "python",
     "metadata": {},
     "outputs": []
    },
    {
     "cell_type": "code",
     "collapsed": false,
     "input": [
      "ctmsm_timescales = implied_timescales(sequences, lag_times, n_timescales=n_timescales, msm=ContinuousTimeMSM(verbose=True))\n",
      "for i in range(n_timescales):\n",
      "   pp.plot(lag_times, ctmsm_timescales[:, i], 'o-')\n",
      "\n",
      "pp.title('Continuous-Time MSM Relaxation Timescales')\n",
      "pp.semilogy()\n",
      "pp.show()"
     ],
     "language": "python",
     "metadata": {},
     "outputs": []
    }
   ],
   "metadata": {}
  }
 ]
}