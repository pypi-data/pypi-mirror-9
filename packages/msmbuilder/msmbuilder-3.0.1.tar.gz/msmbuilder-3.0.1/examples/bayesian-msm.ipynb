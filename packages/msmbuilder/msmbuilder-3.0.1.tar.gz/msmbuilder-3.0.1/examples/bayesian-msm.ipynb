{
 "metadata": {
  "name": "",
  "signature": "sha256:6ff5e00ef458e855cc69a75061201c91743a8a2a4f2f95d0a470a1a7b95cb0c8"
 },
 "nbformat": 3,
 "nbformat_minor": 0,
 "worksheets": [
  {
   "cells": [
    {
     "cell_type": "markdown",
     "metadata": {},
     "source": [
      "# `BayesianMarkovStateModel`\n",
      "\n",
      "This example demonstrates the class `BayesianMarkovStateModel`, which uses Metropolis Markov chain Monte Carlo (MCMC) to sample\n",
      "over the posterior distribution of transition matrices, given the observed transitions in your dataset. This can be useful\n",
      "for evaluating the uncertainty due to sampling in your dataset."
     ]
    },
    {
     "cell_type": "code",
     "collapsed": false,
     "input": [
      "import numpy as np\n",
      "from matplotlib import pyplot as plt\n",
      "from mdtraj.utils import timing\n",
      "from msmbuilder.example_datasets import load_doublewell\n",
      "from msmbuilder.cluster import NDGrid\n",
      "from msmbuilder.msm import BayesianMarkovStateModel, MarkovStateModel"
     ],
     "language": "python",
     "metadata": {},
     "outputs": []
    },
    {
     "cell_type": "markdown",
     "metadata": {},
     "source": [
      "## Load some double-well data"
     ]
    },
    {
     "cell_type": "code",
     "collapsed": false,
     "input": [
      "trjs = load_doublewell(random_state=0)['trajectories']\n",
      "plt.hist(np.concatenate(trjs), bins=50, log=True)\n",
      "plt.ylabel('Frequency')\n",
      "plt.show()"
     ],
     "language": "python",
     "metadata": {},
     "outputs": []
    },
    {
     "cell_type": "markdown",
     "metadata": {},
     "source": [
      "## We'll discretize the space using 10 states\n",
      "\n",
      "And the build one MSM using the MLE transition matrix estimator, and one with the Bayesian estimator"
     ]
    },
    {
     "cell_type": "code",
     "collapsed": false,
     "input": [
      "clusterer = NDGrid(n_bins_per_feature=10)\n",
      "mle_msm = MarkovStateModel(lag_time=100)\n",
      "b_msm = BayesianMarkovStateModel(lag_time=100, n_samples=10000, n_steps=1000)\n",
      "\n",
      "states = clusterer.fit_transform(trjs)\n",
      "with timing('running mcmc'):\n",
      "    b_msm.fit(states)\n",
      "\n",
      "mle_msm.fit(states)"
     ],
     "language": "python",
     "metadata": {},
     "outputs": []
    },
    {
     "cell_type": "code",
     "collapsed": false,
     "input": [
      "plt.subplot(2, 1, 1)\n",
      "plt.plot(b_msm.all_transmats_[:, 0, 0])\n",
      "plt.axhline(mle_msm.transmat_[0, 0], c='k')\n",
      "plt.ylabel('t_00')\n",
      "\n",
      "plt.subplot(2, 1, 2)\n",
      "plt.ylabel('t_23')\n",
      "plt.xlabel('MCMC Iteration')\n",
      "plt.plot(b_msm.all_transmats_[:, 2, 3])\n",
      "plt.axhline(mle_msm.transmat_[2, 3], c='k')\n",
      "plt.show()"
     ],
     "language": "python",
     "metadata": {},
     "outputs": []
    },
    {
     "cell_type": "code",
     "collapsed": false,
     "input": [
      "plt.plot(b_msm.all_timescales_[:, 0], label='MCMC')\n",
      "plt.axhline(mle_msm.timescales_[0], c='k', label='MLE')\n",
      "plt.legend(loc='best')\n",
      "plt.ylabel('Longest timescale')\n",
      "plt.xlabel('MCMC iteration')\n",
      "plt.show()"
     ],
     "language": "python",
     "metadata": {},
     "outputs": []
    },
    {
     "cell_type": "markdown",
     "metadata": {},
     "source": [
      "# Now lets try using 50 states\n",
      "\n",
      "The MCMC sampling is a lot harder to converge"
     ]
    },
    {
     "cell_type": "code",
     "collapsed": false,
     "input": [
      "clusterer = NDGrid(n_bins_per_feature=50)\n",
      "mle_msm = MarkovStateModel(lag_time=100)\n",
      "b_msm = BayesianMarkovStateModel(lag_time=100, n_samples=1000, n_steps=100000)\n",
      "\n",
      "states = clusterer.fit_transform(trjs)\n",
      "with timing('running mcmc (50 states)'):\n",
      "    b_msm.fit(states)\n",
      "\n",
      "mle_msm.fit(states)"
     ],
     "language": "python",
     "metadata": {},
     "outputs": []
    },
    {
     "cell_type": "code",
     "collapsed": false,
     "input": [
      "plt.plot(b_msm.all_timescales_[:, 0], label='MCMC')\n",
      "plt.axhline(mle_msm.timescales_[0], c='k', label='MLE')\n",
      "plt.legend(loc='best')\n",
      "plt.ylabel('Longest timescale')\n",
      "plt.xlabel('MCMC iteration')"
     ],
     "language": "python",
     "metadata": {},
     "outputs": []
    },
    {
     "cell_type": "code",
     "collapsed": false,
     "input": [
      "plt.plot(b_msm.all_transmats_[:, 0, 0], label='MCMC')\n",
      "plt.axhline(mle_msm.transmat_[0, 0], c='k', label='MLE')\n",
      "plt.legend(loc='best')\n",
      "plt.ylabel('t_00')\n",
      "plt.xlabel('MCMC iteration')"
     ],
     "language": "python",
     "metadata": {},
     "outputs": []
    }
   ],
   "metadata": {}
  }
 ]
}